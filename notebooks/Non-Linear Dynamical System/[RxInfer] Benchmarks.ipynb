{
 "cells": [
  {
   "cell_type": "markdown",
   "id": "55f33945",
   "metadata": {},
   "source": [
    "This notebook performs a comprehensive becnhmark suit for the inference procedure for the double pendulum system using the RxInfer framework.\n",
    "\n",
    "_Author: Dmitry Bagaev_"
   ]
  },
  {
   "cell_type": "code",
   "execution_count": 1,
   "id": "f07b50d2",
   "metadata": {},
   "outputs": [],
   "source": [
    "using DrWatson"
   ]
  },
  {
   "cell_type": "code",
   "execution_count": 2,
   "id": "2b399d37",
   "metadata": {},
   "outputs": [],
   "source": [
    "@quickactivate \"RxInferThesisExperiments\""
   ]
  },
  {
   "cell_type": "code",
   "execution_count": 28,
   "id": "9ece426e",
   "metadata": {},
   "outputs": [],
   "source": [
    "using RxInferThesisExperiments, RxInfer, StaticArrays, Plots, PGFPlotsX, LaTeXStrings\n",
    "using LinearAlgebra, StableRNGs, Random, BenchmarkTools, ColorSchemes, Dates, DataFrames"
   ]
  },
  {
   "cell_type": "code",
   "execution_count": 4,
   "id": "97d0009c",
   "metadata": {},
   "outputs": [],
   "source": [
    "# Pregenerate paths for benchmark data\n",
    "mkpath(datadir(\"nlds\", \"rxinfer\"));"
   ]
  },
  {
   "cell_type": "code",
   "execution_count": 5,
   "id": "fd138f2a",
   "metadata": {},
   "outputs": [
    {
     "data": {
      "text/plain": [
       "DoublePendulum()"
      ]
     },
     "execution_count": 5,
     "metadata": {},
     "output_type": "execute_result"
    }
   ],
   "source": [
    "# Create default environment with default parameters\n",
    "const environment = DoublePendulum()"
   ]
  },
  {
   "cell_type": "code",
   "execution_count": 6,
   "id": "c1aab6ce",
   "metadata": {},
   "outputs": [
    {
     "data": {
      "text/plain": [
       "f (generic function with 1 method)"
      ]
     },
     "execution_count": 6,
     "metadata": {},
     "output_type": "execute_result"
    }
   ],
   "source": [
    "# Define state-transition function, uses RK4 method internally, see the `src/` folder\n",
    "f(state) = state_transition(environment)(state)"
   ]
  },
  {
   "cell_type": "code",
   "execution_count": 46,
   "id": "e37f8c7b",
   "metadata": {},
   "outputs": [],
   "source": [
    "# Include the model specification\n",
    "include(srcdir(\"models\", \"rxinfer\", \"doublependulum.jl\"));"
   ]
  },
  {
   "cell_type": "code",
   "execution_count": 58,
   "id": "9a2c016a",
   "metadata": {},
   "outputs": [
    {
     "data": {
      "text/plain": [
       "run_benchmark (generic function with 1 method)"
      ]
     },
     "execution_count": 58,
     "metadata": {},
     "output_type": "execute_result"
    }
   ],
   "source": [
    "function run_benchmark(params)\n",
    "    @unpack T, niterations, seed = params\n",
    "    \n",
    "    states, observations = rand(StableRNG(seed), environment, T);\n",
    "    model    = double_pendulum(T)\n",
    "    result   = run_inference(model, observations; iterations = niterations)\n",
    "    e_states = result.posteriors[:s]\n",
    "    amse     = compute_amse(states, e_states)\n",
    "    \n",
    "    benchmark_modelcreation = @benchmark RxInfer.create_model(double_pendulum($T), \n",
    "        meta = double_pendulum_meta(), \n",
    "        constraints = double_pendulum_constraints(),\n",
    "    )\n",
    "    \n",
    "    benchmark_inference = @benchmark run_inference(model, observations; iterations = $niterations) setup=begin\n",
    "        model = double_pendulum($T)\n",
    "        states, observations = rand(StableRNG($seed), environment, $T);\n",
    "    end\n",
    "    \n",
    "    emse = compute_emse(seed) do _seed\n",
    "        local states, observations = rand(StableRNG(_seed), environment, T; random_start = true);\n",
    "        local model    = double_pendulum(T)\n",
    "        local result   = run_inference(model, observations; iterations = niterations)\n",
    "        local e_states = result.posteriors[:s]\n",
    "        return compute_amse(states, e_states)\n",
    "    end\n",
    "    \n",
    "    output = @strdict T niterations seed states e_states observations amse emse benchmark_modelcreation benchmark_inference\n",
    "    \n",
    "    return output\n",
    "end"
   ]
  },
  {
   "cell_type": "code",
   "execution_count": 59,
   "id": "82c8701e",
   "metadata": {},
   "outputs": [],
   "source": [
    "# Here we create a list of parameters we want to run our benchmarks with\n",
    "benchmark_params = dict_list(Dict(\n",
    "    \"T\"           => [ 100 ],\n",
    "    \"niterations\" => [ 3, 5 ],\n",
    "    \"seed\"        => [ 42 ]\n",
    "));"
   ]
  },
  {
   "cell_type": "code",
   "execution_count": 60,
   "id": "7c12cc0f",
   "metadata": {},
   "outputs": [
    {
     "name": "stderr",
     "output_type": "stream",
     "text": [
      "\u001b[36m\u001b[1m[ \u001b[22m\u001b[39m\u001b[36m\u001b[1mInfo: \u001b[22m\u001b[39mProducing file /Users/bvdmitri/.julia/dev/thesis/data/nlds/rxinfer/T=100_niterations=3_seed=42.jld2 now...\n",
      "\u001b[36m\u001b[1m[ \u001b[22m\u001b[39m\u001b[36m\u001b[1mInfo: \u001b[22m\u001b[39mFile /Users/bvdmitri/.julia/dev/thesis/data/nlds/rxinfer/T=100_niterations=3_seed=42.jld2 saved.\n",
      "\u001b[36m\u001b[1m[ \u001b[22m\u001b[39m\u001b[36m\u001b[1mInfo: \u001b[22m\u001b[39mProducing file /Users/bvdmitri/.julia/dev/thesis/data/nlds/rxinfer/T=100_niterations=5_seed=42.jld2 now...\n",
      "\u001b[36m\u001b[1m[ \u001b[22m\u001b[39m\u001b[36m\u001b[1mInfo: \u001b[22m\u001b[39mFile /Users/bvdmitri/.julia/dev/thesis/data/nlds/rxinfer/T=100_niterations=5_seed=42.jld2 saved.\n"
     ]
    }
   ],
   "source": [
    "# First run maybe slow, you may track the progress in the terminal\n",
    "# Subsequent runs will not create new benchmarks \n",
    "# but will reload it from data folder\n",
    "benchmarks = map(benchmark_params) do params\n",
    "    path = datadir(\"nlds\", \"rxinfer\")\n",
    "    result, _ = produce_or_load(run_benchmark, path, params; tag = false, force = true)\n",
    "    return result\n",
    "end;"
   ]
  },
  {
   "cell_type": "code",
   "execution_count": 65,
   "id": "5631ffe9",
   "metadata": {},
   "outputs": [
    {
     "name": "stderr",
     "output_type": "stream",
     "text": [
      "\u001b[36m\u001b[1m[ \u001b[22m\u001b[39m\u001b[36m\u001b[1mInfo: \u001b[22m\u001b[39mScanning folder /Users/bvdmitri/.julia/dev/thesis/data/nlds/rxinfer for result files.\n",
      "\u001b[36m\u001b[1m[ \u001b[22m\u001b[39m\u001b[36m\u001b[1mInfo: \u001b[22m\u001b[39mAdded 2 entries.\n"
     ]
    },
    {
     "data": {
      "text/html": [
       "<div><div style = \"float: left;\"><span>2×7 DataFrame</span></div><div style = \"clear: both;\"></div></div><div class = \"data-frame\" style = \"overflow-x: scroll;\"><table class = \"data-frame\" style = \"margin-bottom: 6px;\"><thead><tr class = \"header\"><th class = \"rowNumber\" style = \"font-weight: bold; text-align: right;\">Row</th><th style = \"text-align: left;\">T</th><th style = \"text-align: left;\">seed</th><th style = \"text-align: left;\">niterations</th><th style = \"text-align: left;\">amse</th><th style = \"text-align: left;\">emse</th><th style = \"text-align: left;\">inference</th><th style = \"text-align: left;\">creation</th></tr><tr class = \"subheader headerLastRow\"><th class = \"rowNumber\" style = \"font-weight: bold; text-align: right;\"></th><th title = \"Union{Missing, Int64}\" style = \"text-align: left;\">Int64?</th><th title = \"Union{Missing, Int64}\" style = \"text-align: left;\">Int64?</th><th title = \"Union{Missing, Int64}\" style = \"text-align: left;\">Int64?</th><th title = \"Union{Missing, Float64}\" style = \"text-align: left;\">Float64?</th><th title = \"Union{Missing, Float64}\" style = \"text-align: left;\">Float64?</th><th title = \"Union{Missing, Tuple{String, String, String}}\" style = \"text-align: left;\">Tuple…?</th><th title = \"Union{Missing, Tuple{String, String, String}}\" style = \"text-align: left;\">Tuple…?</th></tr></thead><tbody><tr><td class = \"rowNumber\" style = \"font-weight: bold; text-align: right;\">1</td><td style = \"text-align: right;\">100</td><td style = \"text-align: right;\">42</td><td style = \"text-align: right;\">3</td><td style = \"text-align: right;\">4.12064</td><td style = \"text-align: right;\">1.23184</td><td style = \"text-align: left;\">(&quot;12.4942ms&quot;, &quot;18.7074ms&quot;, &quot;12.4942ms&quot;)</td><td style = \"text-align: left;\">(&quot;4.8569ms&quot;, &quot;6.1765ms&quot;, &quot;4.8569ms&quot;)</td></tr><tr><td class = \"rowNumber\" style = \"font-weight: bold; text-align: right;\">2</td><td style = \"text-align: right;\">100</td><td style = \"text-align: right;\">42</td><td style = \"text-align: right;\">5</td><td style = \"text-align: right;\">4.10658</td><td style = \"text-align: right;\">1.2254</td><td style = \"text-align: left;\">(&quot;14.1548ms&quot;, &quot;20.9859ms&quot;, &quot;14.1548ms&quot;)</td><td style = \"text-align: left;\">(&quot;4.8826ms&quot;, &quot;6.2287ms&quot;, &quot;4.8826ms&quot;)</td></tr></tbody></table></div>"
      ],
      "text/latex": [
       "\\begin{tabular}{r|ccccccc}\n",
       "\t& T & seed & niterations & amse & emse & inference & \\\\\n",
       "\t\\hline\n",
       "\t& Int64? & Int64? & Int64? & Float64? & Float64? & Tuple…? & \\\\\n",
       "\t\\hline\n",
       "\t1 & 100 & 42 & 3 & 4.12064 & 1.23184 & (\"12.4942ms\", \"18.7074ms\", \"12.4942ms\") & $\\dots$ \\\\\n",
       "\t2 & 100 & 42 & 5 & 4.10658 & 1.2254 & (\"14.1548ms\", \"20.9859ms\", \"14.1548ms\") & $\\dots$ \\\\\n",
       "\\end{tabular}\n"
      ],
      "text/plain": [
       "\u001b[1m2×7 DataFrame\u001b[0m\n",
       "\u001b[1m Row \u001b[0m│\u001b[1m T      \u001b[0m\u001b[1m seed   \u001b[0m\u001b[1m niterations \u001b[0m\u001b[1m amse     \u001b[0m\u001b[1m emse     \u001b[0m\u001b[1m inference             \u001b[0m ⋯\n",
       "     │\u001b[90m Int64? \u001b[0m\u001b[90m Int64? \u001b[0m\u001b[90m Int64?      \u001b[0m\u001b[90m Float64? \u001b[0m\u001b[90m Float64? \u001b[0m\u001b[90m Tuple…?               \u001b[0m ⋯\n",
       "─────┼──────────────────────────────────────────────────────────────────────────\n",
       "   1 │    100      42            3   4.12064   1.23184  (\"12.4942ms\", \"18.7074 ⋯\n",
       "   2 │    100      42            5   4.10658   1.2254   (\"14.1548ms\", \"20.9859\n",
       "\u001b[36m                                                               2 columns omitted\u001b[0m"
      ]
     },
     "execution_count": 65,
     "metadata": {},
     "output_type": "execute_result"
    }
   ],
   "source": [
    "prepare_benchmarks_table(datadir(\"nlds\", \"rxinfer\"))"
   ]
  }
 ],
 "metadata": {
  "kernelspec": {
   "display_name": "Julia 1.9.0",
   "language": "julia",
   "name": "julia-1.9"
  },
  "language_info": {
   "file_extension": ".jl",
   "mimetype": "application/julia",
   "name": "julia",
   "version": "1.9.0"
  }
 },
 "nbformat": 4,
 "nbformat_minor": 5
}
