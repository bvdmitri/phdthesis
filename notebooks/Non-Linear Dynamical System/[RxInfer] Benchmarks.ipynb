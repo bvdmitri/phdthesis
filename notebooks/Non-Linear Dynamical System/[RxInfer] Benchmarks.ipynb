{
 "cells": [
  {
   "cell_type": "markdown",
   "id": "55f33945",
   "metadata": {},
   "source": [
    "This notebook performs a comprehensive becnhmark suit for the inference procedure for the double pendulum system using the RxInfer framework.\n",
    "\n",
    "_Author: Dmitry Bagaev_"
   ]
  },
  {
   "cell_type": "code",
   "execution_count": 1,
   "id": "f07b50d2",
   "metadata": {},
   "outputs": [],
   "source": [
    "using DrWatson"
   ]
  },
  {
   "cell_type": "code",
   "execution_count": 2,
   "id": "2b399d37",
   "metadata": {},
   "outputs": [],
   "source": [
    "@quickactivate \"RxInferThesisExperiments\""
   ]
  },
  {
   "cell_type": "code",
   "execution_count": 3,
   "id": "9ece426e",
   "metadata": {},
   "outputs": [
    {
     "name": "stderr",
     "output_type": "stream",
     "text": [
      "\u001b[36m\u001b[1m[ \u001b[22m\u001b[39m\u001b[36m\u001b[1mInfo: \u001b[22m\u001b[39mPrecompiling RxInferThesisExperiments [45155ac3-0a9e-41cf-b3f8-8307b1a2d51a]\n"
     ]
    }
   ],
   "source": [
    "using RxInferThesisExperiments, RxInfer, StaticArrays, Plots, PGFPlotsX, LaTeXStrings\n",
    "using LinearAlgebra, StableRNGs, Random, BenchmarkTools, ColorSchemes, Dates"
   ]
  },
  {
   "cell_type": "code",
   "execution_count": 4,
   "id": "97d0009c",
   "metadata": {},
   "outputs": [],
   "source": [
    "# Pregenerate paths for benchmark data\n",
    "mkpath(datadir(\"nlds\", \"rxinfer\"));"
   ]
  },
  {
   "cell_type": "code",
   "execution_count": 5,
   "id": "fd138f2a",
   "metadata": {},
   "outputs": [
    {
     "data": {
      "text/plain": [
       "DoublePendulum()"
      ]
     },
     "execution_count": 5,
     "metadata": {},
     "output_type": "execute_result"
    }
   ],
   "source": [
    "# Create default environment with default parameters\n",
    "const environment = DoublePendulum()"
   ]
  },
  {
   "cell_type": "code",
   "execution_count": 6,
   "id": "c1aab6ce",
   "metadata": {},
   "outputs": [
    {
     "data": {
      "text/plain": [
       "f (generic function with 1 method)"
      ]
     },
     "execution_count": 6,
     "metadata": {},
     "output_type": "execute_result"
    }
   ],
   "source": [
    "# Define state-transition function, uses RK4 method internally, see the `src/` folder\n",
    "f(state) = state_transition(environment)(state)"
   ]
  },
  {
   "cell_type": "code",
   "execution_count": 7,
   "id": "e37f8c7b",
   "metadata": {},
   "outputs": [],
   "source": [
    "# Include the model specification\n",
    "include(srcdir(\"models\", \"rxinfer\", \"double_pendulum.jl\"));"
   ]
  },
  {
   "cell_type": "code",
   "execution_count": 9,
   "id": "55fead0d",
   "metadata": {},
   "outputs": [
    {
     "data": {
      "text/plain": [
       "run_inference (generic function with 1 method)"
      ]
     },
     "execution_count": 9,
     "metadata": {},
     "output_type": "execute_result"
    }
   ],
   "source": [
    "function run_inference(T, s_begin, observations, niterations)\n",
    "    return inference(\n",
    "        model = double_pendulum(T, s_begin),\n",
    "        data = (y = observations, ),\n",
    "        meta = double_pendulum_meta(),\n",
    "        constraints = double_pendulum_constraints(),\n",
    "        returnvars = (s = KeepLast(), ),\n",
    "        iterations = niterations,\n",
    "        initmarginals = (σ = Gamma(0.001, 100.0), ),\n",
    "        options = (limit_stack_depth = 500, )\n",
    "    )\n",
    "end"
   ]
  },
  {
   "cell_type": "code",
   "execution_count": 43,
   "id": "9a2c016a",
   "metadata": {},
   "outputs": [
    {
     "data": {
      "text/plain": [
       "run_benchmark (generic function with 1 method)"
      ]
     },
     "execution_count": 43,
     "metadata": {},
     "output_type": "execute_result"
    }
   ],
   "source": [
    "function run_benchmark(params)\n",
    "    @unpack T, niterations, seed = params\n",
    "    \n",
    "    states, observations = rand(StableRNG(seed), environment, T);\n",
    "    result   = run_inference(T, first(states), observations, niterations)\n",
    "    e_states = result.posteriors[:s]\n",
    "    amse     = compute_amse(states, e_states)\n",
    "    \n",
    "    benchmark = @benchmark run_inference($T, first(states), observations, $niterations) setup=begin\n",
    "        states, observations = rand(StableRNG($seed), environment, $T);\n",
    "    end\n",
    "    \n",
    "    emse = compute_emse(seed) do _seed\n",
    "        local states, observations = rand(StableRNG(_seed), environment, T; random_start = true);\n",
    "        local result   = run_inference(T, first(states), observations, niterations)\n",
    "        local e_states = result.posteriors[:s]\n",
    "        return compute_amse(states, e_states)\n",
    "    end\n",
    "    \n",
    "    output = @strdict T niterations seed states e_states observations amse emse benchmark\n",
    "    \n",
    "    return output\n",
    "end"
   ]
  },
  {
   "cell_type": "code",
   "execution_count": 55,
   "id": "82c8701e",
   "metadata": {},
   "outputs": [],
   "source": [
    "# Here we create a list of parameters we want to run our benchmarks with\n",
    "benchmark_params = dict_list(Dict(\n",
    "    \"T\"           => [ 100, 200 ],\n",
    "    \"niterations\" => [ 2, 3, 4 ],\n",
    "    \"seed\"        => [ 42 ]\n",
    "));"
   ]
  },
  {
   "cell_type": "code",
   "execution_count": 57,
   "id": "7c12cc0f",
   "metadata": {},
   "outputs": [],
   "source": [
    "# First run maybe slow, you may track the progress in the terminal\n",
    "# Subsequent runs will not create new benchmarks \n",
    "# but will reload it from data folder\n",
    "benchmarks = map(benchmark_params) do params\n",
    "    path = datadir(\"nlds\", \"rxinfer\")\n",
    "    result, _ = produce_or_load(run_benchmark, path, params; tag = false)\n",
    "    return result\n",
    "end;"
   ]
  },
  {
   "cell_type": "code",
   "execution_count": null,
   "id": "5631ffe9",
   "metadata": {},
   "outputs": [],
   "source": []
  }
 ],
 "metadata": {
  "kernelspec": {
   "display_name": "Julia 1.9.0",
   "language": "julia",
   "name": "julia-1.9"
  },
  "language_info": {
   "file_extension": ".jl",
   "mimetype": "application/julia",
   "name": "julia",
   "version": "1.9.0"
  }
 },
 "nbformat": 4,
 "nbformat_minor": 5
}
