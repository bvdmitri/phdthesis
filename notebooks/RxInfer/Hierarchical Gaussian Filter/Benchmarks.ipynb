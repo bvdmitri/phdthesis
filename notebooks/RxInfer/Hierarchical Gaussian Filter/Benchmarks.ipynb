{
 "cells": [
  {
   "cell_type": "code",
   "execution_count": 1,
   "id": "ab51ecfe",
   "metadata": {},
   "outputs": [],
   "source": [
    "using DrWatson"
   ]
  },
  {
   "cell_type": "code",
   "execution_count": 2,
   "id": "e38c5626",
   "metadata": {},
   "outputs": [],
   "source": [
    "@quickactivate \"RxInferThesisExperiments\""
   ]
  },
  {
   "cell_type": "code",
   "execution_count": 3,
   "id": "453726c3",
   "metadata": {},
   "outputs": [],
   "source": [
    "using RxInferThesisExperiments, RxInfer, StaticArrays, Plots, PGFPlotsX, LaTeXStrings\n",
    "using LinearAlgebra, StableRNGs, Random, BenchmarkTools, ColorSchemes, Dates"
   ]
  },
  {
   "cell_type": "code",
   "execution_count": 4,
   "id": "76ad3c68",
   "metadata": {},
   "outputs": [
    {
     "data": {
      "text/plain": [
       "\"/Users/bvdmitri/.julia/dev/RxInferThesisExperiments/data/hgf/rxinfer\""
      ]
     },
     "execution_count": 4,
     "metadata": {},
     "output_type": "execute_result"
    }
   ],
   "source": [
    "const bfolder = datadir(\"hgf\", \"rxinfer\")"
   ]
  },
  {
   "cell_type": "code",
   "execution_count": 5,
   "id": "2bee77bc",
   "metadata": {},
   "outputs": [],
   "source": [
    "# Pregenerate paths for benchmark data\n",
    "mkpath(bfolder);"
   ]
  },
  {
   "cell_type": "code",
   "execution_count": 6,
   "id": "7a5c82ca",
   "metadata": {},
   "outputs": [
    {
     "data": {
      "text/plain": [
       "HGFEnvironment()"
      ]
     },
     "execution_count": 6,
     "metadata": {},
     "output_type": "execute_result"
    }
   ],
   "source": [
    "const environment = HGFEnvironment()"
   ]
  },
  {
   "cell_type": "code",
   "execution_count": 7,
   "id": "ad7b64dd",
   "metadata": {},
   "outputs": [],
   "source": [
    "# Include the model specification\n",
    "include(srcdir(\"models\", \"rxinfer\", \"hgf.jl\"));"
   ]
  },
  {
   "cell_type": "code",
   "execution_count": 8,
   "id": "164adec9",
   "metadata": {},
   "outputs": [
    {
     "data": {
      "text/plain": [
       "run_benchmark (generic function with 1 method)"
      ]
     },
     "execution_count": 8,
     "metadata": {},
     "output_type": "execute_result"
    }
   ],
   "source": [
    "function run_benchmark(params)\n",
    "    @unpack T, niterations, seed = params\n",
    "    \n",
    "    zstates, xstates, observations = rand(StableRNG(seed), environment, T);\n",
    "    model    = hgf(environment.kappa, environment.omega)\n",
    "    result   = run_inference(model, observations; iterations = niterations)\n",
    "    e_states = extract_posteriors(T, result)\n",
    "    z_amse   = compute_amse(zstates, e_states[:z])\n",
    "    x_amse   = compute_amse(xstates, e_states[:x])\n",
    "    \n",
    "    benchmark_modelcreation = @benchmark RxInfer.create_model(hgf(environment.kappa, environment.omega), \n",
    "        constraints = hgfconstraints(),\n",
    "    )\n",
    "    \n",
    "    benchmark_inference = @benchmark run_inference(model, observations; iterations = $niterations) seconds=30 setup=begin\n",
    "        model = hgf($(environment.kappa), $(environment.omega))\n",
    "        zstates, xstates, observations = rand(StableRNG($seed), environment, $T);\n",
    "    end\n",
    "    \n",
    "    emse = compute_emse(seed) do _seed\n",
    "        local zstates, xstates, observations = rand(StableRNG(_seed), environment, T);\n",
    "        local model    = hgf(environment.kappa, environment.omega)\n",
    "        local result   = run_inference(model, observations; iterations = niterations)\n",
    "        local e_states = extract_posteriors(T, result)\n",
    "        return [ compute_amse(zstates, e_states[:z]), compute_amse(xstates, e_states[:x]) ]\n",
    "    end\n",
    "    \n",
    "    z_emse = emse[1]\n",
    "    x_emse = emse[2]\n",
    "    \n",
    "    states = (z = zstates, x = xstates)\n",
    "    \n",
    "    output = @strdict T niterations seed states e_states observations z_amse x_amse z_emse x_emse benchmark_modelcreation benchmark_inference\n",
    "    \n",
    "    return output\n",
    "end"
   ]
  },
  {
   "cell_type": "code",
   "execution_count": 9,
   "id": "7b67d008",
   "metadata": {},
   "outputs": [],
   "source": [
    "# Here we create a list of parameters we want to run our benchmarks with\n",
    "benchmark_params = dict_list(Dict(\n",
    "    \"T\"           => [ 10, 20, 30, 100, 300, 500, 700, 1000, 3000, 5000, 7000, 10_000, 30_000, 50_000, 70_000, 100_000 ],\n",
    "    \"niterations\" => [ 3, 5, 10, 20 ],\n",
    "    \"seed\"        => [ 42 ]\n",
    "));"
   ]
  },
  {
   "cell_type": "code",
   "execution_count": 10,
   "id": "aa578fcb",
   "metadata": {},
   "outputs": [],
   "source": [
    "# First run maybe slow, you may track the progress in the terminal\n",
    "# Subsequent runs will not create new benchmarks \n",
    "# but will reload it from data folder\n",
    "benchmarks = map(benchmark_params) do params\n",
    "    result, _ = produce_or_load(run_benchmark, bfolder, params; tag = false, force = false)\n",
    "    return result\n",
    "end;"
   ]
  },
  {
   "cell_type": "code",
   "execution_count": 11,
   "id": "4bf57e42",
   "metadata": {},
   "outputs": [
    {
     "name": "stderr",
     "output_type": "stream",
     "text": [
      "\u001b[36m\u001b[1m[ \u001b[22m\u001b[39m\u001b[36m\u001b[1mInfo: \u001b[22m\u001b[39mScanning folder /Users/bvdmitri/.julia/dev/RxInferThesisExperiments/data/hgf/rxinfer for result files.\n",
      "\u001b[36m\u001b[1m[ \u001b[22m\u001b[39m\u001b[36m\u001b[1mInfo: \u001b[22m\u001b[39mAdded 64 entries.\n"
     ]
    },
    {
     "data": {
      "text/html": [
       "<div><div style = \"float: left;\"><span>64×9 DataFrame</span></div><div style = \"float: right;\"><span style = \"font-style: italic;\">39 rows omitted</span></div><div style = \"clear: both;\"></div></div><div class = \"data-frame\" style = \"overflow-x: scroll;\"><table class = \"data-frame\" style = \"margin-bottom: 6px;\"><thead><tr class = \"header\"><th class = \"rowNumber\" style = \"font-weight: bold; text-align: right;\">Row</th><th style = \"text-align: left;\">T</th><th style = \"text-align: left;\">z_emse</th><th style = \"text-align: left;\">x_emse</th><th style = \"text-align: left;\">z_amse</th><th style = \"text-align: left;\">niterations</th><th style = \"text-align: left;\">seed</th><th style = \"text-align: left;\">x_amse</th><th style = \"text-align: left;\">inference</th><th style = \"text-align: left;\">creation</th></tr><tr class = \"subheader headerLastRow\"><th class = \"rowNumber\" style = \"font-weight: bold; text-align: right;\"></th><th title = \"Union{Missing, Int64}\" style = \"text-align: left;\">Int64?</th><th title = \"Union{Missing, Float64}\" style = \"text-align: left;\">Float64?</th><th title = \"Union{Missing, Float64}\" style = \"text-align: left;\">Float64?</th><th title = \"Union{Missing, Float64}\" style = \"text-align: left;\">Float64?</th><th title = \"Union{Missing, Int64}\" style = \"text-align: left;\">Int64?</th><th title = \"Union{Missing, Int64}\" style = \"text-align: left;\">Int64?</th><th title = \"Union{Missing, Float64}\" style = \"text-align: left;\">Float64?</th><th title = \"Union{Missing, Tuple{Float64, Float64, Float64}}\" style = \"text-align: left;\">Tuple…?</th><th title = \"Union{Missing, Tuple{Float64, Float64, Float64}}\" style = \"text-align: left;\">Tuple…?</th></tr></thead><tbody><tr><td class = \"rowNumber\" style = \"font-weight: bold; text-align: right;\">1</td><td style = \"text-align: right;\">10</td><td style = \"text-align: right;\">1.07994</td><td style = \"text-align: right;\">0.158287</td><td style = \"text-align: right;\">0.972368</td><td style = \"text-align: right;\">10</td><td style = \"text-align: right;\">42</td><td style = \"text-align: right;\">0.223043</td><td style = \"text-align: left;\">(1.14858e6, 1.28189e6, 0.0)</td><td style = \"text-align: left;\">(68583.0, 77527.2, 0.0)</td></tr><tr><td class = \"rowNumber\" style = \"font-weight: bold; text-align: right;\">2</td><td style = \"text-align: right;\">10</td><td style = \"text-align: right;\">1.14039</td><td style = \"text-align: right;\">0.158206</td><td style = \"text-align: right;\">1.0243</td><td style = \"text-align: right;\">20</td><td style = \"text-align: right;\">42</td><td style = \"text-align: right;\">0.224207</td><td style = \"text-align: left;\">(2.18071e6, 2.44252e6, 0.0)</td><td style = \"text-align: left;\">(69625.0, 78482.1, 0.0)</td></tr><tr><td class = \"rowNumber\" style = \"font-weight: bold; text-align: right;\">3</td><td style = \"text-align: right;\">10</td><td style = \"text-align: right;\">0.829284</td><td style = \"text-align: right;\">0.160147</td><td style = \"text-align: right;\">0.728915</td><td style = \"text-align: right;\">3</td><td style = \"text-align: right;\">42</td><td style = \"text-align: right;\">0.21214</td><td style = \"text-align: left;\">(431500.0, 4.73376e5, 0.0)</td><td style = \"text-align: left;\">(69083.0, 78123.2, 0.0)</td></tr><tr><td class = \"rowNumber\" style = \"font-weight: bold; text-align: right;\">4</td><td style = \"text-align: right;\">10</td><td style = \"text-align: right;\">0.848582</td><td style = \"text-align: right;\">0.159004</td><td style = \"text-align: right;\">0.750968</td><td style = \"text-align: right;\">5</td><td style = \"text-align: right;\">42</td><td style = \"text-align: right;\">0.216703</td><td style = \"text-align: left;\">(645625.0, 7.25674e5, 0.0)</td><td style = \"text-align: left;\">(68667.0, 77150.8, 0.0)</td></tr><tr><td class = \"rowNumber\" style = \"font-weight: bold; text-align: right;\">5</td><td style = \"text-align: right;\">20</td><td style = \"text-align: right;\">0.724445</td><td style = \"text-align: right;\">0.154106</td><td style = \"text-align: right;\">0.556095</td><td style = \"text-align: right;\">10</td><td style = \"text-align: right;\">42</td><td style = \"text-align: right;\">0.186524</td><td style = \"text-align: left;\">(2.17958e6, 2.40876e6, 0.0)</td><td style = \"text-align: left;\">(70000.0, 79041.0, 0.0)</td></tr><tr><td class = \"rowNumber\" style = \"font-weight: bold; text-align: right;\">6</td><td style = \"text-align: right;\">20</td><td style = \"text-align: right;\">0.76176</td><td style = \"text-align: right;\">0.154226</td><td style = \"text-align: right;\">0.582128</td><td style = \"text-align: right;\">20</td><td style = \"text-align: right;\">42</td><td style = \"text-align: right;\">0.187112</td><td style = \"text-align: left;\">(4.18296e6, 4.72031e6, 0.0)</td><td style = \"text-align: left;\">(68958.0, 77669.6, 0.0)</td></tr><tr><td class = \"rowNumber\" style = \"font-weight: bold; text-align: right;\">7</td><td style = \"text-align: right;\">20</td><td style = \"text-align: right;\">0.556865</td><td style = \"text-align: right;\">0.154078</td><td style = \"text-align: right;\">0.449722</td><td style = \"text-align: right;\">3</td><td style = \"text-align: right;\">42</td><td style = \"text-align: right;\">0.181087</td><td style = \"text-align: left;\">(733125.0, 8.08183e5, 0.0)</td><td style = \"text-align: left;\">(69375.0, 77721.0, 0.0)</td></tr><tr><td class = \"rowNumber\" style = \"font-weight: bold; text-align: right;\">8</td><td style = \"text-align: right;\">20</td><td style = \"text-align: right;\">0.578942</td><td style = \"text-align: right;\">0.153844</td><td style = \"text-align: right;\">0.449804</td><td style = \"text-align: right;\">5</td><td style = \"text-align: right;\">42</td><td style = \"text-align: right;\">0.183346</td><td style = \"text-align: left;\">(1.15671e6, 1.27324e6, 0.0)</td><td style = \"text-align: left;\">(68708.0, 77233.4, 0.0)</td></tr><tr><td class = \"rowNumber\" style = \"font-weight: bold; text-align: right;\">9</td><td style = \"text-align: right;\">30</td><td style = \"text-align: right;\">0.562733</td><td style = \"text-align: right;\">0.151885</td><td style = \"text-align: right;\">0.41141</td><td style = \"text-align: right;\">10</td><td style = \"text-align: right;\">42</td><td style = \"text-align: right;\">0.164712</td><td style = \"text-align: left;\">(3.13846e6, 3.43436e6, 0.0)</td><td style = \"text-align: left;\">(68083.0, 76736.4, 0.0)</td></tr><tr><td class = \"rowNumber\" style = \"font-weight: bold; text-align: right;\">10</td><td style = \"text-align: right;\">30</td><td style = \"text-align: right;\">0.590425</td><td style = \"text-align: right;\">0.152014</td><td style = \"text-align: right;\">0.429637</td><td style = \"text-align: right;\">20</td><td style = \"text-align: right;\">42</td><td style = \"text-align: right;\">0.165082</td><td style = \"text-align: left;\">(6.17583e6, 6.90084e6, 0.0)</td><td style = \"text-align: left;\">(69083.0, 78203.8, 0.0)</td></tr><tr><td class = \"rowNumber\" style = \"font-weight: bold; text-align: right;\">11</td><td style = \"text-align: right;\">30</td><td style = \"text-align: right;\">0.433873</td><td style = \"text-align: right;\">0.151497</td><td style = \"text-align: right;\">0.336194</td><td style = \"text-align: right;\">3</td><td style = \"text-align: right;\">42</td><td style = \"text-align: right;\">0.161326</td><td style = \"text-align: left;\">(1.06633e6, 1.1784e6, 0.0)</td><td style = \"text-align: left;\">(68542.0, 77098.8, 0.0)</td></tr><tr><td class = \"rowNumber\" style = \"font-weight: bold; text-align: right;\">12</td><td style = \"text-align: right;\">30</td><td style = \"text-align: right;\">0.453949</td><td style = \"text-align: right;\">0.151483</td><td style = \"text-align: right;\">0.33689</td><td style = \"text-align: right;\">5</td><td style = \"text-align: right;\">42</td><td style = \"text-align: right;\">0.162728</td><td style = \"text-align: left;\">(1.67438e6, 1.8924e6, 0.0)</td><td style = \"text-align: left;\">(69292.0, 78051.5, 0.0)</td></tr><tr><td class = \"rowNumber\" style = \"font-weight: bold; text-align: right;\">13</td><td style = \"text-align: right;\">100</td><td style = \"text-align: right;\">0.228496</td><td style = \"text-align: right;\">0.154488</td><td style = \"text-align: right;\">0.154583</td><td style = \"text-align: right;\">10</td><td style = \"text-align: right;\">42</td><td style = \"text-align: right;\">0.153342</td><td style = \"text-align: left;\">(1.02956e7, 1.14526e7, 0.0)</td><td style = \"text-align: left;\">(68791.0, 77285.6, 0.0)</td></tr><tr><td style = \"text-align: right;\">&vellip;</td><td style = \"text-align: right;\">&vellip;</td><td style = \"text-align: right;\">&vellip;</td><td style = \"text-align: right;\">&vellip;</td><td style = \"text-align: right;\">&vellip;</td><td style = \"text-align: right;\">&vellip;</td><td style = \"text-align: right;\">&vellip;</td><td style = \"text-align: right;\">&vellip;</td><td style = \"text-align: right;\">&vellip;</td><td style = \"text-align: right;\">&vellip;</td></tr><tr><td class = \"rowNumber\" style = \"font-weight: bold; text-align: right;\">53</td><td style = \"text-align: right;\">50000</td><td style = \"text-align: right;\">0.06747</td><td style = \"text-align: right;\">0.147742</td><td style = \"text-align: right;\">0.225945</td><td style = \"text-align: right;\">10</td><td style = \"text-align: right;\">42</td><td style = \"text-align: right;\">0.123451</td><td style = \"text-align: left;\">(5.59488e9, 5.82943e9, 4.69704e8)</td><td style = \"text-align: left;\">(69375.0, 77803.7, 0.0)</td></tr><tr><td class = \"rowNumber\" style = \"font-weight: bold; text-align: right;\">54</td><td style = \"text-align: right;\">50000</td><td style = \"text-align: right;\">0.0675628</td><td style = \"text-align: right;\">0.147824</td><td style = \"text-align: right;\">0.226261</td><td style = \"text-align: right;\">20</td><td style = \"text-align: right;\">42</td><td style = \"text-align: right;\">0.123478</td><td style = \"text-align: left;\">(1.15143e10, 1.16156e10, 1.22172e9)</td><td style = \"text-align: left;\">(69458.0, 78579.8, 0.0)</td></tr><tr><td class = \"rowNumber\" style = \"font-weight: bold; text-align: right;\">55</td><td style = \"text-align: right;\">50000</td><td style = \"text-align: right;\">0.0668309</td><td style = \"text-align: right;\">0.147158</td><td style = \"text-align: right;\">0.223703</td><td style = \"text-align: right;\">3</td><td style = \"text-align: right;\">42</td><td style = \"text-align: right;\">0.123239</td><td style = \"text-align: left;\">(1.67101e9, 1.78686e9, 1.0845e8)</td><td style = \"text-align: left;\">(69958.0, 77550.2, 0.0)</td></tr><tr><td class = \"rowNumber\" style = \"font-weight: bold; text-align: right;\">56</td><td style = \"text-align: right;\">50000</td><td style = \"text-align: right;\">0.0670284</td><td style = \"text-align: right;\">0.147381</td><td style = \"text-align: right;\">0.224379</td><td style = \"text-align: right;\">5</td><td style = \"text-align: right;\">42</td><td style = \"text-align: right;\">0.123313</td><td style = \"text-align: left;\">(2.85231e9, 2.95916e9, 1.90152e8)</td><td style = \"text-align: left;\">(68917.0, 77002.0, 0.0)</td></tr><tr><td class = \"rowNumber\" style = \"font-weight: bold; text-align: right;\">57</td><td style = \"text-align: right;\">70000</td><td style = \"text-align: right;\">0.0779093</td><td style = \"text-align: right;\">0.144845</td><td style = \"text-align: right;\">0.217051</td><td style = \"text-align: right;\">10</td><td style = \"text-align: right;\">42</td><td style = \"text-align: right;\">0.111254</td><td style = \"text-align: left;\">(8.10315e9, 8.16724e9, 7.24493e8)</td><td style = \"text-align: left;\">(69916.0, 79174.6, 0.0)</td></tr><tr><td class = \"rowNumber\" style = \"font-weight: bold; text-align: right;\">58</td><td style = \"text-align: right;\">70000</td><td style = \"text-align: right;\">0.0780396</td><td style = \"text-align: right;\">0.144924</td><td style = \"text-align: right;\">0.217374</td><td style = \"text-align: right;\">20</td><td style = \"text-align: right;\">42</td><td style = \"text-align: right;\">0.111277</td><td style = \"text-align: left;\">(1.621e10, 1.6302e10, 1.7305e9)</td><td style = \"text-align: left;\">(69375.0, 78831.7, 0.0)</td></tr><tr><td class = \"rowNumber\" style = \"font-weight: bold; text-align: right;\">59</td><td style = \"text-align: right;\">70000</td><td style = \"text-align: right;\">0.0769978</td><td style = \"text-align: right;\">0.144279</td><td style = \"text-align: right;\">0.214759</td><td style = \"text-align: right;\">3</td><td style = \"text-align: right;\">42</td><td style = \"text-align: right;\">0.111076</td><td style = \"text-align: left;\">(2.37435e9, 2.48688e9, 1.58848e8)</td><td style = \"text-align: left;\">(69792.0, 77476.3, 0.0)</td></tr><tr><td class = \"rowNumber\" style = \"font-weight: bold; text-align: right;\">60</td><td style = \"text-align: right;\">70000</td><td style = \"text-align: right;\">0.0772926</td><td style = \"text-align: right;\">0.144496</td><td style = \"text-align: right;\">0.215449</td><td style = \"text-align: right;\">5</td><td style = \"text-align: right;\">42</td><td style = \"text-align: right;\">0.111138</td><td style = \"text-align: left;\">(3.98266e9, 4.15548e9, 3.21068e8)</td><td style = \"text-align: left;\">(69833.0, 78303.3, 0.0)</td></tr><tr><td class = \"rowNumber\" style = \"font-weight: bold; text-align: right;\">61</td><td style = \"text-align: right;\">100000</td><td style = \"text-align: right;\">0.0977315</td><td style = \"text-align: right;\">0.140229</td><td style = \"text-align: right;\">0.2341</td><td style = \"text-align: right;\">10</td><td style = \"text-align: right;\">42</td><td style = \"text-align: right;\">0.0864487</td><td style = \"text-align: left;\">(1.1473e10, 1.17378e10, 9.70668e8)</td><td style = \"text-align: left;\">(69750.0, 78608.3, 0.0)</td></tr><tr><td class = \"rowNumber\" style = \"font-weight: bold; text-align: right;\">62</td><td style = \"text-align: right;\">100000</td><td style = \"text-align: right;\">0.0979148</td><td style = \"text-align: right;\">0.140305</td><td style = \"text-align: right;\">0.234278</td><td style = \"text-align: right;\">20</td><td style = \"text-align: right;\">42</td><td style = \"text-align: right;\">0.0864652</td><td style = \"text-align: left;\">(2.33722e10, 2.33941e10, 2.76224e9)</td><td style = \"text-align: left;\">(70333.0, 80279.8, 0.0)</td></tr><tr><td class = \"rowNumber\" style = \"font-weight: bold; text-align: right;\">63</td><td style = \"text-align: right;\">100000</td><td style = \"text-align: right;\">0.0964345</td><td style = \"text-align: right;\">0.139683</td><td style = \"text-align: right;\">0.232861</td><td style = \"text-align: right;\">3</td><td style = \"text-align: right;\">42</td><td style = \"text-align: right;\">0.0863222</td><td style = \"text-align: left;\">(3.41283e9, 3.59488e9, 2.4745e8)</td><td style = \"text-align: left;\">(68917.0, 77459.3, 0.0)</td></tr><tr><td class = \"rowNumber\" style = \"font-weight: bold; text-align: right;\">64</td><td style = \"text-align: right;\">100000</td><td style = \"text-align: right;\">0.096874</td><td style = \"text-align: right;\">0.139893</td><td style = \"text-align: right;\">0.233221</td><td style = \"text-align: right;\">5</td><td style = \"text-align: right;\">42</td><td style = \"text-align: right;\">0.0863663</td><td style = \"text-align: left;\">(5.67506e9, 5.9279e9, 5.12723e8)</td><td style = \"text-align: left;\">(69792.0, 78211.9, 0.0)</td></tr></tbody></table></div>"
      ],
      "text/latex": [
       "\\begin{tabular}{r|ccccccccc}\n",
       "\t& T & z\\_emse & x\\_emse & z\\_amse & niterations & seed & x\\_amse & inference & \\\\\n",
       "\t\\hline\n",
       "\t& Int64? & Float64? & Float64? & Float64? & Int64? & Int64? & Float64? & Tuple…? & \\\\\n",
       "\t\\hline\n",
       "\t1 & 10 & 1.07994 & 0.158287 & 0.972368 & 10 & 42 & 0.223043 & (1.14858e6, 1.28189e6, 0.0) & $\\dots$ \\\\\n",
       "\t2 & 10 & 1.14039 & 0.158206 & 1.0243 & 20 & 42 & 0.224207 & (2.18071e6, 2.44252e6, 0.0) & $\\dots$ \\\\\n",
       "\t3 & 10 & 0.829284 & 0.160147 & 0.728915 & 3 & 42 & 0.21214 & (431500.0, 4.73376e5, 0.0) & $\\dots$ \\\\\n",
       "\t4 & 10 & 0.848582 & 0.159004 & 0.750968 & 5 & 42 & 0.216703 & (645625.0, 7.25674e5, 0.0) & $\\dots$ \\\\\n",
       "\t5 & 20 & 0.724445 & 0.154106 & 0.556095 & 10 & 42 & 0.186524 & (2.17958e6, 2.40876e6, 0.0) & $\\dots$ \\\\\n",
       "\t6 & 20 & 0.76176 & 0.154226 & 0.582128 & 20 & 42 & 0.187112 & (4.18296e6, 4.72031e6, 0.0) & $\\dots$ \\\\\n",
       "\t7 & 20 & 0.556865 & 0.154078 & 0.449722 & 3 & 42 & 0.181087 & (733125.0, 8.08183e5, 0.0) & $\\dots$ \\\\\n",
       "\t8 & 20 & 0.578942 & 0.153844 & 0.449804 & 5 & 42 & 0.183346 & (1.15671e6, 1.27324e6, 0.0) & $\\dots$ \\\\\n",
       "\t9 & 30 & 0.562733 & 0.151885 & 0.41141 & 10 & 42 & 0.164712 & (3.13846e6, 3.43436e6, 0.0) & $\\dots$ \\\\\n",
       "\t10 & 30 & 0.590425 & 0.152014 & 0.429637 & 20 & 42 & 0.165082 & (6.17583e6, 6.90084e6, 0.0) & $\\dots$ \\\\\n",
       "\t11 & 30 & 0.433873 & 0.151497 & 0.336194 & 3 & 42 & 0.161326 & (1.06633e6, 1.1784e6, 0.0) & $\\dots$ \\\\\n",
       "\t12 & 30 & 0.453949 & 0.151483 & 0.33689 & 5 & 42 & 0.162728 & (1.67438e6, 1.8924e6, 0.0) & $\\dots$ \\\\\n",
       "\t13 & 100 & 0.228496 & 0.154488 & 0.154583 & 10 & 42 & 0.153342 & (1.02956e7, 1.14526e7, 0.0) & $\\dots$ \\\\\n",
       "\t14 & 100 & 0.238958 & 0.15458 & 0.160454 & 20 & 42 & 0.153454 & (2.05674e7, 2.28371e7, 0.0) & $\\dots$ \\\\\n",
       "\t15 & 100 & 0.17831 & 0.154043 & 0.130839 & 3 & 42 & 0.152361 & (3.19554e6, 3.48308e6, 0.0) & $\\dots$ \\\\\n",
       "\t16 & 100 & 0.187606 & 0.154153 & 0.130875 & 5 & 42 & 0.152756 & (5.19533e6, 5.78984e6, 0.0) & $\\dots$ \\\\\n",
       "\t17 & 300 & 0.11587 & 0.151248 & 0.069978 & 10 & 42 & 0.152942 & (3.07604e7, 3.3898e7, 0.0) & $\\dots$ \\\\\n",
       "\t18 & 300 & 0.120189 & 0.151321 & 0.0721307 & 20 & 42 & 0.152998 & (6.52004e7, 6.72951e7, 4.44229e6) & $\\dots$ \\\\\n",
       "\t19 & 300 & 0.0932971 & 0.150807 & 0.0606473 & 3 & 42 & 0.15248 & (9.32121e6, 1.0115e7, 0.0) & $\\dots$ \\\\\n",
       "\t20 & 300 & 0.0985516 & 0.150952 & 0.0611327 & 5 & 42 & 0.152658 & (1.54119e7, 1.70069e7, 0.0) & $\\dots$ \\\\\n",
       "\t21 & 500 & 0.0843427 & 0.151139 & 0.049238 & 10 & 42 & 0.150543 & (5.10307e7, 5.65125e7, 0.0) & $\\dots$ \\\\\n",
       "\t22 & 500 & 0.0870732 & 0.151213 & 0.0505443 & 20 & 42 & 0.15059 & (1.06131e8, 1.12242e8, 4.45225e6) & $\\dots$ \\\\\n",
       "\t23 & 500 & 0.0696859 & 0.150663 & 0.0435341 & 3 & 42 & 0.150156 & (1.54309e7, 1.68073e7, 0.0) & $\\dots$ \\\\\n",
       "\t24 & 500 & 0.0732779 & 0.15083 & 0.0438609 & 5 & 42 & 0.150302 & (2.55958e7, 2.84738e7, 0.0) & $\\dots$ \\\\\n",
       "\t25 & 700 & 0.0696891 & 0.151477 & 0.0434891 & 10 & 42 & 0.148991 & (7.49554e7, 7.89957e7, 3.86646e6) & $\\dots$ \\\\\n",
       "\t26 & 700 & 0.0716624 & 0.151553 & 0.0444427 & 20 & 42 & 0.149035 & (1.51498e8, 1.56811e8, 9.51379e6) & $\\dots$ \\\\\n",
       "\t27 & 700 & 0.0590225 & 0.150975 & 0.039244 & 3 & 42 & 0.148643 & (2.17392e7, 2.34879e7, 0.0) & $\\dots$ \\\\\n",
       "\t28 & 700 & 0.0616655 & 0.151157 & 0.0395399 & 5 & 42 & 0.148772 & (3.57002e7, 3.88059e7, 0.0) & $\\dots$ \\\\\n",
       "\t29 & 1000 & 0.0591277 & 0.151576 & 0.0374805 & 10 & 42 & 0.149606 & (1.05574e8, 1.12403e8, 3.90162e6) & $\\dots$ \\\\\n",
       "\t30 & 1000 & 0.0605294 & 0.151652 & 0.0381521 & 20 & 42 & 0.149647 & (2.21791e8, 2.31806e8, 1.64804e7) & $\\dots$ \\\\\n",
       "\t$\\dots$ & $\\dots$ & $\\dots$ & $\\dots$ & $\\dots$ & $\\dots$ & $\\dots$ & $\\dots$ & $\\dots$ &  \\\\\n",
       "\\end{tabular}\n"
      ],
      "text/plain": [
       "\u001b[1m64×9 DataFrame\u001b[0m\n",
       "\u001b[1m Row \u001b[0m│\u001b[1m T      \u001b[0m\u001b[1m z_emse    \u001b[0m\u001b[1m x_emse   \u001b[0m\u001b[1m z_amse    \u001b[0m\u001b[1m niterations \u001b[0m\u001b[1m seed   \u001b[0m\u001b[1m x_amse    \u001b[0m\u001b[1m\u001b[0m ⋯\n",
       "     │\u001b[90m Int64? \u001b[0m\u001b[90m Float64?  \u001b[0m\u001b[90m Float64? \u001b[0m\u001b[90m Float64?  \u001b[0m\u001b[90m Int64?      \u001b[0m\u001b[90m Int64? \u001b[0m\u001b[90m Float64?  \u001b[0m\u001b[90m\u001b[0m ⋯\n",
       "─────┼──────────────────────────────────────────────────────────────────────────\n",
       "   1 │     10  1.07994    0.158287  0.972368            10      42  0.223043   ⋯\n",
       "   2 │     10  1.14039    0.158206  1.0243              20      42  0.224207\n",
       "   3 │     10  0.829284   0.160147  0.728915             3      42  0.21214\n",
       "   4 │     10  0.848582   0.159004  0.750968             5      42  0.216703\n",
       "   5 │     20  0.724445   0.154106  0.556095            10      42  0.186524   ⋯\n",
       "   6 │     20  0.76176    0.154226  0.582128            20      42  0.187112\n",
       "   7 │     20  0.556865   0.154078  0.449722             3      42  0.181087\n",
       "   8 │     20  0.578942   0.153844  0.449804             5      42  0.183346\n",
       "   9 │     30  0.562733   0.151885  0.41141             10      42  0.164712   ⋯\n",
       "  10 │     30  0.590425   0.152014  0.429637            20      42  0.165082\n",
       "  11 │     30  0.433873   0.151497  0.336194             3      42  0.161326\n",
       "  ⋮  │   ⋮         ⋮         ⋮          ⋮           ⋮         ⋮         ⋮      ⋱\n",
       "  55 │  50000  0.0668309  0.147158  0.223703             3      42  0.123239\n",
       "  56 │  50000  0.0670284  0.147381  0.224379             5      42  0.123313   ⋯\n",
       "  57 │  70000  0.0779093  0.144845  0.217051            10      42  0.111254\n",
       "  58 │  70000  0.0780396  0.144924  0.217374            20      42  0.111277\n",
       "  59 │  70000  0.0769978  0.144279  0.214759             3      42  0.111076\n",
       "  60 │  70000  0.0772926  0.144496  0.215449             5      42  0.111138   ⋯\n",
       "  61 │ 100000  0.0977315  0.140229  0.2341              10      42  0.0864487\n",
       "  62 │ 100000  0.0979148  0.140305  0.234278            20      42  0.0864652\n",
       "  63 │ 100000  0.0964345  0.139683  0.232861             3      42  0.0863222\n",
       "  64 │ 100000  0.096874   0.139893  0.233221             5      42  0.0863663  ⋯\n",
       "\u001b[36m                                                   2 columns and 43 rows omitted\u001b[0m"
      ]
     },
     "execution_count": 11,
     "metadata": {},
     "output_type": "execute_result"
    }
   ],
   "source": [
    "benchmarks_table = sort(prepare_benchmarks_table(bfolder), [ :T ])"
   ]
  },
  {
   "cell_type": "markdown",
   "id": "2d0795f0",
   "metadata": {},
   "source": [
    "# Extra plots"
   ]
  },
  {
   "cell_type": "code",
   "execution_count": 21,
   "id": "e54c54af",
   "metadata": {},
   "outputs": [
    {
     "data": {
      "text/plain": [
       "Plots.PGFPlotsXBackend()"
      ]
     },
     "execution_count": 21,
     "metadata": {},
     "output_type": "execute_result"
    }
   ],
   "source": [
    "pgfplotsx()"
   ]
  },
  {
   "cell_type": "code",
   "execution_count": 22,
   "id": "4739273b",
   "metadata": {},
   "outputs": [
    {
     "data": {},
     "execution_count": 22,
     "metadata": {},
     "output_type": "execute_result"
    }
   ],
   "source": [
    "# `plotting`range\n",
    "colors = ColorSchemes.tableau_10\n",
    "\n",
    "# Some default settings for plotting\n",
    "pfontsettings = (\n",
    "    titlefontsize=18,\n",
    "    guidefontsize=16,\n",
    "    tickfontsize=14,\n",
    "    legendfontsize=14,\n",
    "    legend = :outerright,\n",
    "    legend_font_halign = :left,\n",
    "    size = (800, 300)\n",
    ")\n",
    "\n",
    "p1xticks = (benchmarks_table.T, string.(benchmarks_table.T))\n",
    "\n",
    "p1yticks = (\n",
    "    [ 1, 3, 5, 10, 20, 50, 100, 200, 500, 1000, 2000, 5_000, 10_000, 30_000, 50_000 ], \n",
    "    [ \"1\", \"3\", \"5\", \"10\", \"20\", \"50\", \"100\", \"200\", \"500\", \"1e3\", \"2e3\", \"5e3\", \"1e4\", \"3e4\", \"5e4\" ]\n",
    ")\n",
    "\n",
    "p1 = plot(\n",
    "    xlabel = \"Number of observations in dataset (log10-scale)\", \n",
    "    ylabel = \"Time (in ms, log10-scale)\"; \n",
    "    xscale = :log10,\n",
    "    yscale = :log10,\n",
    "    xticks = p1xticks,\n",
    "    yticks = p1yticks,\n",
    "    pfontsettings...\n",
    ")\n",
    "\n",
    "nitrs = [ 3, 5, 10, 20 ];\n",
    "mshapes = [ :utriangle, :diamond, :pentagon ]\n",
    "\n",
    "for (index, (mshape, nitr)) in enumerate(zip(mshapes, nitrs))\n",
    "    filtered = filter((r) -> r[\"niterations\"] == nitr, benchmarks_table)\n",
    "    sorted      = sort(filtered, [ :T ])\n",
    "    range       = map(f -> f[\"T\"], eachrow(sorted))\n",
    "    t_inference = map(f -> to_ms(f[\"inference\"][1] - f[\"inference\"][3]), eachrow(sorted))\n",
    "    \n",
    "    plot!(p1, range, t_inference, label = \"Reactive MP inference ($nitr iterations)\", marker = mshape, color = colors[index])\n",
    "end\n",
    "\n",
    "##\n",
    "\n",
    "p2xticks = (\n",
    "    [ 3, 5, 10, 20 ],\n",
    "    string.([ 3, 5, 10, 20 ])\n",
    ")\n",
    "\n",
    "p2yticks = (\n",
    "    [ 1, 5, 20, 100, 300, 1000, 3_000, 10_000, 3e4, 1e5 ], \n",
    "    [ \"1\", \"5\", \"20\", \"100\", \"300\", \"1e3\", \"3e3\", \"1e4\", \"3e4\", \"1e5\" ]\n",
    ")\n",
    "\n",
    "p2 = plot(\n",
    "    xlabel = \"Number of performed variational iterations (log10-scale)\", \n",
    "    ylabel = \"Time (in ms, log10-scale)\"; \n",
    "    xscale = :log10,\n",
    "    yscale = :log10,\n",
    "    xticks = p2xticks,\n",
    "    yticks = p2yticks,\n",
    "    pfontsettings...\n",
    ")\n",
    "\n",
    "Ts = [ 10, 100, 1000, 10_000 ];\n",
    "mshapes = [ :utriangle, :diamond, :pentagon, :circle ]\n",
    "\n",
    "for (index, (mshape, T)) in enumerate(zip(mshapes, Ts))\n",
    "    filtered = filter((r) -> r[\"T\"] == T, benchmarks_table)\n",
    "    sorted      = sort(filtered, [ :niterations ])\n",
    "    range       = map(f -> f[\"niterations\"], eachrow(sorted))\n",
    "    t_inference = map(f -> to_ms(f[\"inference\"][1] - f[\"inference\"][3]), eachrow(sorted))\n",
    "    \n",
    "    plot!(p2, range, t_inference, label = \"Reactive MP inference ($T observations)\", marker = mshape, color = colors[index])\n",
    "end\n",
    "\n",
    "plot(p1, p2, size = (800, 600), layout = @layout([ a; b ]))"
   ]
  },
  {
   "cell_type": "markdown",
   "id": "8908d2e2",
   "metadata": {},
   "source": [
    "# Versions"
   ]
  },
  {
   "cell_type": "code",
   "execution_count": 14,
   "id": "50e7ce97",
   "metadata": {},
   "outputs": [
    {
     "name": "stdout",
     "output_type": "stream",
     "text": [
      "Julia Version 1.9.0\n",
      "Commit 8e630552924 (2023-05-07 11:25 UTC)\n",
      "Platform Info:\n",
      "  OS: macOS (arm64-apple-darwin22.4.0)\n",
      "  CPU: 10 × Apple M2 Pro\n",
      "  WORD_SIZE: 64\n",
      "  LIBM: libopenlibm\n",
      "  LLVM: libLLVM-14.0.6 (ORCJIT, apple-m1)\n",
      "  Threads: 2 on 6 virtual cores\n"
     ]
    }
   ],
   "source": [
    "versioninfo()"
   ]
  },
  {
   "cell_type": "code",
   "execution_count": 15,
   "id": "64587a7c",
   "metadata": {},
   "outputs": [
    {
     "name": "stdout",
     "output_type": "stream",
     "text": [
      "\u001b[36m\u001b[1mProject\u001b[22m\u001b[39m RxInferThesisExperiments v1.0.0\n",
      "\u001b[32m\u001b[1mStatus\u001b[22m\u001b[39m `~/.julia/dev/RxInferThesisExperiments/Project.toml`\n",
      "  \u001b[90m[b5ca4192] \u001b[39mAdvancedVI v0.2.3\n",
      "  \u001b[90m[6e4b80f9] \u001b[39mBenchmarkTools v1.3.2\n",
      "  \u001b[90m[76274a88] \u001b[39mBijectors v0.12.5\n",
      "  \u001b[90m[35d6a980] \u001b[39mColorSchemes v3.21.0\n",
      "  \u001b[90m[a93c6f00] \u001b[39mDataFrames v1.5.0\n",
      "  \u001b[90m[31c24e10] \u001b[39mDistributions v0.25.95\n",
      "  \u001b[90m[634d3b9d] \u001b[39mDrWatson v2.12.5\n",
      "  \u001b[90m[442a2c76] \u001b[39mFastGaussQuadrature v0.5.1\n",
      "  \u001b[90m[9fc3f58a] \u001b[39mForneyLab v0.12.0\n",
      "  \u001b[90m[f6369f11] \u001b[39mForwardDiff v0.10.35\n",
      "  \u001b[90m[14197337] \u001b[39mGenericLinearAlgebra v0.3.11\n",
      "  \u001b[90m[19dc6840] \u001b[39mHCubature v1.5.1\n",
      "  \u001b[90m[7073ff75] \u001b[39mIJulia v1.24.2\n",
      "  \u001b[90m[b964fa9f] \u001b[39mLaTeXStrings v1.3.0\n",
      "  \u001b[90m[bdcacae8] \u001b[39mLoopVectorization v0.12.159\n",
      "  \u001b[90m[3bd65402] \u001b[39mOptimisers v0.2.18\n",
      "  \u001b[90m[8314cec4] \u001b[39mPGFPlotsX v1.6.0\n",
      "  \u001b[90m[e4faabce] \u001b[39mPProf v2.2.2\n",
      "  \u001b[90m[91a5bcdd] \u001b[39mPlots v1.38.15\n",
      "  \u001b[90m[92933f4c] \u001b[39mProgressMeter v1.7.2\n",
      "  \u001b[90m[37e2e3b7] \u001b[39mReverseDiff v1.14.6\n",
      "  \u001b[90m[86711068] \u001b[39mRxInfer v2.11.1\n",
      "  \u001b[90m[860ef19b] \u001b[39mStableRNGs v1.0.0\n",
      "  \u001b[90m[aedffcd0] \u001b[39mStatic v0.8.7\n",
      "  \u001b[90m[90137ffa] \u001b[39mStaticArrays v1.5.25\n",
      "\u001b[33m⌅\u001b[39m \u001b[90m[2913bbd2] \u001b[39mStatsBase v0.33.21\n",
      "  \u001b[90m[4c63d2b9] \u001b[39mStatsFuns v1.3.0\n",
      "  \u001b[90m[fce5fe82] \u001b[39mTuring v0.25.1\n",
      "  \u001b[90m[37e2e46d] \u001b[39mLinearAlgebra\n",
      "  \u001b[90m[9a3f8284] \u001b[39mRandom\n",
      "\u001b[36m\u001b[1mInfo\u001b[22m\u001b[39m Packages marked with \u001b[33m⌅\u001b[39m have new versions available but compatibility constraints restrict them from upgrading. To see why use `status --outdated`\n"
     ]
    }
   ],
   "source": [
    "] status"
   ]
  }
 ],
 "metadata": {
  "kernelspec": {
   "display_name": "Julia 1.9.0",
   "language": "julia",
   "name": "julia-1.9"
  },
  "language_info": {
   "file_extension": ".jl",
   "mimetype": "application/julia",
   "name": "julia",
   "version": "1.9.0"
  }
 },
 "nbformat": 4,
 "nbformat_minor": 5
}
