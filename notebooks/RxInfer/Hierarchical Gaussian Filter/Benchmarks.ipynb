{
 "cells": [
  {
   "cell_type": "code",
   "execution_count": 2,
   "id": "ab51ecfe",
   "metadata": {},
   "outputs": [],
   "source": [
    "using DrWatson"
   ]
  },
  {
   "cell_type": "code",
   "execution_count": 3,
   "id": "e38c5626",
   "metadata": {},
   "outputs": [],
   "source": [
    "@quickactivate \"RxInferThesisExperiments\""
   ]
  },
  {
   "cell_type": "code",
   "execution_count": 4,
   "id": "453726c3",
   "metadata": {},
   "outputs": [],
   "source": [
    "using RxInferThesisExperiments, RxInfer, StaticArrays, Plots, PGFPlotsX, LaTeXStrings\n",
    "using LinearAlgebra, StableRNGs, Random, BenchmarkTools, ColorSchemes, Dates"
   ]
  },
  {
   "cell_type": "code",
   "execution_count": 5,
   "id": "76ad3c68",
   "metadata": {},
   "outputs": [
    {
     "data": {
      "text/plain": [
       "\"/Users/bvdmitri/.julia/dev/thesis/data/hgf/rxinfer\""
      ]
     },
     "execution_count": 5,
     "metadata": {},
     "output_type": "execute_result"
    }
   ],
   "source": [
    "const bfolder = datadir(\"hgf\", \"rxinfer\")"
   ]
  },
  {
   "cell_type": "code",
   "execution_count": 6,
   "id": "2bee77bc",
   "metadata": {},
   "outputs": [],
   "source": [
    "# Pregenerate paths for benchmark data\n",
    "mkpath(bfolder);"
   ]
  },
  {
   "cell_type": "code",
   "execution_count": 7,
   "id": "7a5c82ca",
   "metadata": {},
   "outputs": [
    {
     "data": {
      "text/plain": [
       "HGFEnvironment()"
      ]
     },
     "execution_count": 7,
     "metadata": {},
     "output_type": "execute_result"
    }
   ],
   "source": [
    "const environment = HGFEnvironment()"
   ]
  },
  {
   "cell_type": "code",
   "execution_count": 12,
   "id": "ad7b64dd",
   "metadata": {},
   "outputs": [],
   "source": [
    "# Include the model specification\n",
    "include(srcdir(\"models\", \"rxinfer\", \"hgf.jl\"));"
   ]
  },
  {
   "cell_type": "code",
   "execution_count": 28,
   "id": "164adec9",
   "metadata": {},
   "outputs": [
    {
     "data": {
      "text/plain": [
       "run_benchmark (generic function with 1 method)"
      ]
     },
     "execution_count": 28,
     "metadata": {},
     "output_type": "execute_result"
    }
   ],
   "source": [
    "function run_benchmark(params)\n",
    "    @unpack T, niterations, seed = params\n",
    "    \n",
    "    zstates, xstates, observations = rand(StableRNG(seed), environment, T);\n",
    "    model    = hgf(environment.kappa, environment.omega)\n",
    "    result   = run_inference(model, observations; iterations = niterations)\n",
    "    e_states = extract_posteriors(T, result)\n",
    "    z_amse   = compute_amse(zstates, e_states[:z])\n",
    "    x_amse   = compute_amse(xstates, e_states[:x])\n",
    "    \n",
    "    benchmark_modelcreation = @benchmark RxInfer.create_model(hgf(environment.kappa, environment.omega), \n",
    "        constraints = hgfconstraints(),\n",
    "    )\n",
    "    \n",
    "    benchmark_inference = @benchmark run_inference(model, observations; iterations = $niterations) setup=begin\n",
    "        model = hgf($(environment.kappa), $(environment.omega))\n",
    "        zstates, xstates, observations = rand(StableRNG($seed), environment, $T);\n",
    "    end\n",
    "    \n",
    "    emse = compute_emse(seed) do _seed\n",
    "        local zstates, xstates, observations = rand(StableRNG(_seed), environment, T);\n",
    "        local model    = hgf(environment.kappa, environment.omega)\n",
    "        local result   = run_inference(model, observations; iterations = niterations)\n",
    "        local e_states = extract_posteriors(T, result)\n",
    "        return [ compute_amse(zstates, e_states[:z]), compute_amse(xstates, e_states[:x]) ]\n",
    "    end\n",
    "    \n",
    "    z_emse = emse[1]\n",
    "    x_emse = emse[2]\n",
    "    \n",
    "    states = (z = zstates, x = xstates)\n",
    "    \n",
    "    output = @strdict T niterations seed states e_states observations z_amse x_amse z_emse x_emse benchmark_modelcreation benchmark_inference\n",
    "    \n",
    "    return output\n",
    "end"
   ]
  },
  {
   "cell_type": "code",
   "execution_count": 38,
   "id": "7b67d008",
   "metadata": {},
   "outputs": [],
   "source": [
    "# Here we create a list of parameters we want to run our benchmarks with\n",
    "benchmark_params = dict_list(Dict(\n",
    "    \"T\"           => [ 10, 20, 30, 100 ],\n",
    "    \"niterations\" => [ 3, 10 ],\n",
    "    \"seed\"        => [ 42 ]\n",
    "));"
   ]
  },
  {
   "cell_type": "code",
   "execution_count": 39,
   "id": "aa578fcb",
   "metadata": {},
   "outputs": [
    {
     "name": "stderr",
     "output_type": "stream",
     "text": [
      "\u001b[36m\u001b[1m[ \u001b[22m\u001b[39m\u001b[36m\u001b[1mInfo: \u001b[22m\u001b[39mFile /Users/bvdmitri/.julia/dev/thesis/data/hgf/rxinfer/T=100_niterations=3_seed=42.jld2 does not exist. Producing it now...\n",
      "\u001b[36m\u001b[1m[ \u001b[22m\u001b[39m\u001b[36m\u001b[1mInfo: \u001b[22m\u001b[39mFile /Users/bvdmitri/.julia/dev/thesis/data/hgf/rxinfer/T=100_niterations=3_seed=42.jld2 saved.\n",
      "\u001b[36m\u001b[1m[ \u001b[22m\u001b[39m\u001b[36m\u001b[1mInfo: \u001b[22m\u001b[39mFile /Users/bvdmitri/.julia/dev/thesis/data/hgf/rxinfer/T=10_niterations=10_seed=42.jld2 does not exist. Producing it now...\n",
      "\u001b[36m\u001b[1m[ \u001b[22m\u001b[39m\u001b[36m\u001b[1mInfo: \u001b[22m\u001b[39mFile /Users/bvdmitri/.julia/dev/thesis/data/hgf/rxinfer/T=10_niterations=10_seed=42.jld2 saved.\n",
      "\u001b[36m\u001b[1m[ \u001b[22m\u001b[39m\u001b[36m\u001b[1mInfo: \u001b[22m\u001b[39mFile /Users/bvdmitri/.julia/dev/thesis/data/hgf/rxinfer/T=20_niterations=10_seed=42.jld2 does not exist. Producing it now...\n",
      "\u001b[36m\u001b[1m[ \u001b[22m\u001b[39m\u001b[36m\u001b[1mInfo: \u001b[22m\u001b[39mFile /Users/bvdmitri/.julia/dev/thesis/data/hgf/rxinfer/T=20_niterations=10_seed=42.jld2 saved.\n",
      "\u001b[36m\u001b[1m[ \u001b[22m\u001b[39m\u001b[36m\u001b[1mInfo: \u001b[22m\u001b[39mFile /Users/bvdmitri/.julia/dev/thesis/data/hgf/rxinfer/T=30_niterations=10_seed=42.jld2 does not exist. Producing it now...\n",
      "\u001b[36m\u001b[1m[ \u001b[22m\u001b[39m\u001b[36m\u001b[1mInfo: \u001b[22m\u001b[39mFile /Users/bvdmitri/.julia/dev/thesis/data/hgf/rxinfer/T=30_niterations=10_seed=42.jld2 saved.\n",
      "\u001b[36m\u001b[1m[ \u001b[22m\u001b[39m\u001b[36m\u001b[1mInfo: \u001b[22m\u001b[39mFile /Users/bvdmitri/.julia/dev/thesis/data/hgf/rxinfer/T=100_niterations=10_seed=42.jld2 does not exist. Producing it now...\n",
      "\u001b[36m\u001b[1m[ \u001b[22m\u001b[39m\u001b[36m\u001b[1mInfo: \u001b[22m\u001b[39mFile /Users/bvdmitri/.julia/dev/thesis/data/hgf/rxinfer/T=100_niterations=10_seed=42.jld2 saved.\n"
     ]
    }
   ],
   "source": [
    "# First run maybe slow, you may track the progress in the terminal\n",
    "# Subsequent runs will not create new benchmarks \n",
    "# but will reload it from data folder\n",
    "benchmarks = map(benchmark_params) do params\n",
    "    result, _ = produce_or_load(run_benchmark, bfolder, params; tag = false, force = false)\n",
    "    return result\n",
    "end;"
   ]
  },
  {
   "cell_type": "code",
   "execution_count": 40,
   "id": "4bf57e42",
   "metadata": {},
   "outputs": [
    {
     "name": "stderr",
     "output_type": "stream",
     "text": [
      "\u001b[36m\u001b[1m[ \u001b[22m\u001b[39m\u001b[36m\u001b[1mInfo: \u001b[22m\u001b[39mScanning folder /Users/bvdmitri/.julia/dev/thesis/data/hgf/rxinfer for result files.\n",
      "\u001b[36m\u001b[1m[ \u001b[22m\u001b[39m\u001b[36m\u001b[1mInfo: \u001b[22m\u001b[39mAdded 8 entries.\n"
     ]
    },
    {
     "data": {
      "text/html": [
       "<div><div style = \"float: left;\"><span>8×9 DataFrame</span></div><div style = \"clear: both;\"></div></div><div class = \"data-frame\" style = \"overflow-x: scroll;\"><table class = \"data-frame\" style = \"margin-bottom: 6px;\"><thead><tr class = \"header\"><th class = \"rowNumber\" style = \"font-weight: bold; text-align: right;\">Row</th><th style = \"text-align: left;\">T</th><th style = \"text-align: left;\">z_emse</th><th style = \"text-align: left;\">x_emse</th><th style = \"text-align: left;\">z_amse</th><th style = \"text-align: left;\">niterations</th><th style = \"text-align: left;\">seed</th><th style = \"text-align: left;\">x_amse</th><th style = \"text-align: left;\">inference</th><th style = \"text-align: left;\">creation</th></tr><tr class = \"subheader headerLastRow\"><th class = \"rowNumber\" style = \"font-weight: bold; text-align: right;\"></th><th title = \"Union{Missing, Int64}\" style = \"text-align: left;\">Int64?</th><th title = \"Union{Missing, Float64}\" style = \"text-align: left;\">Float64?</th><th title = \"Union{Missing, Float64}\" style = \"text-align: left;\">Float64?</th><th title = \"Union{Missing, Float64}\" style = \"text-align: left;\">Float64?</th><th title = \"Union{Missing, Int64}\" style = \"text-align: left;\">Int64?</th><th title = \"Union{Missing, Int64}\" style = \"text-align: left;\">Int64?</th><th title = \"Union{Missing, Float64}\" style = \"text-align: left;\">Float64?</th><th title = \"Union{Missing, Tuple{Float64, Float64, Float64}}\" style = \"text-align: left;\">Tuple…?</th><th title = \"Union{Missing, Tuple{Float64, Float64, Float64}}\" style = \"text-align: left;\">Tuple…?</th></tr></thead><tbody><tr><td class = \"rowNumber\" style = \"font-weight: bold; text-align: right;\">1</td><td style = \"text-align: right;\">10</td><td style = \"text-align: right;\">1.07994</td><td style = \"text-align: right;\">0.158287</td><td style = \"text-align: right;\">0.972368</td><td style = \"text-align: right;\">10</td><td style = \"text-align: right;\">42</td><td style = \"text-align: right;\">0.223043</td><td style = \"text-align: left;\">(1.99526e6, 2.39058e6, 0.0)</td><td style = \"text-align: left;\">(172670.0, 2.33492e5, 0.0)</td></tr><tr><td class = \"rowNumber\" style = \"font-weight: bold; text-align: right;\">2</td><td style = \"text-align: right;\">10</td><td style = \"text-align: right;\">0.829284</td><td style = \"text-align: right;\">0.160147</td><td style = \"text-align: right;\">0.728915</td><td style = \"text-align: right;\">3</td><td style = \"text-align: right;\">42</td><td style = \"text-align: right;\">0.21214</td><td style = \"text-align: left;\">(787058.0, 9.71598e5, 0.0)</td><td style = \"text-align: left;\">(172682.0, 1.99842e5, 0.0)</td></tr><tr><td class = \"rowNumber\" style = \"font-weight: bold; text-align: right;\">3</td><td style = \"text-align: right;\">20</td><td style = \"text-align: right;\">0.724445</td><td style = \"text-align: right;\">0.154106</td><td style = \"text-align: right;\">0.556095</td><td style = \"text-align: right;\">10</td><td style = \"text-align: right;\">42</td><td style = \"text-align: right;\">0.186524</td><td style = \"text-align: left;\">(3.66641e6, 4.98389e6, 0.0)</td><td style = \"text-align: left;\">(172520.0, 2.04684e5, 0.0)</td></tr><tr><td class = \"rowNumber\" style = \"font-weight: bold; text-align: right;\">4</td><td style = \"text-align: right;\">20</td><td style = \"text-align: right;\">0.556865</td><td style = \"text-align: right;\">0.154078</td><td style = \"text-align: right;\">0.449722</td><td style = \"text-align: right;\">3</td><td style = \"text-align: right;\">42</td><td style = \"text-align: right;\">0.181087</td><td style = \"text-align: left;\">(1.28982e6, 1.58894e6, 0.0)</td><td style = \"text-align: left;\">(168500.0, 2.20081e5, 0.0)</td></tr><tr><td class = \"rowNumber\" style = \"font-weight: bold; text-align: right;\">5</td><td style = \"text-align: right;\">30</td><td style = \"text-align: right;\">0.562733</td><td style = \"text-align: right;\">0.151885</td><td style = \"text-align: right;\">0.41141</td><td style = \"text-align: right;\">10</td><td style = \"text-align: right;\">42</td><td style = \"text-align: right;\">0.164712</td><td style = \"text-align: left;\">(5.17404e6, 6.25023e6, 0.0)</td><td style = \"text-align: left;\">(171478.0, 207299.0, 0.0)</td></tr><tr><td class = \"rowNumber\" style = \"font-weight: bold; text-align: right;\">6</td><td style = \"text-align: right;\">30</td><td style = \"text-align: right;\">0.433873</td><td style = \"text-align: right;\">0.151497</td><td style = \"text-align: right;\">0.336194</td><td style = \"text-align: right;\">3</td><td style = \"text-align: right;\">42</td><td style = \"text-align: right;\">0.161326</td><td style = \"text-align: left;\">(1.78294e6, 2.1141e6, 0.0)</td><td style = \"text-align: left;\">(168546.0, 2.06601e5, 0.0)</td></tr><tr><td class = \"rowNumber\" style = \"font-weight: bold; text-align: right;\">7</td><td style = \"text-align: right;\">100</td><td style = \"text-align: right;\">0.228496</td><td style = \"text-align: right;\">0.154488</td><td style = \"text-align: right;\">0.154583</td><td style = \"text-align: right;\">10</td><td style = \"text-align: right;\">42</td><td style = \"text-align: right;\">0.153342</td><td style = \"text-align: left;\">(1.69788e7, 1.9752e7, 0.0)</td><td style = \"text-align: left;\">(168205.0, 207433.0, 0.0)</td></tr><tr><td class = \"rowNumber\" style = \"font-weight: bold; text-align: right;\">8</td><td style = \"text-align: right;\">100</td><td style = \"text-align: right;\">0.17831</td><td style = \"text-align: right;\">0.154043</td><td style = \"text-align: right;\">0.130839</td><td style = \"text-align: right;\">3</td><td style = \"text-align: right;\">42</td><td style = \"text-align: right;\">0.152361</td><td style = \"text-align: left;\">(5.43523e6, 6.95584e6, 0.0)</td><td style = \"text-align: left;\">(172491.0, 2.20906e5, 0.0)</td></tr></tbody></table></div>"
      ],
      "text/latex": [
       "\\begin{tabular}{r|ccccccccc}\n",
       "\t& T & z\\_emse & x\\_emse & z\\_amse & niterations & seed & x\\_amse & inference & \\\\\n",
       "\t\\hline\n",
       "\t& Int64? & Float64? & Float64? & Float64? & Int64? & Int64? & Float64? & Tuple…? & \\\\\n",
       "\t\\hline\n",
       "\t1 & 10 & 1.07994 & 0.158287 & 0.972368 & 10 & 42 & 0.223043 & (1.99526e6, 2.39058e6, 0.0) & $\\dots$ \\\\\n",
       "\t2 & 10 & 0.829284 & 0.160147 & 0.728915 & 3 & 42 & 0.21214 & (787058.0, 9.71598e5, 0.0) & $\\dots$ \\\\\n",
       "\t3 & 20 & 0.724445 & 0.154106 & 0.556095 & 10 & 42 & 0.186524 & (3.66641e6, 4.98389e6, 0.0) & $\\dots$ \\\\\n",
       "\t4 & 20 & 0.556865 & 0.154078 & 0.449722 & 3 & 42 & 0.181087 & (1.28982e6, 1.58894e6, 0.0) & $\\dots$ \\\\\n",
       "\t5 & 30 & 0.562733 & 0.151885 & 0.41141 & 10 & 42 & 0.164712 & (5.17404e6, 6.25023e6, 0.0) & $\\dots$ \\\\\n",
       "\t6 & 30 & 0.433873 & 0.151497 & 0.336194 & 3 & 42 & 0.161326 & (1.78294e6, 2.1141e6, 0.0) & $\\dots$ \\\\\n",
       "\t7 & 100 & 0.228496 & 0.154488 & 0.154583 & 10 & 42 & 0.153342 & (1.69788e7, 1.9752e7, 0.0) & $\\dots$ \\\\\n",
       "\t8 & 100 & 0.17831 & 0.154043 & 0.130839 & 3 & 42 & 0.152361 & (5.43523e6, 6.95584e6, 0.0) & $\\dots$ \\\\\n",
       "\\end{tabular}\n"
      ],
      "text/plain": [
       "\u001b[1m8×9 DataFrame\u001b[0m\n",
       "\u001b[1m Row \u001b[0m│\u001b[1m T      \u001b[0m\u001b[1m z_emse   \u001b[0m\u001b[1m x_emse   \u001b[0m\u001b[1m z_amse   \u001b[0m\u001b[1m niterations \u001b[0m\u001b[1m seed   \u001b[0m\u001b[1m x_amse   \u001b[0m\u001b[1m in\u001b[0m ⋯\n",
       "     │\u001b[90m Int64? \u001b[0m\u001b[90m Float64? \u001b[0m\u001b[90m Float64? \u001b[0m\u001b[90m Float64? \u001b[0m\u001b[90m Int64?      \u001b[0m\u001b[90m Int64? \u001b[0m\u001b[90m Float64? \u001b[0m\u001b[90m Tu\u001b[0m ⋯\n",
       "─────┼──────────────────────────────────────────────────────────────────────────\n",
       "   1 │     10  1.07994   0.158287  0.972368           10      42  0.223043  (1 ⋯\n",
       "   2 │     10  0.829284  0.160147  0.728915            3      42  0.21214   (7\n",
       "   3 │     20  0.724445  0.154106  0.556095           10      42  0.186524  (3\n",
       "   4 │     20  0.556865  0.154078  0.449722            3      42  0.181087  (1\n",
       "   5 │     30  0.562733  0.151885  0.41141            10      42  0.164712  (5 ⋯\n",
       "   6 │     30  0.433873  0.151497  0.336194            3      42  0.161326  (1\n",
       "   7 │    100  0.228496  0.154488  0.154583           10      42  0.153342  (1\n",
       "   8 │    100  0.17831   0.154043  0.130839            3      42  0.152361  (5\n",
       "\u001b[36m                                                               2 columns omitted\u001b[0m"
      ]
     },
     "execution_count": 40,
     "metadata": {},
     "output_type": "execute_result"
    }
   ],
   "source": [
    "sort(prepare_benchmarks_table(bfolder), [ :T ])"
   ]
  },
  {
   "cell_type": "markdown",
   "id": "8908d2e2",
   "metadata": {},
   "source": [
    "# Versions"
   ]
  },
  {
   "cell_type": "code",
   "execution_count": 32,
   "id": "50e7ce97",
   "metadata": {},
   "outputs": [
    {
     "name": "stdout",
     "output_type": "stream",
     "text": [
      "Julia Version 1.9.0\n",
      "Commit 8e630552924 (2023-05-07 11:25 UTC)\n",
      "Platform Info:\n",
      "  OS: macOS (x86_64-apple-darwin22.4.0)\n",
      "  CPU: 12 × Intel(R) Core(TM) i7-8850H CPU @ 2.60GHz\n",
      "  WORD_SIZE: 64\n",
      "  LIBM: libopenlibm\n",
      "  LLVM: libLLVM-14.0.6 (ORCJIT, skylake)\n",
      "  Threads: 2 on 12 virtual cores\n"
     ]
    }
   ],
   "source": [
    "versioninfo()"
   ]
  },
  {
   "cell_type": "code",
   "execution_count": 33,
   "id": "64587a7c",
   "metadata": {},
   "outputs": [
    {
     "name": "stdout",
     "output_type": "stream",
     "text": [
      "\u001b[36m\u001b[1mProject\u001b[22m\u001b[39m RxInferThesisExperiments v1.0.0\n",
      "\u001b[32m\u001b[1mStatus\u001b[22m\u001b[39m `~/.julia/dev/thesis/Project.toml`\n",
      "  \u001b[90m[b5ca4192] \u001b[39mAdvancedVI v0.2.3\n",
      "  \u001b[90m[6e4b80f9] \u001b[39mBenchmarkTools v1.3.2\n",
      "  \u001b[90m[76274a88] \u001b[39mBijectors v0.12.4\n",
      "  \u001b[90m[35d6a980] \u001b[39mColorSchemes v3.21.0\n",
      "  \u001b[90m[a93c6f00] \u001b[39mDataFrames v1.5.0\n",
      "  \u001b[90m[31c24e10] \u001b[39mDistributions v0.25.95\n",
      "  \u001b[90m[634d3b9d] \u001b[39mDrWatson v2.12.5\n",
      "  \u001b[90m[442a2c76] \u001b[39mFastGaussQuadrature v0.5.1\n",
      "  \u001b[90m[9fc3f58a] \u001b[39mForneyLab v0.12.0\n",
      "  \u001b[90m[f6369f11] \u001b[39mForwardDiff v0.10.35\n",
      "  \u001b[90m[14197337] \u001b[39mGenericLinearAlgebra v0.3.11\n",
      "  \u001b[90m[19dc6840] \u001b[39mHCubature v1.5.1\n",
      "  \u001b[90m[7073ff75] \u001b[39mIJulia v1.24.0\n",
      "  \u001b[90m[b964fa9f] \u001b[39mLaTeXStrings v1.3.0\n",
      "  \u001b[90m[bdcacae8] \u001b[39mLoopVectorization v0.12.159\n",
      "  \u001b[90m[3bd65402] \u001b[39mOptimisers v0.2.18\n",
      "  \u001b[90m[8314cec4] \u001b[39mPGFPlotsX v1.6.0\n",
      "  \u001b[90m[e4faabce] \u001b[39mPProf v2.2.2\n",
      "  \u001b[90m[91a5bcdd] \u001b[39mPlots v1.38.15\n",
      "  \u001b[90m[92933f4c] \u001b[39mProgressMeter v1.7.2\n",
      "  \u001b[90m[37e2e3b7] \u001b[39mReverseDiff v1.14.6\n",
      "  \u001b[90m[86711068] \u001b[39mRxInfer v2.11.0\n",
      "  \u001b[90m[860ef19b] \u001b[39mStableRNGs v1.0.0\n",
      "  \u001b[90m[aedffcd0] \u001b[39mStatic v0.8.7\n",
      "  \u001b[90m[90137ffa] \u001b[39mStaticArrays v1.5.25\n",
      "\u001b[33m⌅\u001b[39m \u001b[90m[2913bbd2] \u001b[39mStatsBase v0.33.21\n",
      "  \u001b[90m[4c63d2b9] \u001b[39mStatsFuns v1.3.0\n",
      "  \u001b[90m[fce5fe82] \u001b[39mTuring v0.25.1\n",
      "  \u001b[90m[37e2e46d] \u001b[39mLinearAlgebra\n",
      "  \u001b[90m[9a3f8284] \u001b[39mRandom\n",
      "\u001b[36m\u001b[1mInfo\u001b[22m\u001b[39m Packages marked with \u001b[33m⌅\u001b[39m have new versions available but compatibility constraints restrict them from upgrading. To see why use `status --outdated`\n"
     ]
    }
   ],
   "source": [
    "] status"
   ]
  },
  {
   "cell_type": "code",
   "execution_count": null,
   "id": "bea6fe7f",
   "metadata": {},
   "outputs": [],
   "source": []
  }
 ],
 "metadata": {
  "kernelspec": {
   "display_name": "Julia 1.9.0",
   "language": "julia",
   "name": "julia-1.9"
  },
  "language_info": {
   "file_extension": ".jl",
   "mimetype": "application/julia",
   "name": "julia",
   "version": "1.9.0"
  }
 },
 "nbformat": 4,
 "nbformat_minor": 5
}
