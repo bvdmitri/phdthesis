{
 "cells": [
  {
   "cell_type": "markdown",
   "id": "55f33945",
   "metadata": {},
   "source": [
    "_Author: Dmitry Bagaev_"
   ]
  },
  {
   "cell_type": "code",
   "execution_count": null,
   "id": "f07b50d2",
   "metadata": {},
   "outputs": [],
   "source": [
    "using DrWatson"
   ]
  },
  {
   "cell_type": "code",
   "execution_count": null,
   "id": "2b399d37",
   "metadata": {},
   "outputs": [],
   "source": [
    "@quickactivate \"RxInferThesisExperiments\""
   ]
  },
  {
   "cell_type": "code",
   "execution_count": null,
   "id": "9ece426e",
   "metadata": {},
   "outputs": [],
   "source": [
    "using RxInferThesisExperiments, RxInfer, StaticArrays, Plots, PGFPlotsX, LaTeXStrings\n",
    "using LinearAlgebra, StableRNGs, Random, BenchmarkTools, ColorSchemes, Dates, DataFrames"
   ]
  },
  {
   "cell_type": "code",
   "execution_count": null,
   "id": "30e150a7",
   "metadata": {},
   "outputs": [],
   "source": [
    "const bfolder = datadir(\"lds\", \"rxinfer\")\n",
    "const outdir = plotsdir(\"lds\")"
   ]
  },
  {
   "cell_type": "code",
   "execution_count": null,
   "id": "484a0961-92c8-42bb-996b-378aab4b03df",
   "metadata": {},
   "outputs": [],
   "source": [
    "pgfplotsx()"
   ]
  },
  {
   "cell_type": "code",
   "execution_count": null,
   "id": "97d0009c",
   "metadata": {},
   "outputs": [],
   "source": [
    "# Pregenerate paths for benchmark data\n",
    "mkpath(bfolder);\n",
    "mkpath(outdir);"
   ]
  },
  {
   "cell_type": "code",
   "execution_count": null,
   "id": "e37f8c7b",
   "metadata": {},
   "outputs": [],
   "source": [
    "# Include the model specification\n",
    "include(srcdir(\"models\", \"rxinfer\", \"rotating.jl\"));"
   ]
  },
  {
   "cell_type": "code",
   "execution_count": null,
   "id": "9a2c016a",
   "metadata": {},
   "outputs": [],
   "source": [
    "function run_benchmark(params)\n",
    "    @unpack T, d, seed = params\n",
    "    \n",
    "    environment = RotatingTracking(d; rng = StableRNG(seed))\n",
    "    \n",
    "    states, observations = rand(StableRNG(seed), environment, T);\n",
    "    options  = (limit_stack_depth = 500, )\n",
    "    model    = rotating(T, environment) \n",
    "    result   = inference(model = model, data = (y = observations, ), options = options);\n",
    "    e_states = extract_posteriors(T, result)\n",
    "    amse     = compute_amse(states, e_states)\n",
    "    \n",
    "    benchmark_modelcreation = @benchmark RxInfer.create_model(rotating($T, $(environment)))\n",
    "    \n",
    "    benchmark_inference = @benchmark inference(model = model, data = (y = observations, ), options = options) setup=begin\n",
    "        model = rotating($T, $(environment))\n",
    "        options  = (limit_stack_depth = 500, )\n",
    "        states, observations = rand(StableRNG($seed), $environment, $T);\n",
    "    end\n",
    "    \n",
    "    emse = compute_emse(seed) do _seed\n",
    "        local environment = RotatingTracking(d; rng = StableRNG(_seed))\n",
    "        local states, observations = rand(StableRNG(_seed), environment, T);\n",
    "        local options  = (limit_stack_depth = 500, )\n",
    "        local model    = rotating(T, environment) \n",
    "        local result   = inference(model = model, data = (y = observations, ), options = options);\n",
    "        local e_states = extract_posteriors(T, result)\n",
    "        return compute_amse(states, e_states)\n",
    "    end\n",
    "    \n",
    "    output = @strdict T d seed states e_states observations amse emse benchmark_modelcreation benchmark_inference\n",
    "    \n",
    "    return output\n",
    "end"
   ]
  },
  {
   "cell_type": "code",
   "execution_count": null,
   "id": "82c8701e",
   "metadata": {},
   "outputs": [],
   "source": [
    "# Here we create a list of parameters we want to run our benchmarks with\n",
    "benchmark_params = dict_list(Dict(\n",
    "    \"T\"    => [ 10, 20, 30, 50, 100, 200, 500, 1000, 2000, 5000, 10_000, 30_000, 50_000, 100_000 ],\n",
    "    \"d\"    => [ 2, 3, 4, 8, 16 ],\n",
    "    \"seed\" => [ 42 ]\n",
    "));"
   ]
  },
  {
   "cell_type": "code",
   "execution_count": null,
   "id": "7c12cc0f",
   "metadata": {},
   "outputs": [],
   "source": [
    "# First run maybe slow, you may track the progress in the terminal\n",
    "# Subsequent runs will not create new benchmarks \n",
    "# but will reload it from data folder\n",
    "benchmarks = map(benchmark_params) do params\n",
    "    result, _ = produce_or_load(run_benchmark, bfolder, params; tag = false, force = false)\n",
    "    return result\n",
    "end;"
   ]
  },
  {
   "cell_type": "code",
   "execution_count": null,
   "id": "5631ffe9",
   "metadata": {},
   "outputs": [],
   "source": [
    "benchmarks_table = sort(prepare_benchmarks_table(bfolder), [ :T ])"
   ]
  },
  {
   "cell_type": "markdown",
   "id": "d093d0f7",
   "metadata": {},
   "source": [
    "# Extra plots"
   ]
  },
  {
   "cell_type": "code",
   "execution_count": null,
   "id": "c6368ec9",
   "metadata": {},
   "outputs": [],
   "source": [
    "# `plotting`range\n",
    "colors = ColorSchemes.tableau_10\n",
    "\n",
    "# Some default settings for plotting\n",
    "pfontsettings = (\n",
    "    titlefontsize=18,\n",
    "    guidefontsize=16,\n",
    "    tickfontsize=14,\n",
    "    legendfontsize=14,\n",
    "    legend = :outertop,\n",
    "    legend_font_halign = :left,\n",
    "    legend_orientation=:h,\n",
    "    legend_column = 2,\n",
    "    size = (800, 300)\n",
    ")\n",
    "\n",
    "p1xticks = (\n",
    "    [ 10, 100, 1000, 10_000, 100_000 ],\n",
    "    [ L\"10^1\", L\"10^2\", L\"10^3\", L\"10^4\", L\"10^5\" ]\n",
    ")\n",
    "\n",
    "p1yticks = (\n",
    "    [ 0.1, 1.0, 10.0, 100, 1000, 10000 ], \n",
    "    [ L\"10^{-1}\", L\"10^{0}\", L\"10^{1}\", L\"10^{2}\", L\"10^{3}\", L\"10^{4}\" ]\n",
    ")\n",
    "\n",
    "p1 = plot(\n",
    "    xlabel = \"Number of observations in dataset (log10-scale)\", \n",
    "    ylabel = \"Time (in ms, log10-scale)\"; \n",
    "    xscale = :log10,\n",
    "    yscale = :log10,\n",
    "    xticks = p1xticks,\n",
    "    yticks = p1yticks,\n",
    "    ylims = (minimum(p1yticks[1]), maximum(p1yticks[1])),\n",
    "    pfontsettings...\n",
    ")\n",
    "\n",
    "nd = [ 2, 4, 8, 16 ];\n",
    "mshapes = [  :diamond, :circle, :rect, :utriangle ]\n",
    "styles = [ :solid, :dash, :dot, :dashdot ]\n",
    "\n",
    "for (index, (mshape, d)) in enumerate(zip(mshapes, nd))\n",
    "    filtered    = filter((r) -> r[\"d\"] == d, benchmarks_table)\n",
    "    sorted      = sort(filtered, [ :T ])\n",
    "    range       = map(f -> f[\"T\"], eachrow(sorted))\n",
    "    t_inference = map(f -> to_ms(f[\"inference\"][1] - f[\"inference\"][3]), eachrow(sorted))\n",
    "    \n",
    "    plot!(p1, range, t_inference, label = \"$d dimensional\", marker = mshape, color = colors[index], style = styles[index])\n",
    "end\n",
    "\n",
    "savefig(p1, joinpath(outdir, \"02-rxinfer_rotating_scalability_size.tex\"))\n",
    "savefig(p1, joinpath(outdir, \"02-rxinfer_rotating_scalability_size.pdf\"))\n",
    "\n",
    "##\n",
    "\n",
    "p2xticks = (\n",
    "    nd,\n",
    "    string.(nd)\n",
    ")\n",
    "\n",
    "p2yticks = (\n",
    "    [ 0.1, 1.0, 10.0, 100, 1000, 10_000 ], \n",
    "    [ L\"10^{-1}\", L\"10^{0}\", L\"10^{1}\", L\"10^{2}\", L\"10^{3}\", L\"10^{4}\" ]\n",
    ")\n",
    "\n",
    "p2 = plot(\n",
    "    xlabel = \"Number of dimensions\", \n",
    "    ylabel = \"Time (in ms, log10-scale)\"; \n",
    "    yscale = :log10,\n",
    "    xticks = p2xticks,\n",
    "    yticks = p2yticks,\n",
    "    ylims = (minimum(p2yticks[1]), maximum(p2yticks[1])),\n",
    "    pfontsettings...\n",
    ")\n",
    "\n",
    "# :diamond, :hexagon, :cross, :xcross, :utriangle, :dtriangle, :rtriangle, :ltriangle, :pentagon, :heptagon,\n",
    "\n",
    "Ts = [ 10, 1000, 10_000, 100_000 ];\n",
    "mshapes = [:utriangle, :dtriangle, :rtriangle, :ltriangle ]\n",
    "styles = [ :solid, :dash, :dot, :dashdot ]\n",
    "\n",
    "for (index, (mshape, T)) in enumerate(zip(mshapes, Ts))\n",
    "    filtered = filter((r) -> r[\"T\"] == T, benchmarks_table)\n",
    "    sorted      = filter((f) -> f[\"d\"] ∈ nd, (sort(filtered, [ :d ])))\n",
    "    range       = map(f -> f[\"d\"], eachrow(sorted))\n",
    "    t_inference = map(f -> to_ms(f[\"inference\"][1] - f[\"inference\"][3]), eachrow(sorted))\n",
    "    \n",
    "    plot!(p2, range, t_inference, label = \"$T observations\", marker = mshape, color = colors[index], style = styles[index])\n",
    "end\n",
    "\n",
    "savefig(p2, joinpath(outdir, \"02-rxinfer_rotating_scalability_dims.tex\"))\n",
    "savefig(p2, joinpath(outdir, \"02-rxinfer_rotating_scalability_dims.pdf\"))\n",
    "\n",
    "p = plot(p1, p2, size = (800, 600), layout = @layout([ a; b ]))\n",
    "\n",
    "display(\"image/png\", p)"
   ]
  },
  {
   "cell_type": "markdown",
   "id": "f3e815c8",
   "metadata": {},
   "source": [
    "# Versions"
   ]
  },
  {
   "cell_type": "code",
   "execution_count": null,
   "id": "9cb4dbcd",
   "metadata": {},
   "outputs": [],
   "source": [
    "versioninfo()"
   ]
  },
  {
   "cell_type": "code",
   "execution_count": null,
   "id": "d4c715ec",
   "metadata": {},
   "outputs": [],
   "source": [
    "] status"
   ]
  }
 ],
 "metadata": {
  "kernelspec": {
   "display_name": "Julia 1.9.2",
   "language": "julia",
   "name": "julia-1.9"
  },
  "language_info": {
   "file_extension": ".jl",
   "mimetype": "application/julia",
   "name": "julia",
   "version": "1.9.2"
  }
 },
 "nbformat": 4,
 "nbformat_minor": 5
}
