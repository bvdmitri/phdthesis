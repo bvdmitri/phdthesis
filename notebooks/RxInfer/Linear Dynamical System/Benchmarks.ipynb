{
 "cells": [
  {
   "cell_type": "markdown",
   "id": "55f33945",
   "metadata": {},
   "source": [
    "This notebook performs a comprehensive becnhmark suit for the inference procedure for the double pendulum system using the RxInfer framework.\n",
    "\n",
    "_Author: Dmitry Bagaev_"
   ]
  },
  {
   "cell_type": "code",
   "execution_count": null,
   "id": "f07b50d2",
   "metadata": {},
   "outputs": [],
   "source": [
    "using DrWatson"
   ]
  },
  {
   "cell_type": "code",
   "execution_count": null,
   "id": "2b399d37",
   "metadata": {},
   "outputs": [],
   "source": [
    "@quickactivate \"RxInferThesisExperiments\""
   ]
  },
  {
   "cell_type": "code",
   "execution_count": null,
   "id": "9ece426e",
   "metadata": {},
   "outputs": [],
   "source": [
    "using RxInferThesisExperiments, RxInfer, StaticArrays, Plots, PGFPlotsX, LaTeXStrings\n",
    "using LinearAlgebra, StableRNGs, Random, BenchmarkTools, ColorSchemes, Dates, DataFrames"
   ]
  },
  {
   "cell_type": "code",
   "execution_count": null,
   "id": "30e150a7",
   "metadata": {},
   "outputs": [],
   "source": [
    "const bfolder = datadir(\"lds\", \"rxinfer\")"
   ]
  },
  {
   "cell_type": "code",
   "execution_count": null,
   "id": "97d0009c",
   "metadata": {},
   "outputs": [],
   "source": [
    "# Pregenerate paths for benchmark data\n",
    "mkpath(bfolder);"
   ]
  },
  {
   "cell_type": "code",
   "execution_count": 6,
   "id": "e37f8c7b",
   "metadata": {},
   "outputs": [],
   "source": [
    "# Include the model specification\n",
    "include(srcdir(\"models\", \"rxinfer\", \"rotating.jl\"));"
   ]
  },
  {
   "cell_type": "code",
   "execution_count": 20,
   "id": "9a2c016a",
   "metadata": {},
   "outputs": [
    {
     "data": {
      "text/plain": [
       "run_benchmark (generic function with 1 method)"
      ]
     },
     "execution_count": 20,
     "metadata": {},
     "output_type": "execute_result"
    }
   ],
   "source": [
    "function run_benchmark(params)\n",
    "    @unpack T, d, seed = params\n",
    "    \n",
    "    environment = RotatingTracking(d; rng = StableRNG(seed))\n",
    "    \n",
    "    states, observations = rand(StableRNG(seed), environment, T);\n",
    "    model    = rotating(T, environment.A, environment.B, environment.P, environment.Q) \n",
    "    result   = inference(model = model, data = (y = observations, ));\n",
    "    e_states = extract_posteriors(T, result)\n",
    "    amse     = compute_amse(states, e_states)\n",
    "    \n",
    "    benchmark_modelcreation = @benchmark RxInfer.create_model(\n",
    "        rotating($T, $(environment.A), $(environment.B), $(environment.P), $(environment.Q))\n",
    "    )\n",
    "    \n",
    "    benchmark_inference = @benchmark inference(model = model, data = (y = observations, )) setup=begin\n",
    "        model = rotating($T, $(environment.A), $(environment.B), $(environment.P), $(environment.Q))\n",
    "        states, observations = rand(StableRNG($seed), $environment, $T);\n",
    "    end\n",
    "    \n",
    "    emse = compute_emse(seed) do _seed\n",
    "        local environment = RotatingTracking(d; rng = StableRNG(_seed))\n",
    "        local states, observations = rand(StableRNG(_seed), environment, T);\n",
    "        local model    = rotating(T, environment.A, environment.B, environment.P, environment.Q) \n",
    "        local result   = inference(model = model, data = (y = observations, ));\n",
    "        local e_states = extract_posteriors(T, result)\n",
    "        return compute_amse(states, e_states)\n",
    "    end\n",
    "    \n",
    "    output = @strdict T d seed states e_states observations amse emse benchmark_modelcreation benchmark_inference\n",
    "    \n",
    "    return output\n",
    "end"
   ]
  },
  {
   "cell_type": "code",
   "execution_count": 21,
   "id": "82c8701e",
   "metadata": {},
   "outputs": [],
   "source": [
    "# Here we create a list of parameters we want to run our benchmarks with\n",
    "benchmark_params = dict_list(Dict(\n",
    "    \"T\"    => [ 10, 20, 30 ],\n",
    "    \"d\"    => [ 2, 3, 4 ],\n",
    "    \"seed\" => [ 42 ]\n",
    "));"
   ]
  },
  {
   "cell_type": "code",
   "execution_count": 22,
   "id": "7c12cc0f",
   "metadata": {},
   "outputs": [
    {
     "name": "stderr",
     "output_type": "stream",
     "text": [
      "\u001b[36m\u001b[1m[ \u001b[22m\u001b[39m\u001b[36m\u001b[1mInfo: \u001b[22m\u001b[39mFile /Users/bvdmitri/.julia/dev/thesis/data/lds/rxinfer/T=10_d=2_seed=42.jld2 does not exist. Producing it now...\n",
      "\u001b[36m\u001b[1m[ \u001b[22m\u001b[39m\u001b[36m\u001b[1mInfo: \u001b[22m\u001b[39mFile /Users/bvdmitri/.julia/dev/thesis/data/lds/rxinfer/T=10_d=2_seed=42.jld2 saved.\n",
      "\u001b[36m\u001b[1m[ \u001b[22m\u001b[39m\u001b[36m\u001b[1mInfo: \u001b[22m\u001b[39mFile /Users/bvdmitri/.julia/dev/thesis/data/lds/rxinfer/T=20_d=2_seed=42.jld2 does not exist. Producing it now...\n",
      "\u001b[36m\u001b[1m[ \u001b[22m\u001b[39m\u001b[36m\u001b[1mInfo: \u001b[22m\u001b[39mFile /Users/bvdmitri/.julia/dev/thesis/data/lds/rxinfer/T=20_d=2_seed=42.jld2 saved.\n",
      "\u001b[36m\u001b[1m[ \u001b[22m\u001b[39m\u001b[36m\u001b[1mInfo: \u001b[22m\u001b[39mFile /Users/bvdmitri/.julia/dev/thesis/data/lds/rxinfer/T=30_d=2_seed=42.jld2 does not exist. Producing it now...\n",
      "\u001b[36m\u001b[1m[ \u001b[22m\u001b[39m\u001b[36m\u001b[1mInfo: \u001b[22m\u001b[39mFile /Users/bvdmitri/.julia/dev/thesis/data/lds/rxinfer/T=30_d=2_seed=42.jld2 saved.\n",
      "\u001b[36m\u001b[1m[ \u001b[22m\u001b[39m\u001b[36m\u001b[1mInfo: \u001b[22m\u001b[39mFile /Users/bvdmitri/.julia/dev/thesis/data/lds/rxinfer/T=10_d=3_seed=42.jld2 does not exist. Producing it now...\n",
      "\u001b[36m\u001b[1m[ \u001b[22m\u001b[39m\u001b[36m\u001b[1mInfo: \u001b[22m\u001b[39mFile /Users/bvdmitri/.julia/dev/thesis/data/lds/rxinfer/T=10_d=3_seed=42.jld2 saved.\n",
      "\u001b[36m\u001b[1m[ \u001b[22m\u001b[39m\u001b[36m\u001b[1mInfo: \u001b[22m\u001b[39mFile /Users/bvdmitri/.julia/dev/thesis/data/lds/rxinfer/T=20_d=3_seed=42.jld2 does not exist. Producing it now...\n",
      "\u001b[36m\u001b[1m[ \u001b[22m\u001b[39m\u001b[36m\u001b[1mInfo: \u001b[22m\u001b[39mFile /Users/bvdmitri/.julia/dev/thesis/data/lds/rxinfer/T=20_d=3_seed=42.jld2 saved.\n",
      "\u001b[36m\u001b[1m[ \u001b[22m\u001b[39m\u001b[36m\u001b[1mInfo: \u001b[22m\u001b[39mFile /Users/bvdmitri/.julia/dev/thesis/data/lds/rxinfer/T=30_d=3_seed=42.jld2 does not exist. Producing it now...\n",
      "\u001b[36m\u001b[1m[ \u001b[22m\u001b[39m\u001b[36m\u001b[1mInfo: \u001b[22m\u001b[39mFile /Users/bvdmitri/.julia/dev/thesis/data/lds/rxinfer/T=30_d=3_seed=42.jld2 saved.\n",
      "\u001b[36m\u001b[1m[ \u001b[22m\u001b[39m\u001b[36m\u001b[1mInfo: \u001b[22m\u001b[39mFile /Users/bvdmitri/.julia/dev/thesis/data/lds/rxinfer/T=10_d=4_seed=42.jld2 does not exist. Producing it now...\n",
      "\u001b[36m\u001b[1m[ \u001b[22m\u001b[39m\u001b[36m\u001b[1mInfo: \u001b[22m\u001b[39mFile /Users/bvdmitri/.julia/dev/thesis/data/lds/rxinfer/T=10_d=4_seed=42.jld2 saved.\n",
      "\u001b[36m\u001b[1m[ \u001b[22m\u001b[39m\u001b[36m\u001b[1mInfo: \u001b[22m\u001b[39mFile /Users/bvdmitri/.julia/dev/thesis/data/lds/rxinfer/T=20_d=4_seed=42.jld2 does not exist. Producing it now...\n",
      "\u001b[36m\u001b[1m[ \u001b[22m\u001b[39m\u001b[36m\u001b[1mInfo: \u001b[22m\u001b[39mFile /Users/bvdmitri/.julia/dev/thesis/data/lds/rxinfer/T=20_d=4_seed=42.jld2 saved.\n",
      "\u001b[36m\u001b[1m[ \u001b[22m\u001b[39m\u001b[36m\u001b[1mInfo: \u001b[22m\u001b[39mFile /Users/bvdmitri/.julia/dev/thesis/data/lds/rxinfer/T=30_d=4_seed=42.jld2 does not exist. Producing it now...\n",
      "\u001b[36m\u001b[1m[ \u001b[22m\u001b[39m\u001b[36m\u001b[1mInfo: \u001b[22m\u001b[39mFile /Users/bvdmitri/.julia/dev/thesis/data/lds/rxinfer/T=30_d=4_seed=42.jld2 saved.\n"
     ]
    }
   ],
   "source": [
    "# First run maybe slow, you may track the progress in the terminal\n",
    "# Subsequent runs will not create new benchmarks \n",
    "# but will reload it from data folder\n",
    "benchmarks = map(benchmark_params) do params\n",
    "    result, _ = produce_or_load(run_benchmark, bfolder, params; tag = false, force = false)\n",
    "    return result\n",
    "end;"
   ]
  },
  {
   "cell_type": "code",
   "execution_count": 23,
   "id": "5631ffe9",
   "metadata": {},
   "outputs": [
    {
     "name": "stderr",
     "output_type": "stream",
     "text": [
      "\u001b[36m\u001b[1m[ \u001b[22m\u001b[39m\u001b[36m\u001b[1mInfo: \u001b[22m\u001b[39mScanning folder /Users/bvdmitri/.julia/dev/thesis/data/lds/rxinfer for result files.\n",
      "\u001b[36m\u001b[1m[ \u001b[22m\u001b[39m\u001b[36m\u001b[1mInfo: \u001b[22m\u001b[39mAdded 9 entries.\n"
     ]
    },
    {
     "data": {
      "text/html": [
       "<div><div style = \"float: left;\"><span>9×7 DataFrame</span></div><div style = \"clear: both;\"></div></div><div class = \"data-frame\" style = \"overflow-x: scroll;\"><table class = \"data-frame\" style = \"margin-bottom: 6px;\"><thead><tr class = \"header\"><th class = \"rowNumber\" style = \"font-weight: bold; text-align: right;\">Row</th><th style = \"text-align: left;\">T</th><th style = \"text-align: left;\">seed</th><th style = \"text-align: left;\">amse</th><th style = \"text-align: left;\">emse</th><th style = \"text-align: left;\">d</th><th style = \"text-align: left;\">inference</th><th style = \"text-align: left;\">creation</th></tr><tr class = \"subheader headerLastRow\"><th class = \"rowNumber\" style = \"font-weight: bold; text-align: right;\"></th><th title = \"Union{Missing, Int64}\" style = \"text-align: left;\">Int64?</th><th title = \"Union{Missing, Int64}\" style = \"text-align: left;\">Int64?</th><th title = \"Union{Missing, Float64}\" style = \"text-align: left;\">Float64?</th><th title = \"Union{Missing, Float64}\" style = \"text-align: left;\">Float64?</th><th title = \"Union{Missing, Int64}\" style = \"text-align: left;\">Int64?</th><th title = \"Union{Missing, Tuple{Float64, Float64, Float64}}\" style = \"text-align: left;\">Tuple…?</th><th title = \"Union{Missing, Tuple{Float64, Float64, Float64}}\" style = \"text-align: left;\">Tuple…?</th></tr></thead><tbody><tr><td class = \"rowNumber\" style = \"font-weight: bold; text-align: right;\">1</td><td style = \"text-align: right;\">10</td><td style = \"text-align: right;\">42</td><td style = \"text-align: right;\">2.86929</td><td style = \"text-align: right;\">3.0056</td><td style = \"text-align: right;\">2</td><td style = \"text-align: left;\">(478039.0, 6.01472e5, 0.0)</td><td style = \"text-align: left;\">(268252.0, 3.27595e5, 0.0)</td></tr><tr><td class = \"rowNumber\" style = \"font-weight: bold; text-align: right;\">2</td><td style = \"text-align: right;\">10</td><td style = \"text-align: right;\">42</td><td style = \"text-align: right;\">6.20435</td><td style = \"text-align: right;\">5.05071</td><td style = \"text-align: right;\">3</td><td style = \"text-align: left;\">(495958.0, 6.61558e5, 0.0)</td><td style = \"text-align: left;\">(271351.0, 3.36511e5, 0.0)</td></tr><tr><td class = \"rowNumber\" style = \"font-weight: bold; text-align: right;\">3</td><td style = \"text-align: right;\">10</td><td style = \"text-align: right;\">42</td><td style = \"text-align: right;\">8.26762</td><td style = \"text-align: right;\">7.27321</td><td style = \"text-align: right;\">4</td><td style = \"text-align: left;\">(503738.0, 6.21188e5, 0.0)</td><td style = \"text-align: left;\">(281630.0, 3.41754e5, 0.0)</td></tr><tr><td class = \"rowNumber\" style = \"font-weight: bold; text-align: right;\">4</td><td style = \"text-align: right;\">20</td><td style = \"text-align: right;\">42</td><td style = \"text-align: right;\">2.39577</td><td style = \"text-align: right;\">2.8861</td><td style = \"text-align: right;\">2</td><td style = \"text-align: left;\">(872111.0, 1.09723e6, 0.0)</td><td style = \"text-align: left;\">(544051.0, 6.85527e5, 0.0)</td></tr><tr><td class = \"rowNumber\" style = \"font-weight: bold; text-align: right;\">5</td><td style = \"text-align: right;\">20</td><td style = \"text-align: right;\">42</td><td style = \"text-align: right;\">5.79446</td><td style = \"text-align: right;\">4.75019</td><td style = \"text-align: right;\">3</td><td style = \"text-align: left;\">(898363.0, 1.14944e6, 0.0)</td><td style = \"text-align: left;\">(545144.0, 6.72641e5, 0.0)</td></tr><tr><td class = \"rowNumber\" style = \"font-weight: bold; text-align: right;\">6</td><td style = \"text-align: right;\">20</td><td style = \"text-align: right;\">42</td><td style = \"text-align: right;\">9.47466</td><td style = \"text-align: right;\">6.80874</td><td style = \"text-align: right;\">4</td><td style = \"text-align: left;\">(902094.0, 1.17514e6, 0.0)</td><td style = \"text-align: left;\">(543943.0, 6.68297e5, 0.0)</td></tr><tr><td class = \"rowNumber\" style = \"font-weight: bold; text-align: right;\">7</td><td style = \"text-align: right;\">30</td><td style = \"text-align: right;\">42</td><td style = \"text-align: right;\">2.53304</td><td style = \"text-align: right;\">2.82393</td><td style = \"text-align: right;\">2</td><td style = \"text-align: left;\">(1.25838e6, 1.66868e6, 0.0)</td><td style = \"text-align: left;\">(822724.0, 9.89953e5, 0.0)</td></tr><tr><td class = \"rowNumber\" style = \"font-weight: bold; text-align: right;\">8</td><td style = \"text-align: right;\">30</td><td style = \"text-align: right;\">42</td><td style = \"text-align: right;\">5.46539</td><td style = \"text-align: right;\">4.71851</td><td style = \"text-align: right;\">3</td><td style = \"text-align: left;\">(1.30129e6, 1.68622e6, 0.0)</td><td style = \"text-align: left;\">(820213.0, 1.04938e6, 0.0)</td></tr><tr><td class = \"rowNumber\" style = \"font-weight: bold; text-align: right;\">9</td><td style = \"text-align: right;\">30</td><td style = \"text-align: right;\">42</td><td style = \"text-align: right;\">9.16515</td><td style = \"text-align: right;\">6.78131</td><td style = \"text-align: right;\">4</td><td style = \"text-align: left;\">(1.31446e6, 1.7064e6, 0.0)</td><td style = \"text-align: left;\">(808137.0, 1.04167e6, 0.0)</td></tr></tbody></table></div>"
      ],
      "text/latex": [
       "\\begin{tabular}{r|ccccccc}\n",
       "\t& T & seed & amse & emse & d & inference & creation\\\\\n",
       "\t\\hline\n",
       "\t& Int64? & Int64? & Float64? & Float64? & Int64? & Tuple…? & Tuple…?\\\\\n",
       "\t\\hline\n",
       "\t1 & 10 & 42 & 2.86929 & 3.0056 & 2 & (478039.0, 6.01472e5, 0.0) & (268252.0, 3.27595e5, 0.0) \\\\\n",
       "\t2 & 10 & 42 & 6.20435 & 5.05071 & 3 & (495958.0, 6.61558e5, 0.0) & (271351.0, 3.36511e5, 0.0) \\\\\n",
       "\t3 & 10 & 42 & 8.26762 & 7.27321 & 4 & (503738.0, 6.21188e5, 0.0) & (281630.0, 3.41754e5, 0.0) \\\\\n",
       "\t4 & 20 & 42 & 2.39577 & 2.8861 & 2 & (872111.0, 1.09723e6, 0.0) & (544051.0, 6.85527e5, 0.0) \\\\\n",
       "\t5 & 20 & 42 & 5.79446 & 4.75019 & 3 & (898363.0, 1.14944e6, 0.0) & (545144.0, 6.72641e5, 0.0) \\\\\n",
       "\t6 & 20 & 42 & 9.47466 & 6.80874 & 4 & (902094.0, 1.17514e6, 0.0) & (543943.0, 6.68297e5, 0.0) \\\\\n",
       "\t7 & 30 & 42 & 2.53304 & 2.82393 & 2 & (1.25838e6, 1.66868e6, 0.0) & (822724.0, 9.89953e5, 0.0) \\\\\n",
       "\t8 & 30 & 42 & 5.46539 & 4.71851 & 3 & (1.30129e6, 1.68622e6, 0.0) & (820213.0, 1.04938e6, 0.0) \\\\\n",
       "\t9 & 30 & 42 & 9.16515 & 6.78131 & 4 & (1.31446e6, 1.7064e6, 0.0) & (808137.0, 1.04167e6, 0.0) \\\\\n",
       "\\end{tabular}\n"
      ],
      "text/plain": [
       "\u001b[1m9×7 DataFrame\u001b[0m\n",
       "\u001b[1m Row \u001b[0m│\u001b[1m T      \u001b[0m\u001b[1m seed   \u001b[0m\u001b[1m amse     \u001b[0m\u001b[1m emse     \u001b[0m\u001b[1m d      \u001b[0m\u001b[1m inference                  \u001b[0m ⋯\n",
       "     │\u001b[90m Int64? \u001b[0m\u001b[90m Int64? \u001b[0m\u001b[90m Float64? \u001b[0m\u001b[90m Float64? \u001b[0m\u001b[90m Int64? \u001b[0m\u001b[90m Tuple…?                    \u001b[0m ⋯\n",
       "─────┼──────────────────────────────────────────────────────────────────────────\n",
       "   1 │     10      42   2.86929   3.0056        2  (478039.0, 6.01472e5, 0.0)  ⋯\n",
       "   2 │     10      42   6.20435   5.05071       3  (495958.0, 6.61558e5, 0.0)\n",
       "   3 │     10      42   8.26762   7.27321       4  (503738.0, 6.21188e5, 0.0)\n",
       "   4 │     20      42   2.39577   2.8861        2  (872111.0, 1.09723e6, 0.0)\n",
       "   5 │     20      42   5.79446   4.75019       3  (898363.0, 1.14944e6, 0.0)  ⋯\n",
       "   6 │     20      42   9.47466   6.80874       4  (902094.0, 1.17514e6, 0.0)\n",
       "   7 │     30      42   2.53304   2.82393       2  (1.25838e6, 1.66868e6, 0.0)\n",
       "   8 │     30      42   5.46539   4.71851       3  (1.30129e6, 1.68622e6, 0.0)\n",
       "   9 │     30      42   9.16515   6.78131       4  (1.31446e6, 1.7064e6, 0.0)  ⋯\n",
       "\u001b[36m                                                                1 column omitted\u001b[0m"
      ]
     },
     "execution_count": 23,
     "metadata": {},
     "output_type": "execute_result"
    }
   ],
   "source": [
    "sort(prepare_benchmarks_table(bfolder), [ :T ])"
   ]
  },
  {
   "cell_type": "markdown",
   "id": "f3e815c8",
   "metadata": {},
   "source": [
    "# Versions"
   ]
  },
  {
   "cell_type": "code",
   "execution_count": 11,
   "id": "9cb4dbcd",
   "metadata": {},
   "outputs": [
    {
     "name": "stdout",
     "output_type": "stream",
     "text": [
      "Julia Version 1.9.0\n",
      "Commit 8e630552924 (2023-05-07 11:25 UTC)\n",
      "Platform Info:\n",
      "  OS: macOS (x86_64-apple-darwin22.4.0)\n",
      "  CPU: 12 × Intel(R) Core(TM) i7-8850H CPU @ 2.60GHz\n",
      "  WORD_SIZE: 64\n",
      "  LIBM: libopenlibm\n",
      "  LLVM: libLLVM-14.0.6 (ORCJIT, skylake)\n",
      "  Threads: 2 on 12 virtual cores\n"
     ]
    }
   ],
   "source": [
    "versioninfo()"
   ]
  },
  {
   "cell_type": "code",
   "execution_count": 12,
   "id": "d4c715ec",
   "metadata": {},
   "outputs": [
    {
     "name": "stdout",
     "output_type": "stream",
     "text": [
      "\u001b[36m\u001b[1mProject\u001b[22m\u001b[39m RxInferThesisExperiments v1.0.0\n",
      "\u001b[32m\u001b[1mStatus\u001b[22m\u001b[39m `~/.julia/dev/thesis/Project.toml`\n",
      "  \u001b[90m[b5ca4192] \u001b[39mAdvancedVI v0.2.3\n",
      "  \u001b[90m[6e4b80f9] \u001b[39mBenchmarkTools v1.3.2\n",
      "  \u001b[90m[76274a88] \u001b[39mBijectors v0.12.4\n",
      "  \u001b[90m[35d6a980] \u001b[39mColorSchemes v3.21.0\n",
      "  \u001b[90m[a93c6f00] \u001b[39mDataFrames v1.5.0\n",
      "  \u001b[90m[31c24e10] \u001b[39mDistributions v0.25.95\n",
      "  \u001b[90m[634d3b9d] \u001b[39mDrWatson v2.12.5\n",
      "  \u001b[90m[442a2c76] \u001b[39mFastGaussQuadrature v0.5.1\n",
      "  \u001b[90m[9fc3f58a] \u001b[39mForneyLab v0.12.0\n",
      "  \u001b[90m[f6369f11] \u001b[39mForwardDiff v0.10.35\n",
      "  \u001b[90m[14197337] \u001b[39mGenericLinearAlgebra v0.3.11\n",
      "  \u001b[90m[19dc6840] \u001b[39mHCubature v1.5.1\n",
      "  \u001b[90m[7073ff75] \u001b[39mIJulia v1.24.0\n",
      "  \u001b[90m[b964fa9f] \u001b[39mLaTeXStrings v1.3.0\n",
      "  \u001b[90m[bdcacae8] \u001b[39mLoopVectorization v0.12.159\n",
      "  \u001b[90m[3bd65402] \u001b[39mOptimisers v0.2.18\n",
      "  \u001b[90m[8314cec4] \u001b[39mPGFPlotsX v1.6.0\n",
      "  \u001b[90m[e4faabce] \u001b[39mPProf v2.2.2\n",
      "  \u001b[90m[91a5bcdd] \u001b[39mPlots v1.38.15\n",
      "  \u001b[90m[92933f4c] \u001b[39mProgressMeter v1.7.2\n",
      "  \u001b[90m[37e2e3b7] \u001b[39mReverseDiff v1.14.6\n",
      "  \u001b[90m[86711068] \u001b[39mRxInfer v2.11.0\n",
      "  \u001b[90m[860ef19b] \u001b[39mStableRNGs v1.0.0\n",
      "  \u001b[90m[aedffcd0] \u001b[39mStatic v0.8.7\n",
      "  \u001b[90m[90137ffa] \u001b[39mStaticArrays v1.5.25\n",
      "\u001b[33m⌅\u001b[39m \u001b[90m[2913bbd2] \u001b[39mStatsBase v0.33.21\n",
      "  \u001b[90m[4c63d2b9] \u001b[39mStatsFuns v1.3.0\n",
      "  \u001b[90m[fce5fe82] \u001b[39mTuring v0.25.1\n",
      "  \u001b[90m[37e2e46d] \u001b[39mLinearAlgebra\n",
      "  \u001b[90m[9a3f8284] \u001b[39mRandom\n",
      "\u001b[36m\u001b[1mInfo\u001b[22m\u001b[39m Packages marked with \u001b[33m⌅\u001b[39m have new versions available but compatibility constraints restrict them from upgrading. To see why use `status --outdated`\n"
     ]
    }
   ],
   "source": [
    "] status"
   ]
  },
  {
   "cell_type": "code",
   "execution_count": null,
   "id": "532a4155",
   "metadata": {},
   "outputs": [],
   "source": []
  }
 ],
 "metadata": {
  "kernelspec": {
   "display_name": "Julia 1.9.0",
   "language": "julia",
   "name": "julia-1.9"
  },
  "language_info": {
   "file_extension": ".jl",
   "mimetype": "application/julia",
   "name": "julia",
   "version": "1.9.0"
  }
 },
 "nbformat": 4,
 "nbformat_minor": 5
}
