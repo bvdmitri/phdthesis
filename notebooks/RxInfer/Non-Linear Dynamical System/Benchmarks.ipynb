{
 "cells": [
  {
   "cell_type": "markdown",
   "id": "55f33945",
   "metadata": {},
   "source": [
    "This notebook performs a comprehensive becnhmark suit for the inference procedure for the double pendulum system using the RxInfer framework.\n",
    "\n",
    "_Author: Dmitry Bagaev_"
   ]
  },
  {
   "cell_type": "code",
   "execution_count": null,
   "id": "f07b50d2",
   "metadata": {},
   "outputs": [],
   "source": [
    "using DrWatson"
   ]
  },
  {
   "cell_type": "code",
   "execution_count": null,
   "id": "2b399d37",
   "metadata": {},
   "outputs": [],
   "source": [
    "@quickactivate \"RxInferThesisExperiments\""
   ]
  },
  {
   "cell_type": "code",
   "execution_count": null,
   "id": "9ece426e",
   "metadata": {},
   "outputs": [],
   "source": [
    "using RxInferThesisExperiments, RxInfer, StaticArrays, Plots, PGFPlotsX, LaTeXStrings\n",
    "using LinearAlgebra, StableRNGs, Random, BenchmarkTools, ColorSchemes, Dates, DataFrames"
   ]
  },
  {
   "cell_type": "code",
   "execution_count": null,
   "id": "30e150a7",
   "metadata": {},
   "outputs": [],
   "source": [
    "const bfolder = datadir(\"nlds\", \"rxinfer\")"
   ]
  },
  {
   "cell_type": "code",
   "execution_count": null,
   "id": "97d0009c",
   "metadata": {},
   "outputs": [],
   "source": [
    "# Pregenerate paths for benchmark data\n",
    "mkpath(bfolder);"
   ]
  },
  {
   "cell_type": "code",
   "execution_count": null,
   "id": "fd138f2a",
   "metadata": {},
   "outputs": [],
   "source": [
    "# Create default environment with default parameters\n",
    "const environment = DoublePendulum()"
   ]
  },
  {
   "cell_type": "code",
   "execution_count": null,
   "id": "c1aab6ce",
   "metadata": {},
   "outputs": [],
   "source": [
    "# Define state-transition function, uses RK4 method internally, see the `src/` folder\n",
    "f(state) = state_transition(environment)(state)"
   ]
  },
  {
   "cell_type": "code",
   "execution_count": null,
   "id": "e37f8c7b",
   "metadata": {},
   "outputs": [],
   "source": [
    "# Include the model specification\n",
    "include(srcdir(\"models\", \"rxinfer\", \"doublependulum.jl\"));"
   ]
  },
  {
   "cell_type": "code",
   "execution_count": null,
   "id": "9a2c016a",
   "metadata": {},
   "outputs": [],
   "source": [
    "function run_benchmark(params)\n",
    "    @unpack T, niterations, seed = params\n",
    "    \n",
    "    states, observations = rand(StableRNG(seed), environment, T);\n",
    "    model    = double_pendulum(T)\n",
    "    result   = run_inference(model, observations; iterations = niterations)\n",
    "    e_states = extract_posteriors(T, result)\n",
    "    amse     = compute_amse(states, e_states)\n",
    "    \n",
    "    benchmark_modelcreation = @benchmark RxInfer.create_model(double_pendulum($T), \n",
    "        meta = double_pendulum_meta(), \n",
    "        constraints = double_pendulum_constraints(),\n",
    "    )\n",
    "    \n",
    "    benchmark_inference = @benchmark run_inference(model, observations; iterations = $niterations) setup=begin\n",
    "        model = double_pendulum($T)\n",
    "        states, observations = rand(StableRNG($seed), environment, $T);\n",
    "    end\n",
    "    \n",
    "    emse = compute_emse(seed) do _seed\n",
    "        local states, observations = rand(StableRNG(_seed), environment, T; random_start = true);\n",
    "        local model    = double_pendulum(T)\n",
    "        local result   = run_inference(model, observations; iterations = niterations)\n",
    "        local e_states = extract_posteriors(T, result)\n",
    "        return compute_amse(states, e_states)\n",
    "    end\n",
    "    \n",
    "    output = @strdict T niterations seed states e_states observations amse emse benchmark_modelcreation benchmark_inference\n",
    "    \n",
    "    return output\n",
    "end"
   ]
  },
  {
   "cell_type": "code",
   "execution_count": null,
   "id": "82c8701e",
   "metadata": {},
   "outputs": [],
   "source": [
    "# Here we create a list of parameters we want to run our benchmarks with\n",
    "benchmark_params = dict_list(Dict(\n",
    "    \"T\"           => [ 10, 20, 30, 50, 100, 200, 300, 500, 1_000, 2_000, 5_000, 10_000, 20_000 ],\n",
    "    \"niterations\" => [ 3, 5, 10, 20 ],\n",
    "    \"seed\"        => [ 42 ]\n",
    "));"
   ]
  },
  {
   "cell_type": "code",
   "execution_count": null,
   "id": "7c12cc0f",
   "metadata": {},
   "outputs": [],
   "source": [
    "# First run maybe slow, you may track the progress in the terminal\n",
    "# Subsequent runs will not create new benchmarks \n",
    "# but will reload it from data folder\n",
    "benchmarks = map(benchmark_params) do params\n",
    "    result, _ = produce_or_load(run_benchmark, bfolder, params; tag = false, force = false)\n",
    "    return result\n",
    "end;"
   ]
  },
  {
   "cell_type": "code",
   "execution_count": null,
   "id": "5631ffe9",
   "metadata": {},
   "outputs": [],
   "source": [
    "benchmarks_table = sort(prepare_benchmarks_table(bfolder), [ :T ])"
   ]
  },
  {
   "cell_type": "markdown",
   "id": "52bd8ee0",
   "metadata": {},
   "source": [
    "# Extra plots"
   ]
  },
  {
   "cell_type": "code",
   "execution_count": null,
   "id": "67383d93",
   "metadata": {},
   "outputs": [],
   "source": [
    "pgfplotsx()"
   ]
  },
  {
   "cell_type": "code",
   "execution_count": null,
   "id": "1379a48a",
   "metadata": {},
   "outputs": [],
   "source": [
    "# `plotting`range\n",
    "colors = ColorSchemes.tableau_10\n",
    "\n",
    "# Some default settings for plotting\n",
    "pfontsettings = (\n",
    "    titlefontsize=18,\n",
    "    guidefontsize=16,\n",
    "    tickfontsize=14,\n",
    "    legendfontsize=14,\n",
    "    legend = :outerright,\n",
    "    legend_font_halign = :left,\n",
    "    size = (800, 300)\n",
    ")\n",
    "\n",
    "p1xticks = (benchmarks_table.T, string.(benchmarks_table.T))\n",
    "\n",
    "p1yticks = (\n",
    "    [ 1, 3, 5, 10, 20, 50, 100, 200, 500, 1000, 2000, 5_000, 10_000, 30_000, 50_000 ], \n",
    "    [ \"1\", \"3\", \"5\", \"10\", \"20\", \"50\", \"100\", \"200\", \"500\", \"1e3\", \"2e3\", \"5e3\", \"1e4\", \"3e4\", \"5e4\" ]\n",
    ")\n",
    "\n",
    "p1 = plot(\n",
    "    xlabel = \"Number of observations in dataset (log10-scale)\", \n",
    "    ylabel = \"Time (in ms, log10-scale)\"; \n",
    "    xscale = :log10,\n",
    "    yscale = :log10,\n",
    "    xticks = p1xticks,\n",
    "    yticks = p1yticks,\n",
    "    pfontsettings...\n",
    ")\n",
    "\n",
    "nitrs = [ 3, 5, 10, 20 ];\n",
    "mshapes = [ :utriangle, :diamond, :pentagon ]\n",
    "\n",
    "for (index, (mshape, nitr)) in enumerate(zip(mshapes, nitrs))\n",
    "    filtered = filter((r) -> r[\"niterations\"] == nitr, benchmarks_table)\n",
    "    sorted      = sort(filtered, [ :T ])\n",
    "    range       = map(f -> f[\"T\"], eachrow(sorted))\n",
    "    t_inference = map(f -> to_ms(f[\"inference\"][1] - f[\"inference\"][3]), eachrow(sorted))\n",
    "    \n",
    "    plot!(p1, range, t_inference, label = \"Reactive MP inference ($nitr iterations)\", marker = mshape, color = colors[index])\n",
    "end\n",
    "\n",
    "##\n",
    "\n",
    "p2xticks = (\n",
    "    [ 3, 5, 10, 20 ],\n",
    "    string.([ 3, 5, 10, 20 ])\n",
    ")\n",
    "\n",
    "p2yticks = (\n",
    "    [ 1, 5, 20, 100, 300, 1000, 3_000, 10_000, 3e4, 1e5 ], \n",
    "    [ \"1\", \"5\", \"20\", \"100\", \"300\", \"1e3\", \"3e3\", \"1e4\", \"3e4\", \"1e5\" ]\n",
    ")\n",
    "\n",
    "p2 = plot(\n",
    "    xlabel = \"Number of performed variational iterations (log10-scale)\", \n",
    "    ylabel = \"Time (in ms, log10-scale)\"; \n",
    "    xscale = :log10,\n",
    "    yscale = :log10,\n",
    "    xticks = p2xticks,\n",
    "    yticks = p2yticks,\n",
    "    pfontsettings...\n",
    ")\n",
    "\n",
    "Ts = [ 10, 100, 1000, 10_000 ];\n",
    "mshapes = [ :utriangle, :diamond, :pentagon, :circle ]\n",
    "\n",
    "for (index, (mshape, T)) in enumerate(zip(mshapes, Ts))\n",
    "    filtered = filter((r) -> r[\"T\"] == T, benchmarks_table)\n",
    "    sorted      = sort(filtered, [ :niterations ])\n",
    "    range       = map(f -> f[\"niterations\"], eachrow(sorted))\n",
    "    t_inference = map(f -> to_ms(f[\"inference\"][1] - f[\"inference\"][3]), eachrow(sorted))\n",
    "    \n",
    "    plot!(p2, range, t_inference, label = \"Reactive MP inference ($T observations)\", marker = mshape, color = colors[index])\n",
    "end\n",
    "\n",
    "plot(p1, p2, size = (800, 600), layout = @layout([ a; b ]))"
   ]
  },
  {
   "cell_type": "markdown",
   "id": "f3e815c8",
   "metadata": {},
   "source": [
    "# Versions"
   ]
  },
  {
   "cell_type": "code",
   "execution_count": null,
   "id": "9cb4dbcd",
   "metadata": {},
   "outputs": [],
   "source": [
    "versioninfo()"
   ]
  },
  {
   "cell_type": "code",
   "execution_count": null,
   "id": "d4c715ec",
   "metadata": {},
   "outputs": [],
   "source": [
    "] status"
   ]
  },
  {
   "cell_type": "code",
   "execution_count": null,
   "id": "532a4155",
   "metadata": {},
   "outputs": [],
   "source": []
  }
 ],
 "metadata": {
  "kernelspec": {
   "display_name": "Julia 1.9.0",
   "language": "julia",
   "name": "julia-1.9"
  },
  "language_info": {
   "file_extension": ".jl",
   "mimetype": "application/julia",
   "name": "julia",
   "version": "1.9.0"
  }
 },
 "nbformat": 4,
 "nbformat_minor": 5
}
