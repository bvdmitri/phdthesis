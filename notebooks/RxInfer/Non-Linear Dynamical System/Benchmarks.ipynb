{
 "cells": [
  {
   "cell_type": "markdown",
   "id": "55f33945",
   "metadata": {},
   "source": [
    "_Author: Dmitry Bagaev_"
   ]
  },
  {
   "cell_type": "code",
   "execution_count": null,
   "id": "f07b50d2",
   "metadata": {},
   "outputs": [],
   "source": [
    "using DrWatson"
   ]
  },
  {
   "cell_type": "code",
   "execution_count": null,
   "id": "2b399d37",
   "metadata": {},
   "outputs": [],
   "source": [
    "@quickactivate \"RxInferThesisExperiments\""
   ]
  },
  {
   "cell_type": "code",
   "execution_count": null,
   "id": "9ece426e",
   "metadata": {},
   "outputs": [],
   "source": [
    "using RxInferThesisExperiments, RxInfer, StaticArrays, Plots, PGFPlotsX, LaTeXStrings\n",
    "using LinearAlgebra, StableRNGs, Random, BenchmarkTools, ColorSchemes, Dates, DataFrames"
   ]
  },
  {
   "cell_type": "code",
   "execution_count": null,
   "id": "30e150a7",
   "metadata": {},
   "outputs": [],
   "source": [
    "const bfolder = datadir(\"nlds\", \"rxinfer\")\n",
    "const outdir = plotsdir(\"nlds\")"
   ]
  },
  {
   "cell_type": "code",
   "execution_count": null,
   "id": "89aff27e-6520-40b8-ad01-a2c856c730a4",
   "metadata": {},
   "outputs": [],
   "source": [
    "pgfplotsx()"
   ]
  },
  {
   "cell_type": "code",
   "execution_count": null,
   "id": "97d0009c",
   "metadata": {},
   "outputs": [],
   "source": [
    "# Pregenerate paths for benchmark data\n",
    "mkpath(bfolder);\n",
    "mkpath(outdir)"
   ]
  },
  {
   "cell_type": "code",
   "execution_count": null,
   "id": "fd138f2a",
   "metadata": {},
   "outputs": [],
   "source": [
    "# Create default environment with default parameters\n",
    "# We reduce the time-step and noise a little bit to test for very large models\n",
    "# Otherwise the systems is too unstable and leads to NaNs\n",
    "const environment = DoublePendulum(Δt = 0.0001, γ = 0.1)"
   ]
  },
  {
   "cell_type": "code",
   "execution_count": null,
   "id": "c1aab6ce",
   "metadata": {},
   "outputs": [],
   "source": [
    "# Define state-transition function, uses RK4 method internally, see the `src/` folder\n",
    "f(state) = state_transition(environment)(state)"
   ]
  },
  {
   "cell_type": "code",
   "execution_count": null,
   "id": "e37f8c7b",
   "metadata": {},
   "outputs": [],
   "source": [
    "# Include the model specification\n",
    "include(srcdir(\"models\", \"rxinfer\", \"doublependulum.jl\"));"
   ]
  },
  {
   "cell_type": "code",
   "execution_count": null,
   "id": "9a2c016a",
   "metadata": {},
   "outputs": [],
   "source": [
    "function run_benchmark(params)\n",
    "    @unpack T, niterations, seed = params\n",
    "    \n",
    "    states, observations = rand(StableRNG(seed), environment, T);\n",
    "    model    = double_pendulum(T)\n",
    "    result   = run_inference(model, observations; iterations = niterations)\n",
    "    e_states = extract_posteriors(T, result)\n",
    "    amse     = compute_amse(states, e_states)\n",
    "    \n",
    "    benchmark_modelcreation = @benchmark RxInfer.create_model(double_pendulum($T), \n",
    "        meta = double_pendulum_meta(), \n",
    "        constraints = double_pendulum_constraints(),\n",
    "    )\n",
    "    \n",
    "    benchmark_inference = @benchmark run_inference(model, observations; iterations = $niterations) setup=begin\n",
    "        model = double_pendulum($T)\n",
    "        states, observations = rand(StableRNG($seed), environment, $T);\n",
    "    end\n",
    "    \n",
    "    emse = compute_emse(seed) do _seed\n",
    "        local states, observations = rand(StableRNG(_seed), environment, T; random_start = true);\n",
    "        local model    = double_pendulum(T)\n",
    "        local result   = run_inference(model, observations; iterations = niterations)\n",
    "        local e_states = extract_posteriors(T, result)\n",
    "        return compute_amse(states, e_states)\n",
    "    end\n",
    "    \n",
    "    output = @strdict T niterations seed states e_states observations amse emse benchmark_modelcreation benchmark_inference\n",
    "    \n",
    "    return output\n",
    "end"
   ]
  },
  {
   "cell_type": "code",
   "execution_count": null,
   "id": "82c8701e",
   "metadata": {},
   "outputs": [],
   "source": [
    "# Here we create a list of parameters we want to run our benchmarks with\n",
    "benchmark_params = dict_list(Dict(\n",
    "    \"T\"           => [ 10, 20, 30, 50, 100, 200, 500, 1000, 2000, 5000, 10_000, 30_000, 50_000, 100_000 ],\n",
    "    \"niterations\" => [ 3, 5, 10, 20 ],\n",
    "    \"seed\"        => [ 42 ]\n",
    "));"
   ]
  },
  {
   "cell_type": "code",
   "execution_count": null,
   "id": "7c12cc0f",
   "metadata": {},
   "outputs": [],
   "source": [
    "# First run maybe slow, you may track the progress in the terminal\n",
    "# Subsequent runs will not create new benchmarks \n",
    "# but will reload it from data folder\n",
    "benchmarks = map(benchmark_params) do params\n",
    "    result, _ = produce_or_load(run_benchmark, bfolder, params; tag = false, force = false)\n",
    "    return result\n",
    "end;"
   ]
  },
  {
   "cell_type": "code",
   "execution_count": null,
   "id": "5631ffe9",
   "metadata": {},
   "outputs": [],
   "source": [
    "benchmarks_table = sort(prepare_benchmarks_table(bfolder), [ :T ])"
   ]
  },
  {
   "cell_type": "markdown",
   "id": "52bd8ee0",
   "metadata": {},
   "source": [
    "# Extra plots"
   ]
  },
  {
   "cell_type": "code",
   "execution_count": null,
   "id": "1379a48a",
   "metadata": {},
   "outputs": [],
   "source": [
    "# `plotting`range\n",
    "colors = ColorSchemes.tableau_10\n",
    "\n",
    "# Some default settings for plotting\n",
    "pfontsettings = (\n",
    "    titlefontsize=18,\n",
    "    guidefontsize=16,\n",
    "    tickfontsize=14,\n",
    "    legendfontsize=14,\n",
    "    legend = :outertop,\n",
    "    legend_font_halign = :left,\n",
    "    legend_orientation=:h,\n",
    "    legend_column = 2,\n",
    "    size = (800, 300)\n",
    ")\n",
    "\n",
    "p1xticks = (\n",
    "    [ 10, 100, 1000, 10_000, 100_000 ],\n",
    "    [ L\"10^1\", L\"10^2\", L\"10^3\", L\"10^4\", L\"10^5\" ]\n",
    ")\n",
    "\n",
    "p1yticks = (\n",
    "    [ 0.1, 1.0, 10.0, 100, 1000, 10000, 100000 ], \n",
    "    [ L\"10^{-1}\", L\"10^{0}\", L\"10^{1}\", L\"10^{2}\", L\"10^{3}\", L\"10^{4}\", L\"10^{5}\" ]\n",
    ")\n",
    "\n",
    "p1 = plot(\n",
    "    xlabel = \"Number of observations in dataset (log10-scale)\", \n",
    "    ylabel = \"Time (in ms, log10-scale)\"; \n",
    "    xscale = :log10,\n",
    "    yscale = :log10,\n",
    "    xticks = p1xticks,\n",
    "    yticks = p1yticks,\n",
    "    ylims = (minimum(p1yticks[1]), maximum(p1yticks[1])),\n",
    "    pfontsettings...\n",
    ")\n",
    "\n",
    "nits = [ 3, 5, 10, 20 ];\n",
    "mshapes = [  :diamond, :circle, :rect, :utriangle ]\n",
    "styles = [ :solid, :dash, :dot, :dashdot ]\n",
    "\n",
    "for (index, (mshape, nit)) in enumerate(zip(mshapes, nits))\n",
    "    filtered    = filter((r) -> r[\"niterations\"] == nit, benchmarks_table)\n",
    "    sorted      = sort(filtered, [ :T ])\n",
    "    range       = map(f -> f[\"T\"], eachrow(sorted))\n",
    "    t_inference = map(f -> to_ms(f[\"inference\"][1] - f[\"inference\"][3]), eachrow(sorted))\n",
    "    \n",
    "    plot!(p1, range, t_inference, label = \"$nit iterations\", marker = mshape, color = colors[index], style = styles[index])\n",
    "end\n",
    "\n",
    "savefig(p1, joinpath(outdir, \"03-rxinfer_double_pendulum_scalability_size.tex\"))\n",
    "\n",
    "##\n",
    "\n",
    "p2xticks = (\n",
    "    nits,\n",
    "    string.(nits)\n",
    ")\n",
    "\n",
    "p2yticks = (\n",
    "    [ 0.1, 1.0, 10.0, 100, 1000, 10_000, 100_000 ], \n",
    "    [ L\"10^{-1}\", L\"10^{0}\", L\"10^{1}\", L\"10^{2}\", L\"10^{3}\", L\"10^{4}\", L\"10^{5}\" ]\n",
    ")\n",
    "\n",
    "p2 = plot(\n",
    "    xlabel = \"Number of iterations\", \n",
    "    ylabel = \"Time (in ms, log10-scale)\"; \n",
    "    yscale = :log10,\n",
    "    xticks = p2xticks,\n",
    "    yticks = p2yticks,\n",
    "    ylims = (minimum(p2yticks[1]), maximum(p2yticks[1])),\n",
    "    pfontsettings...\n",
    ")\n",
    "\n",
    "# :diamond, :hexagon, :cross, :xcross, :utriangle, :dtriangle, :rtriangle, :ltriangle, :pentagon, :heptagon,\n",
    "\n",
    "Ts = [ 10, 1000, 10_000, 100_000 ];\n",
    "mshapes = [:utriangle, :dtriangle, :rtriangle, :ltriangle ]\n",
    "styles = [ :solid, :dash, :dot, :dashdot ]\n",
    "\n",
    "for (index, (mshape, T)) in enumerate(zip(mshapes, Ts))\n",
    "    filtered = filter((r) -> r[\"T\"] == T, benchmarks_table)\n",
    "    sorted      = filter((f) -> f[\"niterations\"] ∈ nits, (sort(filtered, [ :niterations ])))\n",
    "    range       = map(f -> f[\"niterations\"], eachrow(sorted))\n",
    "    t_inference = map(f -> to_ms(f[\"inference\"][1] - f[\"inference\"][3]), eachrow(sorted))\n",
    "    \n",
    "    plot!(p2, range, t_inference, label = \"$T observations\", marker = mshape, color = colors[index], style = styles[index])\n",
    "end\n",
    "\n",
    "savefig(p2, joinpath(outdir, \"03-rxinfer_double_pendulum_scalability_nits.tex\"))\n",
    "\n",
    "p = plot(p1, p2, size = (800, 600), layout = @layout([ a; b ]))\n",
    "\n",
    "display(\"image/png\", p)"
   ]
  },
  {
   "cell_type": "markdown",
   "id": "f3e815c8",
   "metadata": {},
   "source": [
    "# Versions"
   ]
  },
  {
   "cell_type": "code",
   "execution_count": null,
   "id": "9cb4dbcd",
   "metadata": {},
   "outputs": [],
   "source": [
    "versioninfo()"
   ]
  },
  {
   "cell_type": "code",
   "execution_count": null,
   "id": "d4c715ec",
   "metadata": {},
   "outputs": [],
   "source": [
    "] status"
   ]
  },
  {
   "cell_type": "code",
   "execution_count": null,
   "id": "0ae54d23-f945-49ea-b02b-0155ccfe0fae",
   "metadata": {},
   "outputs": [],
   "source": []
  }
 ],
 "metadata": {
  "kernelspec": {
   "display_name": "Julia 1.9.0",
   "language": "julia",
   "name": "julia-1.9"
  },
  "language_info": {
   "file_extension": ".jl",
   "mimetype": "application/julia",
   "name": "julia",
   "version": "1.9.0"
  }
 },
 "nbformat": 4,
 "nbformat_minor": 5
}
