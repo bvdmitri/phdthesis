{
 "cells": [
  {
   "cell_type": "markdown",
   "id": "55f33945",
   "metadata": {},
   "source": [
    "This notebook performs a comprehensive becnhmark suit for the inference procedure for the double pendulum system using the RxInfer framework.\n",
    "\n",
    "_Author: Dmitry Bagaev_"
   ]
  },
  {
   "cell_type": "code",
   "execution_count": 26,
   "id": "f07b50d2",
   "metadata": {},
   "outputs": [],
   "source": [
    "using DrWatson"
   ]
  },
  {
   "cell_type": "code",
   "execution_count": 27,
   "id": "2b399d37",
   "metadata": {},
   "outputs": [],
   "source": [
    "@quickactivate \"RxInferThesisExperiments\""
   ]
  },
  {
   "cell_type": "code",
   "execution_count": 28,
   "id": "9ece426e",
   "metadata": {},
   "outputs": [],
   "source": [
    "using RxInferThesisExperiments, Turing, StaticArrays, Plots, PGFPlotsX, LaTeXStrings\n",
    "using LinearAlgebra, StableRNGs, Random, BenchmarkTools, ColorSchemes, Dates, DataFrames, Logging"
   ]
  },
  {
   "cell_type": "code",
   "execution_count": 29,
   "id": "f2d66e3d",
   "metadata": {},
   "outputs": [
    {
     "name": "stderr",
     "output_type": "stream",
     "text": [
      "\u001b[36m\u001b[1m[ \u001b[22m\u001b[39m\u001b[36m\u001b[1mInfo: \u001b[22m\u001b[39m[Turing]: progress logging is disabled globally\n",
      "\u001b[36m\u001b[1m[ \u001b[22m\u001b[39m\u001b[36m\u001b[1mInfo: \u001b[22m\u001b[39m[AdvancedVI]: global PROGRESS is set as false\n"
     ]
    },
    {
     "data": {
      "text/plain": [
       "false"
      ]
     },
     "execution_count": 29,
     "metadata": {},
     "output_type": "execute_result"
    }
   ],
   "source": [
    "Turing.setprogress!(false)"
   ]
  },
  {
   "cell_type": "code",
   "execution_count": 30,
   "id": "30e150a7",
   "metadata": {},
   "outputs": [
    {
     "data": {
      "text/plain": [
       "\"/Users/bvdmitri/.julia/dev/RxInferThesisExperiments/data/lds/turing\""
      ]
     },
     "execution_count": 30,
     "metadata": {},
     "output_type": "execute_result"
    }
   ],
   "source": [
    "const bfolder = datadir(\"lds\", \"turing\")"
   ]
  },
  {
   "cell_type": "code",
   "execution_count": 31,
   "id": "97d0009c",
   "metadata": {},
   "outputs": [],
   "source": [
    "# Pregenerate paths for benchmark data\n",
    "mkpath(bfolder);"
   ]
  },
  {
   "cell_type": "code",
   "execution_count": 32,
   "id": "e37f8c7b",
   "metadata": {},
   "outputs": [],
   "source": [
    "# Include the model specification\n",
    "include(srcdir(\"models\", \"turing\", \"rotating.jl\"));"
   ]
  },
  {
   "cell_type": "code",
   "execution_count": 33,
   "id": "9a2c016a",
   "metadata": {},
   "outputs": [
    {
     "data": {
      "text/plain": [
       "run_benchmark (generic function with 1 method)"
      ]
     },
     "execution_count": 33,
     "metadata": {},
     "output_type": "execute_result"
    }
   ],
   "source": [
    "function run_benchmark(params)\n",
    "    return with_logger(NullLogger()) do\n",
    "        @unpack T, d, nsamples, seed = params\n",
    "\n",
    "        environment = RotatingTracking(d; rng = StableRNG(seed))\n",
    "\n",
    "        states, observations = rand(StableRNG(seed), environment, T);\n",
    "        model    = rotating(observations, environment.A, environment.B, environment.P, environment.Q) \n",
    "        result   = run_inference_sampling(model; nsamples = nsamples, rng = StableRNG(seed));\n",
    "        e_states = extract_posteriors(T, environment.d, result)\n",
    "        amse     = compute_amse(states, e_states)\n",
    "\n",
    "        benchmark_modelcreation = @benchmark rotating($observations, $(environment.A), $(environment.B), $(environment.P), $(environment.Q))\n",
    "\n",
    "\n",
    "        benchmark_inference = @benchmark run_inference_sampling(model; nsamples = $nsamples, rng = StableRNG($seed)) setup=begin\n",
    "            model = rotating($observations, $(environment.A), $(environment.B), $(environment.P), $(environment.Q))\n",
    "            states, observations = rand(StableRNG($seed), $environment, $T);\n",
    "        end\n",
    "\n",
    "        emse = compute_emse(seed) do _seed\n",
    "            local environment = RotatingTracking(d; rng = StableRNG(_seed))\n",
    "            local states, observations = rand(StableRNG(_seed), environment, T);\n",
    "            local model    = rotating(observations, environment.A, environment.B, environment.P, environment.Q) \n",
    "            local result   = run_inference_sampling(model; nsamples = nsamples, rng = StableRNG(_seed))\n",
    "            local e_states = extract_posteriors(T, environment.d, result)\n",
    "            return compute_amse(states, e_states)\n",
    "        end\n",
    "\n",
    "        output = @strdict T d nsamples seed states e_states observations amse emse benchmark_modelcreation benchmark_inference\n",
    "\n",
    "        return output\n",
    "    end\n",
    "end"
   ]
  },
  {
   "cell_type": "code",
   "execution_count": 34,
   "id": "82c8701e",
   "metadata": {},
   "outputs": [],
   "source": [
    "# Here we create a list of parameters we want to run our benchmarks with\n",
    "benchmark_params = dict_list(Dict(\n",
    "    \"T\"    => [ 10, 20, 30, 100, 200 ],\n",
    "    \"d\"    => [ 2, 3, 4 ],\n",
    "    \"nsamples\" => [ 100, 200, 300 ],\n",
    "    \"seed\" => [ 42 ]\n",
    "));"
   ]
  },
  {
   "cell_type": "code",
   "execution_count": 35,
   "id": "7c12cc0f",
   "metadata": {},
   "outputs": [
    {
     "name": "stderr",
     "output_type": "stream",
     "text": [
      "\u001b[36m\u001b[1m[ \u001b[22m\u001b[39m\u001b[36m\u001b[1mInfo: \u001b[22m\u001b[39mFile /Users/bvdmitri/.julia/dev/RxInferThesisExperiments/data/lds/turing/T=30_d=2_nsamples=200_seed=42.jld2 does not exist. Producing it now...\n",
      "\u001b[36m\u001b[1m[ \u001b[22m\u001b[39m\u001b[36m\u001b[1mInfo: \u001b[22m\u001b[39mFile /Users/bvdmitri/.julia/dev/RxInferThesisExperiments/data/lds/turing/T=30_d=2_nsamples=200_seed=42.jld2 saved.\n",
      "\u001b[36m\u001b[1m[ \u001b[22m\u001b[39m\u001b[36m\u001b[1mInfo: \u001b[22m\u001b[39mFile /Users/bvdmitri/.julia/dev/RxInferThesisExperiments/data/lds/turing/T=100_d=2_nsamples=200_seed=42.jld2 does not exist. Producing it now...\n",
      "\u001b[36m\u001b[1m[ \u001b[22m\u001b[39m\u001b[36m\u001b[1mInfo: \u001b[22m\u001b[39mFile /Users/bvdmitri/.julia/dev/RxInferThesisExperiments/data/lds/turing/T=100_d=2_nsamples=200_seed=42.jld2 saved.\n",
      "\u001b[36m\u001b[1m[ \u001b[22m\u001b[39m\u001b[36m\u001b[1mInfo: \u001b[22m\u001b[39mFile /Users/bvdmitri/.julia/dev/RxInferThesisExperiments/data/lds/turing/T=200_d=2_nsamples=200_seed=42.jld2 does not exist. Producing it now...\n",
      "\u001b[36m\u001b[1m[ \u001b[22m\u001b[39m\u001b[36m\u001b[1mInfo: \u001b[22m\u001b[39mFile /Users/bvdmitri/.julia/dev/RxInferThesisExperiments/data/lds/turing/T=200_d=2_nsamples=200_seed=42.jld2 saved.\n",
      "\u001b[36m\u001b[1m[ \u001b[22m\u001b[39m\u001b[36m\u001b[1mInfo: \u001b[22m\u001b[39mFile /Users/bvdmitri/.julia/dev/RxInferThesisExperiments/data/lds/turing/T=10_d=2_nsamples=300_seed=42.jld2 does not exist. Producing it now...\n",
      "\u001b[36m\u001b[1m[ \u001b[22m\u001b[39m\u001b[36m\u001b[1mInfo: \u001b[22m\u001b[39mFile /Users/bvdmitri/.julia/dev/RxInferThesisExperiments/data/lds/turing/T=10_d=2_nsamples=300_seed=42.jld2 saved.\n",
      "\u001b[36m\u001b[1m[ \u001b[22m\u001b[39m\u001b[36m\u001b[1mInfo: \u001b[22m\u001b[39mFile /Users/bvdmitri/.julia/dev/RxInferThesisExperiments/data/lds/turing/T=20_d=2_nsamples=300_seed=42.jld2 does not exist. Producing it now...\n",
      "\u001b[36m\u001b[1m[ \u001b[22m\u001b[39m\u001b[36m\u001b[1mInfo: \u001b[22m\u001b[39mFile /Users/bvdmitri/.julia/dev/RxInferThesisExperiments/data/lds/turing/T=20_d=2_nsamples=300_seed=42.jld2 saved.\n",
      "\u001b[36m\u001b[1m[ \u001b[22m\u001b[39m\u001b[36m\u001b[1mInfo: \u001b[22m\u001b[39mFile /Users/bvdmitri/.julia/dev/RxInferThesisExperiments/data/lds/turing/T=30_d=2_nsamples=300_seed=42.jld2 does not exist. Producing it now...\n",
      "\u001b[36m\u001b[1m[ \u001b[22m\u001b[39m\u001b[36m\u001b[1mInfo: \u001b[22m\u001b[39mFile /Users/bvdmitri/.julia/dev/RxInferThesisExperiments/data/lds/turing/T=30_d=2_nsamples=300_seed=42.jld2 saved.\n",
      "\u001b[36m\u001b[1m[ \u001b[22m\u001b[39m\u001b[36m\u001b[1mInfo: \u001b[22m\u001b[39mFile /Users/bvdmitri/.julia/dev/RxInferThesisExperiments/data/lds/turing/T=100_d=2_nsamples=300_seed=42.jld2 does not exist. Producing it now...\n",
      "\u001b[36m\u001b[1m[ \u001b[22m\u001b[39m\u001b[36m\u001b[1mInfo: \u001b[22m\u001b[39mFile /Users/bvdmitri/.julia/dev/RxInferThesisExperiments/data/lds/turing/T=100_d=2_nsamples=300_seed=42.jld2 saved.\n",
      "\u001b[36m\u001b[1m[ \u001b[22m\u001b[39m\u001b[36m\u001b[1mInfo: \u001b[22m\u001b[39mFile /Users/bvdmitri/.julia/dev/RxInferThesisExperiments/data/lds/turing/T=200_d=2_nsamples=300_seed=42.jld2 does not exist. Producing it now...\n",
      "\u001b[36m\u001b[1m[ \u001b[22m\u001b[39m\u001b[36m\u001b[1mInfo: \u001b[22m\u001b[39mFile /Users/bvdmitri/.julia/dev/RxInferThesisExperiments/data/lds/turing/T=200_d=2_nsamples=300_seed=42.jld2 saved.\n",
      "\u001b[36m\u001b[1m[ \u001b[22m\u001b[39m\u001b[36m\u001b[1mInfo: \u001b[22m\u001b[39mFile /Users/bvdmitri/.julia/dev/RxInferThesisExperiments/data/lds/turing/T=10_d=3_nsamples=100_seed=42.jld2 does not exist. Producing it now...\n",
      "\u001b[36m\u001b[1m[ \u001b[22m\u001b[39m\u001b[36m\u001b[1mInfo: \u001b[22m\u001b[39mFile /Users/bvdmitri/.julia/dev/RxInferThesisExperiments/data/lds/turing/T=10_d=3_nsamples=100_seed=42.jld2 saved.\n",
      "\u001b[36m\u001b[1m[ \u001b[22m\u001b[39m\u001b[36m\u001b[1mInfo: \u001b[22m\u001b[39mFile /Users/bvdmitri/.julia/dev/RxInferThesisExperiments/data/lds/turing/T=20_d=3_nsamples=100_seed=42.jld2 does not exist. Producing it now...\n",
      "\u001b[36m\u001b[1m[ \u001b[22m\u001b[39m\u001b[36m\u001b[1mInfo: \u001b[22m\u001b[39mFile /Users/bvdmitri/.julia/dev/RxInferThesisExperiments/data/lds/turing/T=20_d=3_nsamples=100_seed=42.jld2 saved.\n",
      "\u001b[36m\u001b[1m[ \u001b[22m\u001b[39m\u001b[36m\u001b[1mInfo: \u001b[22m\u001b[39mFile /Users/bvdmitri/.julia/dev/RxInferThesisExperiments/data/lds/turing/T=30_d=3_nsamples=100_seed=42.jld2 does not exist. Producing it now...\n",
      "\u001b[36m\u001b[1m[ \u001b[22m\u001b[39m\u001b[36m\u001b[1mInfo: \u001b[22m\u001b[39mFile /Users/bvdmitri/.julia/dev/RxInferThesisExperiments/data/lds/turing/T=30_d=3_nsamples=100_seed=42.jld2 saved.\n",
      "\u001b[36m\u001b[1m[ \u001b[22m\u001b[39m\u001b[36m\u001b[1mInfo: \u001b[22m\u001b[39mFile /Users/bvdmitri/.julia/dev/RxInferThesisExperiments/data/lds/turing/T=100_d=3_nsamples=100_seed=42.jld2 does not exist. Producing it now...\n",
      "\u001b[36m\u001b[1m[ \u001b[22m\u001b[39m\u001b[36m\u001b[1mInfo: \u001b[22m\u001b[39mFile /Users/bvdmitri/.julia/dev/RxInferThesisExperiments/data/lds/turing/T=100_d=3_nsamples=100_seed=42.jld2 saved.\n",
      "\u001b[36m\u001b[1m[ \u001b[22m\u001b[39m\u001b[36m\u001b[1mInfo: \u001b[22m\u001b[39mFile /Users/bvdmitri/.julia/dev/RxInferThesisExperiments/data/lds/turing/T=200_d=3_nsamples=100_seed=42.jld2 does not exist. Producing it now...\n",
      "\u001b[36m\u001b[1m[ \u001b[22m\u001b[39m\u001b[36m\u001b[1mInfo: \u001b[22m\u001b[39mFile /Users/bvdmitri/.julia/dev/RxInferThesisExperiments/data/lds/turing/T=200_d=3_nsamples=100_seed=42.jld2 saved.\n",
      "\u001b[36m\u001b[1m[ \u001b[22m\u001b[39m\u001b[36m\u001b[1mInfo: \u001b[22m\u001b[39mFile /Users/bvdmitri/.julia/dev/RxInferThesisExperiments/data/lds/turing/T=10_d=3_nsamples=200_seed=42.jld2 does not exist. Producing it now...\n",
      "\u001b[36m\u001b[1m[ \u001b[22m\u001b[39m\u001b[36m\u001b[1mInfo: \u001b[22m\u001b[39mFile /Users/bvdmitri/.julia/dev/RxInferThesisExperiments/data/lds/turing/T=10_d=3_nsamples=200_seed=42.jld2 saved.\n",
      "\u001b[36m\u001b[1m[ \u001b[22m\u001b[39m\u001b[36m\u001b[1mInfo: \u001b[22m\u001b[39mFile /Users/bvdmitri/.julia/dev/RxInferThesisExperiments/data/lds/turing/T=20_d=3_nsamples=200_seed=42.jld2 does not exist. Producing it now...\n",
      "\u001b[36m\u001b[1m[ \u001b[22m\u001b[39m\u001b[36m\u001b[1mInfo: \u001b[22m\u001b[39mFile /Users/bvdmitri/.julia/dev/RxInferThesisExperiments/data/lds/turing/T=20_d=3_nsamples=200_seed=42.jld2 saved.\n",
      "\u001b[36m\u001b[1m[ \u001b[22m\u001b[39m\u001b[36m\u001b[1mInfo: \u001b[22m\u001b[39mFile /Users/bvdmitri/.julia/dev/RxInferThesisExperiments/data/lds/turing/T=30_d=3_nsamples=200_seed=42.jld2 does not exist. Producing it now...\n",
      "\u001b[36m\u001b[1m[ \u001b[22m\u001b[39m\u001b[36m\u001b[1mInfo: \u001b[22m\u001b[39mFile /Users/bvdmitri/.julia/dev/RxInferThesisExperiments/data/lds/turing/T=30_d=3_nsamples=200_seed=42.jld2 saved.\n",
      "\u001b[36m\u001b[1m[ \u001b[22m\u001b[39m\u001b[36m\u001b[1mInfo: \u001b[22m\u001b[39mFile /Users/bvdmitri/.julia/dev/RxInferThesisExperiments/data/lds/turing/T=100_d=3_nsamples=200_seed=42.jld2 does not exist. Producing it now...\n",
      "\u001b[36m\u001b[1m[ \u001b[22m\u001b[39m\u001b[36m\u001b[1mInfo: \u001b[22m\u001b[39mFile /Users/bvdmitri/.julia/dev/RxInferThesisExperiments/data/lds/turing/T=100_d=3_nsamples=200_seed=42.jld2 saved.\n",
      "\u001b[36m\u001b[1m[ \u001b[22m\u001b[39m\u001b[36m\u001b[1mInfo: \u001b[22m\u001b[39mFile /Users/bvdmitri/.julia/dev/RxInferThesisExperiments/data/lds/turing/T=200_d=3_nsamples=200_seed=42.jld2 does not exist. Producing it now...\n",
      "\u001b[36m\u001b[1m[ \u001b[22m\u001b[39m\u001b[36m\u001b[1mInfo: \u001b[22m\u001b[39mFile /Users/bvdmitri/.julia/dev/RxInferThesisExperiments/data/lds/turing/T=200_d=3_nsamples=200_seed=42.jld2 saved.\n",
      "\u001b[36m\u001b[1m[ \u001b[22m\u001b[39m\u001b[36m\u001b[1mInfo: \u001b[22m\u001b[39mFile /Users/bvdmitri/.julia/dev/RxInferThesisExperiments/data/lds/turing/T=10_d=3_nsamples=300_seed=42.jld2 does not exist. Producing it now...\n",
      "\u001b[36m\u001b[1m[ \u001b[22m\u001b[39m\u001b[36m\u001b[1mInfo: \u001b[22m\u001b[39mFile /Users/bvdmitri/.julia/dev/RxInferThesisExperiments/data/lds/turing/T=10_d=3_nsamples=300_seed=42.jld2 saved.\n",
      "\u001b[36m\u001b[1m[ \u001b[22m\u001b[39m\u001b[36m\u001b[1mInfo: \u001b[22m\u001b[39mFile /Users/bvdmitri/.julia/dev/RxInferThesisExperiments/data/lds/turing/T=20_d=3_nsamples=300_seed=42.jld2 does not exist. Producing it now...\n",
      "\u001b[36m\u001b[1m[ \u001b[22m\u001b[39m\u001b[36m\u001b[1mInfo: \u001b[22m\u001b[39mFile /Users/bvdmitri/.julia/dev/RxInferThesisExperiments/data/lds/turing/T=20_d=3_nsamples=300_seed=42.jld2 saved.\n",
      "\u001b[36m\u001b[1m[ \u001b[22m\u001b[39m\u001b[36m\u001b[1mInfo: \u001b[22m\u001b[39mFile /Users/bvdmitri/.julia/dev/RxInferThesisExperiments/data/lds/turing/T=30_d=3_nsamples=300_seed=42.jld2 does not exist. Producing it now...\n",
      "\u001b[36m\u001b[1m[ \u001b[22m\u001b[39m\u001b[36m\u001b[1mInfo: \u001b[22m\u001b[39mFile /Users/bvdmitri/.julia/dev/RxInferThesisExperiments/data/lds/turing/T=30_d=3_nsamples=300_seed=42.jld2 saved.\n",
      "\u001b[36m\u001b[1m[ \u001b[22m\u001b[39m\u001b[36m\u001b[1mInfo: \u001b[22m\u001b[39mFile /Users/bvdmitri/.julia/dev/RxInferThesisExperiments/data/lds/turing/T=100_d=3_nsamples=300_seed=42.jld2 does not exist. Producing it now...\n",
      "\u001b[36m\u001b[1m[ \u001b[22m\u001b[39m\u001b[36m\u001b[1mInfo: \u001b[22m\u001b[39mFile /Users/bvdmitri/.julia/dev/RxInferThesisExperiments/data/lds/turing/T=100_d=3_nsamples=300_seed=42.jld2 saved.\n",
      "\u001b[36m\u001b[1m[ \u001b[22m\u001b[39m\u001b[36m\u001b[1mInfo: \u001b[22m\u001b[39mFile /Users/bvdmitri/.julia/dev/RxInferThesisExperiments/data/lds/turing/T=200_d=3_nsamples=300_seed=42.jld2 does not exist. Producing it now...\n",
      "\u001b[36m\u001b[1m[ \u001b[22m\u001b[39m\u001b[36m\u001b[1mInfo: \u001b[22m\u001b[39mFile /Users/bvdmitri/.julia/dev/RxInferThesisExperiments/data/lds/turing/T=200_d=3_nsamples=300_seed=42.jld2 saved.\n",
      "\u001b[36m\u001b[1m[ \u001b[22m\u001b[39m\u001b[36m\u001b[1mInfo: \u001b[22m\u001b[39mFile /Users/bvdmitri/.julia/dev/RxInferThesisExperiments/data/lds/turing/T=10_d=4_nsamples=100_seed=42.jld2 does not exist. Producing it now...\n",
      "\u001b[36m\u001b[1m[ \u001b[22m\u001b[39m\u001b[36m\u001b[1mInfo: \u001b[22m\u001b[39mFile /Users/bvdmitri/.julia/dev/RxInferThesisExperiments/data/lds/turing/T=10_d=4_nsamples=100_seed=42.jld2 saved.\n"
     ]
    },
    {
     "name": "stderr",
     "output_type": "stream",
     "text": [
      "\u001b[36m\u001b[1m[ \u001b[22m\u001b[39m\u001b[36m\u001b[1mInfo: \u001b[22m\u001b[39mFile /Users/bvdmitri/.julia/dev/RxInferThesisExperiments/data/lds/turing/T=20_d=4_nsamples=100_seed=42.jld2 does not exist. Producing it now...\n",
      "\u001b[36m\u001b[1m[ \u001b[22m\u001b[39m\u001b[36m\u001b[1mInfo: \u001b[22m\u001b[39mFile /Users/bvdmitri/.julia/dev/RxInferThesisExperiments/data/lds/turing/T=20_d=4_nsamples=100_seed=42.jld2 saved.\n",
      "\u001b[36m\u001b[1m[ \u001b[22m\u001b[39m\u001b[36m\u001b[1mInfo: \u001b[22m\u001b[39mFile /Users/bvdmitri/.julia/dev/RxInferThesisExperiments/data/lds/turing/T=30_d=4_nsamples=100_seed=42.jld2 does not exist. Producing it now...\n",
      "\u001b[36m\u001b[1m[ \u001b[22m\u001b[39m\u001b[36m\u001b[1mInfo: \u001b[22m\u001b[39mFile /Users/bvdmitri/.julia/dev/RxInferThesisExperiments/data/lds/turing/T=30_d=4_nsamples=100_seed=42.jld2 saved.\n",
      "\u001b[36m\u001b[1m[ \u001b[22m\u001b[39m\u001b[36m\u001b[1mInfo: \u001b[22m\u001b[39mFile /Users/bvdmitri/.julia/dev/RxInferThesisExperiments/data/lds/turing/T=100_d=4_nsamples=100_seed=42.jld2 does not exist. Producing it now...\n",
      "\u001b[36m\u001b[1m[ \u001b[22m\u001b[39m\u001b[36m\u001b[1mInfo: \u001b[22m\u001b[39mFile /Users/bvdmitri/.julia/dev/RxInferThesisExperiments/data/lds/turing/T=100_d=4_nsamples=100_seed=42.jld2 saved.\n",
      "\u001b[36m\u001b[1m[ \u001b[22m\u001b[39m\u001b[36m\u001b[1mInfo: \u001b[22m\u001b[39mFile /Users/bvdmitri/.julia/dev/RxInferThesisExperiments/data/lds/turing/T=200_d=4_nsamples=100_seed=42.jld2 does not exist. Producing it now...\n",
      "\u001b[36m\u001b[1m[ \u001b[22m\u001b[39m\u001b[36m\u001b[1mInfo: \u001b[22m\u001b[39mFile /Users/bvdmitri/.julia/dev/RxInferThesisExperiments/data/lds/turing/T=200_d=4_nsamples=100_seed=42.jld2 saved.\n",
      "\u001b[36m\u001b[1m[ \u001b[22m\u001b[39m\u001b[36m\u001b[1mInfo: \u001b[22m\u001b[39mFile /Users/bvdmitri/.julia/dev/RxInferThesisExperiments/data/lds/turing/T=10_d=4_nsamples=200_seed=42.jld2 does not exist. Producing it now...\n",
      "\u001b[36m\u001b[1m[ \u001b[22m\u001b[39m\u001b[36m\u001b[1mInfo: \u001b[22m\u001b[39mFile /Users/bvdmitri/.julia/dev/RxInferThesisExperiments/data/lds/turing/T=10_d=4_nsamples=200_seed=42.jld2 saved.\n",
      "\u001b[36m\u001b[1m[ \u001b[22m\u001b[39m\u001b[36m\u001b[1mInfo: \u001b[22m\u001b[39mFile /Users/bvdmitri/.julia/dev/RxInferThesisExperiments/data/lds/turing/T=20_d=4_nsamples=200_seed=42.jld2 does not exist. Producing it now...\n",
      "\u001b[36m\u001b[1m[ \u001b[22m\u001b[39m\u001b[36m\u001b[1mInfo: \u001b[22m\u001b[39mFile /Users/bvdmitri/.julia/dev/RxInferThesisExperiments/data/lds/turing/T=20_d=4_nsamples=200_seed=42.jld2 saved.\n",
      "\u001b[36m\u001b[1m[ \u001b[22m\u001b[39m\u001b[36m\u001b[1mInfo: \u001b[22m\u001b[39mFile /Users/bvdmitri/.julia/dev/RxInferThesisExperiments/data/lds/turing/T=30_d=4_nsamples=200_seed=42.jld2 does not exist. Producing it now...\n",
      "\u001b[36m\u001b[1m[ \u001b[22m\u001b[39m\u001b[36m\u001b[1mInfo: \u001b[22m\u001b[39mFile /Users/bvdmitri/.julia/dev/RxInferThesisExperiments/data/lds/turing/T=30_d=4_nsamples=200_seed=42.jld2 saved.\n",
      "\u001b[36m\u001b[1m[ \u001b[22m\u001b[39m\u001b[36m\u001b[1mInfo: \u001b[22m\u001b[39mFile /Users/bvdmitri/.julia/dev/RxInferThesisExperiments/data/lds/turing/T=100_d=4_nsamples=200_seed=42.jld2 does not exist. Producing it now...\n",
      "\u001b[36m\u001b[1m[ \u001b[22m\u001b[39m\u001b[36m\u001b[1mInfo: \u001b[22m\u001b[39mFile /Users/bvdmitri/.julia/dev/RxInferThesisExperiments/data/lds/turing/T=100_d=4_nsamples=200_seed=42.jld2 saved.\n",
      "\u001b[36m\u001b[1m[ \u001b[22m\u001b[39m\u001b[36m\u001b[1mInfo: \u001b[22m\u001b[39mFile /Users/bvdmitri/.julia/dev/RxInferThesisExperiments/data/lds/turing/T=200_d=4_nsamples=200_seed=42.jld2 does not exist. Producing it now...\n",
      "\u001b[36m\u001b[1m[ \u001b[22m\u001b[39m\u001b[36m\u001b[1mInfo: \u001b[22m\u001b[39mFile /Users/bvdmitri/.julia/dev/RxInferThesisExperiments/data/lds/turing/T=200_d=4_nsamples=200_seed=42.jld2 saved.\n",
      "\u001b[36m\u001b[1m[ \u001b[22m\u001b[39m\u001b[36m\u001b[1mInfo: \u001b[22m\u001b[39mFile /Users/bvdmitri/.julia/dev/RxInferThesisExperiments/data/lds/turing/T=10_d=4_nsamples=300_seed=42.jld2 does not exist. Producing it now...\n",
      "\u001b[36m\u001b[1m[ \u001b[22m\u001b[39m\u001b[36m\u001b[1mInfo: \u001b[22m\u001b[39mFile /Users/bvdmitri/.julia/dev/RxInferThesisExperiments/data/lds/turing/T=10_d=4_nsamples=300_seed=42.jld2 saved.\n",
      "\u001b[36m\u001b[1m[ \u001b[22m\u001b[39m\u001b[36m\u001b[1mInfo: \u001b[22m\u001b[39mFile /Users/bvdmitri/.julia/dev/RxInferThesisExperiments/data/lds/turing/T=20_d=4_nsamples=300_seed=42.jld2 does not exist. Producing it now...\n",
      "\u001b[36m\u001b[1m[ \u001b[22m\u001b[39m\u001b[36m\u001b[1mInfo: \u001b[22m\u001b[39mFile /Users/bvdmitri/.julia/dev/RxInferThesisExperiments/data/lds/turing/T=20_d=4_nsamples=300_seed=42.jld2 saved.\n",
      "\u001b[36m\u001b[1m[ \u001b[22m\u001b[39m\u001b[36m\u001b[1mInfo: \u001b[22m\u001b[39mFile /Users/bvdmitri/.julia/dev/RxInferThesisExperiments/data/lds/turing/T=30_d=4_nsamples=300_seed=42.jld2 does not exist. Producing it now...\n",
      "\u001b[36m\u001b[1m[ \u001b[22m\u001b[39m\u001b[36m\u001b[1mInfo: \u001b[22m\u001b[39mFile /Users/bvdmitri/.julia/dev/RxInferThesisExperiments/data/lds/turing/T=30_d=4_nsamples=300_seed=42.jld2 saved.\n",
      "\u001b[36m\u001b[1m[ \u001b[22m\u001b[39m\u001b[36m\u001b[1mInfo: \u001b[22m\u001b[39mFile /Users/bvdmitri/.julia/dev/RxInferThesisExperiments/data/lds/turing/T=100_d=4_nsamples=300_seed=42.jld2 does not exist. Producing it now...\n",
      "\u001b[36m\u001b[1m[ \u001b[22m\u001b[39m\u001b[36m\u001b[1mInfo: \u001b[22m\u001b[39mFile /Users/bvdmitri/.julia/dev/RxInferThesisExperiments/data/lds/turing/T=100_d=4_nsamples=300_seed=42.jld2 saved.\n",
      "\u001b[36m\u001b[1m[ \u001b[22m\u001b[39m\u001b[36m\u001b[1mInfo: \u001b[22m\u001b[39mFile /Users/bvdmitri/.julia/dev/RxInferThesisExperiments/data/lds/turing/T=200_d=4_nsamples=300_seed=42.jld2 does not exist. Producing it now...\n",
      "\u001b[36m\u001b[1m[ \u001b[22m\u001b[39m\u001b[36m\u001b[1mInfo: \u001b[22m\u001b[39mFile /Users/bvdmitri/.julia/dev/RxInferThesisExperiments/data/lds/turing/T=200_d=4_nsamples=300_seed=42.jld2 saved.\n"
     ]
    }
   ],
   "source": [
    "# First run maybe slow, you may track the progress in the terminal\n",
    "# Subsequent runs will not create new benchmarks \n",
    "# but will reload it from data folder\n",
    "benchmarks = map(benchmark_params) do params\n",
    "    result, _ = produce_or_load(run_benchmark, bfolder, params; tag = false, force = false)\n",
    "    return result\n",
    "end;"
   ]
  },
  {
   "cell_type": "code",
   "execution_count": 36,
   "id": "5631ffe9",
   "metadata": {},
   "outputs": [
    {
     "name": "stderr",
     "output_type": "stream",
     "text": [
      "\u001b[36m\u001b[1m[ \u001b[22m\u001b[39m\u001b[36m\u001b[1mInfo: \u001b[22m\u001b[39mScanning folder /Users/bvdmitri/.julia/dev/RxInferThesisExperiments/data/lds/turing for result files.\n",
      "\u001b[36m\u001b[1m[ \u001b[22m\u001b[39m\u001b[36m\u001b[1mInfo: \u001b[22m\u001b[39mAdded 45 entries.\n"
     ]
    },
    {
     "data": {
      "text/html": [
       "<div><div style = \"float: left;\"><span>45×8 DataFrame</span></div><div style = \"float: right;\"><span style = \"font-style: italic;\">20 rows omitted</span></div><div style = \"clear: both;\"></div></div><div class = \"data-frame\" style = \"overflow-x: scroll;\"><table class = \"data-frame\" style = \"margin-bottom: 6px;\"><thead><tr class = \"header\"><th class = \"rowNumber\" style = \"font-weight: bold; text-align: right;\">Row</th><th style = \"text-align: left;\">T</th><th style = \"text-align: left;\">nsamples</th><th style = \"text-align: left;\">amse</th><th style = \"text-align: left;\">d</th><th style = \"text-align: left;\">emse</th><th style = \"text-align: left;\">seed</th><th style = \"text-align: left;\">inference</th><th style = \"text-align: left;\">creation</th></tr><tr class = \"subheader headerLastRow\"><th class = \"rowNumber\" style = \"font-weight: bold; text-align: right;\"></th><th title = \"Union{Missing, Int64}\" style = \"text-align: left;\">Int64?</th><th title = \"Union{Missing, Int64}\" style = \"text-align: left;\">Int64?</th><th title = \"Union{Missing, Float64}\" style = \"text-align: left;\">Float64?</th><th title = \"Union{Missing, Int64}\" style = \"text-align: left;\">Int64?</th><th title = \"Union{Missing, Float64}\" style = \"text-align: left;\">Float64?</th><th title = \"Union{Missing, Int64}\" style = \"text-align: left;\">Int64?</th><th title = \"Union{Missing, Tuple{Float64, Float64, Float64}}\" style = \"text-align: left;\">Tuple…?</th><th title = \"Union{Missing, Tuple{Float64, Float64, Float64}}\" style = \"text-align: left;\">Tuple…?</th></tr></thead><tbody><tr><td class = \"rowNumber\" style = \"font-weight: bold; text-align: right;\">1</td><td style = \"text-align: right;\">10</td><td style = \"text-align: right;\">100</td><td style = \"text-align: right;\">2.98317</td><td style = \"text-align: right;\">2</td><td style = \"text-align: right;\">3.04118</td><td style = \"text-align: right;\">42</td><td style = \"text-align: left;\">(4.33342e7, 4.52563e7, 0.0)</td><td style = \"text-align: left;\">(1.334, 1.45602, 0.0)</td></tr><tr><td class = \"rowNumber\" style = \"font-weight: bold; text-align: right;\">2</td><td style = \"text-align: right;\">10</td><td style = \"text-align: right;\">200</td><td style = \"text-align: right;\">2.88397</td><td style = \"text-align: right;\">2</td><td style = \"text-align: right;\">3.01702</td><td style = \"text-align: right;\">42</td><td style = \"text-align: left;\">(8.77616e7, 9.02746e7, 0.0)</td><td style = \"text-align: left;\">(1.333, 1.45752, 0.0)</td></tr><tr><td class = \"rowNumber\" style = \"font-weight: bold; text-align: right;\">3</td><td style = \"text-align: right;\">10</td><td style = \"text-align: right;\">300</td><td style = \"text-align: right;\">2.85057</td><td style = \"text-align: right;\">2</td><td style = \"text-align: right;\">3.02124</td><td style = \"text-align: right;\">42</td><td style = \"text-align: left;\">(1.03986e8, 1.0611e8, 0.0)</td><td style = \"text-align: left;\">(1.334, 1.45524, 0.0)</td></tr><tr><td class = \"rowNumber\" style = \"font-weight: bold; text-align: right;\">4</td><td style = \"text-align: right;\">10</td><td style = \"text-align: right;\">100</td><td style = \"text-align: right;\">6.4205</td><td style = \"text-align: right;\">3</td><td style = \"text-align: right;\">5.10988</td><td style = \"text-align: right;\">42</td><td style = \"text-align: left;\">(6.70168e7, 6.88439e7, 0.0)</td><td style = \"text-align: left;\">(1.333, 1.4769, 0.0)</td></tr><tr><td class = \"rowNumber\" style = \"font-weight: bold; text-align: right;\">5</td><td style = \"text-align: right;\">10</td><td style = \"text-align: right;\">200</td><td style = \"text-align: right;\">6.30174</td><td style = \"text-align: right;\">3</td><td style = \"text-align: right;\">5.06847</td><td style = \"text-align: right;\">42</td><td style = \"text-align: left;\">(1.59525e8, 1.65235e8, 2.37475e6)</td><td style = \"text-align: left;\">(1.333, 1.45905, 0.0)</td></tr><tr><td class = \"rowNumber\" style = \"font-weight: bold; text-align: right;\">6</td><td style = \"text-align: right;\">10</td><td style = \"text-align: right;\">300</td><td style = \"text-align: right;\">6.19063</td><td style = \"text-align: right;\">3</td><td style = \"text-align: right;\">5.04094</td><td style = \"text-align: right;\">42</td><td style = \"text-align: left;\">(1.82726e8, 1.84452e8, 2.48733e6)</td><td style = \"text-align: left;\">(1.333, 1.46002, 0.0)</td></tr><tr><td class = \"rowNumber\" style = \"font-weight: bold; text-align: right;\">7</td><td style = \"text-align: right;\">10</td><td style = \"text-align: right;\">100</td><td style = \"text-align: right;\">8.60239</td><td style = \"text-align: right;\">4</td><td style = \"text-align: right;\">7.4698</td><td style = \"text-align: right;\">42</td><td style = \"text-align: left;\">(1.02635e8, 1.08605e8, 0.0)</td><td style = \"text-align: left;\">(1.333, 1.46503, 0.0)</td></tr><tr><td class = \"rowNumber\" style = \"font-weight: bold; text-align: right;\">8</td><td style = \"text-align: right;\">10</td><td style = \"text-align: right;\">200</td><td style = \"text-align: right;\">8.003</td><td style = \"text-align: right;\">4</td><td style = \"text-align: right;\">7.34556</td><td style = \"text-align: right;\">42</td><td style = \"text-align: left;\">(2.55949e8, 2.57985e8, 2.18821e6)</td><td style = \"text-align: left;\">(1.333, 1.45239, 0.0)</td></tr><tr><td class = \"rowNumber\" style = \"font-weight: bold; text-align: right;\">9</td><td style = \"text-align: right;\">10</td><td style = \"text-align: right;\">300</td><td style = \"text-align: right;\">8.21727</td><td style = \"text-align: right;\">4</td><td style = \"text-align: right;\">7.28292</td><td style = \"text-align: right;\">42</td><td style = \"text-align: left;\">(2.78665e8, 2.87559e8, 2.56521e6)</td><td style = \"text-align: left;\">(1.375, 1.51988, 0.0)</td></tr><tr><td class = \"rowNumber\" style = \"font-weight: bold; text-align: right;\">10</td><td style = \"text-align: right;\">20</td><td style = \"text-align: right;\">100</td><td style = \"text-align: right;\">2.45455</td><td style = \"text-align: right;\">2</td><td style = \"text-align: right;\">2.88426</td><td style = \"text-align: right;\">42</td><td style = \"text-align: left;\">(6.33912e7, 6.52112e7, 0.0)</td><td style = \"text-align: left;\">(1.333, 1.45937, 0.0)</td></tr><tr><td class = \"rowNumber\" style = \"font-weight: bold; text-align: right;\">11</td><td style = \"text-align: right;\">20</td><td style = \"text-align: right;\">200</td><td style = \"text-align: right;\">2.46513</td><td style = \"text-align: right;\">2</td><td style = \"text-align: right;\">2.90232</td><td style = \"text-align: right;\">42</td><td style = \"text-align: left;\">(1.46335e8, 1.51965e8, 2.25292e6)</td><td style = \"text-align: left;\">(1.333, 1.45442, 0.0)</td></tr><tr><td class = \"rowNumber\" style = \"font-weight: bold; text-align: right;\">12</td><td style = \"text-align: right;\">20</td><td style = \"text-align: right;\">300</td><td style = \"text-align: right;\">2.41168</td><td style = \"text-align: right;\">2</td><td style = \"text-align: right;\">2.9021</td><td style = \"text-align: right;\">42</td><td style = \"text-align: left;\">(2.03669e8, 2.08949e8, 2.69704e6)</td><td style = \"text-align: left;\">(1.333, 1.45756, 0.0)</td></tr><tr><td class = \"rowNumber\" style = \"font-weight: bold; text-align: right;\">13</td><td style = \"text-align: right;\">20</td><td style = \"text-align: right;\">100</td><td style = \"text-align: right;\">5.58665</td><td style = \"text-align: right;\">3</td><td style = \"text-align: right;\">4.75129</td><td style = \"text-align: right;\">42</td><td style = \"text-align: left;\">(1.47346e8, 1.49056e8, 0.0)</td><td style = \"text-align: left;\">(1.333, 1.44851, 0.0)</td></tr><tr><td style = \"text-align: right;\">&vellip;</td><td style = \"text-align: right;\">&vellip;</td><td style = \"text-align: right;\">&vellip;</td><td style = \"text-align: right;\">&vellip;</td><td style = \"text-align: right;\">&vellip;</td><td style = \"text-align: right;\">&vellip;</td><td style = \"text-align: right;\">&vellip;</td><td style = \"text-align: right;\">&vellip;</td><td style = \"text-align: right;\">&vellip;</td></tr><tr><td class = \"rowNumber\" style = \"font-weight: bold; text-align: right;\">34</td><td style = \"text-align: right;\">100</td><td style = \"text-align: right;\">100</td><td style = \"text-align: right;\">8.69025</td><td style = \"text-align: right;\">4</td><td style = \"text-align: right;\">6.53699</td><td style = \"text-align: right;\">42</td><td style = \"text-align: left;\">(1.9424e10, 1.9424e10, 1.66738e8)</td><td style = \"text-align: left;\">(1.334, 1.47924, 0.0)</td></tr><tr><td class = \"rowNumber\" style = \"font-weight: bold; text-align: right;\">35</td><td style = \"text-align: right;\">100</td><td style = \"text-align: right;\">200</td><td style = \"text-align: right;\">8.73601</td><td style = \"text-align: right;\">4</td><td style = \"text-align: right;\">6.51677</td><td style = \"text-align: right;\">42</td><td style = \"text-align: left;\">(2.30009e10, 2.30009e10, 2.0331e8)</td><td style = \"text-align: left;\">(1.333, 1.45679, 0.0)</td></tr><tr><td class = \"rowNumber\" style = \"font-weight: bold; text-align: right;\">36</td><td style = \"text-align: right;\">100</td><td style = \"text-align: right;\">300</td><td style = \"text-align: right;\">8.85122</td><td style = \"text-align: right;\">4</td><td style = \"text-align: right;\">6.52469</td><td style = \"text-align: right;\">42</td><td style = \"text-align: left;\">(1.01682e10, 1.01682e10, 1.00427e8)</td><td style = \"text-align: left;\">(1.333, 1.48906, 0.0)</td></tr><tr><td class = \"rowNumber\" style = \"font-weight: bold; text-align: right;\">37</td><td style = \"text-align: right;\">200</td><td style = \"text-align: right;\">100</td><td style = \"text-align: right;\">2.26834</td><td style = \"text-align: right;\">2</td><td style = \"text-align: right;\">2.81094</td><td style = \"text-align: right;\">42</td><td style = \"text-align: left;\">(3.29145e9, 3.37619e9, 3.88425e7)</td><td style = \"text-align: left;\">(1.333, 1.45638, 0.0)</td></tr><tr><td class = \"rowNumber\" style = \"font-weight: bold; text-align: right;\">38</td><td style = \"text-align: right;\">200</td><td style = \"text-align: right;\">200</td><td style = \"text-align: right;\">2.23431</td><td style = \"text-align: right;\">2</td><td style = \"text-align: right;\">2.79264</td><td style = \"text-align: right;\">42</td><td style = \"text-align: left;\">(1.71835e10, 1.71835e10, 1.67576e8)</td><td style = \"text-align: left;\">(1.333, 1.4612, 0.0)</td></tr><tr><td class = \"rowNumber\" style = \"font-weight: bold; text-align: right;\">39</td><td style = \"text-align: right;\">200</td><td style = \"text-align: right;\">300</td><td style = \"text-align: right;\">2.22914</td><td style = \"text-align: right;\">2</td><td style = \"text-align: right;\">2.7963</td><td style = \"text-align: right;\">42</td><td style = \"text-align: left;\">(9.17647e9, 9.17647e9, 1.04918e8)</td><td style = \"text-align: left;\">(1.333, 1.45544, 0.0)</td></tr><tr><td class = \"rowNumber\" style = \"font-weight: bold; text-align: right;\">40</td><td style = \"text-align: right;\">200</td><td style = \"text-align: right;\">100</td><td style = \"text-align: right;\">5.31777</td><td style = \"text-align: right;\">3</td><td style = \"text-align: right;\">4.52916</td><td style = \"text-align: right;\">42</td><td style = \"text-align: left;\">(9.00107e9, 9.00107e9, 8.51988e7)</td><td style = \"text-align: left;\">(1.333, 1.45436, 0.0)</td></tr><tr><td class = \"rowNumber\" style = \"font-weight: bold; text-align: right;\">41</td><td style = \"text-align: right;\">200</td><td style = \"text-align: right;\">200</td><td style = \"text-align: right;\">5.26744</td><td style = \"text-align: right;\">3</td><td style = \"text-align: right;\">4.51298</td><td style = \"text-align: right;\">42</td><td style = \"text-align: left;\">(1.73587e10, 1.73587e10, 1.52311e8)</td><td style = \"text-align: left;\">(1.334, 1.45262, 0.0)</td></tr><tr><td class = \"rowNumber\" style = \"font-weight: bold; text-align: right;\">42</td><td style = \"text-align: right;\">200</td><td style = \"text-align: right;\">300</td><td style = \"text-align: right;\">5.30482</td><td style = \"text-align: right;\">3</td><td style = \"text-align: right;\">4.51541</td><td style = \"text-align: right;\">42</td><td style = \"text-align: left;\">(1.57874e10, 1.57874e10, 1.58517e8)</td><td style = \"text-align: left;\">(1.333, 1.46086, 0.0)</td></tr><tr><td class = \"rowNumber\" style = \"font-weight: bold; text-align: right;\">43</td><td style = \"text-align: right;\">200</td><td style = \"text-align: right;\">100</td><td style = \"text-align: right;\">9.08334</td><td style = \"text-align: right;\">4</td><td style = \"text-align: right;\">6.51646</td><td style = \"text-align: right;\">42</td><td style = \"text-align: left;\">(1.3459e10, 1.3459e10, 1.00326e8)</td><td style = \"text-align: left;\">(1.333, 1.46853, 0.0)</td></tr><tr><td class = \"rowNumber\" style = \"font-weight: bold; text-align: right;\">44</td><td style = \"text-align: right;\">200</td><td style = \"text-align: right;\">200</td><td style = \"text-align: right;\">9.1253</td><td style = \"text-align: right;\">4</td><td style = \"text-align: right;\">6.51432</td><td style = \"text-align: right;\">42</td><td style = \"text-align: left;\">(2.32445e10, 2.32445e10, 1.71157e8)</td><td style = \"text-align: left;\">(1.333, 1.46746, 0.0)</td></tr><tr><td class = \"rowNumber\" style = \"font-weight: bold; text-align: right;\">45</td><td style = \"text-align: right;\">200</td><td style = \"text-align: right;\">300</td><td style = \"text-align: right;\">9.13816</td><td style = \"text-align: right;\">4</td><td style = \"text-align: right;\">6.51558</td><td style = \"text-align: right;\">42</td><td style = \"text-align: left;\">(2.17793e10, 2.17793e10, 1.81037e8)</td><td style = \"text-align: left;\">(1.375, 1.48994, 0.0)</td></tr></tbody></table></div>"
      ],
      "text/latex": [
       "\\begin{tabular}{r|cccccccc}\n",
       "\t& T & nsamples & amse & d & emse & seed & inference & \\\\\n",
       "\t\\hline\n",
       "\t& Int64? & Int64? & Float64? & Int64? & Float64? & Int64? & Tuple…? & \\\\\n",
       "\t\\hline\n",
       "\t1 & 10 & 100 & 2.98317 & 2 & 3.04118 & 42 & (4.33342e7, 4.52563e7, 0.0) & $\\dots$ \\\\\n",
       "\t2 & 10 & 200 & 2.88397 & 2 & 3.01702 & 42 & (8.77616e7, 9.02746e7, 0.0) & $\\dots$ \\\\\n",
       "\t3 & 10 & 300 & 2.85057 & 2 & 3.02124 & 42 & (1.03986e8, 1.0611e8, 0.0) & $\\dots$ \\\\\n",
       "\t4 & 10 & 100 & 6.4205 & 3 & 5.10988 & 42 & (6.70168e7, 6.88439e7, 0.0) & $\\dots$ \\\\\n",
       "\t5 & 10 & 200 & 6.30174 & 3 & 5.06847 & 42 & (1.59525e8, 1.65235e8, 2.37475e6) & $\\dots$ \\\\\n",
       "\t6 & 10 & 300 & 6.19063 & 3 & 5.04094 & 42 & (1.82726e8, 1.84452e8, 2.48733e6) & $\\dots$ \\\\\n",
       "\t7 & 10 & 100 & 8.60239 & 4 & 7.4698 & 42 & (1.02635e8, 1.08605e8, 0.0) & $\\dots$ \\\\\n",
       "\t8 & 10 & 200 & 8.003 & 4 & 7.34556 & 42 & (2.55949e8, 2.57985e8, 2.18821e6) & $\\dots$ \\\\\n",
       "\t9 & 10 & 300 & 8.21727 & 4 & 7.28292 & 42 & (2.78665e8, 2.87559e8, 2.56521e6) & $\\dots$ \\\\\n",
       "\t10 & 20 & 100 & 2.45455 & 2 & 2.88426 & 42 & (6.33912e7, 6.52112e7, 0.0) & $\\dots$ \\\\\n",
       "\t11 & 20 & 200 & 2.46513 & 2 & 2.90232 & 42 & (1.46335e8, 1.51965e8, 2.25292e6) & $\\dots$ \\\\\n",
       "\t12 & 20 & 300 & 2.41168 & 2 & 2.9021 & 42 & (2.03669e8, 2.08949e8, 2.69704e6) & $\\dots$ \\\\\n",
       "\t13 & 20 & 100 & 5.58665 & 3 & 4.75129 & 42 & (1.47346e8, 1.49056e8, 0.0) & $\\dots$ \\\\\n",
       "\t14 & 20 & 200 & 5.94269 & 3 & 4.75997 & 42 & (4.08555e8, 4.18677e8, 4.14833e6) & $\\dots$ \\\\\n",
       "\t15 & 20 & 300 & 5.82139 & 3 & 4.76132 & 42 & (4.72159e8, 4.79602e8, 3.8655e6) & $\\dots$ \\\\\n",
       "\t16 & 20 & 100 & 9.53708 & 4 & 6.84973 & 42 & (3.6378e8, 3.79864e8, 1.96871e6) & $\\dots$ \\\\\n",
       "\t17 & 20 & 200 & 9.41805 & 4 & 6.82229 & 42 & (5.54655e8, 5.5761e8, 5.97792e6) & $\\dots$ \\\\\n",
       "\t18 & 20 & 300 & 9.63358 & 4 & 6.81289 & 42 & (8.6098e8, 8.87814e8, 8.5385e6) & $\\dots$ \\\\\n",
       "\t19 & 30 & 100 & 2.53815 & 2 & 2.8171 & 42 & (1.11815e8, 1.15168e8, 0.0) & $\\dots$ \\\\\n",
       "\t20 & 30 & 200 & 2.57002 & 2 & 2.81952 & 42 & (2.21592e8, 2.35964e8, 2.76617e6) & $\\dots$ \\\\\n",
       "\t21 & 30 & 300 & 2.51786 & 2 & 2.83302 & 42 & (3.32924e8, 3.35316e8, 4.76633e6) & $\\dots$ \\\\\n",
       "\t22 & 30 & 100 & 5.49688 & 3 & 4.75308 & 42 & (4.48593e8, 4.52188e8, 3.80425e6) & $\\dots$ \\\\\n",
       "\t23 & 30 & 200 & 5.57712 & 3 & 4.72053 & 42 & (7.72613e8, 7.75968e8, 7.53829e6) & $\\dots$ \\\\\n",
       "\t24 & 30 & 300 & 5.4787 & 3 & 4.73259 & 42 & (1.18635e9, 1.19016e9, 8.85067e6) & $\\dots$ \\\\\n",
       "\t25 & 30 & 100 & 9.31773 & 4 & 6.85519 & 42 & (7.222e8, 7.54525e8, 4.22679e6) & $\\dots$ \\\\\n",
       "\t26 & 30 & 200 & 9.04021 & 4 & 6.79523 & 42 & (1.26245e9, 1.26396e9, 9.355e6) & $\\dots$ \\\\\n",
       "\t27 & 30 & 300 & 9.00803 & 4 & 6.77328 & 42 & (1.68427e9, 1.70139e9, 1.10641e7) & $\\dots$ \\\\\n",
       "\t28 & 100 & 100 & 2.26256 & 2 & 2.79775 & 42 & (4.62415e8, 4.79842e8, 4.67383e6) & $\\dots$ \\\\\n",
       "\t29 & 100 & 200 & 2.24074 & 2 & 2.78816 & 42 & (1.48916e9, 1.51986e9, 1.24875e7) & $\\dots$ \\\\\n",
       "\t30 & 100 & 300 & 2.20672 & 2 & 2.78749 & 42 & (2.88799e9, 2.8953e9, 2.26041e7) & $\\dots$ \\\\\n",
       "\t$\\dots$ & $\\dots$ & $\\dots$ & $\\dots$ & $\\dots$ & $\\dots$ & $\\dots$ & $\\dots$ &  \\\\\n",
       "\\end{tabular}\n"
      ],
      "text/plain": [
       "\u001b[1m45×8 DataFrame\u001b[0m\n",
       "\u001b[1m Row \u001b[0m│\u001b[1m T      \u001b[0m\u001b[1m nsamples \u001b[0m\u001b[1m amse     \u001b[0m\u001b[1m d      \u001b[0m\u001b[1m emse     \u001b[0m\u001b[1m seed   \u001b[0m\u001b[1m inference        \u001b[0m ⋯\n",
       "     │\u001b[90m Int64? \u001b[0m\u001b[90m Int64?   \u001b[0m\u001b[90m Float64? \u001b[0m\u001b[90m Int64? \u001b[0m\u001b[90m Float64? \u001b[0m\u001b[90m Int64? \u001b[0m\u001b[90m Tuple…?          \u001b[0m ⋯\n",
       "─────┼──────────────────────────────────────────────────────────────────────────\n",
       "   1 │     10       100   2.98317       2   3.04118      42  (4.33342e7, 4.525 ⋯\n",
       "   2 │     10       200   2.88397       2   3.01702      42  (8.77616e7, 9.027\n",
       "   3 │     10       300   2.85057       2   3.02124      42  (1.03986e8, 1.061\n",
       "   4 │     10       100   6.4205        3   5.10988      42  (6.70168e7, 6.884\n",
       "   5 │     10       200   6.30174       3   5.06847      42  (1.59525e8, 1.652 ⋯\n",
       "   6 │     10       300   6.19063       3   5.04094      42  (1.82726e8, 1.844\n",
       "   7 │     10       100   8.60239       4   7.4698       42  (1.02635e8, 1.086\n",
       "   8 │     10       200   8.003         4   7.34556      42  (2.55949e8, 2.579\n",
       "   9 │     10       300   8.21727       4   7.28292      42  (2.78665e8, 2.875 ⋯\n",
       "  10 │     20       100   2.45455       2   2.88426      42  (6.33912e7, 6.521\n",
       "  11 │     20       200   2.46513       2   2.90232      42  (1.46335e8, 1.519\n",
       "  ⋮  │   ⋮        ⋮         ⋮        ⋮        ⋮        ⋮                     ⋮ ⋱\n",
       "  36 │    100       300   8.85122       4   6.52469      42  (1.01682e10, 1.01\n",
       "  37 │    200       100   2.26834       2   2.81094      42  (3.29145e9, 3.376 ⋯\n",
       "  38 │    200       200   2.23431       2   2.79264      42  (1.71835e10, 1.71\n",
       "  39 │    200       300   2.22914       2   2.7963       42  (9.17647e9, 9.176\n",
       "  40 │    200       100   5.31777       3   4.52916      42  (9.00107e9, 9.001\n",
       "  41 │    200       200   5.26744       3   4.51298      42  (1.73587e10, 1.73 ⋯\n",
       "  42 │    200       300   5.30482       3   4.51541      42  (1.57874e10, 1.57\n",
       "  43 │    200       100   9.08334       4   6.51646      42  (1.3459e10, 1.345\n",
       "  44 │    200       200   9.1253        4   6.51432      42  (2.32445e10, 2.32\n",
       "  45 │    200       300   9.13816       4   6.51558      42  (2.17793e10, 2.17 ⋯\n",
       "\u001b[36m                                                   2 columns and 24 rows omitted\u001b[0m"
      ]
     },
     "execution_count": 36,
     "metadata": {},
     "output_type": "execute_result"
    }
   ],
   "source": [
    "sort(prepare_benchmarks_table(bfolder), [ :T ])"
   ]
  },
  {
   "cell_type": "markdown",
   "id": "f3e815c8",
   "metadata": {},
   "source": [
    "# Versions"
   ]
  },
  {
   "cell_type": "code",
   "execution_count": 37,
   "id": "9cb4dbcd",
   "metadata": {},
   "outputs": [
    {
     "name": "stdout",
     "output_type": "stream",
     "text": [
      "Julia Version 1.9.0\n",
      "Commit 8e630552924 (2023-05-07 11:25 UTC)\n",
      "Platform Info:\n",
      "  OS: macOS (arm64-apple-darwin22.4.0)\n",
      "  CPU: 10 × Apple M2 Pro\n",
      "  WORD_SIZE: 64\n",
      "  LIBM: libopenlibm\n",
      "  LLVM: libLLVM-14.0.6 (ORCJIT, apple-m1)\n",
      "  Threads: 2 on 6 virtual cores\n"
     ]
    }
   ],
   "source": [
    "versioninfo()"
   ]
  },
  {
   "cell_type": "code",
   "execution_count": 38,
   "id": "d4c715ec",
   "metadata": {},
   "outputs": [
    {
     "name": "stdout",
     "output_type": "stream",
     "text": [
      "\u001b[36m\u001b[1mProject\u001b[22m\u001b[39m RxInferThesisExperiments v1.0.0\n",
      "\u001b[32m\u001b[1mStatus\u001b[22m\u001b[39m `~/.julia/dev/RxInferThesisExperiments/Project.toml`\n",
      "  \u001b[90m[b5ca4192] \u001b[39mAdvancedVI v0.2.3\n",
      "  \u001b[90m[6e4b80f9] \u001b[39mBenchmarkTools v1.3.2\n",
      "  \u001b[90m[76274a88] \u001b[39mBijectors v0.12.5\n",
      "  \u001b[90m[35d6a980] \u001b[39mColorSchemes v3.21.0\n",
      "  \u001b[90m[a93c6f00] \u001b[39mDataFrames v1.5.0\n",
      "  \u001b[90m[31c24e10] \u001b[39mDistributions v0.25.95\n",
      "  \u001b[90m[634d3b9d] \u001b[39mDrWatson v2.12.5\n",
      "  \u001b[90m[442a2c76] \u001b[39mFastGaussQuadrature v0.5.1\n",
      "  \u001b[90m[9fc3f58a] \u001b[39mForneyLab v0.12.0\n",
      "  \u001b[90m[f6369f11] \u001b[39mForwardDiff v0.10.35\n",
      "  \u001b[90m[14197337] \u001b[39mGenericLinearAlgebra v0.3.11\n",
      "  \u001b[90m[19dc6840] \u001b[39mHCubature v1.5.1\n",
      "  \u001b[90m[7073ff75] \u001b[39mIJulia v1.24.2\n",
      "  \u001b[90m[b964fa9f] \u001b[39mLaTeXStrings v1.3.0\n",
      "  \u001b[90m[bdcacae8] \u001b[39mLoopVectorization v0.12.159\n",
      "  \u001b[90m[3bd65402] \u001b[39mOptimisers v0.2.18\n",
      "  \u001b[90m[8314cec4] \u001b[39mPGFPlotsX v1.6.0\n",
      "  \u001b[90m[e4faabce] \u001b[39mPProf v2.2.2\n",
      "  \u001b[90m[91a5bcdd] \u001b[39mPlots v1.38.15\n",
      "  \u001b[90m[92933f4c] \u001b[39mProgressMeter v1.7.2\n",
      "  \u001b[90m[37e2e3b7] \u001b[39mReverseDiff v1.14.6\n",
      "  \u001b[90m[86711068] \u001b[39mRxInfer v2.11.1\n",
      "  \u001b[90m[860ef19b] \u001b[39mStableRNGs v1.0.0\n",
      "  \u001b[90m[aedffcd0] \u001b[39mStatic v0.8.7\n",
      "  \u001b[90m[90137ffa] \u001b[39mStaticArrays v1.5.25\n",
      "\u001b[33m⌅\u001b[39m \u001b[90m[2913bbd2] \u001b[39mStatsBase v0.33.21\n",
      "  \u001b[90m[4c63d2b9] \u001b[39mStatsFuns v1.3.0\n",
      "  \u001b[90m[fce5fe82] \u001b[39mTuring v0.25.1\n",
      "  \u001b[90m[37e2e46d] \u001b[39mLinearAlgebra\n",
      "  \u001b[90m[9a3f8284] \u001b[39mRandom\n",
      "\u001b[36m\u001b[1mInfo\u001b[22m\u001b[39m Packages marked with \u001b[33m⌅\u001b[39m have new versions available but compatibility constraints restrict them from upgrading. To see why use `status --outdated`\n"
     ]
    }
   ],
   "source": [
    "] status"
   ]
  },
  {
   "cell_type": "code",
   "execution_count": null,
   "id": "532a4155",
   "metadata": {},
   "outputs": [],
   "source": []
  }
 ],
 "metadata": {
  "kernelspec": {
   "display_name": "Julia 1.9.0",
   "language": "julia",
   "name": "julia-1.9"
  },
  "language_info": {
   "file_extension": ".jl",
   "mimetype": "application/julia",
   "name": "julia",
   "version": "1.9.0"
  }
 },
 "nbformat": 4,
 "nbformat_minor": 5
}
