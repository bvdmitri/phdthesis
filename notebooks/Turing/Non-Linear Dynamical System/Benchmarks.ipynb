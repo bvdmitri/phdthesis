{
 "cells": [
  {
   "cell_type": "markdown",
   "id": "55f33945",
   "metadata": {},
   "source": [
    "This notebook performs a comprehensive becnhmark suit for the inference procedure for the double pendulum system using the RxInfer framework.\n",
    "\n",
    "_Author: Dmitry Bagaev_"
   ]
  },
  {
   "cell_type": "code",
   "execution_count": 1,
   "id": "f07b50d2",
   "metadata": {},
   "outputs": [],
   "source": [
    "using DrWatson"
   ]
  },
  {
   "cell_type": "code",
   "execution_count": 2,
   "id": "2b399d37",
   "metadata": {},
   "outputs": [],
   "source": [
    "@quickactivate \"RxInferThesisExperiments\""
   ]
  },
  {
   "cell_type": "code",
   "execution_count": 13,
   "id": "9ece426e",
   "metadata": {},
   "outputs": [],
   "source": [
    "using RxInferThesisExperiments, Turing, StaticArrays, Plots, PGFPlotsX, LaTeXStrings, ReverseDiff\n",
    "using LinearAlgebra, StableRNGs, Random, BenchmarkTools, ColorSchemes, Dates, DataFrames, Logging"
   ]
  },
  {
   "cell_type": "code",
   "execution_count": 4,
   "id": "30e150a7",
   "metadata": {},
   "outputs": [
    {
     "data": {
      "text/plain": [
       "\"/Users/bvdmitri/.julia/dev/thesis/data/nlds/turing/nuts\""
      ]
     },
     "execution_count": 4,
     "metadata": {},
     "output_type": "execute_result"
    }
   ],
   "source": [
    "const bfolder = datadir(\"nlds\", \"turing\", \"nuts\")"
   ]
  },
  {
   "cell_type": "code",
   "execution_count": 5,
   "id": "97d0009c",
   "metadata": {},
   "outputs": [],
   "source": [
    "# Pregenerate paths for benchmark data\n",
    "mkpath(bfolder);"
   ]
  },
  {
   "cell_type": "code",
   "execution_count": 6,
   "id": "fd138f2a",
   "metadata": {},
   "outputs": [
    {
     "data": {
      "text/plain": [
       "DoublePendulum()"
      ]
     },
     "execution_count": 6,
     "metadata": {},
     "output_type": "execute_result"
    }
   ],
   "source": [
    "# Create default environment with default parameters\n",
    "const environment = DoublePendulum()"
   ]
  },
  {
   "cell_type": "code",
   "execution_count": 7,
   "id": "c1aab6ce",
   "metadata": {},
   "outputs": [
    {
     "data": {
      "text/plain": [
       "f (generic function with 1 method)"
      ]
     },
     "execution_count": 7,
     "metadata": {},
     "output_type": "execute_result"
    }
   ],
   "source": [
    "# Define state-transition function, uses RK4 method internally, see the `src/` folder\n",
    "f(state) = state_transition(environment)(state)"
   ]
  },
  {
   "cell_type": "code",
   "execution_count": 8,
   "id": "e37f8c7b",
   "metadata": {},
   "outputs": [],
   "source": [
    "# Include the model specification\n",
    "include(srcdir(\"models\", \"turing\", \"doublependulum.jl\"));"
   ]
  },
  {
   "cell_type": "code",
   "execution_count": 14,
   "id": "9a2c016a",
   "metadata": {},
   "outputs": [
    {
     "data": {
      "text/plain": [
       "run_benchmark (generic function with 1 method)"
      ]
     },
     "execution_count": 14,
     "metadata": {},
     "output_type": "execute_result"
    }
   ],
   "source": [
    "function run_benchmark(params)\n",
    "    return with_logger(NullLogger()) do\n",
    "        @unpack T, nsamples, seed = params\n",
    "\n",
    "        states, observations = rand(StableRNG(seed), environment, T);\n",
    "        model    = double_pendulum(observations, T)\n",
    "        method   = NUTS()\n",
    "        result   = sample_inference(model, method = method, nsamples = nsamples, rng = StableRNG(seed))\n",
    "        e_states = extract_posteriors(T, result)\n",
    "        amse     = compute_amse(states, e_states)\n",
    "\n",
    "        benchmark_modelcreation = @benchmark double_pendulum($observations, $T)\n",
    "\n",
    "        benchmark_inference = @benchmark sample_inference(model, method = $method; nsamples = $nsamples, rng = StableRNG($seed)) setup=begin\n",
    "            states, observations = rand(StableRNG($seed), environment, $T);\n",
    "            model = double_pendulum(observations, $T)\n",
    "        end\n",
    "\n",
    "        emse = compute_emse(seed) do _seed\n",
    "            local states, observations = rand(StableRNG(_seed), environment, T; random_start = true);\n",
    "            local model    = double_pendulum(observations, T)\n",
    "            local method   = NUTS()\n",
    "            local result   = sample_inference(model, method = method, nsamples = nsamples, rng = StableRNG(_seed))\n",
    "            local e_states = extract_posteriors(T, result)\n",
    "            return compute_amse(states, e_states)\n",
    "        end\n",
    "\n",
    "        output = @strdict T nsamples seed states e_states observations amse emse benchmark_modelcreation benchmark_inference\n",
    "\n",
    "        return output\n",
    "    end\n",
    "end"
   ]
  },
  {
   "cell_type": "code",
   "execution_count": 18,
   "id": "82c8701e",
   "metadata": {},
   "outputs": [],
   "source": [
    "# Here we create a list of parameters we want to run our benchmarks with\n",
    "benchmark_params = dict_list(Dict(\n",
    "    \"T\"           => [ 10, 20, 30, 50, 100 ],\n",
    "    \"nsamples\"    => [ 50, 100 ],\n",
    "    \"seed\"        => [ 42 ]\n",
    "));"
   ]
  },
  {
   "cell_type": "code",
   "execution_count": 19,
   "id": "e2bfc867",
   "metadata": {},
   "outputs": [
    {
     "name": "stderr",
     "output_type": "stream",
     "text": [
      "\u001b[36m\u001b[1m[ \u001b[22m\u001b[39m\u001b[36m\u001b[1mInfo: \u001b[22m\u001b[39m[Turing]: progress logging is disabled globally\n",
      "\u001b[36m\u001b[1m[ \u001b[22m\u001b[39m\u001b[36m\u001b[1mInfo: \u001b[22m\u001b[39m[AdvancedVI]: global PROGRESS is set as false\n"
     ]
    },
    {
     "data": {
      "text/plain": [
       "false"
      ]
     },
     "execution_count": 19,
     "metadata": {},
     "output_type": "execute_result"
    }
   ],
   "source": [
    "# Disable turing's show progress as it hurts performance (a bit)\n",
    "Turing.setprogress!(false)"
   ]
  },
  {
   "cell_type": "code",
   "execution_count": 20,
   "id": "7c12cc0f",
   "metadata": {},
   "outputs": [
    {
     "name": "stderr",
     "output_type": "stream",
     "text": [
      "\u001b[36m\u001b[1m[ \u001b[22m\u001b[39m\u001b[36m\u001b[1mInfo: \u001b[22m\u001b[39mFile /Users/bvdmitri/.julia/dev/thesis/data/nlds/turing/nuts/T=50_nsamples=50_seed=42.jld2 does not exist. Producing it now...\n",
      "\u001b[36m\u001b[1m[ \u001b[22m\u001b[39m\u001b[36m\u001b[1mInfo: \u001b[22m\u001b[39mFile /Users/bvdmitri/.julia/dev/thesis/data/nlds/turing/nuts/T=50_nsamples=50_seed=42.jld2 saved.\n",
      "\u001b[36m\u001b[1m[ \u001b[22m\u001b[39m\u001b[36m\u001b[1mInfo: \u001b[22m\u001b[39mFile /Users/bvdmitri/.julia/dev/thesis/data/nlds/turing/nuts/T=100_nsamples=50_seed=42.jld2 does not exist. Producing it now...\n",
      "\u001b[36m\u001b[1m[ \u001b[22m\u001b[39m\u001b[36m\u001b[1mInfo: \u001b[22m\u001b[39mFile /Users/bvdmitri/.julia/dev/thesis/data/nlds/turing/nuts/T=100_nsamples=50_seed=42.jld2 saved.\n",
      "\u001b[36m\u001b[1m[ \u001b[22m\u001b[39m\u001b[36m\u001b[1mInfo: \u001b[22m\u001b[39mFile /Users/bvdmitri/.julia/dev/thesis/data/nlds/turing/nuts/T=50_nsamples=100_seed=42.jld2 does not exist. Producing it now...\n",
      "\u001b[36m\u001b[1m[ \u001b[22m\u001b[39m\u001b[36m\u001b[1mInfo: \u001b[22m\u001b[39mFile /Users/bvdmitri/.julia/dev/thesis/data/nlds/turing/nuts/T=50_nsamples=100_seed=42.jld2 saved.\n",
      "\u001b[36m\u001b[1m[ \u001b[22m\u001b[39m\u001b[36m\u001b[1mInfo: \u001b[22m\u001b[39mFile /Users/bvdmitri/.julia/dev/thesis/data/nlds/turing/nuts/T=100_nsamples=100_seed=42.jld2 does not exist. Producing it now...\n",
      "\u001b[36m\u001b[1m[ \u001b[22m\u001b[39m\u001b[36m\u001b[1mInfo: \u001b[22m\u001b[39mFile /Users/bvdmitri/.julia/dev/thesis/data/nlds/turing/nuts/T=100_nsamples=100_seed=42.jld2 saved.\n"
     ]
    }
   ],
   "source": [
    "# First run maybe slow, you may track the progress in the terminal\n",
    "# Subsequent runs will not create new benchmarks \n",
    "# but will reload it from data folder\n",
    "benchmarks = map(benchmark_params) do params\n",
    "    result, _ = produce_or_load(run_benchmark, bfolder, params; tag = false, force = false)\n",
    "    return result\n",
    "end;"
   ]
  },
  {
   "cell_type": "code",
   "execution_count": 21,
   "id": "5631ffe9",
   "metadata": {},
   "outputs": [
    {
     "name": "stderr",
     "output_type": "stream",
     "text": [
      "\u001b[36m\u001b[1m[ \u001b[22m\u001b[39m\u001b[36m\u001b[1mInfo: \u001b[22m\u001b[39mScanning folder /Users/bvdmitri/.julia/dev/thesis/data/nlds/turing/nuts for result files.\n",
      "\u001b[36m\u001b[1m[ \u001b[22m\u001b[39m\u001b[36m\u001b[1mInfo: \u001b[22m\u001b[39mAdded 10 entries.\n"
     ]
    },
    {
     "data": {
      "text/html": [
       "<div><div style = \"float: left;\"><span>10×7 DataFrame</span></div><div style = \"clear: both;\"></div></div><div class = \"data-frame\" style = \"overflow-x: scroll;\"><table class = \"data-frame\" style = \"margin-bottom: 6px;\"><thead><tr class = \"header\"><th class = \"rowNumber\" style = \"font-weight: bold; text-align: right;\">Row</th><th style = \"text-align: left;\">T</th><th style = \"text-align: left;\">nsamples</th><th style = \"text-align: left;\">seed</th><th style = \"text-align: left;\">amse</th><th style = \"text-align: left;\">emse</th><th style = \"text-align: left;\">inference</th><th style = \"text-align: left;\">creation</th></tr><tr class = \"subheader headerLastRow\"><th class = \"rowNumber\" style = \"font-weight: bold; text-align: right;\"></th><th title = \"Union{Missing, Int64}\" style = \"text-align: left;\">Int64?</th><th title = \"Union{Missing, Int64}\" style = \"text-align: left;\">Int64?</th><th title = \"Union{Missing, Int64}\" style = \"text-align: left;\">Int64?</th><th title = \"Union{Missing, Float64}\" style = \"text-align: left;\">Float64?</th><th title = \"Union{Missing, Float64}\" style = \"text-align: left;\">Float64?</th><th title = \"Union{Missing, Tuple{Float64, Float64, Float64}}\" style = \"text-align: left;\">Tuple…?</th><th title = \"Union{Missing, Tuple{Float64, Float64, Float64}}\" style = \"text-align: left;\">Tuple…?</th></tr></thead><tbody><tr><td class = \"rowNumber\" style = \"font-weight: bold; text-align: right;\">1</td><td style = \"text-align: right;\">10</td><td style = \"text-align: right;\">50</td><td style = \"text-align: right;\">42</td><td style = \"text-align: right;\">8.75468</td><td style = \"text-align: right;\">6.20178</td><td style = \"text-align: left;\">(6.05655e9, 6.05655e9, 6.87432e7)</td><td style = \"text-align: left;\">(3.422, 4.3362, 0.0)</td></tr><tr><td class = \"rowNumber\" style = \"font-weight: bold; text-align: right;\">2</td><td style = \"text-align: right;\">10</td><td style = \"text-align: right;\">100</td><td style = \"text-align: right;\">42</td><td style = \"text-align: right;\">5.71171</td><td style = \"text-align: right;\">4.92248</td><td style = \"text-align: left;\">(1.13747e10, 1.13747e10, 1.37468e8)</td><td style = \"text-align: left;\">(3.291, 3.9133, 0.0)</td></tr><tr><td class = \"rowNumber\" style = \"font-weight: bold; text-align: right;\">3</td><td style = \"text-align: right;\">20</td><td style = \"text-align: right;\">50</td><td style = \"text-align: right;\">42</td><td style = \"text-align: right;\">4.36263</td><td style = \"text-align: right;\">10.0011</td><td style = \"text-align: left;\">(9.22417e9, 9.22417e9, 7.15448e7)</td><td style = \"text-align: left;\">(3.494, 3.98589, 0.0)</td></tr><tr><td class = \"rowNumber\" style = \"font-weight: bold; text-align: right;\">4</td><td style = \"text-align: right;\">20</td><td style = \"text-align: right;\">100</td><td style = \"text-align: right;\">42</td><td style = \"text-align: right;\">3.69172</td><td style = \"text-align: right;\">8.02788</td><td style = \"text-align: left;\">(2.1521e10, 2.1521e10, 1.74118e8)</td><td style = \"text-align: left;\">(3.291, 3.84254, 0.0)</td></tr><tr><td class = \"rowNumber\" style = \"font-weight: bold; text-align: right;\">5</td><td style = \"text-align: right;\">30</td><td style = \"text-align: right;\">50</td><td style = \"text-align: right;\">42</td><td style = \"text-align: right;\">10.2714</td><td style = \"text-align: right;\">8.10127</td><td style = \"text-align: left;\">(1.81542e10, 1.81542e10, 1.17916e8)</td><td style = \"text-align: left;\">(3.291, 3.83923, 0.0)</td></tr><tr><td class = \"rowNumber\" style = \"font-weight: bold; text-align: right;\">6</td><td style = \"text-align: right;\">30</td><td style = \"text-align: right;\">100</td><td style = \"text-align: right;\">42</td><td style = \"text-align: right;\">24.3499</td><td style = \"text-align: right;\">6.32423</td><td style = \"text-align: left;\">(4.01462e10, 4.01462e10, 2.43946e8)</td><td style = \"text-align: left;\">(3.292, 3.91343, 0.0)</td></tr><tr><td class = \"rowNumber\" style = \"font-weight: bold; text-align: right;\">7</td><td style = \"text-align: right;\">50</td><td style = \"text-align: right;\">50</td><td style = \"text-align: right;\">42</td><td style = \"text-align: right;\">12.5688</td><td style = \"text-align: right;\">5.25755</td><td style = \"text-align: left;\">(3.79663e10, 3.79663e10, 1.86353e8)</td><td style = \"text-align: left;\">(3.382, 3.91803, 0.0)</td></tr><tr><td class = \"rowNumber\" style = \"font-weight: bold; text-align: right;\">8</td><td style = \"text-align: right;\">50</td><td style = \"text-align: right;\">100</td><td style = \"text-align: right;\">42</td><td style = \"text-align: right;\">6.36813</td><td style = \"text-align: right;\">4.90763</td><td style = \"text-align: left;\">(7.45187e10, 7.45187e10, 3.91663e8)</td><td style = \"text-align: left;\">(3.29, 3.86858, 0.0)</td></tr><tr><td class = \"rowNumber\" style = \"font-weight: bold; text-align: right;\">9</td><td style = \"text-align: right;\">100</td><td style = \"text-align: right;\">50</td><td style = \"text-align: right;\">42</td><td style = \"text-align: right;\">0.615323</td><td style = \"text-align: right;\">5.09143</td><td style = \"text-align: left;\">(9.7227e10, 9.7227e10, 7.78381e8)</td><td style = \"text-align: left;\">(3.292, 3.89914, 0.0)</td></tr><tr><td class = \"rowNumber\" style = \"font-weight: bold; text-align: right;\">10</td><td style = \"text-align: right;\">100</td><td style = \"text-align: right;\">100</td><td style = \"text-align: right;\">42</td><td style = \"text-align: right;\">1.24621</td><td style = \"text-align: right;\">3.7418</td><td style = \"text-align: left;\">(2.4265e11, 2.4265e11, 1.18686e9)</td><td style = \"text-align: left;\">(3.382, 3.93415, 0.0)</td></tr></tbody></table></div>"
      ],
      "text/latex": [
       "\\begin{tabular}{r|ccccccc}\n",
       "\t& T & nsamples & seed & amse & emse & inference & \\\\\n",
       "\t\\hline\n",
       "\t& Int64? & Int64? & Int64? & Float64? & Float64? & Tuple…? & \\\\\n",
       "\t\\hline\n",
       "\t1 & 10 & 50 & 42 & 8.75468 & 6.20178 & (6.05655e9, 6.05655e9, 6.87432e7) & $\\dots$ \\\\\n",
       "\t2 & 10 & 100 & 42 & 5.71171 & 4.92248 & (1.13747e10, 1.13747e10, 1.37468e8) & $\\dots$ \\\\\n",
       "\t3 & 20 & 50 & 42 & 4.36263 & 10.0011 & (9.22417e9, 9.22417e9, 7.15448e7) & $\\dots$ \\\\\n",
       "\t4 & 20 & 100 & 42 & 3.69172 & 8.02788 & (2.1521e10, 2.1521e10, 1.74118e8) & $\\dots$ \\\\\n",
       "\t5 & 30 & 50 & 42 & 10.2714 & 8.10127 & (1.81542e10, 1.81542e10, 1.17916e8) & $\\dots$ \\\\\n",
       "\t6 & 30 & 100 & 42 & 24.3499 & 6.32423 & (4.01462e10, 4.01462e10, 2.43946e8) & $\\dots$ \\\\\n",
       "\t7 & 50 & 50 & 42 & 12.5688 & 5.25755 & (3.79663e10, 3.79663e10, 1.86353e8) & $\\dots$ \\\\\n",
       "\t8 & 50 & 100 & 42 & 6.36813 & 4.90763 & (7.45187e10, 7.45187e10, 3.91663e8) & $\\dots$ \\\\\n",
       "\t9 & 100 & 50 & 42 & 0.615323 & 5.09143 & (9.7227e10, 9.7227e10, 7.78381e8) & $\\dots$ \\\\\n",
       "\t10 & 100 & 100 & 42 & 1.24621 & 3.7418 & (2.4265e11, 2.4265e11, 1.18686e9) & $\\dots$ \\\\\n",
       "\\end{tabular}\n"
      ],
      "text/plain": [
       "\u001b[1m10×7 DataFrame\u001b[0m\n",
       "\u001b[1m Row \u001b[0m│\u001b[1m T      \u001b[0m\u001b[1m nsamples \u001b[0m\u001b[1m seed   \u001b[0m\u001b[1m amse      \u001b[0m\u001b[1m emse     \u001b[0m\u001b[1m inference               \u001b[0m ⋯\n",
       "     │\u001b[90m Int64? \u001b[0m\u001b[90m Int64?   \u001b[0m\u001b[90m Int64? \u001b[0m\u001b[90m Float64?  \u001b[0m\u001b[90m Float64? \u001b[0m\u001b[90m Tuple…?                 \u001b[0m ⋯\n",
       "─────┼──────────────────────────────────────────────────────────────────────────\n",
       "   1 │     10        50      42   8.75468    6.20178  (6.05655e9, 6.05655e9, 6 ⋯\n",
       "   2 │     10       100      42   5.71171    4.92248  (1.13747e10, 1.13747e10,\n",
       "   3 │     20        50      42   4.36263   10.0011   (9.22417e9, 9.22417e9, 7\n",
       "   4 │     20       100      42   3.69172    8.02788  (2.1521e10, 2.1521e10, 1\n",
       "   5 │     30        50      42  10.2714     8.10127  (1.81542e10, 1.81542e10, ⋯\n",
       "   6 │     30       100      42  24.3499     6.32423  (4.01462e10, 4.01462e10,\n",
       "   7 │     50        50      42  12.5688     5.25755  (3.79663e10, 3.79663e10,\n",
       "   8 │     50       100      42   6.36813    4.90763  (7.45187e10, 7.45187e10,\n",
       "   9 │    100        50      42   0.615323   5.09143  (9.7227e10, 9.7227e10, 7 ⋯\n",
       "  10 │    100       100      42   1.24621    3.7418   (2.4265e11, 2.4265e11, 1\n",
       "\u001b[36m                                                               2 columns omitted\u001b[0m"
      ]
     },
     "execution_count": 21,
     "metadata": {},
     "output_type": "execute_result"
    }
   ],
   "source": [
    "sort(prepare_benchmarks_table(bfolder), [ :T, :nsamples ])"
   ]
  },
  {
   "cell_type": "markdown",
   "id": "f3e815c8",
   "metadata": {},
   "source": [
    "# Versions"
   ]
  },
  {
   "cell_type": "code",
   "execution_count": 22,
   "id": "9cb4dbcd",
   "metadata": {},
   "outputs": [
    {
     "name": "stdout",
     "output_type": "stream",
     "text": [
      "Julia Version 1.9.0\n",
      "Commit 8e630552924 (2023-05-07 11:25 UTC)\n",
      "Platform Info:\n",
      "  OS: macOS (x86_64-apple-darwin22.4.0)\n",
      "  CPU: 12 × Intel(R) Core(TM) i7-8850H CPU @ 2.60GHz\n",
      "  WORD_SIZE: 64\n",
      "  LIBM: libopenlibm\n",
      "  LLVM: libLLVM-14.0.6 (ORCJIT, skylake)\n",
      "  Threads: 2 on 12 virtual cores\n"
     ]
    }
   ],
   "source": [
    "versioninfo()"
   ]
  },
  {
   "cell_type": "code",
   "execution_count": 14,
   "id": "d4c715ec",
   "metadata": {},
   "outputs": [
    {
     "name": "stdout",
     "output_type": "stream",
     "text": [
      "\u001b[36m\u001b[1mProject\u001b[22m\u001b[39m RxInferThesisExperiments v1.0.0\n",
      "\u001b[32m\u001b[1mStatus\u001b[22m\u001b[39m `~/.julia/dev/thesis/Project.toml`\n",
      "  \u001b[90m[6e4b80f9] \u001b[39mBenchmarkTools v1.3.2\n",
      "  \u001b[90m[35d6a980] \u001b[39mColorSchemes v3.21.0\n",
      "  \u001b[90m[a93c6f00] \u001b[39mDataFrames v1.5.0\n",
      "\u001b[32m⌃\u001b[39m \u001b[90m[31c24e10] \u001b[39mDistributions v0.25.94\n",
      "  \u001b[90m[634d3b9d] \u001b[39mDrWatson v2.12.5\n",
      "  \u001b[90m[9fc3f58a] \u001b[39mForneyLab v0.12.0\n",
      "  \u001b[90m[f6369f11] \u001b[39mForwardDiff v0.10.35\n",
      "  \u001b[90m[7073ff75] \u001b[39mIJulia v1.24.0\n",
      "  \u001b[90m[b964fa9f] \u001b[39mLaTeXStrings v1.3.0\n",
      "  \u001b[90m[3bd65402] \u001b[39mOptimisers v0.2.18\n",
      "  \u001b[90m[8314cec4] \u001b[39mPGFPlotsX v1.6.0\n",
      "  \u001b[90m[e4faabce] \u001b[39mPProf v2.2.2\n",
      "\u001b[32m⌃\u001b[39m \u001b[90m[91a5bcdd] \u001b[39mPlots v1.38.12\n",
      "  \u001b[90m[37e2e3b7] \u001b[39mReverseDiff v1.14.6\n",
      "\u001b[32m⌃\u001b[39m \u001b[90m[86711068] \u001b[39mRxInfer v2.10.4\n",
      "  \u001b[90m[860ef19b] \u001b[39mStableRNGs v1.0.0\n",
      "  \u001b[90m[aedffcd0] \u001b[39mStatic v0.8.7\n",
      "  \u001b[90m[90137ffa] \u001b[39mStaticArrays v1.5.25\n",
      "  \u001b[90m[fce5fe82] \u001b[39mTuring v0.25.1\n",
      "  \u001b[90m[e88e6eb3] \u001b[39mZygote v0.6.61\n",
      "  \u001b[90m[37e2e46d] \u001b[39mLinearAlgebra\n",
      "  \u001b[90m[9a3f8284] \u001b[39mRandom\n",
      "\u001b[36m\u001b[1mInfo\u001b[22m\u001b[39m Packages marked with \u001b[32m⌃\u001b[39m have new versions available and may be upgradable.\n"
     ]
    }
   ],
   "source": [
    "] status"
   ]
  },
  {
   "cell_type": "code",
   "execution_count": null,
   "id": "532a4155",
   "metadata": {},
   "outputs": [],
   "source": []
  }
 ],
 "metadata": {
  "kernelspec": {
   "display_name": "Julia 1.9.0",
   "language": "julia",
   "name": "julia-1.9"
  },
  "language_info": {
   "file_extension": ".jl",
   "mimetype": "application/julia",
   "name": "julia",
   "version": "1.9.0"
  }
 },
 "nbformat": 4,
 "nbformat_minor": 5
}
