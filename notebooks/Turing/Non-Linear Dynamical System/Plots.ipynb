{
 "cells": [
  {
   "cell_type": "markdown",
   "id": "bf120c34",
   "metadata": {},
   "source": [
    "_Author: Dmitry Bagaev_"
   ]
  },
  {
   "cell_type": "code",
   "execution_count": null,
   "id": "1996208a",
   "metadata": {},
   "outputs": [],
   "source": [
    "using DrWatson"
   ]
  },
  {
   "cell_type": "code",
   "execution_count": null,
   "id": "ff90247d",
   "metadata": {},
   "outputs": [],
   "source": [
    "@quickactivate \"RxInferThesisExperiments\""
   ]
  },
  {
   "cell_type": "code",
   "execution_count": null,
   "id": "4addd19a",
   "metadata": {},
   "outputs": [],
   "source": [
    "using RxInferThesisExperiments, Turing, StaticArrays, Plots, PGFPlotsX, LaTeXStrings, ReverseDiff\n",
    "using LinearAlgebra, StableRNGs, Random, BenchmarkTools, ColorSchemes, Dates"
   ]
  },
  {
   "cell_type": "code",
   "execution_count": null,
   "id": "3310e26c",
   "metadata": {},
   "outputs": [],
   "source": [
    "# For the thesis I use the `pgfplotsx` backend of the `Plots`, since it generates high-quiality plots\n",
    "# But it is reallyyy slow, if some wants to generate plots faster uncoment the `gr()` line\n",
    "# pgfplotsx()\n",
    "\n",
    "# Use fast plotting backend\n",
    "gr()"
   ]
  },
  {
   "cell_type": "markdown",
   "id": "a9784ad4",
   "metadata": {},
   "source": [
    "## Double pendulum environment"
   ]
  },
  {
   "cell_type": "code",
   "execution_count": null,
   "id": "f13bfb22",
   "metadata": {},
   "outputs": [],
   "source": [
    "# Create default environment with default parameters\n",
    "const environment = DoublePendulum()"
   ]
  },
  {
   "cell_type": "code",
   "execution_count": null,
   "id": "0850942b",
   "metadata": {},
   "outputs": [],
   "source": [
    "# Define state-transition function, uses RK4 method internally, see the `src/` folder\n",
    "f(state) = state_transition(environment)(state)"
   ]
  },
  {
   "cell_type": "code",
   "execution_count": null,
   "id": "d9b6eed6",
   "metadata": {},
   "outputs": [],
   "source": [
    "# Include the model specification\n",
    "include(srcdir(\"models\", \"turing\", \"doublependulum.jl\"));"
   ]
  },
  {
   "cell_type": "code",
   "execution_count": null,
   "id": "92a5f273",
   "metadata": {},
   "outputs": [],
   "source": [
    "# For plotting purposes I only generate 250 points\n",
    "T = 250\n",
    "seed = 43\n",
    "rng = StableRNG(seed)\n",
    "\n",
    "states, observations = rand(rng, environment, T; random_start = false);\n",
    "\n",
    "# `plotting`range\n",
    "prange = firstindex(states):lastindex(states)\n",
    "colors = ColorSchemes.tableau_10\n",
    "\n",
    "# Some default settings for plotting\n",
    "pfontsettings = (\n",
    "    titlefontsize=18,\n",
    "    guidefontsize=16,\n",
    "    tickfontsize=14,\n",
    "    legendfontsize=14,\n",
    "    legend = :bottomleft,\n",
    "    size = (400, 300)\n",
    ")\n",
    "\n",
    "p1 = plot(xlabel = \"Time step index\", ylabel = \"Angle (radians)\"; pfontsettings...)\n",
    "p1 = plot!(prange, getindex.(states, 1)[prange], color = colors[1], linewidth = 2, label = L\"\\theta_1\")\n",
    "p1 = plot!(p1, prange, getindex.(states, 2)[prange], color = colors[2], linewidth = 2, label = L\"\\theta_2\", style = :dash)\n",
    "p1 = scatter!(p1, prange, observations[prange], ms = 2, msw = 0, color = colors[5], alpha = 0.5, label = L\"y\")\n",
    "\n",
    "p2 = plot(xlabel = \"Time step index\", ylabel = \"Angular velocity (radians / s)\"; pfontsettings...)\n",
    "p2 = plot!(p2, prange, getindex.(states, 3)[prange], color = colors[3], linewidth = 2, label = L\"\\dot{\\theta}_1\")\n",
    "p2 = plot!(p2, prange, getindex.(states, 4)[prange], color = colors[4], linewidth = 2, label = L\"\\dot{\\theta}_2\", style = :dash)\n",
    "\n",
    "plot(p1, p2, layout = @layout([ a b ]), size = (800, 300))"
   ]
  },
  {
   "cell_type": "code",
   "execution_count": null,
   "id": "6596ffb3",
   "metadata": {},
   "outputs": [],
   "source": [
    "tgmodel = double_pendulum(observations, T);\n",
    "results = sample_inference(tgmodel, method = NUTS(), nsamples = 100);"
   ]
  },
  {
   "cell_type": "code",
   "execution_count": null,
   "id": "652fd211",
   "metadata": {},
   "outputs": [],
   "source": [
    "e_states = extract_posteriors(T, results)\n",
    "\n",
    "em = mean.(e_states)\n",
    "ev = std.(e_states)\n",
    "\n",
    "p1 = plot(xlabel = \"Time step index\", ylabel = \"Angle (radians)\"; pfontsettings...)\n",
    "\n",
    "plot!(prange, getindex.(em, 1)[prange], color = colors[3], ribbon = 3getindex.(ev, 1, 1), label = L\"q(\\theta_1)\")\n",
    "plot!(prange, getindex.(em, 2)[prange], color = colors[4], ribbon = 3getindex.(ev, 2, 2), label = L\"q(\\theta_2)\")\n",
    "plot!(prange, getindex.(states, 1)[prange], label = L\"\\theta_1\", color = colors[1], linewidth = 2,)\n",
    "plot!(prange, getindex.(states, 2)[prange], label = L\"\\theta_1\", color = colors[2], linewidth = 2, style = :dash)\n",
    "scatter!(prange, getindex.(observations, 1)[prange], ms = 2, msw = 0, alpha = 0.5, color = colors[5], label = L\"y\")\n",
    "\n",
    "p2 = plot(size=(800, 300), xlabel = \"Time step index\", ylabel = \"Angular velocity (radians / s)\"; pfontsettings...)\n",
    "plot!(prange, getindex.(em, 3)[prange], ribbon = 3getindex.(ev, 3, 3), color = colors[6], label = L\"q(\\dot{\\theta}_1)\")\n",
    "plot!(prange, getindex.(em, 4)[prange], ribbon = 3getindex.(ev, 4, 4), color = colors[7], label = L\"q(\\dot{\\theta}_2)\")\n",
    "plot!(prange, getindex.(states, 3)[prange], color = colors[3], label = L\"\\dot{\\theta}_1\")\n",
    "plot!(prange, getindex.(states, 4)[prange], color = colors[4], label = L\"\\dot{\\theta}_2\")\n",
    "\n",
    "plot(p1, p2, size = (800, 300), layout = @layout([ a b ]))"
   ]
  },
  {
   "cell_type": "code",
   "execution_count": null,
   "id": "3f2a3239-65ad-4a9c-ab35-b9a784646373",
   "metadata": {},
   "outputs": [],
   "source": [
    "println(\"AMSE: \", compute_amse(states, e_states))"
   ]
  },
  {
   "cell_type": "markdown",
   "id": "5f514bfc",
   "metadata": {},
   "source": [
    "# Versions"
   ]
  },
  {
   "cell_type": "code",
   "execution_count": null,
   "id": "45eadb07",
   "metadata": {},
   "outputs": [],
   "source": [
    "versioninfo()"
   ]
  },
  {
   "cell_type": "code",
   "execution_count": null,
   "id": "9d4124a4",
   "metadata": {},
   "outputs": [],
   "source": [
    "] status"
   ]
  }
 ],
 "metadata": {
  "kernelspec": {
   "display_name": "Julia 1.9.0",
   "language": "julia",
   "name": "julia-1.9"
  },
  "language_info": {
   "file_extension": ".jl",
   "mimetype": "application/julia",
   "name": "julia",
   "version": "1.9.0"
  }
 },
 "nbformat": 4,
 "nbformat_minor": 5
}
