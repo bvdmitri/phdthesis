{
 "cells": [
  {
   "cell_type": "code",
   "execution_count": 8,
   "id": "ab51ecfe",
   "metadata": {},
   "outputs": [],
   "source": [
    "using DrWatson"
   ]
  },
  {
   "cell_type": "code",
   "execution_count": 9,
   "id": "e38c5626",
   "metadata": {},
   "outputs": [],
   "source": [
    "@quickactivate \"RxInferThesisExperiments\""
   ]
  },
  {
   "cell_type": "code",
   "execution_count": 15,
   "id": "453726c3",
   "metadata": {},
   "outputs": [],
   "source": [
    "using RxInferThesisExperiments, Turing, StaticArrays, Plots, PGFPlotsX, LaTeXStrings\n",
    "using LinearAlgebra, StableRNGs, Random, BenchmarkTools, ColorSchemes, Dates, ProgressMeter"
   ]
  },
  {
   "cell_type": "code",
   "execution_count": 30,
   "id": "76ad3c68",
   "metadata": {},
   "outputs": [
    {
     "data": {
      "text/plain": [
       "\"/Users/bvdmitri/.julia/dev/thesis/data/hgf/turing/nuts\""
      ]
     },
     "execution_count": 30,
     "metadata": {},
     "output_type": "execute_result"
    }
   ],
   "source": [
    "const bfolder_nuts = datadir(\"hgf\", \"turing\", \"nuts\")"
   ]
  },
  {
   "cell_type": "code",
   "execution_count": 32,
   "id": "2bee77bc",
   "metadata": {},
   "outputs": [],
   "source": [
    "# Pregenerate paths for benchmark data\n",
    "mkpath(bfolder_nuts);"
   ]
  },
  {
   "cell_type": "code",
   "execution_count": 33,
   "id": "7a5c82ca",
   "metadata": {},
   "outputs": [
    {
     "data": {
      "text/plain": [
       "HGFEnvironment()"
      ]
     },
     "execution_count": 33,
     "metadata": {},
     "output_type": "execute_result"
    }
   ],
   "source": [
    "const environment = HGFEnvironment()"
   ]
  },
  {
   "cell_type": "code",
   "execution_count": 38,
   "id": "ad7b64dd",
   "metadata": {},
   "outputs": [
    {
     "name": "stderr",
     "output_type": "stream",
     "text": [
      "\u001b[36m\u001b[1m[ \u001b[22m\u001b[39m\u001b[36m\u001b[1mInfo: \u001b[22m\u001b[39m[Turing]: progress logging is disabled globally\n",
      "\u001b[36m\u001b[1m[ \u001b[22m\u001b[39m\u001b[36m\u001b[1mInfo: \u001b[22m\u001b[39m[AdvancedVI]: global PROGRESS is set as false\n"
     ]
    }
   ],
   "source": [
    "# Include the model specification\n",
    "include(srcdir(\"models\", \"turing\", \"hgf.jl\"));"
   ]
  },
  {
   "cell_type": "code",
   "execution_count": 43,
   "id": "164adec9",
   "metadata": {},
   "outputs": [
    {
     "data": {
      "text/plain": [
       "run_benchmark_nuts (generic function with 1 method)"
      ]
     },
     "execution_count": 43,
     "metadata": {},
     "output_type": "execute_result"
    }
   ],
   "source": [
    "function run_benchmark_nuts(params)\n",
    "    @unpack T, nsamples, seed = params\n",
    "    \n",
    "    zstates, xstates, observations = rand(StableRNG(seed), environment, T);\n",
    "    model    = (observation, zt_min_prior, xt_min_prior, z_std_prior, y_std_prior) -> begin \n",
    "        HGF(observation, zt_min_prior, xt_min_prior, z_std_prior, y_std_prior, environment.kappa, environment.omega)\n",
    "    end\n",
    "    result   = run_inference(model, observations; nsamples = nsamples, rng = StableRNG(seed))\n",
    "    e_states = extract_posteriors(T, result)\n",
    "    z_amse   = compute_amse(zstates, e_states[:z])\n",
    "    x_amse   = compute_amse(xstates, e_states[:x])\n",
    "    \n",
    "    # Turing need to recreate the model every time....\n",
    "    benchmark_modelcreation = @benchmark begin end\n",
    "    \n",
    "    benchmark_inference = @benchmark run_inference(model, observations; nsamples = $nsamples, rng = StableRNG($seed)) setup=begin\n",
    "        model = (observation, zt_min_prior, xt_min_prior, z_std_prior, y_std_prior) -> begin \n",
    "            HGF(observation, zt_min_prior, xt_min_prior, z_std_prior, y_std_prior, environment.kappa, environment.omega)\n",
    "        end\n",
    "        zstates, xstates, observations = rand(StableRNG($seed), environment, $T);\n",
    "    end\n",
    "    \n",
    "    emse = compute_emse(seed) do _seed\n",
    "        local zstates, xstates, observations = rand(StableRNG(_seed), environment, T);\n",
    "        local model = (observation, zt_min_prior, xt_min_prior, z_std_prior, y_std_prior) -> begin \n",
    "            HGF(observation, zt_min_prior, xt_min_prior, z_std_prior, y_std_prior, environment.kappa, environment.omega)\n",
    "        end\n",
    "        local result   = run_inference(model, observations; nsamples = nsamples, rng = StableRNG(_seed))\n",
    "        local e_states = extract_posteriors(T, result)\n",
    "        return [ compute_amse(zstates, e_states[:z]), compute_amse(xstates, e_states[:x]) ]\n",
    "    end\n",
    "    \n",
    "    z_emse = emse[1]\n",
    "    x_emse = emse[2]\n",
    "    \n",
    "    states = (z = zstates, x = xstates)\n",
    "    \n",
    "    output = @strdict T nsamples seed states e_states observations z_amse x_amse z_emse x_emse benchmark_modelcreation benchmark_inference\n",
    "    \n",
    "    return output\n",
    "end"
   ]
  },
  {
   "cell_type": "code",
   "execution_count": 44,
   "id": "7b67d008",
   "metadata": {},
   "outputs": [],
   "source": [
    "# Here we create a list of parameters we want to run our benchmarks with\n",
    "benchmark_params_nuts = dict_list(Dict(\n",
    "    \"T\"           => [ 10, 20 ],\n",
    "    \"nsamples\"    => [ 100, 200 ],\n",
    "    \"seed\"        => [ 42 ]\n",
    "));"
   ]
  },
  {
   "cell_type": "code",
   "execution_count": 45,
   "id": "aa578fcb",
   "metadata": {},
   "outputs": [
    {
     "name": "stderr",
     "output_type": "stream",
     "text": [
      "\u001b[36m\u001b[1m[ \u001b[22m\u001b[39m\u001b[36m\u001b[1mInfo: \u001b[22m\u001b[39mFile /Users/bvdmitri/.julia/dev/thesis/data/hgf/turing/nuts/T=10_nsamples=100_seed=42.jld2 does not exist. Producing it now...\n",
      "\u001b[32mProgress: 100%|█████████████████████████████████████████| Time: 0:00:10\u001b[39m\n",
      "\u001b[32mProgress: 100%|█████████████████████████████████████████| Time: 0:00:09\u001b[39m\n",
      "\u001b[32mProgress: 100%|█████████████████████████████████████████| Time: 0:00:09\u001b[39m\n",
      "\u001b[32mProgress: 100%|█████████████████████████████████████████| Time: 0:00:09\u001b[39m\n",
      "\u001b[32mProgress: 100%|█████████████████████████████████████████| Time: 0:00:09\u001b[39m\n",
      "\u001b[32mProgress: 100%|█████████████████████████████████████████| Time: 0:00:09\u001b[39m\n",
      "\u001b[32mProgress: 100%|█████████████████████████████████████████| Time: 0:00:07\u001b[39m\n",
      "\u001b[32mProgress: 100%|█████████████████████████████████████████| Time: 0:00:08\u001b[39m\n",
      "\u001b[32mProgress: 100%|█████████████████████████████████████████| Time: 0:00:07\u001b[39m\n",
      "\u001b[32mProgress: 100%|█████████████████████████████████████████| Time: 0:00:08\u001b[39m\n",
      "\u001b[32mProgress: 100%|█████████████████████████████████████████| Time: 0:00:08\u001b[39m\n",
      "\u001b[32mProgress: 100%|█████████████████████████████████████████| Time: 0:00:08\u001b[39m\n",
      "\u001b[32mProgress: 100%|█████████████████████████████████████████| Time: 0:00:07\u001b[39m\n",
      "\u001b[32mProgress: 100%|█████████████████████████████████████████| Time: 0:00:08\u001b[39m\n",
      "\u001b[32mProgress: 100%|█████████████████████████████████████████| Time: 0:00:05\u001b[39m\n",
      "\u001b[32mProgress: 100%|█████████████████████████████████████████| Time: 0:00:08\u001b[39m\n",
      "\u001b[36m\u001b[1m[ \u001b[22m\u001b[39m\u001b[36m\u001b[1mInfo: \u001b[22m\u001b[39mFile /Users/bvdmitri/.julia/dev/thesis/data/hgf/turing/nuts/T=10_nsamples=100_seed=42.jld2 saved.\n",
      "\u001b[36m\u001b[1m[ \u001b[22m\u001b[39m\u001b[36m\u001b[1mInfo: \u001b[22m\u001b[39mFile /Users/bvdmitri/.julia/dev/thesis/data/hgf/turing/nuts/T=20_nsamples=100_seed=42.jld2 does not exist. Producing it now...\n",
      "\u001b[32mProgress: 100%|█████████████████████████████████████████| Time: 0:00:19\u001b[39m\n",
      "\u001b[32mProgress: 100%|█████████████████████████████████████████| Time: 0:00:17\u001b[39m\n",
      "\u001b[32mProgress: 100%|█████████████████████████████████████████| Time: 0:00:18\u001b[39m\n",
      "\u001b[32mProgress: 100%|█████████████████████████████████████████| Time: 0:00:17\u001b[39m\n",
      "\u001b[32mProgress: 100%|█████████████████████████████████████████| Time: 0:00:17\u001b[39m\n",
      "\u001b[32mProgress: 100%|█████████████████████████████████████████| Time: 0:00:17\u001b[39m\n",
      "\u001b[32mProgress: 100%|█████████████████████████████████████████| Time: 0:00:16\u001b[39m\n",
      "\u001b[32mProgress: 100%|█████████████████████████████████████████| Time: 0:00:15\u001b[39m\n",
      "\u001b[32mProgress: 100%|█████████████████████████████████████████| Time: 0:00:17\u001b[39m\n",
      "\u001b[32mProgress: 100%|█████████████████████████████████████████| Time: 0:00:17\u001b[39m\n",
      "\u001b[32mProgress: 100%|█████████████████████████████████████████| Time: 0:00:17\u001b[39m\n",
      "\u001b[32mProgress: 100%|█████████████████████████████████████████| Time: 0:00:17\u001b[39m\n",
      "\u001b[32mProgress: 100%|█████████████████████████████████████████| Time: 0:00:17\u001b[39m\n",
      "\u001b[32mProgress: 100%|█████████████████████████████████████████| Time: 0:00:17\u001b[39m\n",
      "\u001b[32mProgress: 100%|█████████████████████████████████████████| Time: 0:00:14\u001b[39m\n",
      "\u001b[32mProgress: 100%|█████████████████████████████████████████| Time: 0:00:13\u001b[39m\n",
      "\u001b[36m\u001b[1m[ \u001b[22m\u001b[39m\u001b[36m\u001b[1mInfo: \u001b[22m\u001b[39mFile /Users/bvdmitri/.julia/dev/thesis/data/hgf/turing/nuts/T=20_nsamples=100_seed=42.jld2 saved.\n",
      "\u001b[36m\u001b[1m[ \u001b[22m\u001b[39m\u001b[36m\u001b[1mInfo: \u001b[22m\u001b[39mFile /Users/bvdmitri/.julia/dev/thesis/data/hgf/turing/nuts/T=10_nsamples=200_seed=42.jld2 does not exist. Producing it now...\n",
      "\u001b[32mProgress: 100%|█████████████████████████████████████████| Time: 0:00:18\u001b[39m\n",
      "\u001b[32mProgress: 100%|█████████████████████████████████████████| Time: 0:00:17\u001b[39m\n",
      "\u001b[32mProgress: 100%|█████████████████████████████████████████| Time: 0:00:17\u001b[39m\n",
      "\u001b[32mProgress: 100%|█████████████████████████████████████████| Time: 0:00:17\u001b[39m\n",
      "\u001b[32mProgress: 100%|█████████████████████████████████████████| Time: 0:00:17\u001b[39m\n",
      "\u001b[32mProgress: 100%|█████████████████████████████████████████| Time: 0:00:17\u001b[39m\n",
      "\u001b[32mProgress: 100%|█████████████████████████████████████████| Time: 0:00:18\u001b[39m\n",
      "\u001b[32mProgress: 100%|█████████████████████████████████████████| Time: 0:00:18\u001b[39m\n",
      "\u001b[32mProgress: 100%|█████████████████████████████████████████| Time: 0:00:19\u001b[39m\n",
      "\u001b[32mProgress: 100%|█████████████████████████████████████████| Time: 0:00:18\u001b[39m\n",
      "\u001b[32mProgress: 100%|█████████████████████████████████████████| Time: 0:00:18\u001b[39m\n",
      "\u001b[32mProgress: 100%|█████████████████████████████████████████| Time: 0:00:18\u001b[39m\n",
      "\u001b[32mProgress: 100%|█████████████████████████████████████████| Time: 0:00:19\u001b[39m\n",
      "\u001b[32mProgress: 100%|█████████████████████████████████████████| Time: 0:00:18\u001b[39m\n",
      "\u001b[32mProgress: 100%|█████████████████████████████████████████| Time: 0:00:17\u001b[39m\n",
      "\u001b[32mProgress: 100%|█████████████████████████████████████████| Time: 0:00:19\u001b[39m\n",
      "\u001b[36m\u001b[1m[ \u001b[22m\u001b[39m\u001b[36m\u001b[1mInfo: \u001b[22m\u001b[39mFile /Users/bvdmitri/.julia/dev/thesis/data/hgf/turing/nuts/T=10_nsamples=200_seed=42.jld2 saved.\n",
      "\u001b[36m\u001b[1m[ \u001b[22m\u001b[39m\u001b[36m\u001b[1mInfo: \u001b[22m\u001b[39mFile /Users/bvdmitri/.julia/dev/thesis/data/hgf/turing/nuts/T=20_nsamples=200_seed=42.jld2 does not exist. Producing it now...\n",
      "\u001b[32mProgress: 100%|█████████████████████████████████████████| Time: 0:00:37\u001b[39m\n",
      "\u001b[32mProgress: 100%|█████████████████████████████████████████| Time: 0:00:35\u001b[39m\n",
      "\u001b[32mProgress: 100%|█████████████████████████████████████████| Time: 0:00:36\u001b[39m\n",
      "\u001b[32mProgress: 100%|█████████████████████████████████████████| Time: 0:00:35\u001b[39m\n",
      "\u001b[32mProgress: 100%|█████████████████████████████████████████| Time: 0:00:35\u001b[39m\n",
      "\u001b[32mProgress: 100%|█████████████████████████████████████████| Time: 0:00:36\u001b[39m\n",
      "\u001b[32mProgress: 100%|█████████████████████████████████████████| Time: 0:00:38\u001b[39m\n",
      "\u001b[32mProgress: 100%|█████████████████████████████████████████| Time: 0:00:38\u001b[39m\n",
      "\u001b[32mProgress: 100%|█████████████████████████████████████████| Time: 0:00:37\u001b[39m\n",
      "\u001b[32mProgress: 100%|█████████████████████████████████████████| Time: 0:00:39\u001b[39m\n",
      "\u001b[32mProgress: 100%|█████████████████████████████████████████| Time: 0:00:38\u001b[39m\n",
      "\u001b[32mProgress: 100%|█████████████████████████████████████████| Time: 0:00:37\u001b[39m\n",
      "\u001b[32mProgress: 100%|█████████████████████████████████████████| Time: 0:00:37\u001b[39m\n",
      "\u001b[32mProgress: 100%|█████████████████████████████████████████| Time: 0:00:37\u001b[39m\n",
      "\u001b[32mProgress: 100%|█████████████████████████████████████████| Time: 0:00:37\u001b[39m\n",
      "\u001b[32mProgress: 100%|█████████████████████████████████████████| Time: 0:00:39\u001b[39m\n",
      "\u001b[36m\u001b[1m[ \u001b[22m\u001b[39m\u001b[36m\u001b[1mInfo: \u001b[22m\u001b[39mFile /Users/bvdmitri/.julia/dev/thesis/data/hgf/turing/nuts/T=20_nsamples=200_seed=42.jld2 saved.\n"
     ]
    }
   ],
   "source": [
    "# First run maybe slow, you may track the progress in the terminal\n",
    "# Subsequent runs will not create new benchmarks \n",
    "# but will reload it from data folder\n",
    "benchmarks_nuts = map(benchmark_params) do params\n",
    "    result, _ = produce_or_load(run_benchmark_nuts, bfolder_nuts, params; tag = false, force = false)\n",
    "    return result\n",
    "end;"
   ]
  },
  {
   "cell_type": "code",
   "execution_count": 46,
   "id": "4bf57e42",
   "metadata": {},
   "outputs": [
    {
     "name": "stderr",
     "output_type": "stream",
     "text": [
      "\u001b[36m\u001b[1m[ \u001b[22m\u001b[39m\u001b[36m\u001b[1mInfo: \u001b[22m\u001b[39mScanning folder /Users/bvdmitri/.julia/dev/thesis/data/hgf/turing/nuts for result files.\n",
      "\u001b[36m\u001b[1m[ \u001b[22m\u001b[39m\u001b[36m\u001b[1mInfo: \u001b[22m\u001b[39mAdded 4 entries.\n"
     ]
    },
    {
     "data": {
      "text/html": [
       "<div><div style = \"float: left;\"><span>4×9 DataFrame</span></div><div style = \"clear: both;\"></div></div><div class = \"data-frame\" style = \"overflow-x: scroll;\"><table class = \"data-frame\" style = \"margin-bottom: 6px;\"><thead><tr class = \"header\"><th class = \"rowNumber\" style = \"font-weight: bold; text-align: right;\">Row</th><th style = \"text-align: left;\">T</th><th style = \"text-align: left;\">nsamples</th><th style = \"text-align: left;\">z_emse</th><th style = \"text-align: left;\">x_emse</th><th style = \"text-align: left;\">z_amse</th><th style = \"text-align: left;\">seed</th><th style = \"text-align: left;\">x_amse</th><th style = \"text-align: left;\">inference</th><th style = \"text-align: left;\">creation</th></tr><tr class = \"subheader headerLastRow\"><th class = \"rowNumber\" style = \"font-weight: bold; text-align: right;\"></th><th title = \"Union{Missing, Int64}\" style = \"text-align: left;\">Int64?</th><th title = \"Union{Missing, Int64}\" style = \"text-align: left;\">Int64?</th><th title = \"Union{Missing, Float64}\" style = \"text-align: left;\">Float64?</th><th title = \"Union{Missing, Float64}\" style = \"text-align: left;\">Float64?</th><th title = \"Union{Missing, Float64}\" style = \"text-align: left;\">Float64?</th><th title = \"Union{Missing, Int64}\" style = \"text-align: left;\">Int64?</th><th title = \"Union{Missing, Float64}\" style = \"text-align: left;\">Float64?</th><th title = \"Union{Missing, Tuple{Float64, Float64, Float64}}\" style = \"text-align: left;\">Tuple…?</th><th title = \"Union{Missing, Tuple{Float64, Float64, Float64}}\" style = \"text-align: left;\">Tuple…?</th></tr></thead><tbody><tr><td class = \"rowNumber\" style = \"font-weight: bold; text-align: right;\">1</td><td style = \"text-align: right;\">10</td><td style = \"text-align: right;\">100</td><td style = \"text-align: right;\">0.415509</td><td style = \"text-align: right;\">2.89447</td><td style = \"text-align: right;\">0.0754081</td><td style = \"text-align: right;\">42</td><td style = \"text-align: right;\">3.07153</td><td style = \"text-align: left;\">(9.14985e9, 9.14985e9, 8.50423e8)</td><td style = \"text-align: left;\">(1.723, 1.80874, 0.0)</td></tr><tr><td class = \"rowNumber\" style = \"font-weight: bold; text-align: right;\">2</td><td style = \"text-align: right;\">10</td><td style = \"text-align: right;\">200</td><td style = \"text-align: right;\">0.994373</td><td style = \"text-align: right;\">3.23911</td><td style = \"text-align: right;\">0.693759</td><td style = \"text-align: right;\">42</td><td style = \"text-align: right;\">3.05412</td><td style = \"text-align: left;\">(1.71935e10, 1.71935e10, 1.58064e9)</td><td style = \"text-align: left;\">(1.611, 1.75376, 0.0)</td></tr><tr><td class = \"rowNumber\" style = \"font-weight: bold; text-align: right;\">3</td><td style = \"text-align: right;\">20</td><td style = \"text-align: right;\">100</td><td style = \"text-align: right;\">0.395771</td><td style = \"text-align: right;\">5.40503</td><td style = \"text-align: right;\">0.0754647</td><td style = \"text-align: right;\">42</td><td style = \"text-align: right;\">10.0394</td><td style = \"text-align: left;\">(1.73864e10, 1.73864e10, 1.59673e9)</td><td style = \"text-align: left;\">(1.612, 1.77466, 0.0)</td></tr><tr><td class = \"rowNumber\" style = \"font-weight: bold; text-align: right;\">4</td><td style = \"text-align: right;\">20</td><td style = \"text-align: right;\">200</td><td style = \"text-align: right;\">0.690889</td><td style = \"text-align: right;\">4.92082</td><td style = \"text-align: right;\">0.442536</td><td style = \"text-align: right;\">42</td><td style = \"text-align: right;\">8.81883</td><td style = \"text-align: left;\">(3.54283e10, 3.54283e10, 3.38062e9)</td><td style = \"text-align: left;\">(1.612, 1.75244, 0.0)</td></tr></tbody></table></div>"
      ],
      "text/latex": [
       "\\begin{tabular}{r|ccccccccc}\n",
       "\t& T & nsamples & z\\_emse & x\\_emse & z\\_amse & seed & x\\_amse & inference & \\\\\n",
       "\t\\hline\n",
       "\t& Int64? & Int64? & Float64? & Float64? & Float64? & Int64? & Float64? & Tuple…? & \\\\\n",
       "\t\\hline\n",
       "\t1 & 10 & 100 & 0.415509 & 2.89447 & 0.0754081 & 42 & 3.07153 & (9.14985e9, 9.14985e9, 8.50423e8) & $\\dots$ \\\\\n",
       "\t2 & 10 & 200 & 0.994373 & 3.23911 & 0.693759 & 42 & 3.05412 & (1.71935e10, 1.71935e10, 1.58064e9) & $\\dots$ \\\\\n",
       "\t3 & 20 & 100 & 0.395771 & 5.40503 & 0.0754647 & 42 & 10.0394 & (1.73864e10, 1.73864e10, 1.59673e9) & $\\dots$ \\\\\n",
       "\t4 & 20 & 200 & 0.690889 & 4.92082 & 0.442536 & 42 & 8.81883 & (3.54283e10, 3.54283e10, 3.38062e9) & $\\dots$ \\\\\n",
       "\\end{tabular}\n"
      ],
      "text/plain": [
       "\u001b[1m4×9 DataFrame\u001b[0m\n",
       "\u001b[1m Row \u001b[0m│\u001b[1m T      \u001b[0m\u001b[1m nsamples \u001b[0m\u001b[1m z_emse   \u001b[0m\u001b[1m x_emse   \u001b[0m\u001b[1m z_amse    \u001b[0m\u001b[1m seed   \u001b[0m\u001b[1m x_amse   \u001b[0m\u001b[1m infe\u001b[0m ⋯\n",
       "     │\u001b[90m Int64? \u001b[0m\u001b[90m Int64?   \u001b[0m\u001b[90m Float64? \u001b[0m\u001b[90m Float64? \u001b[0m\u001b[90m Float64?  \u001b[0m\u001b[90m Int64? \u001b[0m\u001b[90m Float64? \u001b[0m\u001b[90m Tupl\u001b[0m ⋯\n",
       "─────┼──────────────────────────────────────────────────────────────────────────\n",
       "   1 │     10       100  0.415509   2.89447  0.0754081      42   3.07153  (9.1 ⋯\n",
       "   2 │     10       200  0.994373   3.23911  0.693759       42   3.05412  (1.7\n",
       "   3 │     20       100  0.395771   5.40503  0.0754647      42  10.0394   (1.7\n",
       "   4 │     20       200  0.690889   4.92082  0.442536       42   8.81883  (3.5\n",
       "\u001b[36m                                                               2 columns omitted\u001b[0m"
      ]
     },
     "execution_count": 46,
     "metadata": {},
     "output_type": "execute_result"
    }
   ],
   "source": [
    "sort(prepare_benchmarks_table(bfolder), [ :T ])"
   ]
  },
  {
   "cell_type": "markdown",
   "id": "8908d2e2",
   "metadata": {},
   "source": [
    "# Versions"
   ]
  },
  {
   "cell_type": "code",
   "execution_count": 47,
   "id": "50e7ce97",
   "metadata": {},
   "outputs": [
    {
     "name": "stdout",
     "output_type": "stream",
     "text": [
      "Julia Version 1.9.0\n",
      "Commit 8e630552924 (2023-05-07 11:25 UTC)\n",
      "Platform Info:\n",
      "  OS: macOS (x86_64-apple-darwin22.4.0)\n",
      "  CPU: 12 × Intel(R) Core(TM) i7-8850H CPU @ 2.60GHz\n",
      "  WORD_SIZE: 64\n",
      "  LIBM: libopenlibm\n",
      "  LLVM: libLLVM-14.0.6 (ORCJIT, skylake)\n",
      "  Threads: 2 on 12 virtual cores\n"
     ]
    }
   ],
   "source": [
    "versioninfo()"
   ]
  },
  {
   "cell_type": "code",
   "execution_count": 48,
   "id": "64587a7c",
   "metadata": {},
   "outputs": [
    {
     "name": "stdout",
     "output_type": "stream",
     "text": [
      "\u001b[36m\u001b[1mProject\u001b[22m\u001b[39m RxInferThesisExperiments v1.0.0\n",
      "\u001b[32m\u001b[1mStatus\u001b[22m\u001b[39m `~/.julia/dev/thesis/Project.toml`\n",
      "  \u001b[90m[b5ca4192] \u001b[39mAdvancedVI v0.2.3\n",
      "  \u001b[90m[6e4b80f9] \u001b[39mBenchmarkTools v1.3.2\n",
      "  \u001b[90m[76274a88] \u001b[39mBijectors v0.12.4\n",
      "  \u001b[90m[35d6a980] \u001b[39mColorSchemes v3.21.0\n",
      "  \u001b[90m[a93c6f00] \u001b[39mDataFrames v1.5.0\n",
      "  \u001b[90m[31c24e10] \u001b[39mDistributions v0.25.95\n",
      "  \u001b[90m[634d3b9d] \u001b[39mDrWatson v2.12.5\n",
      "  \u001b[90m[442a2c76] \u001b[39mFastGaussQuadrature v0.5.1\n",
      "  \u001b[90m[9fc3f58a] \u001b[39mForneyLab v0.12.0\n",
      "  \u001b[90m[f6369f11] \u001b[39mForwardDiff v0.10.35\n",
      "  \u001b[90m[14197337] \u001b[39mGenericLinearAlgebra v0.3.11\n",
      "  \u001b[90m[19dc6840] \u001b[39mHCubature v1.5.1\n",
      "  \u001b[90m[7073ff75] \u001b[39mIJulia v1.24.0\n",
      "  \u001b[90m[b964fa9f] \u001b[39mLaTeXStrings v1.3.0\n",
      "  \u001b[90m[bdcacae8] \u001b[39mLoopVectorization v0.12.159\n",
      "  \u001b[90m[3bd65402] \u001b[39mOptimisers v0.2.18\n",
      "  \u001b[90m[8314cec4] \u001b[39mPGFPlotsX v1.6.0\n",
      "  \u001b[90m[e4faabce] \u001b[39mPProf v2.2.2\n",
      "  \u001b[90m[91a5bcdd] \u001b[39mPlots v1.38.15\n",
      "  \u001b[90m[92933f4c] \u001b[39mProgressMeter v1.7.2\n",
      "  \u001b[90m[37e2e3b7] \u001b[39mReverseDiff v1.14.6\n",
      "  \u001b[90m[86711068] \u001b[39mRxInfer v2.11.0\n",
      "  \u001b[90m[860ef19b] \u001b[39mStableRNGs v1.0.0\n",
      "  \u001b[90m[aedffcd0] \u001b[39mStatic v0.8.7\n",
      "  \u001b[90m[90137ffa] \u001b[39mStaticArrays v1.5.25\n",
      "\u001b[33m⌅\u001b[39m \u001b[90m[2913bbd2] \u001b[39mStatsBase v0.33.21\n",
      "  \u001b[90m[4c63d2b9] \u001b[39mStatsFuns v1.3.0\n",
      "  \u001b[90m[fce5fe82] \u001b[39mTuring v0.25.1\n",
      "  \u001b[90m[37e2e46d] \u001b[39mLinearAlgebra\n",
      "  \u001b[90m[9a3f8284] \u001b[39mRandom\n",
      "\u001b[36m\u001b[1mInfo\u001b[22m\u001b[39m Packages marked with \u001b[33m⌅\u001b[39m have new versions available but compatibility constraints restrict them from upgrading. To see why use `status --outdated`\n"
     ]
    }
   ],
   "source": [
    "] status"
   ]
  }
 ],
 "metadata": {
  "kernelspec": {
   "display_name": "Julia 1.9.0",
   "language": "julia",
   "name": "julia-1.9"
  },
  "language_info": {
   "file_extension": ".jl",
   "mimetype": "application/julia",
   "name": "julia",
   "version": "1.9.0"
  }
 },
 "nbformat": 4,
 "nbformat_minor": 5
}
