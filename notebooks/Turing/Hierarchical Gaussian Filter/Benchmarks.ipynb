{
 "cells": [
  {
   "cell_type": "code",
   "execution_count": 15,
   "id": "ab51ecfe",
   "metadata": {},
   "outputs": [],
   "source": [
    "using DrWatson"
   ]
  },
  {
   "cell_type": "code",
   "execution_count": 16,
   "id": "e38c5626",
   "metadata": {},
   "outputs": [],
   "source": [
    "@quickactivate \"RxInferThesisExperiments\""
   ]
  },
  {
   "cell_type": "code",
   "execution_count": 17,
   "id": "453726c3",
   "metadata": {},
   "outputs": [],
   "source": [
    "using RxInferThesisExperiments, Turing, StaticArrays, Plots, PGFPlotsX, LaTeXStrings\n",
    "using LinearAlgebra, StableRNGs, Random, BenchmarkTools, ColorSchemes, Dates, ProgressMeter, Logging"
   ]
  },
  {
   "cell_type": "code",
   "execution_count": 18,
   "id": "76ad3c68",
   "metadata": {},
   "outputs": [
    {
     "data": {
      "text/plain": [
       "\"/Users/bvdmitri/.julia/dev/RxInferThesisExperiments/data/hgf/turing/nuts\""
      ]
     },
     "execution_count": 18,
     "metadata": {},
     "output_type": "execute_result"
    }
   ],
   "source": [
    "const bfolder_nuts = datadir(\"hgf\", \"turing\", \"nuts\")"
   ]
  },
  {
   "cell_type": "code",
   "execution_count": 19,
   "id": "2bee77bc",
   "metadata": {},
   "outputs": [],
   "source": [
    "# Pregenerate paths for benchmark data\n",
    "mkpath(bfolder_nuts);"
   ]
  },
  {
   "cell_type": "code",
   "execution_count": 20,
   "id": "7a5c82ca",
   "metadata": {},
   "outputs": [
    {
     "data": {
      "text/plain": [
       "HGFEnvironment()"
      ]
     },
     "execution_count": 20,
     "metadata": {},
     "output_type": "execute_result"
    }
   ],
   "source": [
    "const environment = HGFEnvironment()"
   ]
  },
  {
   "cell_type": "code",
   "execution_count": 21,
   "id": "ad7b64dd",
   "metadata": {},
   "outputs": [
    {
     "name": "stderr",
     "output_type": "stream",
     "text": [
      "\u001b[36m\u001b[1m[ \u001b[22m\u001b[39m\u001b[36m\u001b[1mInfo: \u001b[22m\u001b[39m[Turing]: progress logging is disabled globally\n",
      "\u001b[36m\u001b[1m[ \u001b[22m\u001b[39m\u001b[36m\u001b[1mInfo: \u001b[22m\u001b[39m[AdvancedVI]: global PROGRESS is set as false\n"
     ]
    }
   ],
   "source": [
    "# Include the model specification\n",
    "include(srcdir(\"models\", \"turing\", \"hgf.jl\"));"
   ]
  },
  {
   "cell_type": "code",
   "execution_count": 22,
   "id": "164adec9",
   "metadata": {},
   "outputs": [
    {
     "data": {
      "text/plain": [
       "run_benchmark_nuts (generic function with 1 method)"
      ]
     },
     "execution_count": 22,
     "metadata": {},
     "output_type": "execute_result"
    }
   ],
   "source": [
    "function run_benchmark_nuts(params)\n",
    "    return with_logger(NullLogger()) do\n",
    "        @unpack T, nsamples, seed = params\n",
    "\n",
    "        zstates, xstates, observations = rand(StableRNG(seed), environment, T);\n",
    "        model    = (observation, zt_min_prior, xt_min_prior, z_std_prior, y_std_prior) -> begin \n",
    "            HGF(observation, zt_min_prior, xt_min_prior, z_std_prior, y_std_prior, environment.kappa, environment.omega)\n",
    "        end\n",
    "        result   = run_inference(model, observations; nsamples = nsamples, rng = StableRNG(seed))\n",
    "        e_states = extract_posteriors(T, result)\n",
    "        z_amse   = compute_amse(zstates, e_states[:z])\n",
    "        x_amse   = compute_amse(xstates, e_states[:x])\n",
    "\n",
    "        # Turing need to recreate the model every time....\n",
    "        benchmark_modelcreation = @benchmark begin end\n",
    "\n",
    "        benchmark_inference = @benchmark run_inference(model, observations; nsamples = $nsamples, rng = StableRNG($seed)) setup=begin\n",
    "            model = (observation, zt_min_prior, xt_min_prior, z_std_prior, y_std_prior) -> begin \n",
    "                HGF(observation, zt_min_prior, xt_min_prior, z_std_prior, y_std_prior, environment.kappa, environment.omega)\n",
    "            end\n",
    "            zstates, xstates, observations = rand(StableRNG($seed), environment, $T);\n",
    "        end\n",
    "\n",
    "        emse = compute_emse(seed) do _seed\n",
    "            local zstates, xstates, observations = rand(StableRNG(_seed), environment, T);\n",
    "            local model = (observation, zt_min_prior, xt_min_prior, z_std_prior, y_std_prior) -> begin \n",
    "                HGF(observation, zt_min_prior, xt_min_prior, z_std_prior, y_std_prior, environment.kappa, environment.omega)\n",
    "            end\n",
    "            local result   = run_inference(model, observations; nsamples = nsamples, rng = StableRNG(_seed))\n",
    "            local e_states = extract_posteriors(T, result)\n",
    "            return [ compute_amse(zstates, e_states[:z]), compute_amse(xstates, e_states[:x]) ]\n",
    "        end\n",
    "\n",
    "        z_emse = emse[1]\n",
    "        x_emse = emse[2]\n",
    "\n",
    "        states = (z = zstates, x = xstates)\n",
    "\n",
    "        output = @strdict T nsamples seed states e_states observations z_amse x_amse z_emse x_emse benchmark_modelcreation benchmark_inference\n",
    "\n",
    "        return output\n",
    "    end\n",
    "end"
   ]
  },
  {
   "cell_type": "code",
   "execution_count": 23,
   "id": "7b67d008",
   "metadata": {},
   "outputs": [],
   "source": [
    "# Here we create a list of parameters we want to run our benchmarks with\n",
    "benchmark_params_nuts = dict_list(Dict(\n",
    "    \"T\"           => [ 10, 20, 30, 100, 300 ],\n",
    "    \"nsamples\"    => [ 100, 200 ],\n",
    "    \"seed\"        => [ 42 ]\n",
    "));"
   ]
  },
  {
   "cell_type": "code",
   "execution_count": 24,
   "id": "aa578fcb",
   "metadata": {},
   "outputs": [
    {
     "name": "stderr",
     "output_type": "stream",
     "text": [
      "\u001b[36m\u001b[1m[ \u001b[22m\u001b[39m\u001b[36m\u001b[1mInfo: \u001b[22m\u001b[39mFile /Users/bvdmitri/.julia/dev/RxInferThesisExperiments/data/hgf/turing/nuts/T=10_nsamples=100_seed=42.jld2 does not exist. Producing it now...\n",
      "\u001b[32mProgress: 100%|█████████████████████████████████████████| Time: 0:00:14\u001b[39m\n",
      "\u001b[32mProgress: 100%|█████████████████████████████████████████| Time: 0:00:04\u001b[39m\n",
      "\u001b[32mProgress: 100%|█████████████████████████████████████████| Time: 0:00:04\u001b[39m\n",
      "\u001b[32mProgress: 100%|█████████████████████████████████████████| Time: 0:00:04\u001b[39m\n",
      "\u001b[32mProgress: 100%|█████████████████████████████████████████| Time: 0:00:04\u001b[39m\n",
      "\u001b[32mProgress: 100%|█████████████████████████████████████████| Time: 0:00:04\u001b[39m\n",
      "\u001b[32mProgress: 100%|█████████████████████████████████████████| Time: 0:00:04\u001b[39m\n",
      "\u001b[32mProgress: 100%|█████████████████████████████████████████| Time: 0:00:04\u001b[39m\n",
      "\u001b[32mProgress: 100%|█████████████████████████████████████████| Time: 0:00:04\u001b[39m\n",
      "\u001b[32mProgress: 100%|█████████████████████████████████████████| Time: 0:00:04\u001b[39m\n",
      "\u001b[32mProgress: 100%|█████████████████████████████████████████| Time: 0:00:04\u001b[39m\n",
      "\u001b[32mProgress: 100%|█████████████████████████████████████████| Time: 0:00:04\u001b[39m\n",
      "\u001b[32mProgress: 100%|█████████████████████████████████████████| Time: 0:00:04\u001b[39m\n",
      "\u001b[32mProgress: 100%|█████████████████████████████████████████| Time: 0:00:04\u001b[39m\n",
      "\u001b[32mProgress: 100%|█████████████████████████████████████████| Time: 0:00:04\u001b[39m\n",
      "\u001b[32mProgress: 100%|█████████████████████████████████████████| Time: 0:00:04\u001b[39m\n",
      "\u001b[32mProgress: 100%|█████████████████████████████████████████| Time: 0:00:04\u001b[39m\n",
      "\u001b[32mProgress: 100%|█████████████████████████████████████████| Time: 0:00:04\u001b[39m\n",
      "\u001b[32mProgress: 100%|█████████████████████████████████████████| Time: 0:00:03\u001b[39m\n",
      "\u001b[36m\u001b[1m[ \u001b[22m\u001b[39m\u001b[36m\u001b[1mInfo: \u001b[22m\u001b[39mFile /Users/bvdmitri/.julia/dev/RxInferThesisExperiments/data/hgf/turing/nuts/T=10_nsamples=100_seed=42.jld2 saved.\n",
      "\u001b[36m\u001b[1m[ \u001b[22m\u001b[39m\u001b[36m\u001b[1mInfo: \u001b[22m\u001b[39mFile /Users/bvdmitri/.julia/dev/RxInferThesisExperiments/data/hgf/turing/nuts/T=20_nsamples=100_seed=42.jld2 does not exist. Producing it now...\n",
      "\u001b[32mProgress: 100%|█████████████████████████████████████████| Time: 0:00:09\u001b[39m\n",
      "\u001b[32mProgress: 100%|█████████████████████████████████████████| Time: 0:00:08\u001b[39m\n",
      "\u001b[32mProgress: 100%|█████████████████████████████████████████| Time: 0:00:09\u001b[39m\n",
      "\u001b[32mProgress: 100%|█████████████████████████████████████████| Time: 0:00:09\u001b[39m\n",
      "\u001b[32mProgress: 100%|█████████████████████████████████████████| Time: 0:00:08\u001b[39m\n",
      "\u001b[32mProgress: 100%|█████████████████████████████████████████| Time: 0:00:09\u001b[39m\n",
      "\u001b[32mProgress: 100%|█████████████████████████████████████████| Time: 0:00:09\u001b[39m\n",
      "\u001b[32mProgress: 100%|█████████████████████████████████████████| Time: 0:00:08\u001b[39m\n",
      "\u001b[32mProgress: 100%|█████████████████████████████████████████| Time: 0:00:09\u001b[39m\n",
      "\u001b[32mProgress: 100%|█████████████████████████████████████████| Time: 0:00:09\u001b[39m\n",
      "\u001b[32mProgress: 100%|█████████████████████████████████████████| Time: 0:00:09\u001b[39m\n",
      "\u001b[32mProgress: 100%|█████████████████████████████████████████| Time: 0:00:09\u001b[39m\n",
      "\u001b[32mProgress: 100%|█████████████████████████████████████████| Time: 0:00:09\u001b[39m\n",
      "\u001b[32mProgress: 100%|█████████████████████████████████████████| Time: 0:00:09\u001b[39m\n",
      "\u001b[32mProgress: 100%|█████████████████████████████████████████| Time: 0:00:08\u001b[39m\n",
      "\u001b[32mProgress: 100%|█████████████████████████████████████████| Time: 0:00:06\u001b[39m\n",
      "\u001b[36m\u001b[1m[ \u001b[22m\u001b[39m\u001b[36m\u001b[1mInfo: \u001b[22m\u001b[39mFile /Users/bvdmitri/.julia/dev/RxInferThesisExperiments/data/hgf/turing/nuts/T=20_nsamples=100_seed=42.jld2 saved.\n",
      "\u001b[36m\u001b[1m[ \u001b[22m\u001b[39m\u001b[36m\u001b[1mInfo: \u001b[22m\u001b[39mFile /Users/bvdmitri/.julia/dev/RxInferThesisExperiments/data/hgf/turing/nuts/T=30_nsamples=100_seed=42.jld2 does not exist. Producing it now...\n",
      "\u001b[32mProgress: 100%|█████████████████████████████████████████| Time: 0:00:14\u001b[39m\n",
      "\u001b[32mProgress: 100%|█████████████████████████████████████████| Time: 0:00:13\u001b[39m\n",
      "\u001b[32mProgress: 100%|█████████████████████████████████████████| Time: 0:00:13\u001b[39m\n",
      "\u001b[32mProgress: 100%|█████████████████████████████████████████| Time: 0:00:13\u001b[39m\n",
      "\u001b[32mProgress: 100%|█████████████████████████████████████████| Time: 0:00:13\u001b[39m\n",
      "\u001b[32mProgress: 100%|█████████████████████████████████████████| Time: 0:00:13\u001b[39m\n",
      "\u001b[32mProgress: 100%|█████████████████████████████████████████| Time: 0:00:13\u001b[39m\n",
      "\u001b[32mProgress: 100%|█████████████████████████████████████████| Time: 0:00:13\u001b[39m\n",
      "\u001b[32mProgress: 100%|█████████████████████████████████████████| Time: 0:00:14\u001b[39m\n",
      "\u001b[32mProgress: 100%|█████████████████████████████████████████| Time: 0:00:14\u001b[39m\n",
      "\u001b[32mProgress: 100%|█████████████████████████████████████████| Time: 0:00:14\u001b[39m\n",
      "\u001b[32mProgress: 100%|█████████████████████████████████████████| Time: 0:00:14\u001b[39m\n",
      "\u001b[32mProgress: 100%|█████████████████████████████████████████| Time: 0:00:14\u001b[39m\n",
      "\u001b[32mProgress: 100%|█████████████████████████████████████████| Time: 0:00:14\u001b[39m\n",
      "\u001b[32mProgress: 100%|█████████████████████████████████████████| Time: 0:00:13\u001b[39m\n",
      "\u001b[32mProgress: 100%|█████████████████████████████████████████| Time: 0:00:11\u001b[39m\n",
      "\u001b[36m\u001b[1m[ \u001b[22m\u001b[39m\u001b[36m\u001b[1mInfo: \u001b[22m\u001b[39mFile /Users/bvdmitri/.julia/dev/RxInferThesisExperiments/data/hgf/turing/nuts/T=30_nsamples=100_seed=42.jld2 saved.\n",
      "\u001b[36m\u001b[1m[ \u001b[22m\u001b[39m\u001b[36m\u001b[1mInfo: \u001b[22m\u001b[39mFile /Users/bvdmitri/.julia/dev/RxInferThesisExperiments/data/hgf/turing/nuts/T=100_nsamples=100_seed=42.jld2 does not exist. Producing it now...\n",
      "\u001b[32mProgress: 100%|█████████████████████████████████████████| Time: 0:00:47\u001b[39m\n",
      "\u001b[32mProgress: 100%|█████████████████████████████████████████| Time: 0:00:46\u001b[39m\n",
      "\u001b[32mProgress: 100%|█████████████████████████████████████████| Time: 0:00:47\u001b[39m\n",
      "\u001b[32mProgress: 100%|█████████████████████████████████████████| Time: 0:00:46\u001b[39m\n",
      "\u001b[32mProgress: 100%|█████████████████████████████████████████| Time: 0:00:46\u001b[39m\n",
      "\u001b[32mProgress: 100%|█████████████████████████████████████████| Time: 0:00:47\u001b[39m\n",
      "\u001b[32mProgress: 100%|█████████████████████████████████████████| Time: 0:00:47\u001b[39m\n",
      "\u001b[32mProgress: 100%|█████████████████████████████████████████| Time: 0:00:47\u001b[39m\n",
      "\u001b[32mProgress: 100%|█████████████████████████████████████████| Time: 0:00:42\u001b[39m\n",
      "\u001b[32mProgress: 100%|█████████████████████████████████████████| Time: 0:00:47\u001b[39m\n",
      "\u001b[32mProgress: 100%|█████████████████████████████████████████| Time: 0:00:47\u001b[39m\n",
      "\u001b[32mProgress: 100%|█████████████████████████████████████████| Time: 0:00:49\u001b[39m\n",
      "\u001b[32mProgress: 100%|█████████████████████████████████████████| Time: 0:00:50\u001b[39m\n",
      "\u001b[32mProgress: 100%|█████████████████████████████████████████| Time: 0:00:50\u001b[39m\n",
      "\u001b[32mProgress: 100%|█████████████████████████████████████████| Time: 0:00:48\u001b[39m\n",
      "\u001b[32mProgress: 100%|█████████████████████████████████████████| Time: 0:00:45\u001b[39m\n",
      "\u001b[36m\u001b[1m[ \u001b[22m\u001b[39m\u001b[36m\u001b[1mInfo: \u001b[22m\u001b[39mFile /Users/bvdmitri/.julia/dev/RxInferThesisExperiments/data/hgf/turing/nuts/T=100_nsamples=100_seed=42.jld2 saved.\n",
      "\u001b[36m\u001b[1m[ \u001b[22m\u001b[39m\u001b[36m\u001b[1mInfo: \u001b[22m\u001b[39mFile /Users/bvdmitri/.julia/dev/RxInferThesisExperiments/data/hgf/turing/nuts/T=300_nsamples=100_seed=42.jld2 does not exist. Producing it now...\n",
      "\u001b[32mProgress: 100%|█████████████████████████████████████████| Time: 0:02:19\u001b[39m\n",
      "\u001b[32mProgress: 100%|█████████████████████████████████████████| Time: 0:02:16\u001b[39m\n",
      "\u001b[32mProgress: 100%|█████████████████████████████████████████| Time: 0:02:20\u001b[39m\n",
      "\u001b[32mProgress: 100%|█████████████████████████████████████████| Time: 0:02:17\u001b[39m\n",
      "\u001b[32mProgress: 100%|█████████████████████████████████████████| Time: 0:02:17\u001b[39m\n",
      "\u001b[32mProgress: 100%|█████████████████████████████████████████| Time: 0:02:19\u001b[39m\n",
      "\u001b[32mProgress: 100%|█████████████████████████████████████████| Time: 0:02:22\u001b[39m\n",
      "\u001b[32mProgress: 100%|█████████████████████████████████████████| Time: 0:02:18\u001b[39m\n",
      "\u001b[32mProgress: 100%|█████████████████████████████████████████| Time: 0:01:59\u001b[39m\n",
      "\u001b[32mProgress: 100%|█████████████████████████████████████████| Time: 0:02:10\u001b[39m\n",
      "\u001b[32mProgress: 100%|█████████████████████████████████████████| Time: 0:02:28\u001b[39m\n",
      "\u001b[32mProgress: 100%|█████████████████████████████████████████| Time: 0:02:29\u001b[39m\n",
      "\u001b[32mProgress: 100%|█████████████████████████████████████████| Time: 0:02:33\u001b[39m\n"
     ]
    },
    {
     "name": "stderr",
     "output_type": "stream",
     "text": [
      "\u001b[32mProgress: 100%|█████████████████████████████████████████| Time: 0:02:27\u001b[39m\n",
      "\u001b[32mProgress: 100%|█████████████████████████████████████████| Time: 0:02:22\u001b[39m\n",
      "\u001b[32mProgress: 100%|█████████████████████████████████████████| Time: 0:02:08\u001b[39m\n",
      "\u001b[36m\u001b[1m[ \u001b[22m\u001b[39m\u001b[36m\u001b[1mInfo: \u001b[22m\u001b[39mFile /Users/bvdmitri/.julia/dev/RxInferThesisExperiments/data/hgf/turing/nuts/T=300_nsamples=100_seed=42.jld2 saved.\n",
      "\u001b[36m\u001b[1m[ \u001b[22m\u001b[39m\u001b[36m\u001b[1mInfo: \u001b[22m\u001b[39mFile /Users/bvdmitri/.julia/dev/RxInferThesisExperiments/data/hgf/turing/nuts/T=10_nsamples=200_seed=42.jld2 does not exist. Producing it now...\n",
      "\u001b[32mProgress: 100%|█████████████████████████████████████████| Time: 0:00:11\u001b[39m\n",
      "\u001b[32mProgress: 100%|█████████████████████████████████████████| Time: 0:00:10\u001b[39m\n",
      "\u001b[32mProgress: 100%|█████████████████████████████████████████| Time: 0:00:10\u001b[39m\n",
      "\u001b[32mProgress: 100%|█████████████████████████████████████████| Time: 0:00:10\u001b[39m\n",
      "\u001b[32mProgress: 100%|█████████████████████████████████████████| Time: 0:00:10\u001b[39m\n",
      "\u001b[32mProgress: 100%|█████████████████████████████████████████| Time: 0:00:10\u001b[39m\n",
      "\u001b[32mProgress: 100%|█████████████████████████████████████████| Time: 0:00:10\u001b[39m\n",
      "\u001b[32mProgress: 100%|█████████████████████████████████████████| Time: 0:00:09\u001b[39m\n",
      "\u001b[32mProgress: 100%|█████████████████████████████████████████| Time: 0:00:09\u001b[39m\n",
      "\u001b[32mProgress: 100%|█████████████████████████████████████████| Time: 0:00:10\u001b[39m\n",
      "\u001b[32mProgress: 100%|█████████████████████████████████████████| Time: 0:00:10\u001b[39m\n",
      "\u001b[32mProgress: 100%|█████████████████████████████████████████| Time: 0:00:10\u001b[39m\n",
      "\u001b[32mProgress: 100%|█████████████████████████████████████████| Time: 0:00:10\u001b[39m\n",
      "\u001b[32mProgress: 100%|█████████████████████████████████████████| Time: 0:00:09\u001b[39m\n",
      "\u001b[32mProgress: 100%|█████████████████████████████████████████| Time: 0:00:10\u001b[39m\n",
      "\u001b[32mProgress: 100%|█████████████████████████████████████████| Time: 0:00:10\u001b[39m\n",
      "\u001b[36m\u001b[1m[ \u001b[22m\u001b[39m\u001b[36m\u001b[1mInfo: \u001b[22m\u001b[39mFile /Users/bvdmitri/.julia/dev/RxInferThesisExperiments/data/hgf/turing/nuts/T=10_nsamples=200_seed=42.jld2 saved.\n",
      "\u001b[36m\u001b[1m[ \u001b[22m\u001b[39m\u001b[36m\u001b[1mInfo: \u001b[22m\u001b[39mFile /Users/bvdmitri/.julia/dev/RxInferThesisExperiments/data/hgf/turing/nuts/T=20_nsamples=200_seed=42.jld2 does not exist. Producing it now...\n",
      "\u001b[32mProgress: 100%|█████████████████████████████████████████| Time: 0:00:21\u001b[39m\n",
      "\u001b[32mProgress: 100%|█████████████████████████████████████████| Time: 0:00:20\u001b[39m\n",
      "\u001b[32mProgress: 100%|█████████████████████████████████████████| Time: 0:00:20\u001b[39m\n",
      "\u001b[32mProgress: 100%|█████████████████████████████████████████| Time: 0:00:20\u001b[39m\n",
      "\u001b[32mProgress: 100%|█████████████████████████████████████████| Time: 0:00:20\u001b[39m\n",
      "\u001b[32mProgress: 100%|█████████████████████████████████████████| Time: 0:00:20\u001b[39m\n",
      "\u001b[32mProgress: 100%|█████████████████████████████████████████| Time: 0:00:21\u001b[39m\n",
      "\u001b[32mProgress: 100%|█████████████████████████████████████████| Time: 0:00:20\u001b[39m\n",
      "\u001b[32mProgress: 100%|█████████████████████████████████████████| Time: 0:00:20\u001b[39m\n",
      "\u001b[32mProgress: 100%|█████████████████████████████████████████| Time: 0:00:21\u001b[39m\n",
      "\u001b[32mProgress: 100%|█████████████████████████████████████████| Time: 0:00:20\u001b[39m\n",
      "\u001b[32mProgress: 100%|█████████████████████████████████████████| Time: 0:00:21\u001b[39m\n",
      "\u001b[32mProgress: 100%|█████████████████████████████████████████| Time: 0:00:21\u001b[39m\n",
      "\u001b[32mProgress: 100%|█████████████████████████████████████████| Time: 0:00:20\u001b[39m\n",
      "\u001b[32mProgress: 100%|█████████████████████████████████████████| Time: 0:00:21\u001b[39m\n",
      "\u001b[32mProgress: 100%|█████████████████████████████████████████| Time: 0:00:21\u001b[39m\n",
      "\u001b[36m\u001b[1m[ \u001b[22m\u001b[39m\u001b[36m\u001b[1mInfo: \u001b[22m\u001b[39mFile /Users/bvdmitri/.julia/dev/RxInferThesisExperiments/data/hgf/turing/nuts/T=20_nsamples=200_seed=42.jld2 saved.\n",
      "\u001b[36m\u001b[1m[ \u001b[22m\u001b[39m\u001b[36m\u001b[1mInfo: \u001b[22m\u001b[39mFile /Users/bvdmitri/.julia/dev/RxInferThesisExperiments/data/hgf/turing/nuts/T=30_nsamples=200_seed=42.jld2 does not exist. Producing it now...\n",
      "\u001b[32mProgress: 100%|█████████████████████████████████████████| Time: 0:00:32\u001b[39m\n",
      "\u001b[32mProgress: 100%|█████████████████████████████████████████| Time: 0:00:31\u001b[39m\n",
      "\u001b[32mProgress: 100%|█████████████████████████████████████████| Time: 0:00:31\u001b[39m\n",
      "\u001b[32mProgress: 100%|█████████████████████████████████████████| Time: 0:00:31\u001b[39m\n",
      "\u001b[32mProgress: 100%|█████████████████████████████████████████| Time: 0:00:31\u001b[39m\n",
      "\u001b[32mProgress: 100%|█████████████████████████████████████████| Time: 0:00:31\u001b[39m\n",
      "\u001b[32mProgress: 100%|█████████████████████████████████████████| Time: 0:00:32\u001b[39m\n",
      "\u001b[32mProgress: 100%|█████████████████████████████████████████| Time: 0:00:31\u001b[39m\n",
      "\u001b[32mProgress: 100%|█████████████████████████████████████████| Time: 0:00:31\u001b[39m\n",
      "\u001b[32mProgress: 100%|█████████████████████████████████████████| Time: 0:00:31\u001b[39m\n",
      "\u001b[32mProgress: 100%|█████████████████████████████████████████| Time: 0:00:31\u001b[39m\n",
      "\u001b[32mProgress: 100%|█████████████████████████████████████████| Time: 0:00:31\u001b[39m\n",
      "\u001b[32mProgress: 100%|█████████████████████████████████████████| Time: 0:00:30\u001b[39m\n",
      "\u001b[32mProgress: 100%|█████████████████████████████████████████| Time: 0:00:30\u001b[39m\n",
      "\u001b[32mProgress: 100%|█████████████████████████████████████████| Time: 0:00:32\u001b[39m\n",
      "\u001b[32mProgress: 100%|█████████████████████████████████████████| Time: 0:00:32\u001b[39m\n",
      "\u001b[36m\u001b[1m[ \u001b[22m\u001b[39m\u001b[36m\u001b[1mInfo: \u001b[22m\u001b[39mFile /Users/bvdmitri/.julia/dev/RxInferThesisExperiments/data/hgf/turing/nuts/T=30_nsamples=200_seed=42.jld2 saved.\n",
      "\u001b[36m\u001b[1m[ \u001b[22m\u001b[39m\u001b[36m\u001b[1mInfo: \u001b[22m\u001b[39mFile /Users/bvdmitri/.julia/dev/RxInferThesisExperiments/data/hgf/turing/nuts/T=100_nsamples=200_seed=42.jld2 does not exist. Producing it now...\n",
      "\u001b[32mProgress: 100%|█████████████████████████████████████████| Time: 0:01:43\u001b[39m\n",
      "\u001b[32mProgress: 100%|█████████████████████████████████████████| Time: 0:01:41\u001b[39m\n",
      "\u001b[32mProgress: 100%|█████████████████████████████████████████| Time: 0:01:42\u001b[39m\n",
      "\u001b[32mProgress: 100%|█████████████████████████████████████████| Time: 0:01:41\u001b[39m\n",
      "\u001b[32mProgress: 100%|█████████████████████████████████████████| Time: 0:01:40\u001b[39m\n",
      "\u001b[32mProgress: 100%|█████████████████████████████████████████| Time: 0:01:42\u001b[39m\n",
      "\u001b[32mProgress: 100%|█████████████████████████████████████████| Time: 0:01:47\u001b[39m\n",
      "\u001b[32mProgress: 100%|█████████████████████████████████████████| Time: 0:01:44\u001b[39m\n",
      "\u001b[32mProgress: 100%|█████████████████████████████████████████| Time: 0:01:48\u001b[39m\n",
      "\u001b[32mProgress: 100%|█████████████████████████████████████████| Time: 0:01:48\u001b[39m\n",
      "\u001b[32mProgress: 100%|█████████████████████████████████████████| Time: 0:01:49\u001b[39m\n",
      "\u001b[32mProgress: 100%|█████████████████████████████████████████| Time: 0:01:48\u001b[39m\n",
      "\u001b[32mProgress: 100%|█████████████████████████████████████████| Time: 0:01:41\u001b[39m\n",
      "\u001b[32mProgress: 100%|█████████████████████████████████████████| Time: 0:01:46\u001b[39m\n",
      "\u001b[32mProgress: 100%|█████████████████████████████████████████| Time: 0:01:52\u001b[39m\n",
      "\u001b[32mProgress: 100%|█████████████████████████████████████████| Time: 0:01:49\u001b[39m\n",
      "\u001b[36m\u001b[1m[ \u001b[22m\u001b[39m\u001b[36m\u001b[1mInfo: \u001b[22m\u001b[39mFile /Users/bvdmitri/.julia/dev/RxInferThesisExperiments/data/hgf/turing/nuts/T=100_nsamples=200_seed=42.jld2 saved.\n",
      "\u001b[36m\u001b[1m[ \u001b[22m\u001b[39m\u001b[36m\u001b[1mInfo: \u001b[22m\u001b[39mFile /Users/bvdmitri/.julia/dev/RxInferThesisExperiments/data/hgf/turing/nuts/T=300_nsamples=200_seed=42.jld2 does not exist. Producing it now...\n",
      "\u001b[32mProgress: 100%|█████████████████████████████████████████| Time: 0:05:13\u001b[39m\n",
      "\u001b[32mProgress: 100%|█████████████████████████████████████████| Time: 0:05:02\u001b[39m\n",
      "\u001b[32mProgress: 100%|█████████████████████████████████████████| Time: 0:05:05\u001b[39m\n",
      "\u001b[32mProgress: 100%|█████████████████████████████████████████| Time: 0:05:02\u001b[39m\n",
      "\u001b[32mProgress: 100%|█████████████████████████████████████████| Time: 0:05:02\u001b[39m\n",
      "\u001b[32mProgress: 100%|█████████████████████████████████████████| Time: 0:05:04\u001b[39m\n",
      "\u001b[32mProgress: 100%|█████████████████████████████████████████| Time: 0:05:24\u001b[39m\n",
      "\u001b[32mProgress: 100%|█████████████████████████████████████████| Time: 0:05:08\u001b[39m\n",
      "\u001b[32mProgress: 100%|█████████████████████████████████████████| Time: 0:05:27\u001b[39m\n",
      "\u001b[32mProgress: 100%|█████████████████████████████████████████| Time: 0:05:22\u001b[39m\n",
      "\u001b[32mProgress: 100%|█████████████████████████████████████████| Time: 0:05:02\u001b[39m\n"
     ]
    },
    {
     "name": "stderr",
     "output_type": "stream",
     "text": [
      "\u001b[32mProgress: 100%|█████████████████████████████████████████| Time: 0:05:15\u001b[39m\n",
      "\u001b[32mProgress: 100%|█████████████████████████████████████████| Time: 0:05:15\u001b[39m\n",
      "\u001b[32mProgress: 100%|█████████████████████████████████████████| Time: 0:05:22\u001b[39m\n",
      "\u001b[32mProgress: 100%|█████████████████████████████████████████| Time: 0:05:36\u001b[39m\n",
      "\u001b[32mProgress: 100%|█████████████████████████████████████████| Time: 0:04:52\u001b[39m\n",
      "\u001b[36m\u001b[1m[ \u001b[22m\u001b[39m\u001b[36m\u001b[1mInfo: \u001b[22m\u001b[39mFile /Users/bvdmitri/.julia/dev/RxInferThesisExperiments/data/hgf/turing/nuts/T=300_nsamples=200_seed=42.jld2 saved.\n"
     ]
    }
   ],
   "source": [
    "# First run maybe slow, you may track the progress in the terminal\n",
    "# Subsequent runs will not create new benchmarks \n",
    "# but will reload it from data folder\n",
    "benchmarks_nuts = map(benchmark_params_nuts) do params\n",
    "    result, _ = produce_or_load(run_benchmark_nuts, bfolder_nuts, params; tag = false, force = false)\n",
    "    return result\n",
    "end;"
   ]
  },
  {
   "cell_type": "code",
   "execution_count": 28,
   "id": "4bf57e42",
   "metadata": {},
   "outputs": [
    {
     "name": "stderr",
     "output_type": "stream",
     "text": [
      "\u001b[36m\u001b[1m[ \u001b[22m\u001b[39m\u001b[36m\u001b[1mInfo: \u001b[22m\u001b[39mScanning folder /Users/bvdmitri/.julia/dev/RxInferThesisExperiments/data/hgf/turing/nuts for result files.\n",
      "\u001b[36m\u001b[1m[ \u001b[22m\u001b[39m\u001b[36m\u001b[1mInfo: \u001b[22m\u001b[39mAdded 10 entries.\n"
     ]
    },
    {
     "data": {
      "text/html": [
       "<div><div style = \"float: left;\"><span>10×9 DataFrame</span></div><div style = \"clear: both;\"></div></div><div class = \"data-frame\" style = \"overflow-x: scroll;\"><table class = \"data-frame\" style = \"margin-bottom: 6px;\"><thead><tr class = \"header\"><th class = \"rowNumber\" style = \"font-weight: bold; text-align: right;\">Row</th><th style = \"text-align: left;\">T</th><th style = \"text-align: left;\">nsamples</th><th style = \"text-align: left;\">z_emse</th><th style = \"text-align: left;\">x_emse</th><th style = \"text-align: left;\">z_amse</th><th style = \"text-align: left;\">seed</th><th style = \"text-align: left;\">x_amse</th><th style = \"text-align: left;\">inference</th><th style = \"text-align: left;\">creation</th></tr><tr class = \"subheader headerLastRow\"><th class = \"rowNumber\" style = \"font-weight: bold; text-align: right;\"></th><th title = \"Union{Missing, Int64}\" style = \"text-align: left;\">Int64?</th><th title = \"Union{Missing, Int64}\" style = \"text-align: left;\">Int64?</th><th title = \"Union{Missing, Float64}\" style = \"text-align: left;\">Float64?</th><th title = \"Union{Missing, Float64}\" style = \"text-align: left;\">Float64?</th><th title = \"Union{Missing, Float64}\" style = \"text-align: left;\">Float64?</th><th title = \"Union{Missing, Int64}\" style = \"text-align: left;\">Int64?</th><th title = \"Union{Missing, Float64}\" style = \"text-align: left;\">Float64?</th><th title = \"Union{Missing, Tuple{Float64, Float64, Float64}}\" style = \"text-align: left;\">Tuple…?</th><th title = \"Union{Missing, Tuple{Float64, Float64, Float64}}\" style = \"text-align: left;\">Tuple…?</th></tr></thead><tbody><tr><td class = \"rowNumber\" style = \"font-weight: bold; text-align: right;\">1</td><td style = \"text-align: right;\">10</td><td style = \"text-align: right;\">100</td><td style = \"text-align: right;\">0.443523</td><td style = \"text-align: right;\">3.23022</td><td style = \"text-align: right;\">0.0691279</td><td style = \"text-align: right;\">42</td><td style = \"text-align: right;\">3.22987</td><td style = \"text-align: left;\">(4.28324e9, 4.29914e9, 4.16533e8)</td><td style = \"text-align: left;\">(0.75, 0.885107, 0.0)</td></tr><tr><td class = \"rowNumber\" style = \"font-weight: bold; text-align: right;\">2</td><td style = \"text-align: right;\">10</td><td style = \"text-align: right;\">200</td><td style = \"text-align: right;\">1.08465</td><td style = \"text-align: right;\">3.71429</td><td style = \"text-align: right;\">0.548014</td><td style = \"text-align: right;\">42</td><td style = \"text-align: right;\">3.65631</td><td style = \"text-align: left;\">(1.00265e10, 1.00265e10, 9.75395e8)</td><td style = \"text-align: left;\">(0.791, 0.882136, 0.0)</td></tr><tr><td class = \"rowNumber\" style = \"font-weight: bold; text-align: right;\">3</td><td style = \"text-align: right;\">20</td><td style = \"text-align: right;\">100</td><td style = \"text-align: right;\">0.373154</td><td style = \"text-align: right;\">5.5134</td><td style = \"text-align: right;\">0.0762052</td><td style = \"text-align: right;\">42</td><td style = \"text-align: right;\">10.183</td><td style = \"text-align: left;\">(8.96278e9, 8.96278e9, 8.63574e8)</td><td style = \"text-align: left;\">(0.791, 0.885749, 0.0)</td></tr><tr><td class = \"rowNumber\" style = \"font-weight: bold; text-align: right;\">4</td><td style = \"text-align: right;\">20</td><td style = \"text-align: right;\">200</td><td style = \"text-align: right;\">0.796753</td><td style = \"text-align: right;\">5.38577</td><td style = \"text-align: right;\">0.294512</td><td style = \"text-align: right;\">42</td><td style = \"text-align: right;\">10.4223</td><td style = \"text-align: left;\">(2.03313e10, 2.03313e10, 2.04434e9)</td><td style = \"text-align: left;\">(0.791, 0.881699, 0.0)</td></tr><tr><td class = \"rowNumber\" style = \"font-weight: bold; text-align: right;\">5</td><td style = \"text-align: right;\">30</td><td style = \"text-align: right;\">100</td><td style = \"text-align: right;\">0.403985</td><td style = \"text-align: right;\">10.6999</td><td style = \"text-align: right;\">0.19904</td><td style = \"text-align: right;\">42</td><td style = \"text-align: right;\">18.018</td><td style = \"text-align: left;\">(1.36251e10, 1.36251e10, 1.3427e9)</td><td style = \"text-align: left;\">(0.75, 0.882046, 0.0)</td></tr><tr><td class = \"rowNumber\" style = \"font-weight: bold; text-align: right;\">6</td><td style = \"text-align: right;\">30</td><td style = \"text-align: right;\">200</td><td style = \"text-align: right;\">0.64423</td><td style = \"text-align: right;\">10.5016</td><td style = \"text-align: right;\">0.206156</td><td style = \"text-align: right;\">42</td><td style = \"text-align: right;\">16.1603</td><td style = \"text-align: left;\">(3.10687e10, 3.10687e10, 3.23906e9)</td><td style = \"text-align: left;\">(0.791, 0.879969, 0.0)</td></tr><tr><td class = \"rowNumber\" style = \"font-weight: bold; text-align: right;\">7</td><td style = \"text-align: right;\">100</td><td style = \"text-align: right;\">100</td><td style = \"text-align: right;\">0.357281</td><td style = \"text-align: right;\">40.4529</td><td style = \"text-align: right;\">0.276982</td><td style = \"text-align: right;\">42</td><td style = \"text-align: right;\">140.964</td><td style = \"text-align: left;\">(4.6841e10, 4.6841e10, 5.09458e9)</td><td style = \"text-align: left;\">(0.792, 0.884274, 0.0)</td></tr><tr><td class = \"rowNumber\" style = \"font-weight: bold; text-align: right;\">8</td><td style = \"text-align: right;\">100</td><td style = \"text-align: right;\">200</td><td style = \"text-align: right;\">0.403341</td><td style = \"text-align: right;\">40.9612</td><td style = \"text-align: right;\">0.300429</td><td style = \"text-align: right;\">42</td><td style = \"text-align: right;\">147.885</td><td style = \"text-align: left;\">(1.00988e11, 1.00988e11, 1.18473e10)</td><td style = \"text-align: left;\">(0.791, 0.883692, 0.0)</td></tr><tr><td class = \"rowNumber\" style = \"font-weight: bold; text-align: right;\">9</td><td style = \"text-align: right;\">300</td><td style = \"text-align: right;\">100</td><td style = \"text-align: right;\">0.360795</td><td style = \"text-align: right;\">190.802</td><td style = \"text-align: right;\">0.452446</td><td style = \"text-align: right;\">42</td><td style = \"text-align: right;\">466.247</td><td style = \"text-align: left;\">(1.37325e11, 1.37325e11, 1.69889e10)</td><td style = \"text-align: left;\">(0.791, 0.874617, 0.0)</td></tr><tr><td class = \"rowNumber\" style = \"font-weight: bold; text-align: right;\">10</td><td style = \"text-align: right;\">300</td><td style = \"text-align: right;\">200</td><td style = \"text-align: right;\">0.426451</td><td style = \"text-align: right;\">194.099</td><td style = \"text-align: right;\">0.367851</td><td style = \"text-align: right;\">42</td><td style = \"text-align: right;\">493.675</td><td style = \"text-align: left;\">(3.0212e11, 3.0212e11, 3.7684e10)</td><td style = \"text-align: left;\">(0.75, 0.876561, 0.0)</td></tr></tbody></table></div>"
      ],
      "text/latex": [
       "\\begin{tabular}{r|ccccccccc}\n",
       "\t& T & nsamples & z\\_emse & x\\_emse & z\\_amse & seed & x\\_amse & inference & \\\\\n",
       "\t\\hline\n",
       "\t& Int64? & Int64? & Float64? & Float64? & Float64? & Int64? & Float64? & Tuple…? & \\\\\n",
       "\t\\hline\n",
       "\t1 & 10 & 100 & 0.443523 & 3.23022 & 0.0691279 & 42 & 3.22987 & (4.28324e9, 4.29914e9, 4.16533e8) & $\\dots$ \\\\\n",
       "\t2 & 10 & 200 & 1.08465 & 3.71429 & 0.548014 & 42 & 3.65631 & (1.00265e10, 1.00265e10, 9.75395e8) & $\\dots$ \\\\\n",
       "\t3 & 20 & 100 & 0.373154 & 5.5134 & 0.0762052 & 42 & 10.183 & (8.96278e9, 8.96278e9, 8.63574e8) & $\\dots$ \\\\\n",
       "\t4 & 20 & 200 & 0.796753 & 5.38577 & 0.294512 & 42 & 10.4223 & (2.03313e10, 2.03313e10, 2.04434e9) & $\\dots$ \\\\\n",
       "\t5 & 30 & 100 & 0.403985 & 10.6999 & 0.19904 & 42 & 18.018 & (1.36251e10, 1.36251e10, 1.3427e9) & $\\dots$ \\\\\n",
       "\t6 & 30 & 200 & 0.64423 & 10.5016 & 0.206156 & 42 & 16.1603 & (3.10687e10, 3.10687e10, 3.23906e9) & $\\dots$ \\\\\n",
       "\t7 & 100 & 100 & 0.357281 & 40.4529 & 0.276982 & 42 & 140.964 & (4.6841e10, 4.6841e10, 5.09458e9) & $\\dots$ \\\\\n",
       "\t8 & 100 & 200 & 0.403341 & 40.9612 & 0.300429 & 42 & 147.885 & (1.00988e11, 1.00988e11, 1.18473e10) & $\\dots$ \\\\\n",
       "\t9 & 300 & 100 & 0.360795 & 190.802 & 0.452446 & 42 & 466.247 & (1.37325e11, 1.37325e11, 1.69889e10) & $\\dots$ \\\\\n",
       "\t10 & 300 & 200 & 0.426451 & 194.099 & 0.367851 & 42 & 493.675 & (3.0212e11, 3.0212e11, 3.7684e10) & $\\dots$ \\\\\n",
       "\\end{tabular}\n"
      ],
      "text/plain": [
       "\u001b[1m10×9 DataFrame\u001b[0m\n",
       "\u001b[1m Row \u001b[0m│\u001b[1m T      \u001b[0m\u001b[1m nsamples \u001b[0m\u001b[1m z_emse   \u001b[0m\u001b[1m x_emse    \u001b[0m\u001b[1m z_amse    \u001b[0m\u001b[1m seed   \u001b[0m\u001b[1m x_amse    \u001b[0m\u001b[1m in\u001b[0m ⋯\n",
       "     │\u001b[90m Int64? \u001b[0m\u001b[90m Int64?   \u001b[0m\u001b[90m Float64? \u001b[0m\u001b[90m Float64?  \u001b[0m\u001b[90m Float64?  \u001b[0m\u001b[90m Int64? \u001b[0m\u001b[90m Float64?  \u001b[0m\u001b[90m Tu\u001b[0m ⋯\n",
       "─────┼──────────────────────────────────────────────────────────────────────────\n",
       "   1 │     10       100  0.443523    3.23022  0.0691279      42    3.22987  (4 ⋯\n",
       "   2 │     10       200  1.08465     3.71429  0.548014       42    3.65631  (1\n",
       "   3 │     20       100  0.373154    5.5134   0.0762052      42   10.183    (8\n",
       "   4 │     20       200  0.796753    5.38577  0.294512       42   10.4223   (2\n",
       "   5 │     30       100  0.403985   10.6999   0.19904        42   18.018    (1 ⋯\n",
       "   6 │     30       200  0.64423    10.5016   0.206156       42   16.1603   (3\n",
       "   7 │    100       100  0.357281   40.4529   0.276982       42  140.964    (4\n",
       "   8 │    100       200  0.403341   40.9612   0.300429       42  147.885    (1\n",
       "   9 │    300       100  0.360795  190.802    0.452446       42  466.247    (1 ⋯\n",
       "  10 │    300       200  0.426451  194.099    0.367851       42  493.675    (3\n",
       "\u001b[36m                                                               2 columns omitted\u001b[0m"
      ]
     },
     "execution_count": 28,
     "metadata": {},
     "output_type": "execute_result"
    }
   ],
   "source": [
    "sort(prepare_benchmarks_table(bfolder_nuts), [ :T ])"
   ]
  },
  {
   "cell_type": "markdown",
   "id": "8908d2e2",
   "metadata": {},
   "source": [
    "# Versions"
   ]
  },
  {
   "cell_type": "code",
   "execution_count": 26,
   "id": "50e7ce97",
   "metadata": {},
   "outputs": [
    {
     "name": "stdout",
     "output_type": "stream",
     "text": [
      "Julia Version 1.9.0\n",
      "Commit 8e630552924 (2023-05-07 11:25 UTC)\n",
      "Platform Info:\n",
      "  OS: macOS (arm64-apple-darwin22.4.0)\n",
      "  CPU: 10 × Apple M2 Pro\n",
      "  WORD_SIZE: 64\n",
      "  LIBM: libopenlibm\n",
      "  LLVM: libLLVM-14.0.6 (ORCJIT, apple-m1)\n",
      "  Threads: 2 on 6 virtual cores\n"
     ]
    }
   ],
   "source": [
    "versioninfo()"
   ]
  },
  {
   "cell_type": "code",
   "execution_count": 27,
   "id": "64587a7c",
   "metadata": {},
   "outputs": [
    {
     "name": "stdout",
     "output_type": "stream",
     "text": [
      "\u001b[36m\u001b[1mProject\u001b[22m\u001b[39m RxInferThesisExperiments v1.0.0\n",
      "\u001b[32m\u001b[1mStatus\u001b[22m\u001b[39m `~/.julia/dev/RxInferThesisExperiments/Project.toml`\n",
      "  \u001b[90m[b5ca4192] \u001b[39mAdvancedVI v0.2.3\n",
      "  \u001b[90m[6e4b80f9] \u001b[39mBenchmarkTools v1.3.2\n",
      "  \u001b[90m[76274a88] \u001b[39mBijectors v0.12.5\n",
      "  \u001b[90m[35d6a980] \u001b[39mColorSchemes v3.21.0\n",
      "  \u001b[90m[a93c6f00] \u001b[39mDataFrames v1.5.0\n",
      "  \u001b[90m[31c24e10] \u001b[39mDistributions v0.25.95\n",
      "  \u001b[90m[634d3b9d] \u001b[39mDrWatson v2.12.5\n",
      "  \u001b[90m[442a2c76] \u001b[39mFastGaussQuadrature v0.5.1\n",
      "  \u001b[90m[9fc3f58a] \u001b[39mForneyLab v0.12.0\n",
      "  \u001b[90m[f6369f11] \u001b[39mForwardDiff v0.10.35\n",
      "  \u001b[90m[14197337] \u001b[39mGenericLinearAlgebra v0.3.11\n",
      "  \u001b[90m[19dc6840] \u001b[39mHCubature v1.5.1\n",
      "  \u001b[90m[7073ff75] \u001b[39mIJulia v1.24.2\n",
      "  \u001b[90m[b964fa9f] \u001b[39mLaTeXStrings v1.3.0\n",
      "  \u001b[90m[bdcacae8] \u001b[39mLoopVectorization v0.12.159\n",
      "  \u001b[90m[3bd65402] \u001b[39mOptimisers v0.2.18\n",
      "  \u001b[90m[8314cec4] \u001b[39mPGFPlotsX v1.6.0\n",
      "  \u001b[90m[e4faabce] \u001b[39mPProf v2.2.2\n",
      "  \u001b[90m[91a5bcdd] \u001b[39mPlots v1.38.15\n",
      "  \u001b[90m[92933f4c] \u001b[39mProgressMeter v1.7.2\n",
      "  \u001b[90m[37e2e3b7] \u001b[39mReverseDiff v1.14.6\n",
      "  \u001b[90m[86711068] \u001b[39mRxInfer v2.11.1\n",
      "  \u001b[90m[860ef19b] \u001b[39mStableRNGs v1.0.0\n",
      "  \u001b[90m[aedffcd0] \u001b[39mStatic v0.8.7\n",
      "  \u001b[90m[90137ffa] \u001b[39mStaticArrays v1.5.25\n",
      "\u001b[33m⌅\u001b[39m \u001b[90m[2913bbd2] \u001b[39mStatsBase v0.33.21\n",
      "  \u001b[90m[4c63d2b9] \u001b[39mStatsFuns v1.3.0\n",
      "  \u001b[90m[fce5fe82] \u001b[39mTuring v0.25.1\n",
      "  \u001b[90m[37e2e46d] \u001b[39mLinearAlgebra\n",
      "  \u001b[90m[9a3f8284] \u001b[39mRandom\n",
      "\u001b[36m\u001b[1mInfo\u001b[22m\u001b[39m Packages marked with \u001b[33m⌅\u001b[39m have new versions available but compatibility constraints restrict them from upgrading. To see why use `status --outdated`\n"
     ]
    }
   ],
   "source": [
    "] status"
   ]
  }
 ],
 "metadata": {
  "kernelspec": {
   "display_name": "Julia 1.9.0",
   "language": "julia",
   "name": "julia-1.9"
  },
  "language_info": {
   "file_extension": ".jl",
   "mimetype": "application/julia",
   "name": "julia",
   "version": "1.9.0"
  }
 },
 "nbformat": 4,
 "nbformat_minor": 5
}
