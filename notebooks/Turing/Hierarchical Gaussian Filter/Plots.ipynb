{
 "cells": [
  {
   "cell_type": "markdown",
   "id": "2c605b07-25f6-4114-ba98-4d96a3c3fc8a",
   "metadata": {},
   "source": [
    "_Author: Dmitry Bagaev_"
   ]
  },
  {
   "cell_type": "code",
   "execution_count": null,
   "id": "ab51ecfe",
   "metadata": {},
   "outputs": [],
   "source": [
    "using DrWatson"
   ]
  },
  {
   "cell_type": "code",
   "execution_count": null,
   "id": "e38c5626",
   "metadata": {},
   "outputs": [],
   "source": [
    "@quickactivate \"RxInferThesisExperiments\""
   ]
  },
  {
   "cell_type": "code",
   "execution_count": null,
   "id": "453726c3",
   "metadata": {},
   "outputs": [],
   "source": [
    "using RxInferThesisExperiments, Turing, StaticArrays, Plots, PGFPlotsX, LaTeXStrings\n",
    "using LinearAlgebra, StableRNGs, Random, BenchmarkTools, ColorSchemes, Dates, ProgressMeter\n",
    "\n",
    "import Distributions"
   ]
  },
  {
   "cell_type": "code",
   "execution_count": null,
   "id": "8fed084c",
   "metadata": {},
   "outputs": [],
   "source": [
    "# For the thesis I use the `pgfplotsx` backend of the `Plots`, since it generates high-quiality plots\n",
    "# But it is reallyyy slow, if some wants to generate plots faster uncoment the `gr()` line\n",
    "pgfplotsx()\n",
    "\n",
    "# Use fast plotting backend\n",
    "# gr()"
   ]
  },
  {
   "cell_type": "code",
   "execution_count": null,
   "id": "7a5c82ca",
   "metadata": {},
   "outputs": [],
   "source": [
    "const environment = HGFEnvironment()"
   ]
  },
  {
   "cell_type": "code",
   "execution_count": null,
   "id": "e1876709",
   "metadata": {},
   "outputs": [],
   "source": [
    "# Include the model specification\n",
    "include(srcdir(\"models\", \"turing\", \"hgf.jl\"));"
   ]
  },
  {
   "cell_type": "code",
   "execution_count": null,
   "id": "43214aa3-0a8a-468c-92a9-17fa4087ddb0",
   "metadata": {},
   "outputs": [],
   "source": [
    "Turing.setprogress!(true)"
   ]
  },
  {
   "cell_type": "code",
   "execution_count": null,
   "id": "164adec9",
   "metadata": {},
   "outputs": [],
   "source": [
    "T = 10_000\n",
    "seed = 42\n",
    "rng = StableRNG(seed)\n",
    "\n",
    "zstates, xstates, observations = rand(rng, environment, T);\n",
    "\n",
    "# `plotting` range\n",
    "prange = 20:100:10000 # max((lastindex(observations) - 5000), firstindex(observations)):40:lastindex(observations)\n",
    "colors = ColorSchemes.tableau_10\n",
    "\n",
    "# Some default settings for plotting\n",
    "pfontsettings = (\n",
    "    titlefontsize=18,\n",
    "    guidefontsize=16,\n",
    "    tickfontsize=14,\n",
    "    legendfontsize=14,\n",
    "    legend = :bottomleft,\n",
    "    size = (400, 300)\n",
    ")\n",
    "\n",
    "p1 = plot(xlabel = \"Time step index\", ylabel = \"\"; pfontsettings...)\n",
    "p1 = plot!(prange, zstates[prange], color = colors[1], linewidth = 2, label = L\"z\")\n",
    "\n",
    "p2 = plot(xlabel = \"Time step index\", ylabel = \"\"; pfontsettings...)\n",
    "p2 = plot!(p2, prange, xstates[prange], color = colors[7], linewidth = 2, label = L\"x\")\n",
    "p2 = scatter!(p2, prange, observations[prange], color = colors[5], ms = 2, alpha = 0.5, msw = 0, label = L\"y\")\n",
    "\n",
    "p = plot(p1, p2, layout = @layout([ a b ]), size = (800, 300))\n",
    "\n",
    "display(\"image/png\", p)"
   ]
  },
  {
   "cell_type": "code",
   "execution_count": null,
   "id": "7b67d008",
   "metadata": {},
   "outputs": [],
   "source": [
    "# Turing need to recreate the model every time....\n",
    "model = (observation, zt_min_prior, xt_min_prior, z_std_prior, y_std_prior) -> begin \n",
    "    HGF(observation, zt_min_prior, xt_min_prior, z_std_prior, y_std_prior, environment.kappa, environment.omega)\n",
    "end\n",
    "results = run_inference(model, observations; nsamples = 10, method = NUTS(),);"
   ]
  },
  {
   "cell_type": "code",
   "execution_count": null,
   "id": "aa578fcb",
   "metadata": {},
   "outputs": [],
   "source": [
    "e_states = extract_posteriors(T, results)\n",
    "\n",
    "emz = Distributions.mean.(e_states[:z])\n",
    "evz = Distributions.std.(e_states[:z])\n",
    "\n",
    "emx = Distributions.mean.(e_states[:x])\n",
    "evx = Distributions.std.(e_states[:x])\n",
    "\n",
    "p1 = plot(xlabel = \"Time step index\", ylabel = \"\"; pfontsettings...)\n",
    "p1 = plot!(p1, prange, zstates[prange], color = colors[1], linewidth = 2, label = L\"z\")\n",
    "p1 = plot!(p1, prange, emz[prange], ribbon = 3evz[prange], color = colors[2], linewidth = 2, label = L\"q(z)\")\n",
    "\n",
    "p2 = plot(xlabel = \"Time step index\", ylabel = \"\"; pfontsettings...)\n",
    "p2 = plot!(p2, prange, xstates[prange], color = colors[7], linewidth = 2, label = L\"x\")\n",
    "p2 = plot!(p2, prange, emx[prange], ribbon = 3evx[prange], color = colors[3], linewidth = 2, label = L\"q(z)\")\n",
    "p2 = scatter!(p2, prange, observations[prange], color = colors[5], ms = 2, alpha = 0.5, msw = 0, label = L\"y\")\n",
    "\n",
    "p = plot(p1, p2, layout = @layout([ a b ]), size = (800, 300))\n",
    "\n",
    "display(\"image/png\", p)"
   ]
  },
  {
   "cell_type": "code",
   "execution_count": null,
   "id": "275b5bba",
   "metadata": {},
   "outputs": [],
   "source": [
    "println(\"AMSE Z: \", compute_amse(zstates, e_states[:z]))\n",
    "println(\"AMSE X: \", compute_amse(xstates, e_states[:x]))"
   ]
  },
  {
   "cell_type": "code",
   "execution_count": null,
   "id": "113e4264-7df7-499e-a6f4-a7539cda452e",
   "metadata": {},
   "outputs": [],
   "source": [
    "versioninfo()"
   ]
  },
  {
   "cell_type": "code",
   "execution_count": null,
   "id": "2eb1546a-e6df-4e4b-bd89-b29a0bff6dec",
   "metadata": {},
   "outputs": [],
   "source": [
    "] status"
   ]
  }
 ],
 "metadata": {
  "kernelspec": {
   "display_name": "Julia 1.9.0",
   "language": "julia",
   "name": "julia-1.9"
  },
  "language_info": {
   "file_extension": ".jl",
   "mimetype": "application/julia",
   "name": "julia",
   "version": "1.9.0"
  }
 },
 "nbformat": 4,
 "nbformat_minor": 5
}
