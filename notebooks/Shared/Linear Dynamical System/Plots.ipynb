{
 "cells": [
  {
   "cell_type": "code",
   "execution_count": null,
   "id": "3c21f958",
   "metadata": {},
   "outputs": [],
   "source": [
    "using DrWatson"
   ]
  },
  {
   "cell_type": "code",
   "execution_count": null,
   "id": "f2622779",
   "metadata": {},
   "outputs": [],
   "source": [
    "@quickactivate \"RxInferThesisExperiments\""
   ]
  },
  {
   "cell_type": "code",
   "execution_count": null,
   "id": "fd01008f",
   "metadata": {},
   "outputs": [],
   "source": [
    "using RxInferThesisExperiments, Plots, PGFPlotsX, LaTeXStrings, Printf\n",
    "using LinearAlgebra, StableRNGs, Random, BenchmarkTools, ColorSchemes, Dates, DataFrames\n",
    "\n",
    "import RxInfer, ReactiveMP, ForneyLab, Turing"
   ]
  },
  {
   "cell_type": "code",
   "execution_count": null,
   "id": "0a0109ad",
   "metadata": {},
   "outputs": [],
   "source": [
    "pgfplotsx()\n",
    "\n",
    "# gr()"
   ]
  },
  {
   "cell_type": "code",
   "execution_count": null,
   "id": "10d21657",
   "metadata": {},
   "outputs": [],
   "source": [
    "const outfolder = plotsdir(\"lds\")"
   ]
  },
  {
   "cell_type": "code",
   "execution_count": null,
   "id": "8e5db196",
   "metadata": {},
   "outputs": [],
   "source": [
    "mkpath(outfolder);"
   ]
  },
  {
   "cell_type": "code",
   "execution_count": null,
   "id": "6d6556ed",
   "metadata": {},
   "outputs": [],
   "source": [
    "function analyze_benchmarks(filterfunction, bfolder)\n",
    "    benchmarks = prepare_benchmarks_table(bfolder);\n",
    "\n",
    "    # Select only a portion of benchmarks for plotting\n",
    "    filtered = filter(filterfunction, benchmarks)\n",
    "\n",
    "    sorted = sort(filtered, [ :T ])\n",
    "\n",
    "    # RxInfer includes the model creation time in it\n",
    "    inference = getindex.(sorted.inference, 1) .- getindex.(sorted.inference, 3)\n",
    "    creation  = getindex.(sorted.creation, 1) .- getindex.(sorted.creation, 3)\n",
    "\n",
    "    min_timing_range = min(minimum(inference), minimum(creation))\n",
    "    max_timing_range = max(maximum(inference), maximum(creation))\n",
    "\n",
    "    return sorted, (inference, creation), (min_timing_range, max_timing_range)\n",
    "end"
   ]
  },
  {
   "cell_type": "code",
   "execution_count": null,
   "id": "ccfcf1fc",
   "metadata": {},
   "outputs": [],
   "source": [
    "target_seed = 42\n",
    "target_d = 4"
   ]
  },
  {
   "cell_type": "code",
   "execution_count": null,
   "id": "38e0153f",
   "metadata": {},
   "outputs": [],
   "source": [
    "rxifb, (rxi_inference, rxi_creation), (rxi_min_tr, rxi_max_tr) = analyze_benchmarks(datadir(\"lds\", \"rxinfer\")) do r\n",
    "    return r[\"d\"] == target_d && r[\"seed\"] == target_seed\n",
    "end"
   ]
  },
  {
   "cell_type": "code",
   "execution_count": null,
   "id": "2e6b47b0",
   "metadata": {},
   "outputs": [],
   "source": [
    "flfb, (fl_inference, fl_creation), (fl_min_tr, fl_max_tr) = analyze_benchmarks(datadir(\"lds\", \"forneylab\")) do r\n",
    "    return r[\"d\"] == target_d && r[\"seed\"] == target_seed\n",
    "end"
   ]
  },
  {
   "cell_type": "code",
   "execution_count": null,
   "id": "133b64f8",
   "metadata": {},
   "outputs": [],
   "source": [
    "tgfb100, (tg_inference100, tg_creation100), (tg_min_tr100, tg_max_tr100) = analyze_benchmarks(datadir(\"lds\", \"turing\", \"nuts\")) do r\n",
    "    return r[\"d\"] == target_d && r[\"seed\"] == target_seed && r[\"nsamples\"] == 100\n",
    "end\n",
    "\n",
    "tgfb200, (tg_inference200, tg_creation200), (tg_min_tr200, tg_max_tr200) = analyze_benchmarks(datadir(\"lds\", \"turing\", \"nuts\")) do r\n",
    "    return r[\"d\"] == target_d && r[\"seed\"] == target_seed && r[\"nsamples\"] == 200\n",
    "end"
   ]
  },
  {
   "cell_type": "code",
   "execution_count": null,
   "id": "cceb9133",
   "metadata": {
    "tags": []
   },
   "outputs": [],
   "source": [
    "min_timing_range = min(rxi_min_tr, fl_min_tr, tg_min_tr100, tg_min_tr200)\n",
    "max_timing_range = max(rxi_max_tr, fl_max_tr, tg_max_tr100, tg_max_tr200)\n",
    "\n",
    "timing_range = exp.(range(log(min_timing_range), log(max_timing_range); length = 10))\n",
    "sizes_range = sort(collect(union(rxifb.T, flfb.T, tgfb.T)))\n",
    "\n",
    "pfontsettings = (\n",
    "    titlefontsize=18,\n",
    "    guidefontsize=16,\n",
    "    tickfontsize=14,\n",
    "    legendfontsize=14,\n",
    "    legend_font_halign = :left\n",
    ")\n",
    "\n",
    "xticks = (\n",
    "    [ 10, 100, 1000, 10_000, 100_000 ],\n",
    "    [ L\"10^1\", L\"10^2\", L\"10^3\", L\"10^4\", L\"10^5\" ]\n",
    ")\n",
    "\n",
    "yticks = (\n",
    "    [ 0.1, 1.0, 10.0, 100, 1000, 10000, 100000 ], \n",
    "    [ L\"10^{-1}\", L\"10^{0}\", L\"10^{1}\", L\"10^{2}\", L\"10^{3}\", L\"10^{4}\", L\"10^5\" ]\n",
    ")\n",
    "\n",
    "p = plot(\n",
    "    size = (800, 400),\n",
    "    yscale = :log10, xscale = :log10, xticks = xticks, yticks = yticks, \n",
    "    ylims = (minimum(yticks[1]), maximum(yticks[1])),\n",
    "    ylabel = \"Time (in ms, log-scale)\", xlabel = \"Number of observation (log-scale)\",\n",
    "    legend = :outerright;\n",
    "    pfontsettings...\n",
    ")\n",
    "\n",
    "mshapes = [:utriangle, :dtriangle, :rtriangle, :ltriangle, :diamond, :circle, :rect, :utriangle ]\n",
    "styles = [ :solid, :dash, :dot, :dashdot ]\n",
    "\n",
    "p = plot!(p, rxifb.T, to_ms.(rxi_inference), label = \"Reactive MP\", marker = mshapes[1], style = styles[1])\n",
    "p = plot!(p, flfb.T, to_ms.(fl_inference), label = \"Scheduled MP (inference)\", marker = mshapes[2], style = styles[2])\n",
    "p = plot!(p, flfb.T, to_ms.(fl_creation), label = \"Scheduled MP (compilation)\", marker = mshapes[3], style = styles[2])\n",
    "p = plot!(p, tgfb.T, to_ms.(tg_inference100), label = \"NUTS (100)\", marker = mshapes[4], style = styles[3])\n",
    "p = plot!(p, tgfb.T, to_ms.(tg_inference200), label = \"NUTS (200)\", marker = mshapes[5], style = styles[3])\n",
    "\n",
    "savefig(joinpath(outfolder, \"02-benchmark_comparison.tex\"))\n",
    "\n",
    "display(\"image/png\", p)"
   ]
  },
  {
   "cell_type": "code",
   "execution_count": null,
   "id": "1934f458-47de-4661-9861-cd3cf3daf4ec",
   "metadata": {},
   "outputs": [],
   "source": []
  },
  {
   "cell_type": "code",
   "execution_count": null,
   "id": "00433c54-cbed-47e1-852e-2847e9c69266",
   "metadata": {},
   "outputs": [],
   "source": []
  }
 ],
 "metadata": {
  "kernelspec": {
   "display_name": "Julia 1.9.0",
   "language": "julia",
   "name": "julia-1.9"
  },
  "language_info": {
   "file_extension": ".jl",
   "mimetype": "application/julia",
   "name": "julia",
   "version": "1.9.0"
  }
 },
 "nbformat": 4,
 "nbformat_minor": 5
}
