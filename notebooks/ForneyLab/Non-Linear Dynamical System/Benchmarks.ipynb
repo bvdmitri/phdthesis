{
 "cells": [
  {
   "cell_type": "markdown",
   "id": "55f33945",
   "metadata": {},
   "source": [
    "This notebook performs a comprehensive becnhmark suit for the inference procedure for the double pendulum system using the RxInfer framework.\n",
    "\n",
    "_Author: Dmitry Bagaev_"
   ]
  },
  {
   "cell_type": "code",
   "execution_count": null,
   "id": "f07b50d2",
   "metadata": {},
   "outputs": [],
   "source": [
    "using DrWatson"
   ]
  },
  {
   "cell_type": "code",
   "execution_count": null,
   "id": "2b399d37",
   "metadata": {},
   "outputs": [],
   "source": [
    "@quickactivate \"RxInferThesisExperiments\""
   ]
  },
  {
   "cell_type": "code",
   "execution_count": null,
   "id": "9ece426e",
   "metadata": {},
   "outputs": [],
   "source": [
    "using RxInferThesisExperiments, ForneyLab, StaticArrays, Plots, PGFPlotsX, LaTeXStrings\n",
    "using LinearAlgebra, StableRNGs, Random, BenchmarkTools, ColorSchemes, Dates, DataFrames"
   ]
  },
  {
   "cell_type": "code",
   "execution_count": null,
   "id": "8294c172",
   "metadata": {},
   "outputs": [],
   "source": [
    "const bfolder = datadir(\"nlds\", \"forneylab\")"
   ]
  },
  {
   "cell_type": "code",
   "execution_count": null,
   "id": "97d0009c",
   "metadata": {},
   "outputs": [],
   "source": [
    "# Pregenerate paths for benchmark data\n",
    "mkpath(bfolder);"
   ]
  },
  {
   "cell_type": "code",
   "execution_count": null,
   "id": "fd138f2a",
   "metadata": {},
   "outputs": [],
   "source": [
    "# Create default environment with default parameters\n",
    "const environment = DoublePendulum()"
   ]
  },
  {
   "cell_type": "code",
   "execution_count": null,
   "id": "c1aab6ce",
   "metadata": {},
   "outputs": [],
   "source": [
    "# Define state-transition function, uses RK4 method internally, see the `src/` folder\n",
    "f(state) = state_transition(environment)(state)"
   ]
  },
  {
   "cell_type": "code",
   "execution_count": null,
   "id": "e37f8c7b",
   "metadata": {},
   "outputs": [],
   "source": [
    "# Include the model specification\n",
    "include(srcdir(\"models\", \"forneylab\", \"doublependulum.jl\"));"
   ]
  },
  {
   "cell_type": "code",
   "execution_count": null,
   "id": "9a2c016a",
   "metadata": {},
   "outputs": [],
   "source": [
    "function run_benchmark(params)\n",
    "    @unpack T, niterations, seed = params\n",
    "    \n",
    "    states, observations = rand(StableRNG(seed), environment, T);\n",
    "    model    = double_pendulum(T; force = false);\n",
    "    result   = run_inference(model, observations; iterations = niterations)\n",
    "    e_states = extract_posteriors(T, result)\n",
    "    amse     = compute_amse(states, e_states)\n",
    "    \n",
    "    benchmark_modelcreation = @benchmark double_pendulum($T; force = true);\n",
    "    \n",
    "    benchmark_inference = @benchmark run_inference(model, observations; iterations = $niterations) setup=begin\n",
    "        model = double_pendulum($T; force = false);\n",
    "        states, observations = rand(StableRNG($seed), environment, $T);\n",
    "    end\n",
    "    \n",
    "    emse = compute_emse(seed) do _seed\n",
    "        local states, observations = rand(StableRNG(_seed), environment, T; random_start = true);\n",
    "        local model    = double_pendulum(T; force = false);\n",
    "        local result   = run_inference(model, observations; iterations = niterations)\n",
    "        local e_states = extract_posteriors(T, result)\n",
    "        return compute_amse(states, e_states)\n",
    "    end\n",
    "    \n",
    "    output = @strdict T niterations seed states e_states observations amse emse benchmark_modelcreation benchmark_inference\n",
    "    \n",
    "    return output\n",
    "end"
   ]
  },
  {
   "cell_type": "code",
   "execution_count": null,
   "id": "82c8701e",
   "metadata": {},
   "outputs": [],
   "source": [
    "# Here we create a list of parameters we want to run our benchmarks with\n",
    "benchmark_params = dict_list(Dict(\n",
    "    \"T\"           => [ 10, 20, 30, 50, 100 ],\n",
    "    \"niterations\" => [ 3 ],\n",
    "    \"seed\"        => [ 42 ]\n",
    "));"
   ]
  },
  {
   "cell_type": "code",
   "execution_count": null,
   "id": "7c12cc0f",
   "metadata": {},
   "outputs": [],
   "source": [
    "# First run maybe slow, you may track the progress in the terminal\n",
    "# Subsequent runs will not create new benchmarks \n",
    "# but will reload it from data folder\n",
    "benchmarks = map(benchmark_params) do params\n",
    "    result, _ = produce_or_load(run_benchmark, bfolder, params; tag = false, force = false)\n",
    "    return result\n",
    "end;"
   ]
  },
  {
   "cell_type": "code",
   "execution_count": null,
   "id": "5631ffe9",
   "metadata": {},
   "outputs": [],
   "source": [
    "sort(prepare_benchmarks_table(bfolder), [ :T ])"
   ]
  },
  {
   "cell_type": "markdown",
   "id": "f6653969",
   "metadata": {},
   "source": [
    "# Versions"
   ]
  },
  {
   "cell_type": "code",
   "execution_count": null,
   "id": "84dcf6b3",
   "metadata": {},
   "outputs": [],
   "source": [
    "versioninfo()"
   ]
  },
  {
   "cell_type": "code",
   "execution_count": null,
   "id": "8d5d47c8",
   "metadata": {},
   "outputs": [],
   "source": [
    "] status"
   ]
  },
  {
   "cell_type": "code",
   "execution_count": null,
   "id": "55fe88d2",
   "metadata": {},
   "outputs": [],
   "source": []
  }
 ],
 "metadata": {
  "kernelspec": {
   "display_name": "Julia 1.9.0",
   "language": "julia",
   "name": "julia-1.9"
  },
  "language_info": {
   "file_extension": ".jl",
   "mimetype": "application/julia",
   "name": "julia",
   "version": "1.9.0"
  }
 },
 "nbformat": 4,
 "nbformat_minor": 5
}
