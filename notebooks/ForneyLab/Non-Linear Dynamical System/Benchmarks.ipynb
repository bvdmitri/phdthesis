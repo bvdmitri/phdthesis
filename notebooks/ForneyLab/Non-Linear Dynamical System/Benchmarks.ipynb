{
 "cells": [
  {
   "cell_type": "markdown",
   "id": "55f33945",
   "metadata": {},
   "source": [
    "This notebook performs a comprehensive becnhmark suit for the inference procedure for the double pendulum system using the RxInfer framework.\n",
    "\n",
    "_Author: Dmitry Bagaev_"
   ]
  },
  {
   "cell_type": "code",
   "execution_count": 1,
   "id": "f07b50d2",
   "metadata": {},
   "outputs": [],
   "source": [
    "using DrWatson"
   ]
  },
  {
   "cell_type": "code",
   "execution_count": 2,
   "id": "2b399d37",
   "metadata": {},
   "outputs": [],
   "source": [
    "@quickactivate \"RxInferThesisExperiments\""
   ]
  },
  {
   "cell_type": "code",
   "execution_count": 3,
   "id": "9ece426e",
   "metadata": {},
   "outputs": [],
   "source": [
    "using RxInferThesisExperiments, ForneyLab, StaticArrays, Plots, PGFPlotsX, LaTeXStrings\n",
    "using LinearAlgebra, StableRNGs, Random, BenchmarkTools, ColorSchemes, Dates, DataFrames"
   ]
  },
  {
   "cell_type": "code",
   "execution_count": 4,
   "id": "8294c172",
   "metadata": {},
   "outputs": [
    {
     "data": {
      "text/plain": [
       "\"/Users/bvdmitri/.julia/dev/thesis/data/nlds/forneylab\""
      ]
     },
     "execution_count": 4,
     "metadata": {},
     "output_type": "execute_result"
    }
   ],
   "source": [
    "const bfolder = datadir(\"nlds\", \"forneylab\")"
   ]
  },
  {
   "cell_type": "code",
   "execution_count": 5,
   "id": "97d0009c",
   "metadata": {},
   "outputs": [],
   "source": [
    "# Pregenerate paths for benchmark data\n",
    "mkpath(bfolder);"
   ]
  },
  {
   "cell_type": "code",
   "execution_count": 6,
   "id": "fd138f2a",
   "metadata": {},
   "outputs": [
    {
     "data": {
      "text/plain": [
       "DoublePendulum()"
      ]
     },
     "execution_count": 6,
     "metadata": {},
     "output_type": "execute_result"
    }
   ],
   "source": [
    "# Create default environment with default parameters\n",
    "const environment = DoublePendulum()"
   ]
  },
  {
   "cell_type": "code",
   "execution_count": 7,
   "id": "c1aab6ce",
   "metadata": {},
   "outputs": [
    {
     "data": {
      "text/plain": [
       "f (generic function with 1 method)"
      ]
     },
     "execution_count": 7,
     "metadata": {},
     "output_type": "execute_result"
    }
   ],
   "source": [
    "# Define state-transition function, uses RK4 method internally, see the `src/` folder\n",
    "f(state) = state_transition(environment)(state)"
   ]
  },
  {
   "cell_type": "code",
   "execution_count": 8,
   "id": "e37f8c7b",
   "metadata": {},
   "outputs": [],
   "source": [
    "# Include the model specification\n",
    "include(srcdir(\"models\", \"forneylab\", \"doublependulum.jl\"));"
   ]
  },
  {
   "cell_type": "code",
   "execution_count": 9,
   "id": "9a2c016a",
   "metadata": {},
   "outputs": [
    {
     "data": {
      "text/plain": [
       "run_benchmark (generic function with 1 method)"
      ]
     },
     "execution_count": 9,
     "metadata": {},
     "output_type": "execute_result"
    }
   ],
   "source": [
    "function run_benchmark(params)\n",
    "    @unpack T, niterations, seed = params\n",
    "    \n",
    "    states, observations = rand(StableRNG(seed), environment, T);\n",
    "    model    = double_pendulum(T; force = false);\n",
    "    result   = run_inference(model, observations; iterations = niterations)\n",
    "    e_states = extract_posteriors(T, result)\n",
    "    amse     = compute_amse(states, e_states)\n",
    "    \n",
    "    benchmark_modelcreation = @benchmark double_pendulum($T; force = true);\n",
    "    \n",
    "    benchmark_inference = @benchmark run_inference(model, observations; iterations = $niterations) setup=begin\n",
    "        model = double_pendulum($T; force = false);\n",
    "        states, observations = rand(StableRNG($seed), environment, $T);\n",
    "    end\n",
    "    \n",
    "    emse = compute_emse(seed) do _seed\n",
    "        local states, observations = rand(StableRNG(_seed), environment, T; random_start = true);\n",
    "        local model    = double_pendulum(T; force = false);\n",
    "        local result   = run_inference(model, observations; iterations = niterations)\n",
    "        local e_states = extract_posteriors(T, result)\n",
    "        return compute_amse(states, e_states)\n",
    "    end\n",
    "    \n",
    "    output = @strdict T niterations seed states e_states observations amse emse benchmark_modelcreation benchmark_inference\n",
    "    \n",
    "    return output\n",
    "end"
   ]
  },
  {
   "cell_type": "code",
   "execution_count": 22,
   "id": "82c8701e",
   "metadata": {},
   "outputs": [],
   "source": [
    "# Here we create a list of parameters we want to run our benchmarks with\n",
    "benchmark_params = dict_list(Dict(\n",
    "    \"T\"           => [ 10, 20, 30, 50, 100 ],\n",
    "    \"niterations\" => [ 3 ],\n",
    "    \"seed\"        => [ 42 ]\n",
    "));"
   ]
  },
  {
   "cell_type": "code",
   "execution_count": 23,
   "id": "7c12cc0f",
   "metadata": {},
   "outputs": [
    {
     "name": "stderr",
     "output_type": "stream",
     "text": [
      "\u001b[36m\u001b[1m[ \u001b[22m\u001b[39m\u001b[36m\u001b[1mInfo: \u001b[22m\u001b[39mFile /Users/bvdmitri/.julia/dev/thesis/data/nlds/forneylab/T=100_niterations=3_seed=42.jld2 does not exist. Producing it now...\n",
      "\u001b[36m\u001b[1m[ \u001b[22m\u001b[39m\u001b[36m\u001b[1mInfo: \u001b[22m\u001b[39mFile /Users/bvdmitri/.julia/dev/thesis/data/nlds/forneylab/T=100_niterations=3_seed=42.jld2 saved.\n"
     ]
    }
   ],
   "source": [
    "# First run maybe slow, you may track the progress in the terminal\n",
    "# Subsequent runs will not create new benchmarks \n",
    "# but will reload it from data folder\n",
    "benchmarks = map(benchmark_params) do params\n",
    "    result, _ = produce_or_load(run_benchmark, bfolder, params; tag = false, force = false)\n",
    "    return result\n",
    "end;"
   ]
  },
  {
   "cell_type": "code",
   "execution_count": 26,
   "id": "5631ffe9",
   "metadata": {},
   "outputs": [
    {
     "name": "stderr",
     "output_type": "stream",
     "text": [
      "\u001b[36m\u001b[1m[ \u001b[22m\u001b[39m\u001b[36m\u001b[1mInfo: \u001b[22m\u001b[39mScanning folder /Users/bvdmitri/.julia/dev/thesis/data/nlds/forneylab for result files.\n",
      "\u001b[36m\u001b[1m[ \u001b[22m\u001b[39m\u001b[36m\u001b[1mInfo: \u001b[22m\u001b[39mAdded 8 entries.\n"
     ]
    },
    {
     "data": {
      "text/html": [
       "<div><div style = \"float: left;\"><span>8×7 DataFrame</span></div><div style = \"clear: both;\"></div></div><div class = \"data-frame\" style = \"overflow-x: scroll;\"><table class = \"data-frame\" style = \"margin-bottom: 6px;\"><thead><tr class = \"header\"><th class = \"rowNumber\" style = \"font-weight: bold; text-align: right;\">Row</th><th style = \"text-align: left;\">T</th><th style = \"text-align: left;\">seed</th><th style = \"text-align: left;\">niterations</th><th style = \"text-align: left;\">amse</th><th style = \"text-align: left;\">emse</th><th style = \"text-align: left;\">inference</th><th style = \"text-align: left;\">creation</th></tr><tr class = \"subheader headerLastRow\"><th class = \"rowNumber\" style = \"font-weight: bold; text-align: right;\"></th><th title = \"Union{Missing, Int64}\" style = \"text-align: left;\">Int64?</th><th title = \"Union{Missing, Int64}\" style = \"text-align: left;\">Int64?</th><th title = \"Union{Missing, Int64}\" style = \"text-align: left;\">Int64?</th><th title = \"Union{Missing, Float64}\" style = \"text-align: left;\">Float64?</th><th title = \"Union{Missing, Float64}\" style = \"text-align: left;\">Float64?</th><th title = \"Union{Missing, Tuple{Float64, Float64, Float64}}\" style = \"text-align: left;\">Tuple…?</th><th title = \"Union{Missing, Tuple{Float64, Float64, Float64}}\" style = \"text-align: left;\">Tuple…?</th></tr></thead><tbody><tr><td class = \"rowNumber\" style = \"font-weight: bold; text-align: right;\">1</td><td style = \"text-align: right;\">10</td><td style = \"text-align: right;\">42</td><td style = \"text-align: right;\">3</td><td style = \"text-align: right;\">8.09207</td><td style = \"text-align: right;\">7.10241</td><td style = \"text-align: left;\">(1.14833e6, 1.55756e6, 0.0)</td><td style = \"text-align: left;\">(5.13339e9, 5.13339e9, 3.33827e7)</td></tr><tr><td class = \"rowNumber\" style = \"font-weight: bold; text-align: right;\">2</td><td style = \"text-align: right;\">10</td><td style = \"text-align: right;\">42</td><td style = \"text-align: right;\">5</td><td style = \"text-align: right;\">8.0052</td><td style = \"text-align: right;\">7.0327</td><td style = \"text-align: left;\">(1.95245e6, 2.94054e6, 0.0)</td><td style = \"text-align: left;\">(5.09341e9, 5.09341e9, 3.50069e7)</td></tr><tr><td class = \"rowNumber\" style = \"font-weight: bold; text-align: right;\">3</td><td style = \"text-align: right;\">20</td><td style = \"text-align: right;\">42</td><td style = \"text-align: right;\">3</td><td style = \"text-align: right;\">11.087</td><td style = \"text-align: right;\">12.1779</td><td style = \"text-align: left;\">(2.70781e6, 3.52697e6, 0.0)</td><td style = \"text-align: left;\">(1.09954e10, 1.09954e10, 6.62345e7)</td></tr><tr><td class = \"rowNumber\" style = \"font-weight: bold; text-align: right;\">4</td><td style = \"text-align: right;\">20</td><td style = \"text-align: right;\">42</td><td style = \"text-align: right;\">5</td><td style = \"text-align: right;\">10.8625</td><td style = \"text-align: right;\">12.0709</td><td style = \"text-align: left;\">(3.84851e6, 5.07834e6, 0.0)</td><td style = \"text-align: left;\">(1.09624e10, 1.09624e10, 7.04102e7)</td></tr><tr><td class = \"rowNumber\" style = \"font-weight: bold; text-align: right;\">5</td><td style = \"text-align: right;\">30</td><td style = \"text-align: right;\">42</td><td style = \"text-align: right;\">3</td><td style = \"text-align: right;\">9.23668</td><td style = \"text-align: right;\">6.52354</td><td style = \"text-align: left;\">(3.62542e6, 4.71653e6, 0.0)</td><td style = \"text-align: left;\">(1.59941e10, 1.59941e10, 9.59679e7)</td></tr><tr><td class = \"rowNumber\" style = \"font-weight: bold; text-align: right;\">6</td><td style = \"text-align: right;\">30</td><td style = \"text-align: right;\">42</td><td style = \"text-align: right;\">5</td><td style = \"text-align: right;\">9.04062</td><td style = \"text-align: right;\">6.45478</td><td style = \"text-align: left;\">(6.21228e6, 7.77057e6, 0.0)</td><td style = \"text-align: left;\">(1.56399e10, 1.56399e10, 1.0033e8)</td></tr><tr><td class = \"rowNumber\" style = \"font-weight: bold; text-align: right;\">7</td><td style = \"text-align: right;\">50</td><td style = \"text-align: right;\">42</td><td style = \"text-align: right;\">3</td><td style = \"text-align: right;\">7.23535</td><td style = \"text-align: right;\">3.53501</td><td style = \"text-align: left;\">(5.97635e6, 8.76036e6, 0.0)</td><td style = \"text-align: left;\">(2.75097e10, 2.75097e10, 1.65037e8)</td></tr><tr><td class = \"rowNumber\" style = \"font-weight: bold; text-align: right;\">8</td><td style = \"text-align: right;\">100</td><td style = \"text-align: right;\">42</td><td style = \"text-align: right;\">3</td><td style = \"text-align: right;\">4.16957</td><td style = \"text-align: right;\">1.28983</td><td style = \"text-align: left;\">(1.36045e7, 1.66293e7, 0.0)</td><td style = \"text-align: left;\">(5.13783e10, 5.13783e10, 3.03572e8)</td></tr></tbody></table></div>"
      ],
      "text/latex": [
       "\\begin{tabular}{r|ccccccc}\n",
       "\t& T & seed & niterations & amse & emse & inference & creation\\\\\n",
       "\t\\hline\n",
       "\t& Int64? & Int64? & Int64? & Float64? & Float64? & Tuple…? & Tuple…?\\\\\n",
       "\t\\hline\n",
       "\t1 & 10 & 42 & 3 & 8.09207 & 7.10241 & (1.14833e6, 1.55756e6, 0.0) & (5.13339e9, 5.13339e9, 3.33827e7) \\\\\n",
       "\t2 & 10 & 42 & 5 & 8.0052 & 7.0327 & (1.95245e6, 2.94054e6, 0.0) & (5.09341e9, 5.09341e9, 3.50069e7) \\\\\n",
       "\t3 & 20 & 42 & 3 & 11.087 & 12.1779 & (2.70781e6, 3.52697e6, 0.0) & (1.09954e10, 1.09954e10, 6.62345e7) \\\\\n",
       "\t4 & 20 & 42 & 5 & 10.8625 & 12.0709 & (3.84851e6, 5.07834e6, 0.0) & (1.09624e10, 1.09624e10, 7.04102e7) \\\\\n",
       "\t5 & 30 & 42 & 3 & 9.23668 & 6.52354 & (3.62542e6, 4.71653e6, 0.0) & (1.59941e10, 1.59941e10, 9.59679e7) \\\\\n",
       "\t6 & 30 & 42 & 5 & 9.04062 & 6.45478 & (6.21228e6, 7.77057e6, 0.0) & (1.56399e10, 1.56399e10, 1.0033e8) \\\\\n",
       "\t7 & 50 & 42 & 3 & 7.23535 & 3.53501 & (5.97635e6, 8.76036e6, 0.0) & (2.75097e10, 2.75097e10, 1.65037e8) \\\\\n",
       "\t8 & 100 & 42 & 3 & 4.16957 & 1.28983 & (1.36045e7, 1.66293e7, 0.0) & (5.13783e10, 5.13783e10, 3.03572e8) \\\\\n",
       "\\end{tabular}\n"
      ],
      "text/plain": [
       "\u001b[1m8×7 DataFrame\u001b[0m\n",
       "\u001b[1m Row \u001b[0m│\u001b[1m T      \u001b[0m\u001b[1m seed   \u001b[0m\u001b[1m niterations \u001b[0m\u001b[1m amse     \u001b[0m\u001b[1m emse     \u001b[0m\u001b[1m inference             \u001b[0m ⋯\n",
       "     │\u001b[90m Int64? \u001b[0m\u001b[90m Int64? \u001b[0m\u001b[90m Int64?      \u001b[0m\u001b[90m Float64? \u001b[0m\u001b[90m Float64? \u001b[0m\u001b[90m Tuple…?               \u001b[0m ⋯\n",
       "─────┼──────────────────────────────────────────────────────────────────────────\n",
       "   1 │     10      42            3   8.09207   7.10241  (1.14833e6, 1.55756e6, ⋯\n",
       "   2 │     10      42            5   8.0052    7.0327   (1.95245e6, 2.94054e6,\n",
       "   3 │     20      42            3  11.087    12.1779   (2.70781e6, 3.52697e6,\n",
       "   4 │     20      42            5  10.8625   12.0709   (3.84851e6, 5.07834e6,\n",
       "   5 │     30      42            3   9.23668   6.52354  (3.62542e6, 4.71653e6, ⋯\n",
       "   6 │     30      42            5   9.04062   6.45478  (6.21228e6, 7.77057e6,\n",
       "   7 │     50      42            3   7.23535   3.53501  (5.97635e6, 8.76036e6,\n",
       "   8 │    100      42            3   4.16957   1.28983  (1.36045e7, 1.66293e7,\n",
       "\u001b[36m                                                               2 columns omitted\u001b[0m"
      ]
     },
     "execution_count": 26,
     "metadata": {},
     "output_type": "execute_result"
    }
   ],
   "source": [
    "sort(prepare_benchmarks_table(bfolder), [ :T ])"
   ]
  },
  {
   "cell_type": "markdown",
   "id": "f6653969",
   "metadata": {},
   "source": [
    "# Versions"
   ]
  },
  {
   "cell_type": "code",
   "execution_count": 13,
   "id": "84dcf6b3",
   "metadata": {},
   "outputs": [
    {
     "name": "stdout",
     "output_type": "stream",
     "text": [
      "Julia Version 1.9.0\n",
      "Commit 8e630552924 (2023-05-07 11:25 UTC)\n",
      "Platform Info:\n",
      "  OS: macOS (x86_64-apple-darwin22.4.0)\n",
      "  CPU: 12 × Intel(R) Core(TM) i7-8850H CPU @ 2.60GHz\n",
      "  WORD_SIZE: 64\n",
      "  LIBM: libopenlibm\n",
      "  LLVM: libLLVM-14.0.6 (ORCJIT, skylake)\n",
      "  Threads: 2 on 12 virtual cores\n"
     ]
    }
   ],
   "source": [
    "versioninfo()"
   ]
  },
  {
   "cell_type": "code",
   "execution_count": 14,
   "id": "8d5d47c8",
   "metadata": {},
   "outputs": [
    {
     "name": "stdout",
     "output_type": "stream",
     "text": [
      "\u001b[36m\u001b[1mProject\u001b[22m\u001b[39m RxInferThesisExperiments v1.0.0\n",
      "\u001b[32m\u001b[1mStatus\u001b[22m\u001b[39m `~/.julia/dev/thesis/Project.toml`\n",
      "  \u001b[90m[6e4b80f9] \u001b[39mBenchmarkTools v1.3.2\n",
      "  \u001b[90m[35d6a980] \u001b[39mColorSchemes v3.21.0\n",
      "  \u001b[90m[a93c6f00] \u001b[39mDataFrames v1.5.0\n",
      "\u001b[32m⌃\u001b[39m \u001b[90m[31c24e10] \u001b[39mDistributions v0.25.94\n",
      "  \u001b[90m[634d3b9d] \u001b[39mDrWatson v2.12.5\n",
      "  \u001b[90m[9fc3f58a] \u001b[39mForneyLab v0.12.0\n",
      "  \u001b[90m[f6369f11] \u001b[39mForwardDiff v0.10.35\n",
      "  \u001b[90m[7073ff75] \u001b[39mIJulia v1.24.0\n",
      "  \u001b[90m[b964fa9f] \u001b[39mLaTeXStrings v1.3.0\n",
      "  \u001b[90m[3bd65402] \u001b[39mOptimisers v0.2.18\n",
      "  \u001b[90m[8314cec4] \u001b[39mPGFPlotsX v1.6.0\n",
      "  \u001b[90m[e4faabce] \u001b[39mPProf v2.2.2\n",
      "\u001b[32m⌃\u001b[39m \u001b[90m[91a5bcdd] \u001b[39mPlots v1.38.12\n",
      "  \u001b[90m[37e2e3b7] \u001b[39mReverseDiff v1.14.6\n",
      "\u001b[32m⌃\u001b[39m \u001b[90m[86711068] \u001b[39mRxInfer v2.10.4\n",
      "  \u001b[90m[860ef19b] \u001b[39mStableRNGs v1.0.0\n",
      "  \u001b[90m[aedffcd0] \u001b[39mStatic v0.8.7\n",
      "  \u001b[90m[90137ffa] \u001b[39mStaticArrays v1.5.25\n",
      "  \u001b[90m[fce5fe82] \u001b[39mTuring v0.25.1\n",
      "  \u001b[90m[e88e6eb3] \u001b[39mZygote v0.6.61\n",
      "  \u001b[90m[37e2e46d] \u001b[39mLinearAlgebra\n",
      "  \u001b[90m[9a3f8284] \u001b[39mRandom\n",
      "\u001b[36m\u001b[1mInfo\u001b[22m\u001b[39m Packages marked with \u001b[32m⌃\u001b[39m have new versions available and may be upgradable.\n"
     ]
    }
   ],
   "source": [
    "] status"
   ]
  },
  {
   "cell_type": "code",
   "execution_count": null,
   "id": "55fe88d2",
   "metadata": {},
   "outputs": [],
   "source": []
  }
 ],
 "metadata": {
  "kernelspec": {
   "display_name": "Julia 1.9.0",
   "language": "julia",
   "name": "julia-1.9"
  },
  "language_info": {
   "file_extension": ".jl",
   "mimetype": "application/julia",
   "name": "julia",
   "version": "1.9.0"
  }
 },
 "nbformat": 4,
 "nbformat_minor": 5
}
