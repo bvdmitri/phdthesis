{
 "cells": [
  {
   "cell_type": "markdown",
   "id": "ebd2f14e-df61-427d-982e-3bf928a0f9a1",
   "metadata": {},
   "source": [
    "_Author: Dmitry Bagaev_"
   ]
  },
  {
   "cell_type": "code",
   "execution_count": null,
   "id": "ab51ecfe",
   "metadata": {},
   "outputs": [],
   "source": [
    "using DrWatson"
   ]
  },
  {
   "cell_type": "code",
   "execution_count": null,
   "id": "e38c5626",
   "metadata": {},
   "outputs": [],
   "source": [
    "@quickactivate \"RxInferThesisExperiments\""
   ]
  },
  {
   "cell_type": "code",
   "execution_count": null,
   "id": "453726c3",
   "metadata": {},
   "outputs": [],
   "source": [
    "using RxInferThesisExperiments, ForneyLab, StaticArrays, Plots, PGFPlotsX, LaTeXStrings\n",
    "using LinearAlgebra, StableRNGs, Random, BenchmarkTools, ColorSchemes, Dates, ProgressMeter\n",
    "\n",
    "import Distributions"
   ]
  },
  {
   "cell_type": "code",
   "execution_count": null,
   "id": "8fed084c",
   "metadata": {},
   "outputs": [],
   "source": [
    "# For the thesis I use the `pgfplotsx` backend of the `Plots`, since it generates high-quiality plots\n",
    "# But it is reallyyy slow, if some wants to generate plots faster uncoment the `gr()` line\n",
    "pgfplotsx()\n",
    "\n",
    "# Use fast plotting backend\n",
    "# gr()"
   ]
  },
  {
   "cell_type": "code",
   "execution_count": null,
   "id": "7a5c82ca",
   "metadata": {},
   "outputs": [],
   "source": [
    "const environment = HGFEnvironment()"
   ]
  },
  {
   "cell_type": "code",
   "execution_count": null,
   "id": "e1876709",
   "metadata": {},
   "outputs": [],
   "source": [
    "# Include the model specification\n",
    "include(srcdir(\"models\", \"forneylab\", \"hgf.jl\"));"
   ]
  },
  {
   "cell_type": "code",
   "execution_count": null,
   "id": "164adec9",
   "metadata": {},
   "outputs": [],
   "source": [
    "T = 10_000\n",
    "seed = 42\n",
    "rng = StableRNG(seed)\n",
    "\n",
    "zstates, xstates, observations = rand(rng, environment, T);\n",
    "\n",
    "# `plotting` range\n",
    "prange = 20:100:10000 # max((lastindex(observations) - 5000), firstindex(observations)):40:lastindex(observations)\n",
    "colors = ColorSchemes.tableau_10\n",
    "\n",
    "# Some default settings for plotting\n",
    "pfontsettings = (\n",
    "    titlefontsize=18,\n",
    "    guidefontsize=16,\n",
    "    tickfontsize=14,\n",
    "    legendfontsize=14,\n",
    "    legend = :bottomleft,\n",
    "    size = (400, 300)\n",
    ")\n",
    "\n",
    "p1 = plot(xlabel = \"Time step index\", ylabel = \"\"; pfontsettings...)\n",
    "p1 = plot!(prange, zstates[prange], color = colors[1], linewidth = 2, label = L\"z\")\n",
    "\n",
    "p2 = plot(xlabel = \"Time step index\", ylabel = \"\"; pfontsettings...)\n",
    "p2 = plot!(p2, prange, xstates[prange], color = colors[7], linewidth = 2, label = L\"x\")\n",
    "p2 = scatter!(p2, prange, observations[prange], color = colors[5], ms = 2, alpha = 0.5, msw = 0, label = L\"y\")\n",
    "\n",
    "p = plot(p1, p2, layout = @layout([ a b ]), size = (800, 300))\n",
    "\n",
    "display(\"image/png\", p)"
   ]
  },
  {
   "cell_type": "code",
   "execution_count": null,
   "id": "7b67d008",
   "metadata": {},
   "outputs": [],
   "source": [
    "model = hgf(environment.kappa, environment.omega)\n",
    "results = run_inference(model, observations; showprogress = true);"
   ]
  },
  {
   "cell_type": "code",
   "execution_count": null,
   "id": "aa578fcb",
   "metadata": {},
   "outputs": [],
   "source": [
    "e_states = extract_posteriors(T, results)\n",
    "\n",
    "emz = Distributions.mean.(e_states[:z])\n",
    "evz = Distributions.std.(e_states[:z])\n",
    "\n",
    "emx = Distributions.mean.(e_states[:x])\n",
    "evx = Distributions.std.(e_states[:x])\n",
    "\n",
    "p1 = plot(xlabel = \"Time step index\", ylabel = \"\"; pfontsettings...)\n",
    "p1 = plot!(p1, prange, zstates[prange], color = colors[1], linewidth = 2, label = L\"z\")\n",
    "p1 = plot!(p1, prange, emz[prange], ribbon = 3evz[prange], color = colors[2], linewidth = 2, label = L\"q(z)\")\n",
    "\n",
    "p2 = plot(xlabel = \"Time step index\", ylabel = \"\"; pfontsettings...)\n",
    "p2 = plot!(p2, prange, xstates[prange], color = colors[7], linewidth = 2, label = L\"x\")\n",
    "p2 = plot!(p2, prange, emx[prange], ribbon = 3evx[prange], color = colors[3], linewidth = 2, label = L\"q(z)\")\n",
    "p2 = scatter!(p2, prange, observations[prange], color = colors[5], ms = 2, alpha = 0.5, msw = 0, label = L\"y\")\n",
    "\n",
    "p = plot(p1, p2, layout = @layout([ a b ]), size = (800, 300))\n",
    "\n",
    "display(\"image/png\", p)"
   ]
  },
  {
   "cell_type": "code",
   "execution_count": null,
   "id": "275b5bba",
   "metadata": {},
   "outputs": [],
   "source": [
    "println(\"AMSE Z: \", compute_amse(zstates, e_states[:z]))\n",
    "println(\"AMSE X: \", compute_amse(xstates, e_states[:x]))"
   ]
  },
  {
   "cell_type": "code",
   "execution_count": null,
   "id": "b78e1083-8436-4d62-aba0-24c75a0cd29c",
   "metadata": {},
   "outputs": [],
   "source": [
    "versioninfo()"
   ]
  },
  {
   "cell_type": "code",
   "execution_count": null,
   "id": "67dcefed-6008-426e-b46b-aa0e55559f32",
   "metadata": {},
   "outputs": [],
   "source": [
    "] status"
   ]
  },
  {
   "cell_type": "code",
   "execution_count": null,
   "id": "d2c3349a-d13c-4296-9a0c-3c1e96ff145f",
   "metadata": {},
   "outputs": [],
   "source": []
  }
 ],
 "metadata": {
  "kernelspec": {
   "display_name": "Julia 1.9.0",
   "language": "julia",
   "name": "julia-1.9"
  },
  "language_info": {
   "file_extension": ".jl",
   "mimetype": "application/julia",
   "name": "julia",
   "version": "1.9.0"
  }
 },
 "nbformat": 4,
 "nbformat_minor": 5
}
