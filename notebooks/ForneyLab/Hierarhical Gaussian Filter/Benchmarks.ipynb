{
 "cells": [
  {
   "cell_type": "code",
   "execution_count": 1,
   "id": "ab51ecfe",
   "metadata": {},
   "outputs": [],
   "source": [
    "using DrWatson"
   ]
  },
  {
   "cell_type": "code",
   "execution_count": 2,
   "id": "e38c5626",
   "metadata": {},
   "outputs": [],
   "source": [
    "@quickactivate \"RxInferThesisExperiments\""
   ]
  },
  {
   "cell_type": "code",
   "execution_count": 3,
   "id": "453726c3",
   "metadata": {},
   "outputs": [],
   "source": [
    "using RxInferThesisExperiments, ForneyLab, StaticArrays, Plots, PGFPlotsX, LaTeXStrings\n",
    "using LinearAlgebra, StableRNGs, Random, BenchmarkTools, ColorSchemes, ProgressMeter, Dates"
   ]
  },
  {
   "cell_type": "code",
   "execution_count": 4,
   "id": "76ad3c68",
   "metadata": {},
   "outputs": [
    {
     "data": {
      "text/plain": [
       "\"/Users/bvdmitri/.julia/dev/RxInferThesisExperiments/data/hgf/forneylab\""
      ]
     },
     "execution_count": 4,
     "metadata": {},
     "output_type": "execute_result"
    }
   ],
   "source": [
    "const bfolder = datadir(\"hgf\", \"forneylab\")"
   ]
  },
  {
   "cell_type": "code",
   "execution_count": 5,
   "id": "2bee77bc",
   "metadata": {},
   "outputs": [],
   "source": [
    "# Pregenerate paths for benchmark data\n",
    "mkpath(bfolder);"
   ]
  },
  {
   "cell_type": "code",
   "execution_count": 6,
   "id": "7a5c82ca",
   "metadata": {},
   "outputs": [
    {
     "data": {
      "text/plain": [
       "HGFEnvironment()"
      ]
     },
     "execution_count": 6,
     "metadata": {},
     "output_type": "execute_result"
    }
   ],
   "source": [
    "const environment = HGFEnvironment()"
   ]
  },
  {
   "cell_type": "code",
   "execution_count": 7,
   "id": "ad7b64dd",
   "metadata": {},
   "outputs": [],
   "source": [
    "# Include the model specification\n",
    "include(srcdir(\"models\", \"forneylab\", \"hgf.jl\"));"
   ]
  },
  {
   "cell_type": "code",
   "execution_count": 8,
   "id": "164adec9",
   "metadata": {},
   "outputs": [
    {
     "data": {
      "text/plain": [
       "run_benchmark (generic function with 1 method)"
      ]
     },
     "execution_count": 8,
     "metadata": {},
     "output_type": "execute_result"
    }
   ],
   "source": [
    "function run_benchmark(params)\n",
    "    @unpack T, niterations, seed = params\n",
    "    \n",
    "    zstates, xstates, observations = rand(StableRNG(seed), environment, T);\n",
    "    model    = hgf(environment.kappa, environment.omega)\n",
    "    result   = run_inference(model, observations; iterations = niterations)\n",
    "    e_states = extract_posteriors(T, result)\n",
    "    z_amse   = compute_amse(zstates, e_states[:z])\n",
    "    x_amse   = compute_amse(xstates, e_states[:x])\n",
    "    \n",
    "    benchmark_modelcreation = @benchmark hgf(environment.kappa, environment.omega; force = true)\n",
    "    \n",
    "    benchmark_inference = @benchmark run_inference(model, observations; iterations = $niterations) setup=begin\n",
    "        model = hgf($(environment.kappa), $(environment.omega))\n",
    "        zstates, xstates, observations = rand(StableRNG($seed), environment, $T);\n",
    "    end\n",
    "    \n",
    "    emse = compute_emse(seed) do _seed\n",
    "        local zstates, xstates, observations = rand(StableRNG(_seed), environment, T);\n",
    "        local model    = hgf(environment.kappa, environment.omega)\n",
    "        local result   = run_inference(model, observations; iterations = niterations)\n",
    "        local e_states = extract_posteriors(T, result)\n",
    "        return [ compute_amse(zstates, e_states[:z]), compute_amse(xstates, e_states[:x]) ]\n",
    "    end\n",
    "    \n",
    "    z_emse = emse[1]\n",
    "    x_emse = emse[2]\n",
    "    \n",
    "    states = (z = zstates, x = xstates)\n",
    "    \n",
    "    output = @strdict T niterations seed states e_states observations z_amse x_amse z_emse x_emse benchmark_modelcreation benchmark_inference\n",
    "    \n",
    "    return output\n",
    "end"
   ]
  },
  {
   "cell_type": "code",
   "execution_count": 9,
   "id": "7b67d008",
   "metadata": {},
   "outputs": [],
   "source": [
    "# Here we create a list of parameters we want to run our benchmarks with\n",
    "benchmark_params = dict_list(Dict(\n",
    "    \"T\"           => [ 10, 20, 30, 100, 300 ],\n",
    "    \"niterations\" => [ 3, 5, 10, 20 ],\n",
    "    \"seed\"        => [ 42 ]\n",
    "));"
   ]
  },
  {
   "cell_type": "code",
   "execution_count": 10,
   "id": "aa578fcb",
   "metadata": {},
   "outputs": [
    {
     "name": "stderr",
     "output_type": "stream",
     "text": [
      "\u001b[36m\u001b[1m[ \u001b[22m\u001b[39m\u001b[36m\u001b[1mInfo: \u001b[22m\u001b[39mFile /Users/bvdmitri/.julia/dev/RxInferThesisExperiments/data/hgf/forneylab/T=10_niterations=3_seed=42.jld2 does not exist. Producing it now...\n",
      "\u001b[36m\u001b[1m[ \u001b[22m\u001b[39m\u001b[36m\u001b[1mInfo: \u001b[22m\u001b[39mFile /Users/bvdmitri/.julia/dev/RxInferThesisExperiments/data/hgf/forneylab/T=10_niterations=3_seed=42.jld2 saved.\n",
      "\u001b[36m\u001b[1m[ \u001b[22m\u001b[39m\u001b[36m\u001b[1mInfo: \u001b[22m\u001b[39mFile /Users/bvdmitri/.julia/dev/RxInferThesisExperiments/data/hgf/forneylab/T=20_niterations=3_seed=42.jld2 does not exist. Producing it now...\n",
      "\u001b[36m\u001b[1m[ \u001b[22m\u001b[39m\u001b[36m\u001b[1mInfo: \u001b[22m\u001b[39mFile /Users/bvdmitri/.julia/dev/RxInferThesisExperiments/data/hgf/forneylab/T=20_niterations=3_seed=42.jld2 saved.\n",
      "\u001b[36m\u001b[1m[ \u001b[22m\u001b[39m\u001b[36m\u001b[1mInfo: \u001b[22m\u001b[39mFile /Users/bvdmitri/.julia/dev/RxInferThesisExperiments/data/hgf/forneylab/T=30_niterations=3_seed=42.jld2 does not exist. Producing it now...\n",
      "\u001b[36m\u001b[1m[ \u001b[22m\u001b[39m\u001b[36m\u001b[1mInfo: \u001b[22m\u001b[39mFile /Users/bvdmitri/.julia/dev/RxInferThesisExperiments/data/hgf/forneylab/T=30_niterations=3_seed=42.jld2 saved.\n",
      "\u001b[36m\u001b[1m[ \u001b[22m\u001b[39m\u001b[36m\u001b[1mInfo: \u001b[22m\u001b[39mFile /Users/bvdmitri/.julia/dev/RxInferThesisExperiments/data/hgf/forneylab/T=100_niterations=3_seed=42.jld2 does not exist. Producing it now...\n",
      "\u001b[36m\u001b[1m[ \u001b[22m\u001b[39m\u001b[36m\u001b[1mInfo: \u001b[22m\u001b[39mFile /Users/bvdmitri/.julia/dev/RxInferThesisExperiments/data/hgf/forneylab/T=100_niterations=3_seed=42.jld2 saved.\n",
      "\u001b[36m\u001b[1m[ \u001b[22m\u001b[39m\u001b[36m\u001b[1mInfo: \u001b[22m\u001b[39mFile /Users/bvdmitri/.julia/dev/RxInferThesisExperiments/data/hgf/forneylab/T=300_niterations=3_seed=42.jld2 does not exist. Producing it now...\n",
      "\u001b[36m\u001b[1m[ \u001b[22m\u001b[39m\u001b[36m\u001b[1mInfo: \u001b[22m\u001b[39mFile /Users/bvdmitri/.julia/dev/RxInferThesisExperiments/data/hgf/forneylab/T=300_niterations=3_seed=42.jld2 saved.\n",
      "\u001b[36m\u001b[1m[ \u001b[22m\u001b[39m\u001b[36m\u001b[1mInfo: \u001b[22m\u001b[39mFile /Users/bvdmitri/.julia/dev/RxInferThesisExperiments/data/hgf/forneylab/T=10_niterations=5_seed=42.jld2 does not exist. Producing it now...\n",
      "\u001b[36m\u001b[1m[ \u001b[22m\u001b[39m\u001b[36m\u001b[1mInfo: \u001b[22m\u001b[39mFile /Users/bvdmitri/.julia/dev/RxInferThesisExperiments/data/hgf/forneylab/T=10_niterations=5_seed=42.jld2 saved.\n",
      "\u001b[36m\u001b[1m[ \u001b[22m\u001b[39m\u001b[36m\u001b[1mInfo: \u001b[22m\u001b[39mFile /Users/bvdmitri/.julia/dev/RxInferThesisExperiments/data/hgf/forneylab/T=20_niterations=5_seed=42.jld2 does not exist. Producing it now...\n",
      "\u001b[36m\u001b[1m[ \u001b[22m\u001b[39m\u001b[36m\u001b[1mInfo: \u001b[22m\u001b[39mFile /Users/bvdmitri/.julia/dev/RxInferThesisExperiments/data/hgf/forneylab/T=20_niterations=5_seed=42.jld2 saved.\n",
      "\u001b[36m\u001b[1m[ \u001b[22m\u001b[39m\u001b[36m\u001b[1mInfo: \u001b[22m\u001b[39mFile /Users/bvdmitri/.julia/dev/RxInferThesisExperiments/data/hgf/forneylab/T=30_niterations=5_seed=42.jld2 does not exist. Producing it now...\n",
      "\u001b[36m\u001b[1m[ \u001b[22m\u001b[39m\u001b[36m\u001b[1mInfo: \u001b[22m\u001b[39mFile /Users/bvdmitri/.julia/dev/RxInferThesisExperiments/data/hgf/forneylab/T=30_niterations=5_seed=42.jld2 saved.\n",
      "\u001b[36m\u001b[1m[ \u001b[22m\u001b[39m\u001b[36m\u001b[1mInfo: \u001b[22m\u001b[39mFile /Users/bvdmitri/.julia/dev/RxInferThesisExperiments/data/hgf/forneylab/T=100_niterations=5_seed=42.jld2 does not exist. Producing it now...\n",
      "\u001b[36m\u001b[1m[ \u001b[22m\u001b[39m\u001b[36m\u001b[1mInfo: \u001b[22m\u001b[39mFile /Users/bvdmitri/.julia/dev/RxInferThesisExperiments/data/hgf/forneylab/T=100_niterations=5_seed=42.jld2 saved.\n",
      "\u001b[36m\u001b[1m[ \u001b[22m\u001b[39m\u001b[36m\u001b[1mInfo: \u001b[22m\u001b[39mFile /Users/bvdmitri/.julia/dev/RxInferThesisExperiments/data/hgf/forneylab/T=300_niterations=5_seed=42.jld2 does not exist. Producing it now...\n",
      "\u001b[36m\u001b[1m[ \u001b[22m\u001b[39m\u001b[36m\u001b[1mInfo: \u001b[22m\u001b[39mFile /Users/bvdmitri/.julia/dev/RxInferThesisExperiments/data/hgf/forneylab/T=300_niterations=5_seed=42.jld2 saved.\n",
      "\u001b[36m\u001b[1m[ \u001b[22m\u001b[39m\u001b[36m\u001b[1mInfo: \u001b[22m\u001b[39mFile /Users/bvdmitri/.julia/dev/RxInferThesisExperiments/data/hgf/forneylab/T=10_niterations=10_seed=42.jld2 does not exist. Producing it now...\n",
      "\u001b[36m\u001b[1m[ \u001b[22m\u001b[39m\u001b[36m\u001b[1mInfo: \u001b[22m\u001b[39mFile /Users/bvdmitri/.julia/dev/RxInferThesisExperiments/data/hgf/forneylab/T=10_niterations=10_seed=42.jld2 saved.\n",
      "\u001b[36m\u001b[1m[ \u001b[22m\u001b[39m\u001b[36m\u001b[1mInfo: \u001b[22m\u001b[39mFile /Users/bvdmitri/.julia/dev/RxInferThesisExperiments/data/hgf/forneylab/T=20_niterations=10_seed=42.jld2 does not exist. Producing it now...\n",
      "\u001b[36m\u001b[1m[ \u001b[22m\u001b[39m\u001b[36m\u001b[1mInfo: \u001b[22m\u001b[39mFile /Users/bvdmitri/.julia/dev/RxInferThesisExperiments/data/hgf/forneylab/T=20_niterations=10_seed=42.jld2 saved.\n",
      "\u001b[36m\u001b[1m[ \u001b[22m\u001b[39m\u001b[36m\u001b[1mInfo: \u001b[22m\u001b[39mFile /Users/bvdmitri/.julia/dev/RxInferThesisExperiments/data/hgf/forneylab/T=30_niterations=10_seed=42.jld2 does not exist. Producing it now...\n",
      "\u001b[36m\u001b[1m[ \u001b[22m\u001b[39m\u001b[36m\u001b[1mInfo: \u001b[22m\u001b[39mFile /Users/bvdmitri/.julia/dev/RxInferThesisExperiments/data/hgf/forneylab/T=30_niterations=10_seed=42.jld2 saved.\n",
      "\u001b[36m\u001b[1m[ \u001b[22m\u001b[39m\u001b[36m\u001b[1mInfo: \u001b[22m\u001b[39mFile /Users/bvdmitri/.julia/dev/RxInferThesisExperiments/data/hgf/forneylab/T=100_niterations=10_seed=42.jld2 does not exist. Producing it now...\n",
      "\u001b[36m\u001b[1m[ \u001b[22m\u001b[39m\u001b[36m\u001b[1mInfo: \u001b[22m\u001b[39mFile /Users/bvdmitri/.julia/dev/RxInferThesisExperiments/data/hgf/forneylab/T=100_niterations=10_seed=42.jld2 saved.\n",
      "\u001b[36m\u001b[1m[ \u001b[22m\u001b[39m\u001b[36m\u001b[1mInfo: \u001b[22m\u001b[39mFile /Users/bvdmitri/.julia/dev/RxInferThesisExperiments/data/hgf/forneylab/T=300_niterations=10_seed=42.jld2 does not exist. Producing it now...\n",
      "\u001b[36m\u001b[1m[ \u001b[22m\u001b[39m\u001b[36m\u001b[1mInfo: \u001b[22m\u001b[39mFile /Users/bvdmitri/.julia/dev/RxInferThesisExperiments/data/hgf/forneylab/T=300_niterations=10_seed=42.jld2 saved.\n",
      "\u001b[36m\u001b[1m[ \u001b[22m\u001b[39m\u001b[36m\u001b[1mInfo: \u001b[22m\u001b[39mFile /Users/bvdmitri/.julia/dev/RxInferThesisExperiments/data/hgf/forneylab/T=10_niterations=20_seed=42.jld2 does not exist. Producing it now...\n",
      "\u001b[36m\u001b[1m[ \u001b[22m\u001b[39m\u001b[36m\u001b[1mInfo: \u001b[22m\u001b[39mFile /Users/bvdmitri/.julia/dev/RxInferThesisExperiments/data/hgf/forneylab/T=10_niterations=20_seed=42.jld2 saved.\n",
      "\u001b[36m\u001b[1m[ \u001b[22m\u001b[39m\u001b[36m\u001b[1mInfo: \u001b[22m\u001b[39mFile /Users/bvdmitri/.julia/dev/RxInferThesisExperiments/data/hgf/forneylab/T=20_niterations=20_seed=42.jld2 does not exist. Producing it now...\n",
      "\u001b[36m\u001b[1m[ \u001b[22m\u001b[39m\u001b[36m\u001b[1mInfo: \u001b[22m\u001b[39mFile /Users/bvdmitri/.julia/dev/RxInferThesisExperiments/data/hgf/forneylab/T=20_niterations=20_seed=42.jld2 saved.\n",
      "\u001b[36m\u001b[1m[ \u001b[22m\u001b[39m\u001b[36m\u001b[1mInfo: \u001b[22m\u001b[39mFile /Users/bvdmitri/.julia/dev/RxInferThesisExperiments/data/hgf/forneylab/T=30_niterations=20_seed=42.jld2 does not exist. Producing it now...\n",
      "\u001b[36m\u001b[1m[ \u001b[22m\u001b[39m\u001b[36m\u001b[1mInfo: \u001b[22m\u001b[39mFile /Users/bvdmitri/.julia/dev/RxInferThesisExperiments/data/hgf/forneylab/T=30_niterations=20_seed=42.jld2 saved.\n",
      "\u001b[36m\u001b[1m[ \u001b[22m\u001b[39m\u001b[36m\u001b[1mInfo: \u001b[22m\u001b[39mFile /Users/bvdmitri/.julia/dev/RxInferThesisExperiments/data/hgf/forneylab/T=100_niterations=20_seed=42.jld2 does not exist. Producing it now...\n",
      "\u001b[36m\u001b[1m[ \u001b[22m\u001b[39m\u001b[36m\u001b[1mInfo: \u001b[22m\u001b[39mFile /Users/bvdmitri/.julia/dev/RxInferThesisExperiments/data/hgf/forneylab/T=100_niterations=20_seed=42.jld2 saved.\n",
      "\u001b[36m\u001b[1m[ \u001b[22m\u001b[39m\u001b[36m\u001b[1mInfo: \u001b[22m\u001b[39mFile /Users/bvdmitri/.julia/dev/RxInferThesisExperiments/data/hgf/forneylab/T=300_niterations=20_seed=42.jld2 does not exist. Producing it now...\n",
      "\u001b[36m\u001b[1m[ \u001b[22m\u001b[39m\u001b[36m\u001b[1mInfo: \u001b[22m\u001b[39mFile /Users/bvdmitri/.julia/dev/RxInferThesisExperiments/data/hgf/forneylab/T=300_niterations=20_seed=42.jld2 saved.\n"
     ]
    }
   ],
   "source": [
    "# First run maybe slow, you may track the progress in the terminal\n",
    "# Subsequent runs will not create new benchmarks \n",
    "# but will reload it from data folder\n",
    "benchmarks = map(benchmark_params) do params\n",
    "    result, _ = produce_or_load(run_benchmark, bfolder, params; tag = false, force = false)\n",
    "    return result\n",
    "end;"
   ]
  },
  {
   "cell_type": "code",
   "execution_count": 11,
   "id": "4bf57e42",
   "metadata": {},
   "outputs": [
    {
     "name": "stderr",
     "output_type": "stream",
     "text": [
      "\u001b[36m\u001b[1m[ \u001b[22m\u001b[39m\u001b[36m\u001b[1mInfo: \u001b[22m\u001b[39mScanning folder /Users/bvdmitri/.julia/dev/RxInferThesisExperiments/data/hgf/forneylab for result files.\n",
      "\u001b[36m\u001b[1m[ \u001b[22m\u001b[39m\u001b[36m\u001b[1mInfo: \u001b[22m\u001b[39mAdded 20 entries.\n"
     ]
    },
    {
     "data": {
      "text/html": [
       "<div><div style = \"float: left;\"><span>20×9 DataFrame</span></div><div style = \"clear: both;\"></div></div><div class = \"data-frame\" style = \"overflow-x: scroll;\"><table class = \"data-frame\" style = \"margin-bottom: 6px;\"><thead><tr class = \"header\"><th class = \"rowNumber\" style = \"font-weight: bold; text-align: right;\">Row</th><th style = \"text-align: left;\">T</th><th style = \"text-align: left;\">z_emse</th><th style = \"text-align: left;\">x_emse</th><th style = \"text-align: left;\">z_amse</th><th style = \"text-align: left;\">niterations</th><th style = \"text-align: left;\">seed</th><th style = \"text-align: left;\">x_amse</th><th style = \"text-align: left;\">inference</th><th style = \"text-align: left;\">creation</th></tr><tr class = \"subheader headerLastRow\"><th class = \"rowNumber\" style = \"font-weight: bold; text-align: right;\"></th><th title = \"Union{Missing, Int64}\" style = \"text-align: left;\">Int64?</th><th title = \"Union{Missing, Float64}\" style = \"text-align: left;\">Float64?</th><th title = \"Union{Missing, Float64}\" style = \"text-align: left;\">Float64?</th><th title = \"Union{Missing, Float64}\" style = \"text-align: left;\">Float64?</th><th title = \"Union{Missing, Int64}\" style = \"text-align: left;\">Int64?</th><th title = \"Union{Missing, Int64}\" style = \"text-align: left;\">Int64?</th><th title = \"Union{Missing, Float64}\" style = \"text-align: left;\">Float64?</th><th title = \"Union{Missing, Tuple{Float64, Float64, Float64}}\" style = \"text-align: left;\">Tuple…?</th><th title = \"Union{Missing, Tuple{Float64, Float64, Float64}}\" style = \"text-align: left;\">Tuple…?</th></tr></thead><tbody><tr><td class = \"rowNumber\" style = \"font-weight: bold; text-align: right;\">1</td><td style = \"text-align: right;\">10</td><td style = \"text-align: right;\">1.14916</td><td style = \"text-align: right;\">0.1582</td><td style = \"text-align: right;\">1.03239</td><td style = \"text-align: right;\">10</td><td style = \"text-align: right;\">42</td><td style = \"text-align: right;\">0.224379</td><td style = \"text-align: left;\">(2.24379e7, 2.35923e7, 0.0)</td><td style = \"text-align: left;\">(2.55332e8, 2.58188e8, 0.0)</td></tr><tr><td class = \"rowNumber\" style = \"font-weight: bold; text-align: right;\">2</td><td style = \"text-align: right;\">10</td><td style = \"text-align: right;\">1.14154</td><td style = \"text-align: right;\">0.158204</td><td style = \"text-align: right;\">1.02522</td><td style = \"text-align: right;\">20</td><td style = \"text-align: right;\">42</td><td style = \"text-align: right;\">0.224226</td><td style = \"text-align: left;\">(4.72838e7, 4.7602e7, 1.94908e6)</td><td style = \"text-align: left;\">(2.55436e8, 2.58194e8, 0.0)</td></tr><tr><td class = \"rowNumber\" style = \"font-weight: bold; text-align: right;\">3</td><td style = \"text-align: right;\">10</td><td style = \"text-align: right;\">1.32345</td><td style = \"text-align: right;\">0.158711</td><td style = \"text-align: right;\">1.18141</td><td style = \"text-align: right;\">3</td><td style = \"text-align: right;\">42</td><td style = \"text-align: right;\">0.231314</td><td style = \"text-align: left;\">(6.76192e6, 7.2266e6, 0.0)</td><td style = \"text-align: left;\">(2.54718e8, 2.62245e8, 2.15796e6)</td></tr><tr><td class = \"rowNumber\" style = \"font-weight: bold; text-align: right;\">4</td><td style = \"text-align: right;\">10</td><td style = \"text-align: right;\">1.20791</td><td style = \"text-align: right;\">0.158216</td><td style = \"text-align: right;\">1.08624</td><td style = \"text-align: right;\">5</td><td style = \"text-align: right;\">42</td><td style = \"text-align: right;\">0.225644</td><td style = \"text-align: left;\">(1.1237e7, 1.18987e7, 0.0)</td><td style = \"text-align: left;\">(2.53757e8, 2.56828e8, 0.0)</td></tr><tr><td class = \"rowNumber\" style = \"font-weight: bold; text-align: right;\">5</td><td style = \"text-align: right;\">20</td><td style = \"text-align: right;\">0.767198</td><td style = \"text-align: right;\">0.154245</td><td style = \"text-align: right;\">0.586204</td><td style = \"text-align: right;\">10</td><td style = \"text-align: right;\">42</td><td style = \"text-align: right;\">0.187199</td><td style = \"text-align: left;\">(4.71989e7, 4.75849e7, 1.82808e6)</td><td style = \"text-align: left;\">(2.57272e8, 2.60611e8, 0.0)</td></tr><tr><td class = \"rowNumber\" style = \"font-weight: bold; text-align: right;\">6</td><td style = \"text-align: right;\">20</td><td style = \"text-align: right;\">0.762464</td><td style = \"text-align: right;\">0.154229</td><td style = \"text-align: right;\">0.582593</td><td style = \"text-align: right;\">20</td><td style = \"text-align: right;\">42</td><td style = \"text-align: right;\">0.187122</td><td style = \"text-align: left;\">(9.49883e7, 9.57925e7, 3.92346e6)</td><td style = \"text-align: left;\">(2.57613e8, 2.59889e8, 0.0)</td></tr><tr><td class = \"rowNumber\" style = \"font-weight: bold; text-align: right;\">7</td><td style = \"text-align: right;\">20</td><td style = \"text-align: right;\">0.881845</td><td style = \"text-align: right;\">0.155043</td><td style = \"text-align: right;\">0.663982</td><td style = \"text-align: right;\">3</td><td style = \"text-align: right;\">42</td><td style = \"text-align: right;\">0.190732</td><td style = \"text-align: left;\">(1.35798e7, 1.43615e7, 0.0)</td><td style = \"text-align: left;\">(2.57965e8, 2.60913e8, 0.0)</td></tr><tr><td class = \"rowNumber\" style = \"font-weight: bold; text-align: right;\">8</td><td style = \"text-align: right;\">20</td><td style = \"text-align: right;\">0.804167</td><td style = \"text-align: right;\">0.154398</td><td style = \"text-align: right;\">0.613485</td><td style = \"text-align: right;\">5</td><td style = \"text-align: right;\">42</td><td style = \"text-align: right;\">0.187839</td><td style = \"text-align: left;\">(2.2545e7, 2.37191e7, 0.0)</td><td style = \"text-align: left;\">(2.5462e8, 2.57468e8, 0.0)</td></tr><tr><td class = \"rowNumber\" style = \"font-weight: bold; text-align: right;\">9</td><td style = \"text-align: right;\">30</td><td style = \"text-align: right;\">0.59447</td><td style = \"text-align: right;\">0.152034</td><td style = \"text-align: right;\">0.432486</td><td style = \"text-align: right;\">10</td><td style = \"text-align: right;\">42</td><td style = \"text-align: right;\">0.165137</td><td style = \"text-align: left;\">(6.97401e7, 7.13362e7, 1.99471e6)</td><td style = \"text-align: left;\">(2.55763e8, 2.59285e8, 0.0)</td></tr><tr><td class = \"rowNumber\" style = \"font-weight: bold; text-align: right;\">10</td><td style = \"text-align: right;\">30</td><td style = \"text-align: right;\">0.590946</td><td style = \"text-align: right;\">0.152017</td><td style = \"text-align: right;\">0.429962</td><td style = \"text-align: right;\">20</td><td style = \"text-align: right;\">42</td><td style = \"text-align: right;\">0.165088</td><td style = \"text-align: left;\">(1.43698e8, 1.4631e8, 4.26992e6)</td><td style = \"text-align: left;\">(2.5881e8, 2.61627e8, 0.0)</td></tr><tr><td class = \"rowNumber\" style = \"font-weight: bold; text-align: right;\">11</td><td style = \"text-align: right;\">30</td><td style = \"text-align: right;\">0.681506</td><td style = \"text-align: right;\">0.152781</td><td style = \"text-align: right;\">0.488609</td><td style = \"text-align: right;\">3</td><td style = \"text-align: right;\">42</td><td style = \"text-align: right;\">0.167435</td><td style = \"text-align: left;\">(2.04546e7, 2.15293e7, 0.0)</td><td style = \"text-align: left;\">(2.5786e8, 2.60937e8, 0.0)</td></tr><tr><td class = \"rowNumber\" style = \"font-weight: bold; text-align: right;\">12</td><td style = \"text-align: right;\">30</td><td style = \"text-align: right;\">0.622112</td><td style = \"text-align: right;\">0.15219</td><td style = \"text-align: right;\">0.451595</td><td style = \"text-align: right;\">5</td><td style = \"text-align: right;\">42</td><td style = \"text-align: right;\">0.165544</td><td style = \"text-align: left;\">(3.40231e7, 3.5819e7, 0.0)</td><td style = \"text-align: left;\">(2.55275e8, 2.5829e8, 0.0)</td></tr><tr><td class = \"rowNumber\" style = \"font-weight: bold; text-align: right;\">13</td><td style = \"text-align: right;\">100</td><td style = \"text-align: right;\">0.240489</td><td style = \"text-align: right;\">0.154593</td><td style = \"text-align: right;\">0.161371</td><td style = \"text-align: right;\">10</td><td style = \"text-align: right;\">42</td><td style = \"text-align: right;\">0.153471</td><td style = \"text-align: left;\">(2.37189e8, 2.42324e8, 8.149e6)</td><td style = \"text-align: left;\">(2.57361e8, 2.60173e8, 0.0)</td></tr><tr><td class = \"rowNumber\" style = \"font-weight: bold; text-align: right;\">14</td><td style = \"text-align: right;\">100</td><td style = \"text-align: right;\">0.239155</td><td style = \"text-align: right;\">0.154581</td><td style = \"text-align: right;\">0.160559</td><td style = \"text-align: right;\">20</td><td style = \"text-align: right;\">42</td><td style = \"text-align: right;\">0.153456</td><td style = \"text-align: left;\">(4.77512e8, 4.8438e8, 1.85353e7)</td><td style = \"text-align: left;\">(2.56488e8, 2.59325e8, 0.0)</td></tr><tr><td class = \"rowNumber\" style = \"font-weight: bold; text-align: right;\">15</td><td style = \"text-align: right;\">100</td><td style = \"text-align: right;\">0.274408</td><td style = \"text-align: right;\">0.155031</td><td style = \"text-align: right;\">0.18027</td><td style = \"text-align: right;\">3</td><td style = \"text-align: right;\">42</td><td style = \"text-align: right;\">0.154218</td><td style = \"text-align: left;\">(7.04456e7, 7.24026e7, 2.23771e6)</td><td style = \"text-align: left;\">(2.57647e8, 3.01835e8, 0.0)</td></tr><tr><td class = \"rowNumber\" style = \"font-weight: bold; text-align: right;\">16</td><td style = \"text-align: right;\">100</td><td style = \"text-align: right;\">0.251021</td><td style = \"text-align: right;\">0.154694</td><td style = \"text-align: right;\">0.167547</td><td style = \"text-align: right;\">5</td><td style = \"text-align: right;\">42</td><td style = \"text-align: right;\">0.153597</td><td style = \"text-align: left;\">(1.19617e8, 1.21756e8, 5.50683e6)</td><td style = \"text-align: left;\">(2.57018e8, 2.59977e8, 0.0)</td></tr><tr><td class = \"rowNumber\" style = \"font-weight: bold; text-align: right;\">17</td><td style = \"text-align: right;\">300</td><td style = \"text-align: right;\">0.120822</td><td style = \"text-align: right;\">0.151332</td><td style = \"text-align: right;\">0.0724656</td><td style = \"text-align: right;\">10</td><td style = \"text-align: right;\">42</td><td style = \"text-align: right;\">0.153006</td><td style = \"text-align: left;\">(7.20577e8, 7.28585e8, 3.20077e7)</td><td style = \"text-align: left;\">(2.56913e8, 2.59322e8, 0.0)</td></tr><tr><td class = \"rowNumber\" style = \"font-weight: bold; text-align: right;\">18</td><td style = \"text-align: right;\">300</td><td style = \"text-align: right;\">0.12027</td><td style = \"text-align: right;\">0.151322</td><td style = \"text-align: right;\">0.0721689</td><td style = \"text-align: right;\">20</td><td style = \"text-align: right;\">42</td><td style = \"text-align: right;\">0.152999</td><td style = \"text-align: left;\">(1.43642e9, 1.45449e9, 6.54929e7)</td><td style = \"text-align: left;\">(2.57312e8, 2.60722e8, 0.0)</td></tr><tr><td class = \"rowNumber\" style = \"font-weight: bold; text-align: right;\">19</td><td style = \"text-align: right;\">300</td><td style = \"text-align: right;\">0.135111</td><td style = \"text-align: right;\">0.151657</td><td style = \"text-align: right;\">0.0795924</td><td style = \"text-align: right;\">3</td><td style = \"text-align: right;\">42</td><td style = \"text-align: right;\">0.153373</td><td style = \"text-align: left;\">(2.17739e8, 2.21129e8, 1.10275e7)</td><td style = \"text-align: left;\">(2.55883e8, 2.58247e8, 0.0)</td></tr><tr><td class = \"rowNumber\" style = \"font-weight: bold; text-align: right;\">20</td><td style = \"text-align: right;\">300</td><td style = \"text-align: right;\">0.125183</td><td style = \"text-align: right;\">0.151409</td><td style = \"text-align: right;\">0.0747218</td><td style = \"text-align: right;\">5</td><td style = \"text-align: right;\">42</td><td style = \"text-align: right;\">0.153069</td><td style = \"text-align: left;\">(3.62872e8, 3.66271e8, 1.89344e7)</td><td style = \"text-align: left;\">(2.55751e8, 2.58438e8, 0.0)</td></tr></tbody></table></div>"
      ],
      "text/latex": [
       "\\begin{tabular}{r|ccccccccc}\n",
       "\t& T & z\\_emse & x\\_emse & z\\_amse & niterations & seed & x\\_amse & inference & \\\\\n",
       "\t\\hline\n",
       "\t& Int64? & Float64? & Float64? & Float64? & Int64? & Int64? & Float64? & Tuple…? & \\\\\n",
       "\t\\hline\n",
       "\t1 & 10 & 1.14916 & 0.1582 & 1.03239 & 10 & 42 & 0.224379 & (2.24379e7, 2.35923e7, 0.0) & $\\dots$ \\\\\n",
       "\t2 & 10 & 1.14154 & 0.158204 & 1.02522 & 20 & 42 & 0.224226 & (4.72838e7, 4.7602e7, 1.94908e6) & $\\dots$ \\\\\n",
       "\t3 & 10 & 1.32345 & 0.158711 & 1.18141 & 3 & 42 & 0.231314 & (6.76192e6, 7.2266e6, 0.0) & $\\dots$ \\\\\n",
       "\t4 & 10 & 1.20791 & 0.158216 & 1.08624 & 5 & 42 & 0.225644 & (1.1237e7, 1.18987e7, 0.0) & $\\dots$ \\\\\n",
       "\t5 & 20 & 0.767198 & 0.154245 & 0.586204 & 10 & 42 & 0.187199 & (4.71989e7, 4.75849e7, 1.82808e6) & $\\dots$ \\\\\n",
       "\t6 & 20 & 0.762464 & 0.154229 & 0.582593 & 20 & 42 & 0.187122 & (9.49883e7, 9.57925e7, 3.92346e6) & $\\dots$ \\\\\n",
       "\t7 & 20 & 0.881845 & 0.155043 & 0.663982 & 3 & 42 & 0.190732 & (1.35798e7, 1.43615e7, 0.0) & $\\dots$ \\\\\n",
       "\t8 & 20 & 0.804167 & 0.154398 & 0.613485 & 5 & 42 & 0.187839 & (2.2545e7, 2.37191e7, 0.0) & $\\dots$ \\\\\n",
       "\t9 & 30 & 0.59447 & 0.152034 & 0.432486 & 10 & 42 & 0.165137 & (6.97401e7, 7.13362e7, 1.99471e6) & $\\dots$ \\\\\n",
       "\t10 & 30 & 0.590946 & 0.152017 & 0.429962 & 20 & 42 & 0.165088 & (1.43698e8, 1.4631e8, 4.26992e6) & $\\dots$ \\\\\n",
       "\t11 & 30 & 0.681506 & 0.152781 & 0.488609 & 3 & 42 & 0.167435 & (2.04546e7, 2.15293e7, 0.0) & $\\dots$ \\\\\n",
       "\t12 & 30 & 0.622112 & 0.15219 & 0.451595 & 5 & 42 & 0.165544 & (3.40231e7, 3.5819e7, 0.0) & $\\dots$ \\\\\n",
       "\t13 & 100 & 0.240489 & 0.154593 & 0.161371 & 10 & 42 & 0.153471 & (2.37189e8, 2.42324e8, 8.149e6) & $\\dots$ \\\\\n",
       "\t14 & 100 & 0.239155 & 0.154581 & 0.160559 & 20 & 42 & 0.153456 & (4.77512e8, 4.8438e8, 1.85353e7) & $\\dots$ \\\\\n",
       "\t15 & 100 & 0.274408 & 0.155031 & 0.18027 & 3 & 42 & 0.154218 & (7.04456e7, 7.24026e7, 2.23771e6) & $\\dots$ \\\\\n",
       "\t16 & 100 & 0.251021 & 0.154694 & 0.167547 & 5 & 42 & 0.153597 & (1.19617e8, 1.21756e8, 5.50683e6) & $\\dots$ \\\\\n",
       "\t17 & 300 & 0.120822 & 0.151332 & 0.0724656 & 10 & 42 & 0.153006 & (7.20577e8, 7.28585e8, 3.20077e7) & $\\dots$ \\\\\n",
       "\t18 & 300 & 0.12027 & 0.151322 & 0.0721689 & 20 & 42 & 0.152999 & (1.43642e9, 1.45449e9, 6.54929e7) & $\\dots$ \\\\\n",
       "\t19 & 300 & 0.135111 & 0.151657 & 0.0795924 & 3 & 42 & 0.153373 & (2.17739e8, 2.21129e8, 1.10275e7) & $\\dots$ \\\\\n",
       "\t20 & 300 & 0.125183 & 0.151409 & 0.0747218 & 5 & 42 & 0.153069 & (3.62872e8, 3.66271e8, 1.89344e7) & $\\dots$ \\\\\n",
       "\\end{tabular}\n"
      ],
      "text/plain": [
       "\u001b[1m20×9 DataFrame\u001b[0m\n",
       "\u001b[1m Row \u001b[0m│\u001b[1m T      \u001b[0m\u001b[1m z_emse   \u001b[0m\u001b[1m x_emse   \u001b[0m\u001b[1m z_amse    \u001b[0m\u001b[1m niterations \u001b[0m\u001b[1m seed   \u001b[0m\u001b[1m x_amse   \u001b[0m\u001b[1m i\u001b[0m ⋯\n",
       "     │\u001b[90m Int64? \u001b[0m\u001b[90m Float64? \u001b[0m\u001b[90m Float64? \u001b[0m\u001b[90m Float64?  \u001b[0m\u001b[90m Int64?      \u001b[0m\u001b[90m Int64? \u001b[0m\u001b[90m Float64? \u001b[0m\u001b[90m T\u001b[0m ⋯\n",
       "─────┼──────────────────────────────────────────────────────────────────────────\n",
       "   1 │     10  1.14916   0.1582    1.03239             10      42  0.224379  ( ⋯\n",
       "   2 │     10  1.14154   0.158204  1.02522             20      42  0.224226  (\n",
       "   3 │     10  1.32345   0.158711  1.18141              3      42  0.231314  (\n",
       "   4 │     10  1.20791   0.158216  1.08624              5      42  0.225644  (\n",
       "   5 │     20  0.767198  0.154245  0.586204            10      42  0.187199  ( ⋯\n",
       "   6 │     20  0.762464  0.154229  0.582593            20      42  0.187122  (\n",
       "   7 │     20  0.881845  0.155043  0.663982             3      42  0.190732  (\n",
       "   8 │     20  0.804167  0.154398  0.613485             5      42  0.187839  (\n",
       "   9 │     30  0.59447   0.152034  0.432486            10      42  0.165137  ( ⋯\n",
       "  10 │     30  0.590946  0.152017  0.429962            20      42  0.165088  (\n",
       "  11 │     30  0.681506  0.152781  0.488609             3      42  0.167435  (\n",
       "  12 │     30  0.622112  0.15219   0.451595             5      42  0.165544  (\n",
       "  13 │    100  0.240489  0.154593  0.161371            10      42  0.153471  ( ⋯\n",
       "  14 │    100  0.239155  0.154581  0.160559            20      42  0.153456  (\n",
       "  15 │    100  0.274408  0.155031  0.18027              3      42  0.154218  (\n",
       "  16 │    100  0.251021  0.154694  0.167547             5      42  0.153597  (\n",
       "  17 │    300  0.120822  0.151332  0.0724656           10      42  0.153006  ( ⋯\n",
       "  18 │    300  0.12027   0.151322  0.0721689           20      42  0.152999  (\n",
       "  19 │    300  0.135111  0.151657  0.0795924            3      42  0.153373  (\n",
       "  20 │    300  0.125183  0.151409  0.0747218            5      42  0.153069  (\n",
       "\u001b[36m                                                               2 columns omitted\u001b[0m"
      ]
     },
     "execution_count": 11,
     "metadata": {},
     "output_type": "execute_result"
    }
   ],
   "source": [
    "sort(prepare_benchmarks_table(bfolder), [ :T ])"
   ]
  },
  {
   "cell_type": "markdown",
   "id": "8908d2e2",
   "metadata": {},
   "source": [
    "# Versions"
   ]
  },
  {
   "cell_type": "code",
   "execution_count": 12,
   "id": "50e7ce97",
   "metadata": {},
   "outputs": [
    {
     "name": "stdout",
     "output_type": "stream",
     "text": [
      "Julia Version 1.9.0\n",
      "Commit 8e630552924 (2023-05-07 11:25 UTC)\n",
      "Platform Info:\n",
      "  OS: macOS (arm64-apple-darwin22.4.0)\n",
      "  CPU: 10 × Apple M2 Pro\n",
      "  WORD_SIZE: 64\n",
      "  LIBM: libopenlibm\n",
      "  LLVM: libLLVM-14.0.6 (ORCJIT, apple-m1)\n",
      "  Threads: 2 on 6 virtual cores\n"
     ]
    }
   ],
   "source": [
    "versioninfo()"
   ]
  },
  {
   "cell_type": "code",
   "execution_count": 13,
   "id": "64587a7c",
   "metadata": {},
   "outputs": [
    {
     "name": "stdout",
     "output_type": "stream",
     "text": [
      "\u001b[36m\u001b[1mProject\u001b[22m\u001b[39m RxInferThesisExperiments v1.0.0\n",
      "\u001b[32m\u001b[1mStatus\u001b[22m\u001b[39m `~/.julia/dev/RxInferThesisExperiments/Project.toml`\n",
      "  \u001b[90m[b5ca4192] \u001b[39mAdvancedVI v0.2.3\n",
      "  \u001b[90m[6e4b80f9] \u001b[39mBenchmarkTools v1.3.2\n",
      "  \u001b[90m[76274a88] \u001b[39mBijectors v0.12.5\n",
      "  \u001b[90m[35d6a980] \u001b[39mColorSchemes v3.21.0\n",
      "  \u001b[90m[a93c6f00] \u001b[39mDataFrames v1.5.0\n",
      "  \u001b[90m[31c24e10] \u001b[39mDistributions v0.25.95\n",
      "  \u001b[90m[634d3b9d] \u001b[39mDrWatson v2.12.5\n",
      "  \u001b[90m[442a2c76] \u001b[39mFastGaussQuadrature v0.5.1\n",
      "  \u001b[90m[9fc3f58a] \u001b[39mForneyLab v0.12.0\n",
      "  \u001b[90m[f6369f11] \u001b[39mForwardDiff v0.10.35\n",
      "  \u001b[90m[14197337] \u001b[39mGenericLinearAlgebra v0.3.11\n",
      "  \u001b[90m[19dc6840] \u001b[39mHCubature v1.5.1\n",
      "  \u001b[90m[7073ff75] \u001b[39mIJulia v1.24.2\n",
      "  \u001b[90m[b964fa9f] \u001b[39mLaTeXStrings v1.3.0\n",
      "  \u001b[90m[bdcacae8] \u001b[39mLoopVectorization v0.12.159\n",
      "  \u001b[90m[3bd65402] \u001b[39mOptimisers v0.2.18\n",
      "  \u001b[90m[8314cec4] \u001b[39mPGFPlotsX v1.6.0\n",
      "  \u001b[90m[e4faabce] \u001b[39mPProf v2.2.2\n",
      "  \u001b[90m[91a5bcdd] \u001b[39mPlots v1.38.15\n",
      "  \u001b[90m[92933f4c] \u001b[39mProgressMeter v1.7.2\n",
      "  \u001b[90m[37e2e3b7] \u001b[39mReverseDiff v1.14.6\n",
      "  \u001b[90m[86711068] \u001b[39mRxInfer v2.11.1\n",
      "  \u001b[90m[860ef19b] \u001b[39mStableRNGs v1.0.0\n",
      "  \u001b[90m[aedffcd0] \u001b[39mStatic v0.8.7\n",
      "  \u001b[90m[90137ffa] \u001b[39mStaticArrays v1.5.25\n",
      "\u001b[33m⌅\u001b[39m \u001b[90m[2913bbd2] \u001b[39mStatsBase v0.33.21\n",
      "  \u001b[90m[4c63d2b9] \u001b[39mStatsFuns v1.3.0\n",
      "  \u001b[90m[fce5fe82] \u001b[39mTuring v0.25.1\n",
      "  \u001b[90m[37e2e46d] \u001b[39mLinearAlgebra\n",
      "  \u001b[90m[9a3f8284] \u001b[39mRandom\n",
      "\u001b[36m\u001b[1mInfo\u001b[22m\u001b[39m Packages marked with \u001b[33m⌅\u001b[39m have new versions available but compatibility constraints restrict them from upgrading. To see why use `status --outdated`\n"
     ]
    }
   ],
   "source": [
    "] status"
   ]
  }
 ],
 "metadata": {
  "kernelspec": {
   "display_name": "Julia 1.9.0",
   "language": "julia",
   "name": "julia-1.9"
  },
  "language_info": {
   "file_extension": ".jl",
   "mimetype": "application/julia",
   "name": "julia",
   "version": "1.9.0"
  }
 },
 "nbformat": 4,
 "nbformat_minor": 5
}
