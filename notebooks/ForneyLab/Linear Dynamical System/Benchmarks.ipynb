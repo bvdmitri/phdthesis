{
 "cells": [
  {
   "cell_type": "markdown",
   "id": "55f33945",
   "metadata": {},
   "source": [
    "_Author: Dmitry Bagaev_"
   ]
  },
  {
   "cell_type": "code",
   "execution_count": null,
   "id": "f07b50d2",
   "metadata": {},
   "outputs": [],
   "source": [
    "using DrWatson"
   ]
  },
  {
   "cell_type": "code",
   "execution_count": null,
   "id": "2b399d37",
   "metadata": {},
   "outputs": [],
   "source": [
    "@quickactivate \"RxInferThesisExperiments\""
   ]
  },
  {
   "cell_type": "code",
   "execution_count": null,
   "id": "9ece426e",
   "metadata": {},
   "outputs": [],
   "source": [
    "using RxInferThesisExperiments, ForneyLab, StaticArrays, Plots, PGFPlotsX, LaTeXStrings\n",
    "using LinearAlgebra, StableRNGs, Random, BenchmarkTools, ColorSchemes, Dates, DataFrames"
   ]
  },
  {
   "cell_type": "code",
   "execution_count": null,
   "id": "30e150a7",
   "metadata": {},
   "outputs": [],
   "source": [
    "const bfolder = datadir(\"lds\", \"forneylab\")"
   ]
  },
  {
   "cell_type": "code",
   "execution_count": null,
   "id": "97d0009c",
   "metadata": {},
   "outputs": [],
   "source": [
    "# Pregenerate paths for benchmark data\n",
    "mkpath(bfolder);"
   ]
  },
  {
   "cell_type": "code",
   "execution_count": null,
   "id": "e37f8c7b",
   "metadata": {},
   "outputs": [],
   "source": [
    "# Include the model specification\n",
    "include(srcdir(\"models\", \"forneylab\", \"rotating.jl\"));"
   ]
  },
  {
   "cell_type": "code",
   "execution_count": null,
   "id": "9a2c016a",
   "metadata": {},
   "outputs": [],
   "source": [
    "function run_benchmark(params)\n",
    "    @unpack T, d, seed = params\n",
    "    \n",
    "    environment = RotatingTracking(d; rng = StableRNG(seed))\n",
    "    \n",
    "    states, observations = rand(StableRNG(seed), environment, T);\n",
    "    model    = rotating(T, seed, environment) \n",
    "    result   = run_inference(model, observations)\n",
    "    e_states = extract_posteriors(T, result)\n",
    "    amse     = compute_amse(states, e_states)\n",
    "    \n",
    "    benchmark_modelcreation = @benchmark rotating($T, $seed, $environment; force = true) \n",
    "    \n",
    "    benchmark_inference = @benchmark run_inference($model, $observations)\n",
    "    \n",
    "    emse = compute_emse(seed) do _seed\n",
    "        local environment = RotatingTracking(d; rng = StableRNG(_seed))\n",
    "        local states, observations = rand(StableRNG(_seed), environment, T);\n",
    "        local model    = rotating(T, _seed, environment) \n",
    "        local result   = run_inference(model, observations)\n",
    "        local e_states = extract_posteriors(T, result)\n",
    "        return compute_amse(states, e_states)\n",
    "    end\n",
    "    \n",
    "    output = @strdict T d seed states e_states observations amse emse benchmark_modelcreation benchmark_inference\n",
    "    \n",
    "    return output\n",
    "end"
   ]
  },
  {
   "cell_type": "code",
   "execution_count": null,
   "id": "82c8701e",
   "metadata": {},
   "outputs": [],
   "source": [
    "# Here we create a list of parameters we want to run our benchmarks with\n",
    "benchmark_params = dict_list(Dict(\n",
    "    \"T\"    => [ 10, 20, 30, 50, 100, 200 ],\n",
    "    \"d\"    => [ 2, 3, 4 ],\n",
    "    \"seed\" => [ 42 ]\n",
    "));"
   ]
  },
  {
   "cell_type": "code",
   "execution_count": null,
   "id": "7c12cc0f",
   "metadata": {},
   "outputs": [],
   "source": [
    "# First run maybe slow, you may track the progress in the terminal\n",
    "# Subsequent runs will not create new benchmarks \n",
    "# but will reload it from data folder\n",
    "benchmarks = map(benchmark_params) do params\n",
    "    result, _ = produce_or_load(run_benchmark, bfolder, params; tag = false, force = false)\n",
    "    return result\n",
    "end;"
   ]
  },
  {
   "cell_type": "code",
   "execution_count": null,
   "id": "5631ffe9",
   "metadata": {},
   "outputs": [],
   "source": [
    "sort(prepare_benchmarks_table(bfolder), [ :T ])"
   ]
  },
  {
   "cell_type": "markdown",
   "id": "f3e815c8",
   "metadata": {},
   "source": [
    "# Versions"
   ]
  },
  {
   "cell_type": "code",
   "execution_count": null,
   "id": "9cb4dbcd",
   "metadata": {},
   "outputs": [],
   "source": [
    "versioninfo()"
   ]
  },
  {
   "cell_type": "code",
   "execution_count": null,
   "id": "d4c715ec",
   "metadata": {},
   "outputs": [],
   "source": [
    "] status"
   ]
  },
  {
   "cell_type": "code",
   "execution_count": null,
   "id": "532a4155",
   "metadata": {},
   "outputs": [],
   "source": []
  }
 ],
 "metadata": {
  "kernelspec": {
   "display_name": "Julia 1.9.0",
   "language": "julia",
   "name": "julia-1.9"
  },
  "language_info": {
   "file_extension": ".jl",
   "mimetype": "application/julia",
   "name": "julia",
   "version": "1.9.0"
  }
 },
 "nbformat": 4,
 "nbformat_minor": 5
}
