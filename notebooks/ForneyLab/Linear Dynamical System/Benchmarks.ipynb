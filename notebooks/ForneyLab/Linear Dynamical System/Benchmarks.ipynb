{
 "cells": [
  {
   "cell_type": "markdown",
   "id": "55f33945",
   "metadata": {},
   "source": [
    "This notebook performs a comprehensive becnhmark suit for the inference procedure for the double pendulum system using the RxInfer framework.\n",
    "\n",
    "_Author: Dmitry Bagaev_"
   ]
  },
  {
   "cell_type": "code",
   "execution_count": 1,
   "id": "f07b50d2",
   "metadata": {},
   "outputs": [],
   "source": [
    "using DrWatson"
   ]
  },
  {
   "cell_type": "code",
   "execution_count": 2,
   "id": "2b399d37",
   "metadata": {},
   "outputs": [],
   "source": [
    "@quickactivate \"RxInferThesisExperiments\""
   ]
  },
  {
   "cell_type": "code",
   "execution_count": 3,
   "id": "9ece426e",
   "metadata": {},
   "outputs": [],
   "source": [
    "using RxInferThesisExperiments, ForneyLab, StaticArrays, Plots, PGFPlotsX, LaTeXStrings\n",
    "using LinearAlgebra, StableRNGs, Random, BenchmarkTools, ColorSchemes, Dates, DataFrames"
   ]
  },
  {
   "cell_type": "code",
   "execution_count": 4,
   "id": "30e150a7",
   "metadata": {},
   "outputs": [
    {
     "data": {
      "text/plain": [
       "\"/Users/bvdmitri/.julia/dev/thesis/data/lds/forneylab\""
      ]
     },
     "execution_count": 4,
     "metadata": {},
     "output_type": "execute_result"
    }
   ],
   "source": [
    "const bfolder = datadir(\"lds\", \"forneylab\")"
   ]
  },
  {
   "cell_type": "code",
   "execution_count": 5,
   "id": "97d0009c",
   "metadata": {},
   "outputs": [],
   "source": [
    "# Pregenerate paths for benchmark data\n",
    "mkpath(bfolder);"
   ]
  },
  {
   "cell_type": "code",
   "execution_count": 24,
   "id": "e37f8c7b",
   "metadata": {},
   "outputs": [
    {
     "name": "stderr",
     "output_type": "stream",
     "text": [
      "WARNING: redefinition of constant flmodels. This may fail, cause incorrect answers, or produce other errors.\n"
     ]
    }
   ],
   "source": [
    "# Include the model specification\n",
    "include(srcdir(\"models\", \"forneylab\", \"rotating.jl\"));"
   ]
  },
  {
   "cell_type": "code",
   "execution_count": 25,
   "id": "9a2c016a",
   "metadata": {},
   "outputs": [
    {
     "data": {
      "text/plain": [
       "run_benchmark (generic function with 1 method)"
      ]
     },
     "execution_count": 25,
     "metadata": {},
     "output_type": "execute_result"
    }
   ],
   "source": [
    "function run_benchmark(params)\n",
    "    @unpack T, d, seed = params\n",
    "    \n",
    "    environment = RotatingTracking(d; rng = StableRNG(seed))\n",
    "    \n",
    "    states, observations = rand(StableRNG(seed), environment, T);\n",
    "    model    = rotating(T, seed, environment) \n",
    "    result   = run_inference(model, observations)\n",
    "    e_states = extract_posteriors(T, result)\n",
    "    amse     = compute_amse(states, e_states)\n",
    "    \n",
    "    benchmark_modelcreation = @benchmark rotating($T, $seed, $environment; force = true) \n",
    "    \n",
    "    benchmark_inference = @benchmark run_inference($model, $observations)\n",
    "    \n",
    "    emse = compute_emse(seed) do _seed\n",
    "        local environment = RotatingTracking(d; rng = StableRNG(_seed))\n",
    "        local states, observations = rand(StableRNG(_seed), environment, T);\n",
    "        local model    = rotating(T, _seed, environment) \n",
    "        local result   = run_inference(model, observations)\n",
    "        local e_states = extract_posteriors(T, result)\n",
    "        return compute_amse(states, e_states)\n",
    "    end\n",
    "    \n",
    "    output = @strdict T d seed states e_states observations amse emse benchmark_modelcreation benchmark_inference\n",
    "    \n",
    "    return output\n",
    "end"
   ]
  },
  {
   "cell_type": "code",
   "execution_count": 26,
   "id": "82c8701e",
   "metadata": {},
   "outputs": [],
   "source": [
    "# Here we create a list of parameters we want to run our benchmarks with\n",
    "benchmark_params = dict_list(Dict(\n",
    "    \"T\"    => [ 10, 20, 30 ],\n",
    "    \"d\"    => [ 2, 3, 4 ],\n",
    "    \"seed\" => [ 42 ]\n",
    "));"
   ]
  },
  {
   "cell_type": "code",
   "execution_count": 27,
   "id": "7c12cc0f",
   "metadata": {},
   "outputs": [
    {
     "name": "stderr",
     "output_type": "stream",
     "text": [
      "\u001b[36m\u001b[1m[ \u001b[22m\u001b[39m\u001b[36m\u001b[1mInfo: \u001b[22m\u001b[39mProducing file /Users/bvdmitri/.julia/dev/thesis/data/lds/forneylab/T=10_d=2_seed=42.jld2 now...\n",
      "\u001b[36m\u001b[1m[ \u001b[22m\u001b[39m\u001b[36m\u001b[1mInfo: \u001b[22m\u001b[39mFile /Users/bvdmitri/.julia/dev/thesis/data/lds/forneylab/T=10_d=2_seed=42.jld2 saved.\n",
      "\u001b[36m\u001b[1m[ \u001b[22m\u001b[39m\u001b[36m\u001b[1mInfo: \u001b[22m\u001b[39mProducing file /Users/bvdmitri/.julia/dev/thesis/data/lds/forneylab/T=20_d=2_seed=42.jld2 now...\n",
      "\u001b[36m\u001b[1m[ \u001b[22m\u001b[39m\u001b[36m\u001b[1mInfo: \u001b[22m\u001b[39mFile /Users/bvdmitri/.julia/dev/thesis/data/lds/forneylab/T=20_d=2_seed=42.jld2 saved.\n",
      "\u001b[36m\u001b[1m[ \u001b[22m\u001b[39m\u001b[36m\u001b[1mInfo: \u001b[22m\u001b[39mProducing file /Users/bvdmitri/.julia/dev/thesis/data/lds/forneylab/T=30_d=2_seed=42.jld2 now...\n",
      "\u001b[36m\u001b[1m[ \u001b[22m\u001b[39m\u001b[36m\u001b[1mInfo: \u001b[22m\u001b[39mFile /Users/bvdmitri/.julia/dev/thesis/data/lds/forneylab/T=30_d=2_seed=42.jld2 saved.\n",
      "\u001b[36m\u001b[1m[ \u001b[22m\u001b[39m\u001b[36m\u001b[1mInfo: \u001b[22m\u001b[39mProducing file /Users/bvdmitri/.julia/dev/thesis/data/lds/forneylab/T=10_d=3_seed=42.jld2 now...\n"
     ]
    },
    {
     "ename": "LoadError",
     "evalue": "InterruptException:",
     "output_type": "error",
     "traceback": [
      "InterruptException:",
      "",
      "Stacktrace:",
      "  [1] gc (repeats 2 times)",
      "    @ ./gcutils.jl:98 [inlined]",
      "  [2] gcscrub",
      "    @ ~/.julia/packages/BenchmarkTools/0owsb/src/execution.jl:4 [inlined]",
      "  [3] _lineartrial(b::BenchmarkTools.Benchmark, p::BenchmarkTools.Parameters; maxevals::Int64, kwargs::Base.Pairs{Symbol, Union{}, Tuple{}, NamedTuple{(), Tuple{}}})",
      "    @ BenchmarkTools ~/.julia/packages/BenchmarkTools/0owsb/src/execution.jl:156",
      "  [4] _lineartrial(b::BenchmarkTools.Benchmark, p::BenchmarkTools.Parameters)",
      "    @ BenchmarkTools ~/.julia/packages/BenchmarkTools/0owsb/src/execution.jl:152",
      "  [5] #invokelatest#2",
      "    @ ./essentials.jl:816 [inlined]",
      "  [6] invokelatest",
      "    @ ./essentials.jl:813 [inlined]",
      "  [7] #lineartrial#46",
      "    @ ~/.julia/packages/BenchmarkTools/0owsb/src/execution.jl:35 [inlined]",
      "  [8] lineartrial",
      "    @ ~/.julia/packages/BenchmarkTools/0owsb/src/execution.jl:35 [inlined]",
      "  [9] tune!(b::BenchmarkTools.Benchmark, p::BenchmarkTools.Parameters; progressid::Nothing, nleaves::Float64, ndone::Float64, verbose::Bool, pad::String, kwargs::Base.Pairs{Symbol, Union{}, Tuple{}, NamedTuple{(), Tuple{}}})",
      "    @ BenchmarkTools ~/.julia/packages/BenchmarkTools/0owsb/src/execution.jl:251",
      " [10] tune! (repeats 2 times)",
      "    @ ~/.julia/packages/BenchmarkTools/0owsb/src/execution.jl:247 [inlined]",
      " [11] macro expansion",
      "    @ ~/.julia/packages/BenchmarkTools/0owsb/src/execution.jl:394 [inlined]",
      " [12] run_benchmark(params::Dict{String, Int64})",
      "    @ Main ./In[25]:14",
      " [13] produce_or_load(f::typeof(run_benchmark), config::Dict{String, Int64}, path::String; suffix::String, prefix::String, tag::Bool, gitpath::String, loadfile::Bool, storepatch::Bool, force::Bool, verbose::Bool, wsave_kwargs::Dict{Any, Any}, filename::Nothing, kwargs::Base.Pairs{Symbol, Union{}, Tuple{}, NamedTuple{(), Tuple{}}})",
      "    @ DrWatson ~/.julia/packages/DrWatson/TpNDA/src/saving_files.jl:107",
      " [14] produce_or_load",
      "    @ ~/.julia/packages/DrWatson/TpNDA/src/saving_files.jl:64 [inlined]",
      " [15] #produce_or_load#39",
      "    @ ~/.julia/packages/DrWatson/TpNDA/src/saving_files.jl:130 [inlined]",
      " [16] produce_or_load",
      "    @ ~/.julia/packages/DrWatson/TpNDA/src/saving_files.jl:130 [inlined]",
      " [17] #69",
      "    @ ./In[27]:5 [inlined]",
      " [18] iterate",
      "    @ ./generator.jl:47 [inlined]",
      " [19] collect_to!(dest::Vector{Dict{String, Any}}, itr::Base.Generator{Vector{Dict{String, Int64}}, var\"#69#70\"}, offs::Int64, st::Int64)",
      "    @ Base ./array.jl:840",
      " [20] collect_to_with_first!(dest::Vector{Dict{String, Any}}, v1::Dict{String, Any}, itr::Base.Generator{Vector{Dict{String, Int64}}, var\"#69#70\"}, st::Int64)",
      "    @ Base ./array.jl:818",
      " [21] _collect(c::Vector{Dict{String, Int64}}, itr::Base.Generator{Vector{Dict{String, Int64}}, var\"#69#70\"}, #unused#::Base.EltypeUnknown, isz::Base.HasShape{1})",
      "    @ Base ./array.jl:812",
      " [22] collect_similar(cont::Vector{Dict{String, Int64}}, itr::Base.Generator{Vector{Dict{String, Int64}}, var\"#69#70\"})",
      "    @ Base ./array.jl:711",
      " [23] map(f::Function, A::Vector{Dict{String, Int64}})",
      "    @ Base ./abstractarray.jl:3261"
     ]
    }
   ],
   "source": [
    "# First run maybe slow, you may track the progress in the terminal\n",
    "# Subsequent runs will not create new benchmarks \n",
    "# but will reload it from data folder\n",
    "benchmarks = map(benchmark_params) do params\n",
    "    result, _ = produce_or_load(run_benchmark, bfolder, params; tag = false, force = true)\n",
    "    return result\n",
    "end;"
   ]
  },
  {
   "cell_type": "code",
   "execution_count": 20,
   "id": "5631ffe9",
   "metadata": {},
   "outputs": [
    {
     "name": "stderr",
     "output_type": "stream",
     "text": [
      "\u001b[36m\u001b[1m[ \u001b[22m\u001b[39m\u001b[36m\u001b[1mInfo: \u001b[22m\u001b[39mScanning folder /Users/bvdmitri/.julia/dev/thesis/data/lds/forneylab for result files.\n",
      "\u001b[36m\u001b[1m[ \u001b[22m\u001b[39m\u001b[36m\u001b[1mInfo: \u001b[22m\u001b[39mAdded 9 entries.\n"
     ]
    },
    {
     "data": {
      "text/html": [
       "<div><div style = \"float: left;\"><span>9×7 DataFrame</span></div><div style = \"clear: both;\"></div></div><div class = \"data-frame\" style = \"overflow-x: scroll;\"><table class = \"data-frame\" style = \"margin-bottom: 6px;\"><thead><tr class = \"header\"><th class = \"rowNumber\" style = \"font-weight: bold; text-align: right;\">Row</th><th style = \"text-align: left;\">T</th><th style = \"text-align: left;\">seed</th><th style = \"text-align: left;\">amse</th><th style = \"text-align: left;\">emse</th><th style = \"text-align: left;\">d</th><th style = \"text-align: left;\">inference</th><th style = \"text-align: left;\">creation</th></tr><tr class = \"subheader headerLastRow\"><th class = \"rowNumber\" style = \"font-weight: bold; text-align: right;\"></th><th title = \"Union{Missing, Int64}\" style = \"text-align: left;\">Int64?</th><th title = \"Union{Missing, Int64}\" style = \"text-align: left;\">Int64?</th><th title = \"Union{Missing, Float64}\" style = \"text-align: left;\">Float64?</th><th title = \"Union{Missing, Float64}\" style = \"text-align: left;\">Float64?</th><th title = \"Union{Missing, Int64}\" style = \"text-align: left;\">Int64?</th><th title = \"Union{Missing, Tuple{Float64, Float64, Float64}}\" style = \"text-align: left;\">Tuple…?</th><th title = \"Union{Missing, Tuple{Float64, Float64, Float64}}\" style = \"text-align: left;\">Tuple…?</th></tr></thead><tbody><tr><td class = \"rowNumber\" style = \"font-weight: bold; text-align: right;\">1</td><td style = \"text-align: right;\">10</td><td style = \"text-align: right;\">42</td><td style = \"text-align: right;\">2.86933</td><td style = \"text-align: right;\">3.34099</td><td style = \"text-align: right;\">2</td><td style = \"text-align: left;\">(246658.0, 3.54007e5, 0.0)</td><td style = \"text-align: left;\">(5.48485e9, 5.48485e9, 2.40328e7)</td></tr><tr><td class = \"rowNumber\" style = \"font-weight: bold; text-align: right;\">2</td><td style = \"text-align: right;\">10</td><td style = \"text-align: right;\">42</td><td style = \"text-align: right;\">6.20449</td><td style = \"text-align: right;\">9.30193</td><td style = \"text-align: right;\">3</td><td style = \"text-align: left;\">(231670.0, 3.04113e5, 0.0)</td><td style = \"text-align: left;\">(4.95792e9, 4.9685e9, 2.92848e7)</td></tr><tr><td class = \"rowNumber\" style = \"font-weight: bold; text-align: right;\">3</td><td style = \"text-align: right;\">10</td><td style = \"text-align: right;\">42</td><td style = \"text-align: right;\">8.26804</td><td style = \"text-align: right;\">27.9913</td><td style = \"text-align: right;\">4</td><td style = \"text-align: left;\">(256789.0, 3.29563e5, 0.0)</td><td style = \"text-align: left;\">(4.96892e9, 5.00742e9, 3.03118e7)</td></tr><tr><td class = \"rowNumber\" style = \"font-weight: bold; text-align: right;\">4</td><td style = \"text-align: right;\">20</td><td style = \"text-align: right;\">42</td><td style = \"text-align: right;\">2.39579</td><td style = \"text-align: right;\">4.41848</td><td style = \"text-align: right;\">2</td><td style = \"text-align: left;\">(459081.0, 5.89441e5, 0.0)</td><td style = \"text-align: left;\">(9.54419e9, 9.54419e9, 7.0594e7)</td></tr><tr><td class = \"rowNumber\" style = \"font-weight: bold; text-align: right;\">5</td><td style = \"text-align: right;\">20</td><td style = \"text-align: right;\">42</td><td style = \"text-align: right;\">5.79453</td><td style = \"text-align: right;\">16.7357</td><td style = \"text-align: right;\">3</td><td style = \"text-align: left;\">(468828.0, 6.00947e5, 0.0)</td><td style = \"text-align: left;\">(9.58611e9, 9.58611e9, 6.61324e7)</td></tr><tr><td class = \"rowNumber\" style = \"font-weight: bold; text-align: right;\">6</td><td style = \"text-align: right;\">20</td><td style = \"text-align: right;\">42</td><td style = \"text-align: right;\">9.47486</td><td style = \"text-align: right;\">45.0845</td><td style = \"text-align: right;\">4</td><td style = \"text-align: left;\">(517805.0, 6.57436e5, 0.0)</td><td style = \"text-align: left;\">(9.63786e9, 9.63786e9, 7.94159e7)</td></tr><tr><td class = \"rowNumber\" style = \"font-weight: bold; text-align: right;\">7</td><td style = \"text-align: right;\">30</td><td style = \"text-align: right;\">42</td><td style = \"text-align: right;\">2.53305</td><td style = \"text-align: right;\">6.00106</td><td style = \"text-align: right;\">2</td><td style = \"text-align: left;\">(720007.0, 9.0164e5, 0.0)</td><td style = \"text-align: left;\">(1.43328e10, 1.43328e10, 1.02455e8)</td></tr><tr><td class = \"rowNumber\" style = \"font-weight: bold; text-align: right;\">8</td><td style = \"text-align: right;\">30</td><td style = \"text-align: right;\">42</td><td style = \"text-align: right;\">5.46543</td><td style = \"text-align: right;\">21.7897</td><td style = \"text-align: right;\">3</td><td style = \"text-align: left;\">(704461.0, 9.10729e5, 0.0)</td><td style = \"text-align: left;\">(1.44209e10, 1.44209e10, 1.12891e8)</td></tr><tr><td class = \"rowNumber\" style = \"font-weight: bold; text-align: right;\">9</td><td style = \"text-align: right;\">30</td><td style = \"text-align: right;\">42</td><td style = \"text-align: right;\">9.16529</td><td style = \"text-align: right;\">48.6285</td><td style = \"text-align: right;\">4</td><td style = \"text-align: left;\">(784108.0, 9.99046e5, 0.0)</td><td style = \"text-align: left;\">(1.44646e10, 1.44646e10, 1.05846e8)</td></tr></tbody></table></div>"
      ],
      "text/latex": [
       "\\begin{tabular}{r|ccccccc}\n",
       "\t& T & seed & amse & emse & d & inference & creation\\\\\n",
       "\t\\hline\n",
       "\t& Int64? & Int64? & Float64? & Float64? & Int64? & Tuple…? & Tuple…?\\\\\n",
       "\t\\hline\n",
       "\t1 & 10 & 42 & 2.86933 & 3.34099 & 2 & (246658.0, 3.54007e5, 0.0) & (5.48485e9, 5.48485e9, 2.40328e7) \\\\\n",
       "\t2 & 10 & 42 & 6.20449 & 9.30193 & 3 & (231670.0, 3.04113e5, 0.0) & (4.95792e9, 4.9685e9, 2.92848e7) \\\\\n",
       "\t3 & 10 & 42 & 8.26804 & 27.9913 & 4 & (256789.0, 3.29563e5, 0.0) & (4.96892e9, 5.00742e9, 3.03118e7) \\\\\n",
       "\t4 & 20 & 42 & 2.39579 & 4.41848 & 2 & (459081.0, 5.89441e5, 0.0) & (9.54419e9, 9.54419e9, 7.0594e7) \\\\\n",
       "\t5 & 20 & 42 & 5.79453 & 16.7357 & 3 & (468828.0, 6.00947e5, 0.0) & (9.58611e9, 9.58611e9, 6.61324e7) \\\\\n",
       "\t6 & 20 & 42 & 9.47486 & 45.0845 & 4 & (517805.0, 6.57436e5, 0.0) & (9.63786e9, 9.63786e9, 7.94159e7) \\\\\n",
       "\t7 & 30 & 42 & 2.53305 & 6.00106 & 2 & (720007.0, 9.0164e5, 0.0) & (1.43328e10, 1.43328e10, 1.02455e8) \\\\\n",
       "\t8 & 30 & 42 & 5.46543 & 21.7897 & 3 & (704461.0, 9.10729e5, 0.0) & (1.44209e10, 1.44209e10, 1.12891e8) \\\\\n",
       "\t9 & 30 & 42 & 9.16529 & 48.6285 & 4 & (784108.0, 9.99046e5, 0.0) & (1.44646e10, 1.44646e10, 1.05846e8) \\\\\n",
       "\\end{tabular}\n"
      ],
      "text/plain": [
       "\u001b[1m9×7 DataFrame\u001b[0m\n",
       "\u001b[1m Row \u001b[0m│\u001b[1m T      \u001b[0m\u001b[1m seed   \u001b[0m\u001b[1m amse     \u001b[0m\u001b[1m emse     \u001b[0m\u001b[1m d      \u001b[0m\u001b[1m inference                  \u001b[0m\u001b[1m\u001b[0m ⋯\n",
       "     │\u001b[90m Int64? \u001b[0m\u001b[90m Int64? \u001b[0m\u001b[90m Float64? \u001b[0m\u001b[90m Float64? \u001b[0m\u001b[90m Int64? \u001b[0m\u001b[90m Tuple…?                    \u001b[0m\u001b[90m\u001b[0m ⋯\n",
       "─────┼──────────────────────────────────────────────────────────────────────────\n",
       "   1 │     10      42   2.86933   3.34099       2  (246658.0, 3.54007e5, 0.0)  ⋯\n",
       "   2 │     10      42   6.20449   9.30193       3  (231670.0, 3.04113e5, 0.0)\n",
       "   3 │     10      42   8.26804  27.9913        4  (256789.0, 3.29563e5, 0.0)\n",
       "   4 │     20      42   2.39579   4.41848       2  (459081.0, 5.89441e5, 0.0)\n",
       "   5 │     20      42   5.79453  16.7357        3  (468828.0, 6.00947e5, 0.0)  ⋯\n",
       "   6 │     20      42   9.47486  45.0845        4  (517805.0, 6.57436e5, 0.0)\n",
       "   7 │     30      42   2.53305   6.00106       2  (720007.0, 9.0164e5, 0.0)\n",
       "   8 │     30      42   5.46543  21.7897        3  (704461.0, 9.10729e5, 0.0)\n",
       "   9 │     30      42   9.16529  48.6285        4  (784108.0, 9.99046e5, 0.0)  ⋯\n",
       "\u001b[36m                                                                1 column omitted\u001b[0m"
      ]
     },
     "execution_count": 20,
     "metadata": {},
     "output_type": "execute_result"
    }
   ],
   "source": [
    "sort(prepare_benchmarks_table(bfolder), [ :T ])"
   ]
  },
  {
   "cell_type": "markdown",
   "id": "f3e815c8",
   "metadata": {},
   "source": [
    "# Versions"
   ]
  },
  {
   "cell_type": "code",
   "execution_count": 11,
   "id": "9cb4dbcd",
   "metadata": {},
   "outputs": [
    {
     "name": "stdout",
     "output_type": "stream",
     "text": [
      "Julia Version 1.9.0\n",
      "Commit 8e630552924 (2023-05-07 11:25 UTC)\n",
      "Platform Info:\n",
      "  OS: macOS (x86_64-apple-darwin22.4.0)\n",
      "  CPU: 12 × Intel(R) Core(TM) i7-8850H CPU @ 2.60GHz\n",
      "  WORD_SIZE: 64\n",
      "  LIBM: libopenlibm\n",
      "  LLVM: libLLVM-14.0.6 (ORCJIT, skylake)\n",
      "  Threads: 2 on 12 virtual cores\n"
     ]
    }
   ],
   "source": [
    "versioninfo()"
   ]
  },
  {
   "cell_type": "code",
   "execution_count": 12,
   "id": "d4c715ec",
   "metadata": {},
   "outputs": [
    {
     "name": "stdout",
     "output_type": "stream",
     "text": [
      "\u001b[36m\u001b[1mProject\u001b[22m\u001b[39m RxInferThesisExperiments v1.0.0\n",
      "\u001b[32m\u001b[1mStatus\u001b[22m\u001b[39m `~/.julia/dev/thesis/Project.toml`\n",
      "  \u001b[90m[b5ca4192] \u001b[39mAdvancedVI v0.2.3\n",
      "  \u001b[90m[6e4b80f9] \u001b[39mBenchmarkTools v1.3.2\n",
      "  \u001b[90m[76274a88] \u001b[39mBijectors v0.12.4\n",
      "  \u001b[90m[35d6a980] \u001b[39mColorSchemes v3.21.0\n",
      "  \u001b[90m[a93c6f00] \u001b[39mDataFrames v1.5.0\n",
      "  \u001b[90m[31c24e10] \u001b[39mDistributions v0.25.95\n",
      "  \u001b[90m[634d3b9d] \u001b[39mDrWatson v2.12.5\n",
      "  \u001b[90m[442a2c76] \u001b[39mFastGaussQuadrature v0.5.1\n",
      "  \u001b[90m[9fc3f58a] \u001b[39mForneyLab v0.12.0\n",
      "  \u001b[90m[f6369f11] \u001b[39mForwardDiff v0.10.35\n",
      "  \u001b[90m[14197337] \u001b[39mGenericLinearAlgebra v0.3.11\n",
      "  \u001b[90m[19dc6840] \u001b[39mHCubature v1.5.1\n",
      "  \u001b[90m[7073ff75] \u001b[39mIJulia v1.24.0\n",
      "  \u001b[90m[b964fa9f] \u001b[39mLaTeXStrings v1.3.0\n",
      "  \u001b[90m[bdcacae8] \u001b[39mLoopVectorization v0.12.159\n",
      "  \u001b[90m[3bd65402] \u001b[39mOptimisers v0.2.18\n",
      "  \u001b[90m[8314cec4] \u001b[39mPGFPlotsX v1.6.0\n",
      "  \u001b[90m[e4faabce] \u001b[39mPProf v2.2.2\n",
      "  \u001b[90m[91a5bcdd] \u001b[39mPlots v1.38.15\n",
      "  \u001b[90m[92933f4c] \u001b[39mProgressMeter v1.7.2\n",
      "  \u001b[90m[37e2e3b7] \u001b[39mReverseDiff v1.14.6\n",
      "  \u001b[90m[86711068] \u001b[39mRxInfer v2.11.0\n",
      "  \u001b[90m[860ef19b] \u001b[39mStableRNGs v1.0.0\n",
      "  \u001b[90m[aedffcd0] \u001b[39mStatic v0.8.7\n",
      "  \u001b[90m[90137ffa] \u001b[39mStaticArrays v1.5.25\n",
      "\u001b[33m⌅\u001b[39m \u001b[90m[2913bbd2] \u001b[39mStatsBase v0.33.21\n",
      "  \u001b[90m[4c63d2b9] \u001b[39mStatsFuns v1.3.0\n",
      "  \u001b[90m[fce5fe82] \u001b[39mTuring v0.25.1\n",
      "  \u001b[90m[37e2e46d] \u001b[39mLinearAlgebra\n",
      "  \u001b[90m[9a3f8284] \u001b[39mRandom\n",
      "\u001b[36m\u001b[1mInfo\u001b[22m\u001b[39m Packages marked with \u001b[33m⌅\u001b[39m have new versions available but compatibility constraints restrict them from upgrading. To see why use `status --outdated`\n"
     ]
    }
   ],
   "source": [
    "] status"
   ]
  },
  {
   "cell_type": "code",
   "execution_count": null,
   "id": "532a4155",
   "metadata": {},
   "outputs": [],
   "source": []
  }
 ],
 "metadata": {
  "kernelspec": {
   "display_name": "Julia 1.9.0",
   "language": "julia",
   "name": "julia-1.9"
  },
  "language_info": {
   "file_extension": ".jl",
   "mimetype": "application/julia",
   "name": "julia",
   "version": "1.9.0"
  }
 },
 "nbformat": 4,
 "nbformat_minor": 5
}
