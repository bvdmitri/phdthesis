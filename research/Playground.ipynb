{
 "cells": [
  {
   "cell_type": "code",
   "execution_count": null,
   "id": "a736ef43",
   "metadata": {},
   "outputs": [],
   "source": [
    "using LinearAlgebra, BenchmarkTools"
   ]
  },
  {
   "cell_type": "code",
   "execution_count": null,
   "id": "46f0a2ce",
   "metadata": {},
   "outputs": [],
   "source": [
    "@benchmark cholesky(M) setup = begin\n",
    "    n = 100\n",
    "    d = ones(n)\n",
    "    z = zeros(n - 1)\n",
    "    M = SymTridiagonal(d, z);\n",
    "end"
   ]
  },
  {
   "cell_type": "code",
   "execution_count": null,
   "id": "cc3fcb0f",
   "metadata": {},
   "outputs": [],
   "source": [
    "@benchmark cholesky(M) setup = begin\n",
    "    n = 100\n",
    "    d = ones(n)\n",
    "    z = zeros(n - 1)\n",
    "    M = Hermitian(SymTridiagonal(d, z));\n",
    "end"
   ]
  },
  {
   "cell_type": "code",
   "execution_count": null,
   "id": "904f9913",
   "metadata": {},
   "outputs": [],
   "source": [
    "@benchmark cholesky(M) setup = begin\n",
    "    n = 100\n",
    "    d = ones(n)\n",
    "    z = zeros(n - 1)\n",
    "    M = Symmetric(SymTridiagonal(d, z));\n",
    "end"
   ]
  },
  {
   "cell_type": "code",
   "execution_count": null,
   "id": "f16a1940",
   "metadata": {},
   "outputs": [],
   "source": [
    "@benchmark cholesky(M) setup = begin\n",
    "    n = 100\n",
    "    d = ones(n)\n",
    "    z = zeros(n - 1)\n",
    "    M = Hermitian(Matrix(SymTridiagonal(d, z)));\n",
    "end"
   ]
  },
  {
   "cell_type": "code",
   "execution_count": null,
   "id": "d147d77a",
   "metadata": {},
   "outputs": [],
   "source": [
    "@benchmark cholesky(M) setup = begin\n",
    "    n = 100\n",
    "    d = ones(n)\n",
    "    z = zeros(n - 1)\n",
    "    M = Matrix(SymTridiagonal(d, z));\n",
    "end"
   ]
  },
  {
   "cell_type": "code",
   "execution_count": null,
   "id": "2af49089",
   "metadata": {},
   "outputs": [],
   "source": []
  }
 ],
 "metadata": {
  "kernelspec": {
   "display_name": "Julia 1.9.0",
   "language": "julia",
   "name": "julia-1.9"
  },
  "language_info": {
   "file_extension": ".jl",
   "mimetype": "application/julia",
   "name": "julia",
   "version": "1.9.0"
  }
 },
 "nbformat": 4,
 "nbformat_minor": 5
}
