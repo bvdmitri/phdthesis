{
 "cells": [
  {
   "cell_type": "code",
   "execution_count": null,
   "id": "ab51ecfe",
   "metadata": {},
   "outputs": [],
   "source": [
    "using DrWatson"
   ]
  },
  {
   "cell_type": "code",
   "execution_count": null,
   "id": "e38c5626",
   "metadata": {},
   "outputs": [],
   "source": [
    "@quickactivate \"RxInferThesisExperiments\""
   ]
  },
  {
   "cell_type": "code",
   "execution_count": null,
   "id": "453726c3",
   "metadata": {},
   "outputs": [],
   "source": [
    "using RxInferThesisExperiments, Turing, StaticArrays, Plots, PGFPlotsX, LaTeXStrings\n",
    "using LinearAlgebra, StableRNGs, Random, BenchmarkTools, ColorSchemes, Dates, ProgressMeter, Logging"
   ]
  },
  {
   "cell_type": "code",
   "execution_count": null,
   "id": "76ad3c68",
   "metadata": {},
   "outputs": [],
   "source": [
    "const bfolder_nuts = datadir(\"hgf\", \"turing\", \"nuts\")"
   ]
  },
  {
   "cell_type": "code",
   "execution_count": null,
   "id": "2bee77bc",
   "metadata": {},
   "outputs": [],
   "source": [
    "# Pregenerate paths for benchmark data\n",
    "mkpath(bfolder_nuts);"
   ]
  },
  {
   "cell_type": "code",
   "execution_count": null,
   "id": "7a5c82ca",
   "metadata": {},
   "outputs": [],
   "source": [
    "const environment = HGFEnvironment()"
   ]
  },
  {
   "cell_type": "code",
   "execution_count": null,
   "id": "ad7b64dd",
   "metadata": {},
   "outputs": [],
   "source": [
    "# Include the model specification\n",
    "include(srcdir(\"models\", \"turing\", \"hgf.jl\"));"
   ]
  },
  {
   "cell_type": "code",
   "execution_count": null,
   "id": "164adec9",
   "metadata": {},
   "outputs": [],
   "source": [
    "function run_benchmark_nuts(params)\n",
    "    return with_logger(NullLogger()) do\n",
    "        @unpack T, nsamples, seed = params\n",
    "\n",
    "        zstates, xstates, observations = rand(StableRNG(seed), environment, T);\n",
    "        model    = (observation, zt_min_prior, xt_min_prior, z_std_prior, y_std_prior) -> begin \n",
    "            HGF(observation, zt_min_prior, xt_min_prior, z_std_prior, y_std_prior, environment.kappa, environment.omega)\n",
    "        end\n",
    "        result   = run_inference(model, observations; nsamples = nsamples, rng = StableRNG(seed))\n",
    "        e_states = extract_posteriors(T, result)\n",
    "        z_amse   = compute_amse(zstates, e_states[:z])\n",
    "        x_amse   = compute_amse(xstates, e_states[:x])\n",
    "\n",
    "        # Turing need to recreate the model every time....\n",
    "        benchmark_modelcreation = @benchmark begin end\n",
    "\n",
    "        benchmark_inference = @benchmark run_inference(model, observations; nsamples = $nsamples, rng = StableRNG($seed)) setup=begin\n",
    "            model = (observation, zt_min_prior, xt_min_prior, z_std_prior, y_std_prior) -> begin \n",
    "                HGF(observation, zt_min_prior, xt_min_prior, z_std_prior, y_std_prior, environment.kappa, environment.omega)\n",
    "            end\n",
    "            zstates, xstates, observations = rand(StableRNG($seed), environment, $T);\n",
    "        end\n",
    "\n",
    "        emse = compute_emse(seed) do _seed\n",
    "            local zstates, xstates, observations = rand(StableRNG(_seed), environment, T);\n",
    "            local model = (observation, zt_min_prior, xt_min_prior, z_std_prior, y_std_prior) -> begin \n",
    "                HGF(observation, zt_min_prior, xt_min_prior, z_std_prior, y_std_prior, environment.kappa, environment.omega)\n",
    "            end\n",
    "            local result   = run_inference(model, observations; nsamples = nsamples, rng = StableRNG(_seed))\n",
    "            local e_states = extract_posteriors(T, result)\n",
    "            return [ compute_amse(zstates, e_states[:z]), compute_amse(xstates, e_states[:x]) ]\n",
    "        end\n",
    "\n",
    "        z_emse = emse[1]\n",
    "        x_emse = emse[2]\n",
    "\n",
    "        states = (z = zstates, x = xstates)\n",
    "\n",
    "        output = @strdict T nsamples seed states e_states observations z_amse x_amse z_emse x_emse benchmark_modelcreation benchmark_inference\n",
    "\n",
    "        return output\n",
    "    end\n",
    "end"
   ]
  },
  {
   "cell_type": "code",
   "execution_count": null,
   "id": "7b67d008",
   "metadata": {},
   "outputs": [],
   "source": [
    "# Here we create a list of parameters we want to run our benchmarks with\n",
    "benchmark_params_nuts = dict_list(Dict(\n",
    "    \"T\"           => [ 10, 20, 30, 100, 300 ],\n",
    "    \"nsamples\"    => [ 100, 200 ],\n",
    "    \"seed\"        => [ 42 ]\n",
    "));"
   ]
  },
  {
   "cell_type": "code",
   "execution_count": null,
   "id": "aa578fcb",
   "metadata": {},
   "outputs": [],
   "source": [
    "# First run maybe slow, you may track the progress in the terminal\n",
    "# Subsequent runs will not create new benchmarks \n",
    "# but will reload it from data folder\n",
    "benchmarks_nuts = map(benchmark_params_nuts) do params\n",
    "    result, _ = produce_or_load(run_benchmark_nuts, bfolder_nuts, params; tag = false, force = false)\n",
    "    return result\n",
    "end;"
   ]
  },
  {
   "cell_type": "code",
   "execution_count": null,
   "id": "4bf57e42",
   "metadata": {},
   "outputs": [],
   "source": [
    "sort(prepare_benchmarks_table(bfolder_nuts), [ :T ])"
   ]
  },
  {
   "cell_type": "markdown",
   "id": "8908d2e2",
   "metadata": {},
   "source": [
    "# Versions"
   ]
  },
  {
   "cell_type": "code",
   "execution_count": null,
   "id": "50e7ce97",
   "metadata": {},
   "outputs": [],
   "source": [
    "versioninfo()"
   ]
  },
  {
   "cell_type": "code",
   "execution_count": null,
   "id": "64587a7c",
   "metadata": {},
   "outputs": [],
   "source": [
    "] status"
   ]
  }
 ],
 "metadata": {
  "kernelspec": {
   "display_name": "Julia 1.9.0",
   "language": "julia",
   "name": "julia-1.9"
  },
  "language_info": {
   "file_extension": ".jl",
   "mimetype": "application/julia",
   "name": "julia",
   "version": "1.9.0"
  }
 },
 "nbformat": 4,
 "nbformat_minor": 5
}
