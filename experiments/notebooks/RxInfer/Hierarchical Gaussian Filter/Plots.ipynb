{
 "cells": [
  {
   "cell_type": "markdown",
   "id": "4cbbd253-d08d-47ef-9785-75c3593f49d2",
   "metadata": {},
   "source": [
    "This notebook does not perform any becnhmark and simply runs the inference procedure and generates some nice plots for the thesis.\n",
    "\n",
    "_Author: Dmitry Bagaev_"
   ]
  },
  {
   "cell_type": "code",
   "execution_count": null,
   "id": "ab51ecfe",
   "metadata": {},
   "outputs": [],
   "source": [
    "using DrWatson"
   ]
  },
  {
   "cell_type": "code",
   "execution_count": null,
   "id": "e38c5626",
   "metadata": {},
   "outputs": [],
   "source": [
    "@quickactivate \"RxInferThesisExperiments\""
   ]
  },
  {
   "cell_type": "code",
   "execution_count": null,
   "id": "453726c3",
   "metadata": {},
   "outputs": [],
   "source": [
    "using RxInferThesisExperiments, RxInfer, StaticArrays, Plots, PGFPlotsX, LaTeXStrings\n",
    "using LinearAlgebra, StableRNGs, Random, BenchmarkTools, ColorSchemes, Dates"
   ]
  },
  {
   "cell_type": "code",
   "execution_count": null,
   "id": "8fed084c",
   "metadata": {},
   "outputs": [],
   "source": [
    "# For the thesis I use the `pgfplotsx` backend of the `Plots`, since it generates high-quiality plots\n",
    "# But it is reallyyy slow, if some wants to generate plots faster uncoment the `gr()` line\n",
    "pgfplotsx()\n",
    "\n",
    "# Use fast plotting backend\n",
    "# gr()"
   ]
  },
  {
   "cell_type": "code",
   "execution_count": null,
   "id": "09a33879-3bc6-4dbb-b924-286529aba251",
   "metadata": {},
   "outputs": [],
   "source": [
    "# Pregenerate paths for plots \n",
    "mkpath(plotsdir(\"hgf\"));"
   ]
  },
  {
   "cell_type": "code",
   "execution_count": null,
   "id": "7a5c82ca",
   "metadata": {},
   "outputs": [],
   "source": [
    "const environment = HGFEnvironment()"
   ]
  },
  {
   "cell_type": "code",
   "execution_count": null,
   "id": "7652ffce",
   "metadata": {},
   "outputs": [],
   "source": [
    "# Include the model specification\n",
    "include(srcdir(\"models\", \"rxinfer\", \"hgf.jl\"));"
   ]
  },
  {
   "cell_type": "code",
   "execution_count": null,
   "id": "164adec9",
   "metadata": {},
   "outputs": [],
   "source": [
    "T = 10_000\n",
    "seed = 42\n",
    "rng = StableRNG(seed)\n",
    "\n",
    "zstates, xstates, observations = rand(rng, environment, T);\n",
    "\n",
    "# `plotting` range\n",
    "prange = 20:100:10000 # max((lastindex(observations) - 5000), firstindex(observations)):40:lastindex(observations)\n",
    "colors = ColorSchemes.tableau_10\n",
    "\n",
    "# Some default settings for plotting\n",
    "pfontsettings = (\n",
    "    titlefontsize=18,\n",
    "    guidefontsize=16,\n",
    "    tickfontsize=14,\n",
    "    legendfontsize=14,\n",
    "    legend = :bottomleft,\n",
    "    size = (400, 300)\n",
    ")\n",
    "\n",
    "p1 = plot(xlabel = \"Time step index\", ylabel = \"\"; pfontsettings...)\n",
    "p1 = plot!(prange, zstates[prange], color = colors[1], linewidth = 2, label = L\"s^{(2)}\")\n",
    "\n",
    "p2 = plot(xlabel = \"Time step index\", ylabel = \"\"; pfontsettings..., legend = :bottomright)\n",
    "p2 = plot!(p2, prange, xstates[prange], color = colors[7], linewidth = 2, label = L\"s^{(1)}\")\n",
    "p2 = scatter!(p2, prange, observations[prange], color = colors[5], ms = 2, alpha = 0.5, msw = 0, label = L\"y\")\n",
    "\n",
    "savefig(p1, plotsdir(\"hgf\", \"04-hierarchical_example_states_1.tex\"))\n",
    "savefig(p1, plotsdir(\"hgf\", \"04-hierarchical_example_states_1.pdf\"))\n",
    "savefig(p2, plotsdir(\"hgf\", \"04-hierarchical_example_states_2.tex\"))\n",
    "savefig(p2, plotsdir(\"hgf\", \"04-hierarchical_example_states_2.pdf\"))\n",
    "\n",
    "p = plot(p1, p2, layout = @layout([ a b ]), size = (800, 300))\n",
    "\n",
    "display(\"image/png\", p)"
   ]
  },
  {
   "cell_type": "markdown",
   "id": "b76b492d",
   "metadata": {},
   "source": [
    "# Inference"
   ]
  },
  {
   "cell_type": "code",
   "execution_count": null,
   "id": "7b67d008",
   "metadata": {},
   "outputs": [],
   "source": [
    "model = hgf(environment.kappa, environment.omega)\n",
    "results = run_inference(model, observations, free_energy = true, iterations = 5);"
   ]
  },
  {
   "cell_type": "code",
   "execution_count": null,
   "id": "aa578fcb",
   "metadata": {},
   "outputs": [],
   "source": [
    "e_states = extract_posteriors(T, results)\n",
    "\n",
    "emz = mean.(e_states[:z])\n",
    "evz = std.(e_states[:z])\n",
    "\n",
    "emx = mean.(e_states[:x])\n",
    "evx = std.(e_states[:x])\n",
    "\n",
    "p1 = plot(xlabel = \"Time step index\", ylabel = \"\"; pfontsettings...)\n",
    "p1 = plot!(p1, prange, zstates[prange], color = colors[1], linewidth = 2, label = L\"s^{(2)}\")\n",
    "p1 = plot!(p1, prange, emz[prange], ribbon = 3evz[prange], color = colors[2], linewidth = 2, label = L\"q(s^{(2)})\")\n",
    "\n",
    "p2 = plot(xlabel = \"Time step index\", ylabel = \"\"; pfontsettings..., legend = :bottomright)\n",
    "p2 = plot!(p2, prange, xstates[prange], color = colors[7], linewidth = 2, label = L\"s^{(1)}\")\n",
    "p2 = plot!(p2, prange, emx[prange], ribbon = 3evx[prange], color = colors[3], linewidth = 2, label = L\"q(s^{(1)})\")\n",
    "p2 = scatter!(p2, prange, observations[prange], color = colors[5], ms = 2, alpha = 0.5, msw = 0, label = L\"y\")\n",
    "\n",
    "p3 = plot(xlabel = \"Variational iteration index\", ylabel = \"Bethe Free Energy\"; pfontsettings...)\n",
    "plot!(results.free_energy_history, label = \"Bethe Free Energy\", legend = :topright)\n",
    "\n",
    "savefig(p1, plotsdir(\"hgf\", \"04-hierarchical_example_inference_states_1.tex\"))\n",
    "savefig(p1, plotsdir(\"hgf\", \"04-hierarchical_example_inference_states_1.pdf\"))\n",
    "savefig(p2, plotsdir(\"hgf\", \"04-hierarchical_example_inference_states_2.tex\"))\n",
    "savefig(p2, plotsdir(\"hgf\", \"04-hierarchical_example_inference_states_2.pdf\"))\n",
    "savefig(p3, plotsdir(\"hgf\", \"04-hierarchical_example_inference_free_energy.tex\"))\n",
    "savefig(p3, plotsdir(\"hgf\", \"04-hierarchical_example_inference_free_energy.pdf\"))\n",
    "\n",
    "p = plot(p1, p2, p3, layout = @layout([ a b c ]), size = (1200, 300))\n",
    "\n",
    "display(\"image/png\", p)"
   ]
  },
  {
   "cell_type": "code",
   "execution_count": null,
   "id": "99808494-f75b-4ab1-93fa-a686f5149266",
   "metadata": {},
   "outputs": [],
   "source": [
    "println(\"AMSE Z: \", compute_amse(zstates, e_states[:z]))\n",
    "println(\"AMSE X: \", compute_amse(xstates, e_states[:x]))"
   ]
  },
  {
   "cell_type": "markdown",
   "id": "f10e0b5c",
   "metadata": {},
   "source": [
    "# Versions"
   ]
  },
  {
   "cell_type": "code",
   "execution_count": null,
   "id": "487c5e1f",
   "metadata": {},
   "outputs": [],
   "source": [
    "versioninfo()"
   ]
  },
  {
   "cell_type": "code",
   "execution_count": null,
   "id": "d9005274",
   "metadata": {},
   "outputs": [],
   "source": [
    "] status"
   ]
  },
  {
   "cell_type": "code",
   "execution_count": null,
   "id": "9bd62b1b-6047-4624-892a-c3e5b367e486",
   "metadata": {},
   "outputs": [],
   "source": []
  }
 ],
 "metadata": {
  "kernelspec": {
   "display_name": "Julia 1.9.2",
   "language": "julia",
   "name": "julia-1.9"
  },
  "language_info": {
   "file_extension": ".jl",
   "mimetype": "application/julia",
   "name": "julia",
   "version": "1.9.2"
  }
 },
 "nbformat": 4,
 "nbformat_minor": 5
}
