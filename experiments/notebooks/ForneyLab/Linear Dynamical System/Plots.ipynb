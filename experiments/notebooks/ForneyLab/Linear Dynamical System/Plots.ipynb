{
 "cells": [
  {
   "cell_type": "markdown",
   "id": "bf120c34",
   "metadata": {},
   "source": [
    "_Author: Dmitry Bagaev_"
   ]
  },
  {
   "cell_type": "code",
   "execution_count": null,
   "id": "1996208a",
   "metadata": {},
   "outputs": [],
   "source": [
    "using DrWatson"
   ]
  },
  {
   "cell_type": "code",
   "execution_count": null,
   "id": "ff90247d",
   "metadata": {},
   "outputs": [],
   "source": [
    "@quickactivate \"RxInferThesisExperiments\""
   ]
  },
  {
   "cell_type": "code",
   "execution_count": null,
   "id": "4addd19a",
   "metadata": {},
   "outputs": [],
   "source": [
    "using RxInferThesisExperiments, ForneyLab, StaticArrays, Plots, PGFPlotsX, LaTeXStrings\n",
    "using LinearAlgebra, StableRNGs, Random, BenchmarkTools, ColorSchemes, Dates\n",
    "\n",
    "import Distributions"
   ]
  },
  {
   "cell_type": "code",
   "execution_count": null,
   "id": "3310e26c",
   "metadata": {},
   "outputs": [],
   "source": [
    "# For the thesis I use the `pgfplotsx` backend of the `Plots`, since it generates high-quiality plots\n",
    "# But it is reallyyy slow, if some wants to generate plots faster uncoment the `gr()` line\n",
    "pgfplotsx()\n",
    "\n",
    "# Use fast plotting backend\n",
    "# gr()"
   ]
  },
  {
   "cell_type": "code",
   "execution_count": null,
   "id": "4cff9d57",
   "metadata": {},
   "outputs": [],
   "source": [
    "# Pregenerate paths for plots \n",
    "mkpath(plotsdir(\"lds\"));"
   ]
  },
  {
   "cell_type": "markdown",
   "id": "a9784ad4",
   "metadata": {},
   "source": [
    "## Double pendulum environment"
   ]
  },
  {
   "cell_type": "code",
   "execution_count": null,
   "id": "f13bfb22",
   "metadata": {},
   "outputs": [],
   "source": [
    "const environment = RotatingTracking(\n",
    "    2, \n",
    "    [cos(π/20) sin(π/20)/2; -sin(π/20)/2 cos(π/20)], \n",
    "    [0.0 -1.9; 1.3 0.0], \n",
    "    [0.0001 0.0; 0.0 0.0001], \n",
    "    [1.0 0.0; 0.0 1.0]\n",
    ")"
   ]
  },
  {
   "cell_type": "code",
   "execution_count": null,
   "id": "d9b6eed6",
   "metadata": {},
   "outputs": [],
   "source": [
    "# Include the model specification\n",
    "include(srcdir(\"models\", \"forneylab\", \"rotating.jl\"));"
   ]
  },
  {
   "cell_type": "code",
   "execution_count": null,
   "id": "92a5f273",
   "metadata": {},
   "outputs": [],
   "source": [
    "# For plotting purposes here we only generate 25 points\n",
    "T = 250\n",
    "seed = 42\n",
    "rng = StableRNG(seed)\n",
    "\n",
    "states, observations = rand(rng, environment, T);\n",
    "\n",
    "# `plotting`range\n",
    "prange = firstindex(states):lastindex(states)\n",
    "colors = ColorSchemes.tableau_10\n",
    "\n",
    "# Some default settings for plotting\n",
    "pfontsettings = (\n",
    "    titlefontsize=18,\n",
    "    guidefontsize=16,\n",
    "    tickfontsize=14,\n",
    "    legendfontsize=14,\n",
    "    legend = :bottomleft,\n",
    "    size = (400, 300)\n",
    ")\n",
    "\n",
    "p1 = plot(xlabel = \"Time step index\", ylabel = \"First component of the state\"; pfontsettings...)\n",
    "p1 = plot!(prange, getindex.(states, 1)[prange], color = colors[1], linewidth = 2, label = L\"\\theta_1\")\n",
    "p1 = scatter!(p1, prange, getindex.(observations, 1)[prange], ms = 2, msw = 0, color = colors[5], alpha = 0.5, label = L\"y\")\n",
    "\n",
    "p2 = plot(xlabel = \"Time step index\", ylabel = \"Second component of the state\"; pfontsettings...)\n",
    "p2 = plot!(p2, prange, getindex.(states, 2)[prange], color = colors[3], linewidth = 2, label = L\"\\dot{\\theta}_1\")\n",
    "p2 = scatter!(p2, prange, getindex.(observations, 2)[prange], ms = 2, msw = 0, color = colors[5], alpha = 0.5, label = L\"y\")\n",
    "\n",
    "p = plot(p1, p2, layout = @layout([ a b ]), size = (800, 300))\n",
    "\n",
    "display(\"image/png\", p)"
   ]
  },
  {
   "cell_type": "code",
   "execution_count": null,
   "id": "6540f5bc",
   "metadata": {},
   "outputs": [],
   "source": [
    "model   = rotating(T, seed, environment) \n",
    "results = run_inference(model, observations);"
   ]
  },
  {
   "cell_type": "code",
   "execution_count": null,
   "id": "652fd211",
   "metadata": {},
   "outputs": [],
   "source": [
    "e_states = extract_posteriors(T, results)\n",
    "\n",
    "em = Distributions.mean.(e_states)\n",
    "ev = Distributions.std.(e_states)\n",
    "p1 = plot(xlabel = \"Time step index\", ylabel = \"Angle (radians)\"; pfontsettings...)\n",
    "\n",
    "p1 = plot(xlabel = \"Time step index\", ylabel = \"First component of the state\"; pfontsettings...)\n",
    "p1 = plot!(p1, prange, getindex.(states, 1)[prange], color = colors[1], linewidth = 2, label = L\"s^{(1)}\")\n",
    "p1 = scatter!(p1, prange, getindex.(observations, 1)[prange], ms = 2, msw = 0, color = colors[5], alpha = 0.5, label = L\"y^{(1)}\")\n",
    "p1 = plot!(p1, prange, getindex.(em, 1)[prange], ribbon = 3getindex.(ev, 1, 1), color = colors[2], linewidth = 2, label = L\"q(s^{(1)})\")\n",
    "\n",
    "p2 = plot(xlabel = \"Time step index\", ylabel = \"Second component of the state\"; pfontsettings...)\n",
    "p2 = plot!(p2, prange, getindex.(states, 2)[prange], color = colors[3], linewidth = 2, label = L\"s^{(2)}\")\n",
    "p2 = scatter!(p2, prange, getindex.(observations, 2)[prange], ms = 2, msw = 0, color = colors[5], alpha = 0.5, label = L\"y^{(1)}\")\n",
    "p2 = plot!(p2, prange, getindex.(em, 2)[prange], ribbon = 3getindex.(ev, 2, 2), color = colors[4], linewidth = 2, label = L\"q(s^{(2)})\")\n",
    "\n",
    "p = plot(p1, p2, size = (800, 300), layout = @layout([ a b ]))\n",
    "\n",
    "display(\"image/png\", p)"
   ]
  },
  {
   "cell_type": "code",
   "execution_count": null,
   "id": "6ea5e8b4-535c-4e2d-b7fe-0fa90d739250",
   "metadata": {},
   "outputs": [],
   "source": [
    "println(\"AMSE: \", compute_amse(states, e_states))"
   ]
  },
  {
   "cell_type": "markdown",
   "id": "92f853e5",
   "metadata": {},
   "source": [
    "## Versions"
   ]
  },
  {
   "cell_type": "code",
   "execution_count": null,
   "id": "7eafbc1f",
   "metadata": {},
   "outputs": [],
   "source": [
    "versioninfo()"
   ]
  },
  {
   "cell_type": "code",
   "execution_count": null,
   "id": "c311653d",
   "metadata": {},
   "outputs": [],
   "source": [
    "] status"
   ]
  }
 ],
 "metadata": {
  "kernelspec": {
   "display_name": "Julia 1.9.0",
   "language": "julia",
   "name": "julia-1.9"
  },
  "language_info": {
   "file_extension": ".jl",
   "mimetype": "application/julia",
   "name": "julia",
   "version": "1.9.0"
  }
 },
 "nbformat": 4,
 "nbformat_minor": 5
}
